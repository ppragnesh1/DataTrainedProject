{
 "cells": [
  {
   "cell_type": "code",
   "execution_count": 1,
   "id": "6a16c1a5",
   "metadata": {},
   "outputs": [],
   "source": [
    "## Project : Winequality-Red"
   ]
  },
  {
   "cell_type": "code",
   "execution_count": 2,
   "id": "3c23321c",
   "metadata": {},
   "outputs": [],
   "source": [
    "# importing the necessary library to handling the data and analysis\n",
    "import pandas as pd\n",
    "import numpy as np\n",
    "import matplotlib.pyplot as plt\n",
    "import seaborn as sns\n",
    "import warnings\n",
    "warnings.filterwarnings(\"ignore\")"
   ]
  },
  {
   "cell_type": "code",
   "execution_count": 3,
   "id": "ebd29100",
   "metadata": {},
   "outputs": [],
   "source": [
    "# import csv data to Dataframe\n",
    "df = pd.read_csv(\"winequality-red.csv\")"
   ]
  },
  {
   "cell_type": "code",
   "execution_count": 4,
   "id": "0fba71b9",
   "metadata": {},
   "outputs": [
    {
     "data": {
      "text/html": [
       "<div>\n",
       "<style scoped>\n",
       "    .dataframe tbody tr th:only-of-type {\n",
       "        vertical-align: middle;\n",
       "    }\n",
       "\n",
       "    .dataframe tbody tr th {\n",
       "        vertical-align: top;\n",
       "    }\n",
       "\n",
       "    .dataframe thead th {\n",
       "        text-align: right;\n",
       "    }\n",
       "</style>\n",
       "<table border=\"1\" class=\"dataframe\">\n",
       "  <thead>\n",
       "    <tr style=\"text-align: right;\">\n",
       "      <th></th>\n",
       "      <th>fixed acidity</th>\n",
       "      <th>volatile acidity</th>\n",
       "      <th>citric acid</th>\n",
       "      <th>residual sugar</th>\n",
       "      <th>chlorides</th>\n",
       "      <th>free sulfur dioxide</th>\n",
       "      <th>total sulfur dioxide</th>\n",
       "      <th>density</th>\n",
       "      <th>pH</th>\n",
       "      <th>sulphates</th>\n",
       "      <th>alcohol</th>\n",
       "      <th>quality</th>\n",
       "    </tr>\n",
       "  </thead>\n",
       "  <tbody>\n",
       "    <tr>\n",
       "      <th>0</th>\n",
       "      <td>7.4</td>\n",
       "      <td>0.70</td>\n",
       "      <td>0.00</td>\n",
       "      <td>1.9</td>\n",
       "      <td>0.076</td>\n",
       "      <td>11.0</td>\n",
       "      <td>34.0</td>\n",
       "      <td>0.9978</td>\n",
       "      <td>3.51</td>\n",
       "      <td>0.56</td>\n",
       "      <td>9.4</td>\n",
       "      <td>5</td>\n",
       "    </tr>\n",
       "    <tr>\n",
       "      <th>1</th>\n",
       "      <td>7.8</td>\n",
       "      <td>0.88</td>\n",
       "      <td>0.00</td>\n",
       "      <td>2.6</td>\n",
       "      <td>0.098</td>\n",
       "      <td>25.0</td>\n",
       "      <td>67.0</td>\n",
       "      <td>0.9968</td>\n",
       "      <td>3.20</td>\n",
       "      <td>0.68</td>\n",
       "      <td>9.8</td>\n",
       "      <td>5</td>\n",
       "    </tr>\n",
       "    <tr>\n",
       "      <th>2</th>\n",
       "      <td>7.8</td>\n",
       "      <td>0.76</td>\n",
       "      <td>0.04</td>\n",
       "      <td>2.3</td>\n",
       "      <td>0.092</td>\n",
       "      <td>15.0</td>\n",
       "      <td>54.0</td>\n",
       "      <td>0.9970</td>\n",
       "      <td>3.26</td>\n",
       "      <td>0.65</td>\n",
       "      <td>9.8</td>\n",
       "      <td>5</td>\n",
       "    </tr>\n",
       "    <tr>\n",
       "      <th>3</th>\n",
       "      <td>11.2</td>\n",
       "      <td>0.28</td>\n",
       "      <td>0.56</td>\n",
       "      <td>1.9</td>\n",
       "      <td>0.075</td>\n",
       "      <td>17.0</td>\n",
       "      <td>60.0</td>\n",
       "      <td>0.9980</td>\n",
       "      <td>3.16</td>\n",
       "      <td>0.58</td>\n",
       "      <td>9.8</td>\n",
       "      <td>6</td>\n",
       "    </tr>\n",
       "    <tr>\n",
       "      <th>4</th>\n",
       "      <td>7.4</td>\n",
       "      <td>0.70</td>\n",
       "      <td>0.00</td>\n",
       "      <td>1.9</td>\n",
       "      <td>0.076</td>\n",
       "      <td>11.0</td>\n",
       "      <td>34.0</td>\n",
       "      <td>0.9978</td>\n",
       "      <td>3.51</td>\n",
       "      <td>0.56</td>\n",
       "      <td>9.4</td>\n",
       "      <td>5</td>\n",
       "    </tr>\n",
       "  </tbody>\n",
       "</table>\n",
       "</div>"
      ],
      "text/plain": [
       "   fixed acidity  volatile acidity  citric acid  residual sugar  chlorides  \\\n",
       "0            7.4              0.70         0.00             1.9      0.076   \n",
       "1            7.8              0.88         0.00             2.6      0.098   \n",
       "2            7.8              0.76         0.04             2.3      0.092   \n",
       "3           11.2              0.28         0.56             1.9      0.075   \n",
       "4            7.4              0.70         0.00             1.9      0.076   \n",
       "\n",
       "   free sulfur dioxide  total sulfur dioxide  density    pH  sulphates  \\\n",
       "0                 11.0                  34.0   0.9978  3.51       0.56   \n",
       "1                 25.0                  67.0   0.9968  3.20       0.68   \n",
       "2                 15.0                  54.0   0.9970  3.26       0.65   \n",
       "3                 17.0                  60.0   0.9980  3.16       0.58   \n",
       "4                 11.0                  34.0   0.9978  3.51       0.56   \n",
       "\n",
       "   alcohol  quality  \n",
       "0      9.4        5  \n",
       "1      9.8        5  \n",
       "2      9.8        5  \n",
       "3      9.8        6  \n",
       "4      9.4        5  "
      ]
     },
     "execution_count": 4,
     "metadata": {},
     "output_type": "execute_result"
    }
   ],
   "source": [
    "df.head()"
   ]
  },
  {
   "cell_type": "code",
   "execution_count": 5,
   "id": "49e8f6fe",
   "metadata": {},
   "outputs": [
    {
     "data": {
      "text/html": [
       "<div>\n",
       "<style scoped>\n",
       "    .dataframe tbody tr th:only-of-type {\n",
       "        vertical-align: middle;\n",
       "    }\n",
       "\n",
       "    .dataframe tbody tr th {\n",
       "        vertical-align: top;\n",
       "    }\n",
       "\n",
       "    .dataframe thead th {\n",
       "        text-align: right;\n",
       "    }\n",
       "</style>\n",
       "<table border=\"1\" class=\"dataframe\">\n",
       "  <thead>\n",
       "    <tr style=\"text-align: right;\">\n",
       "      <th></th>\n",
       "      <th>count</th>\n",
       "      <th>mean</th>\n",
       "      <th>std</th>\n",
       "      <th>min</th>\n",
       "      <th>25%</th>\n",
       "      <th>50%</th>\n",
       "      <th>75%</th>\n",
       "      <th>max</th>\n",
       "    </tr>\n",
       "  </thead>\n",
       "  <tbody>\n",
       "    <tr>\n",
       "      <th>fixed acidity</th>\n",
       "      <td>1599.0</td>\n",
       "      <td>8.319637</td>\n",
       "      <td>1.741096</td>\n",
       "      <td>4.60000</td>\n",
       "      <td>7.1000</td>\n",
       "      <td>7.90000</td>\n",
       "      <td>9.200000</td>\n",
       "      <td>15.90000</td>\n",
       "    </tr>\n",
       "    <tr>\n",
       "      <th>volatile acidity</th>\n",
       "      <td>1599.0</td>\n",
       "      <td>0.527821</td>\n",
       "      <td>0.179060</td>\n",
       "      <td>0.12000</td>\n",
       "      <td>0.3900</td>\n",
       "      <td>0.52000</td>\n",
       "      <td>0.640000</td>\n",
       "      <td>1.58000</td>\n",
       "    </tr>\n",
       "    <tr>\n",
       "      <th>citric acid</th>\n",
       "      <td>1599.0</td>\n",
       "      <td>0.270976</td>\n",
       "      <td>0.194801</td>\n",
       "      <td>0.00000</td>\n",
       "      <td>0.0900</td>\n",
       "      <td>0.26000</td>\n",
       "      <td>0.420000</td>\n",
       "      <td>1.00000</td>\n",
       "    </tr>\n",
       "    <tr>\n",
       "      <th>residual sugar</th>\n",
       "      <td>1599.0</td>\n",
       "      <td>2.538806</td>\n",
       "      <td>1.409928</td>\n",
       "      <td>0.90000</td>\n",
       "      <td>1.9000</td>\n",
       "      <td>2.20000</td>\n",
       "      <td>2.600000</td>\n",
       "      <td>15.50000</td>\n",
       "    </tr>\n",
       "    <tr>\n",
       "      <th>chlorides</th>\n",
       "      <td>1599.0</td>\n",
       "      <td>0.087467</td>\n",
       "      <td>0.047065</td>\n",
       "      <td>0.01200</td>\n",
       "      <td>0.0700</td>\n",
       "      <td>0.07900</td>\n",
       "      <td>0.090000</td>\n",
       "      <td>0.61100</td>\n",
       "    </tr>\n",
       "    <tr>\n",
       "      <th>free sulfur dioxide</th>\n",
       "      <td>1599.0</td>\n",
       "      <td>15.874922</td>\n",
       "      <td>10.460157</td>\n",
       "      <td>1.00000</td>\n",
       "      <td>7.0000</td>\n",
       "      <td>14.00000</td>\n",
       "      <td>21.000000</td>\n",
       "      <td>72.00000</td>\n",
       "    </tr>\n",
       "    <tr>\n",
       "      <th>total sulfur dioxide</th>\n",
       "      <td>1599.0</td>\n",
       "      <td>46.467792</td>\n",
       "      <td>32.895324</td>\n",
       "      <td>6.00000</td>\n",
       "      <td>22.0000</td>\n",
       "      <td>38.00000</td>\n",
       "      <td>62.000000</td>\n",
       "      <td>289.00000</td>\n",
       "    </tr>\n",
       "    <tr>\n",
       "      <th>density</th>\n",
       "      <td>1599.0</td>\n",
       "      <td>0.996747</td>\n",
       "      <td>0.001887</td>\n",
       "      <td>0.99007</td>\n",
       "      <td>0.9956</td>\n",
       "      <td>0.99675</td>\n",
       "      <td>0.997835</td>\n",
       "      <td>1.00369</td>\n",
       "    </tr>\n",
       "    <tr>\n",
       "      <th>pH</th>\n",
       "      <td>1599.0</td>\n",
       "      <td>3.311113</td>\n",
       "      <td>0.154386</td>\n",
       "      <td>2.74000</td>\n",
       "      <td>3.2100</td>\n",
       "      <td>3.31000</td>\n",
       "      <td>3.400000</td>\n",
       "      <td>4.01000</td>\n",
       "    </tr>\n",
       "    <tr>\n",
       "      <th>sulphates</th>\n",
       "      <td>1599.0</td>\n",
       "      <td>0.658149</td>\n",
       "      <td>0.169507</td>\n",
       "      <td>0.33000</td>\n",
       "      <td>0.5500</td>\n",
       "      <td>0.62000</td>\n",
       "      <td>0.730000</td>\n",
       "      <td>2.00000</td>\n",
       "    </tr>\n",
       "    <tr>\n",
       "      <th>alcohol</th>\n",
       "      <td>1599.0</td>\n",
       "      <td>10.422983</td>\n",
       "      <td>1.065668</td>\n",
       "      <td>8.40000</td>\n",
       "      <td>9.5000</td>\n",
       "      <td>10.20000</td>\n",
       "      <td>11.100000</td>\n",
       "      <td>14.90000</td>\n",
       "    </tr>\n",
       "    <tr>\n",
       "      <th>quality</th>\n",
       "      <td>1599.0</td>\n",
       "      <td>5.636023</td>\n",
       "      <td>0.807569</td>\n",
       "      <td>3.00000</td>\n",
       "      <td>5.0000</td>\n",
       "      <td>6.00000</td>\n",
       "      <td>6.000000</td>\n",
       "      <td>8.00000</td>\n",
       "    </tr>\n",
       "  </tbody>\n",
       "</table>\n",
       "</div>"
      ],
      "text/plain": [
       "                       count       mean        std      min      25%  \\\n",
       "fixed acidity         1599.0   8.319637   1.741096  4.60000   7.1000   \n",
       "volatile acidity      1599.0   0.527821   0.179060  0.12000   0.3900   \n",
       "citric acid           1599.0   0.270976   0.194801  0.00000   0.0900   \n",
       "residual sugar        1599.0   2.538806   1.409928  0.90000   1.9000   \n",
       "chlorides             1599.0   0.087467   0.047065  0.01200   0.0700   \n",
       "free sulfur dioxide   1599.0  15.874922  10.460157  1.00000   7.0000   \n",
       "total sulfur dioxide  1599.0  46.467792  32.895324  6.00000  22.0000   \n",
       "density               1599.0   0.996747   0.001887  0.99007   0.9956   \n",
       "pH                    1599.0   3.311113   0.154386  2.74000   3.2100   \n",
       "sulphates             1599.0   0.658149   0.169507  0.33000   0.5500   \n",
       "alcohol               1599.0  10.422983   1.065668  8.40000   9.5000   \n",
       "quality               1599.0   5.636023   0.807569  3.00000   5.0000   \n",
       "\n",
       "                           50%        75%        max  \n",
       "fixed acidity          7.90000   9.200000   15.90000  \n",
       "volatile acidity       0.52000   0.640000    1.58000  \n",
       "citric acid            0.26000   0.420000    1.00000  \n",
       "residual sugar         2.20000   2.600000   15.50000  \n",
       "chlorides              0.07900   0.090000    0.61100  \n",
       "free sulfur dioxide   14.00000  21.000000   72.00000  \n",
       "total sulfur dioxide  38.00000  62.000000  289.00000  \n",
       "density                0.99675   0.997835    1.00369  \n",
       "pH                     3.31000   3.400000    4.01000  \n",
       "sulphates              0.62000   0.730000    2.00000  \n",
       "alcohol               10.20000  11.100000   14.90000  \n",
       "quality                6.00000   6.000000    8.00000  "
      ]
     },
     "execution_count": 5,
     "metadata": {},
     "output_type": "execute_result"
    }
   ],
   "source": [
    "# view the description of the Data in Transform view so we can see all the Independent variable in row wise and description in column wise\n",
    "df.describe().T"
   ]
  },
  {
   "cell_type": "markdown",
   "id": "0907b9a6",
   "metadata": {},
   "source": [
    "we can see that no missing inforamtion in any column, all rows are equal number of data."
   ]
  },
  {
   "cell_type": "markdown",
   "id": "2ada9de8",
   "metadata": {},
   "source": [
    "# Quality column information"
   ]
  },
  {
   "cell_type": "code",
   "execution_count": 6,
   "id": "fafdcae4",
   "metadata": {},
   "outputs": [
    {
     "data": {
      "text/plain": [
       "5    681\n",
       "6    638\n",
       "7    199\n",
       "4     53\n",
       "8     18\n",
       "3     10\n",
       "Name: quality, dtype: int64"
      ]
     },
     "execution_count": 6,
     "metadata": {},
     "output_type": "execute_result"
    }
   ],
   "source": [
    "df[\"quality\"].value_counts()"
   ]
  },
  {
   "cell_type": "markdown",
   "id": "79130ba2",
   "metadata": {},
   "source": [
    "As we can see from the value counts that,  most of the wine quality is fall between 5 and 6"
   ]
  },
  {
   "cell_type": "code",
   "execution_count": 7,
   "id": "54d53799",
   "metadata": {},
   "outputs": [
    {
     "data": {
      "text/plain": [
       "(1599, 12)"
      ]
     },
     "execution_count": 7,
     "metadata": {},
     "output_type": "execute_result"
    }
   ],
   "source": [
    "#check the size of the date\n",
    "df.shape"
   ]
  },
  {
   "cell_type": "markdown",
   "id": "22cedace",
   "metadata": {},
   "source": [
    "# Lets check the null value of data and data types"
   ]
  },
  {
   "cell_type": "code",
   "execution_count": 8,
   "id": "892cdc16",
   "metadata": {},
   "outputs": [
    {
     "name": "stdout",
     "output_type": "stream",
     "text": [
      "<class 'pandas.core.frame.DataFrame'>\n",
      "RangeIndex: 1599 entries, 0 to 1598\n",
      "Data columns (total 12 columns):\n",
      " #   Column                Non-Null Count  Dtype  \n",
      "---  ------                --------------  -----  \n",
      " 0   fixed acidity         1599 non-null   float64\n",
      " 1   volatile acidity      1599 non-null   float64\n",
      " 2   citric acid           1599 non-null   float64\n",
      " 3   residual sugar        1599 non-null   float64\n",
      " 4   chlorides             1599 non-null   float64\n",
      " 5   free sulfur dioxide   1599 non-null   float64\n",
      " 6   total sulfur dioxide  1599 non-null   float64\n",
      " 7   density               1599 non-null   float64\n",
      " 8   pH                    1599 non-null   float64\n",
      " 9   sulphates             1599 non-null   float64\n",
      " 10  alcohol               1599 non-null   float64\n",
      " 11  quality               1599 non-null   int64  \n",
      "dtypes: float64(11), int64(1)\n",
      "memory usage: 150.0 KB\n"
     ]
    }
   ],
   "source": [
    "df.info()"
   ]
  },
  {
   "cell_type": "markdown",
   "id": "46a57412",
   "metadata": {},
   "source": [
    "Above information clearly show that there no null values, Independent variable column data type is float64 and dependent column datatype is integer"
   ]
  },
  {
   "cell_type": "code",
   "execution_count": 9,
   "id": "0ae21fa7",
   "metadata": {},
   "outputs": [
    {
     "name": "stdout",
     "output_type": "stream",
     "text": [
      "Sum for each Independent Variable\n",
      "fixed acidity           0\n",
      "volatile acidity        0\n",
      "citric acid             0\n",
      "residual sugar          0\n",
      "chlorides               0\n",
      "free sulfur dioxide     0\n",
      "total sulfur dioxide    0\n",
      "density                 0\n",
      "pH                      0\n",
      "sulphates               0\n",
      "alcohol                 0\n",
      "quality                 0\n",
      "dtype: int64\n",
      "\n",
      " -------------------\n",
      "Sum of all null value in entire Data sets\n",
      "0\n"
     ]
    }
   ],
   "source": [
    "# as there is no null value we can see in info but we can also check by sum the null value.\n",
    "print(\"Sum for each Independent Variable\")\n",
    "print(df.isnull().sum())\n",
    "print(\"\\n\",\"-------------------\")\n",
    "print(\"Sum of all null value in entire Data sets\")\n",
    "print(df.isnull().sum().sum())"
   ]
  },
  {
   "cell_type": "code",
   "execution_count": 10,
   "id": "a16eafb5",
   "metadata": {},
   "outputs": [
    {
     "data": {
      "image/png": "[encoded data removed]",
      "text/plain": [
       "<Figure size 432x288 with 2 Axes>"
      ]
     },
     "metadata": {
      "needs_background": "light"
     },
     "output_type": "display_data"
    }
   ],
   "source": [
    "# checking the null value data in Graph\n",
    "sns.heatmap(df.isnull())\n",
    "plt.title(\"Null Values\")\n",
    "plt.show()"
   ]
  },
  {
   "cell_type": "markdown",
   "id": "5da28188",
   "metadata": {},
   "source": [
    "Above information confirm that there is no null value, so no need of any treatment for null values"
   ]
  },
  {
   "cell_type": "markdown",
   "id": "426b3c4a",
   "metadata": {},
   "source": [
    "# Visulise the data into Graph"
   ]
  },
  {
   "cell_type": "code",
   "execution_count": 11,
   "id": "7feabcdd",
   "metadata": {},
   "outputs": [
    {
     "data": {
      "image/png": "[encoded data removed]",
      "text/plain": [
       "<Figure size 1440x1080 with 12 Axes>"
      ]
     },
     "metadata": {
      "needs_background": "light"
     },
     "output_type": "display_data"
    }
   ],
   "source": [
    "# getting the bar chart for each independent variable vs \"Qaulity\".\n",
    "j=1 \n",
    "fig = plt.figure(figsize = (20,15))\n",
    "for i in df.columns:\n",
    "    plt.subplot(4,3,j)\n",
    "    sns.barplot(x=\"quality\",y=i,data=df,ci=None)\n",
    "    j=j+1"
   ]
  },
  {
   "cell_type": "markdown",
   "id": "80f1eed8",
   "metadata": {},
   "source": [
    "\"\"\" From Above Barcharts we can see individual effect on quality of the product by getting the mean value for each variable by quanlity wise : \n",
    "\n",
    "1   fixed acidity         - increase or decrese of level - has very less or no impact on quality\n",
    "2   volatile acidity      - negative relation to quality, decreasing the level of volatile acidity better the quality\n",
    "3   citric acid           - has positve relation to quality, increase the level is increase the quality\n",
    "4   residual sugar        - increase or decrese of level - has very less or no impact on quality\n",
    "5   chlorides             - negative relation to quality, decreasing the level of volatile acidity better the quality\n",
    "6   free sulfur dioxide   - increase or decrese of level - has very less or no impact on quality\n",
    "7   total sulfur dioxide  - less or no impact on quality\n",
    "8   density               - no impact on quality \n",
    "9   pH                    - no impact on quliaty \n",
    "10  sulphates             - positive impact , increasing the level increase the quality of product\n",
    "11  alcohol               - it has very less impact of alcohol between 3 to 5 quality, but in best quality use of alcohol is high.\n",
    "\"\"\""
   ]
  },
  {
   "cell_type": "code",
   "execution_count": 12,
   "id": "9ca24c96",
   "metadata": {},
   "outputs": [
    {
     "data": {
      "image/png": "[encoded data removed]",
      "text/plain": [
       "<Figure size 1080x1080 with 12 Axes>"
      ]
     },
     "metadata": {
      "needs_background": "light"
     },
     "output_type": "display_data"
    }
   ],
   "source": [
    "# now let cheak on histogram too. \n",
    "df.hist(figsize=(15,15))\n",
    "plt.show()"
   ]
  },
  {
   "cell_type": "markdown",
   "id": "e861921e",
   "metadata": {},
   "source": [
    "above graphs show the distribution of the data. most of the variable has right skewed  apart from density and ph which look bell shaped normal distribution\n",
    "\n",
    "also,  because most of the data is skewed so that mean there is outliers too."
   ]
  },
  {
   "cell_type": "markdown",
   "id": "62238597",
   "metadata": {},
   "source": [
    "# Check the correlation between the variable"
   ]
  },
  {
   "cell_type": "code",
   "execution_count": 13,
   "id": "f6aa0299",
   "metadata": {
    "scrolled": true
   },
   "outputs": [
    {
     "data": {
      "text/plain": [
       "<AxesSubplot:>"
      ]
     },
     "execution_count": 13,
     "metadata": {},
     "output_type": "execute_result"
    },
    {
     "data": {
      "image/png": "[encoded data removed]",
      "text/plain": [
       "<Figure size 1440x720 with 2 Axes>"
      ]
     },
     "metadata": {
      "needs_background": "light"
     },
     "output_type": "display_data"
    }
   ],
   "source": [
    "# ploting heatmap for finding relationship between the independent variable\n",
    "plt.figure(figsize = [20,10])\n",
    "sns.heatmap(df.corr(),annot=True)"
   ]
  },
  {
   "cell_type": "markdown",
   "id": "771e3400",
   "metadata": {},
   "source": [
    "From Above Heatmap Graph:\n",
    "\n",
    "as per the criteria for >0.60 and <-0.60 we can see that :\n",
    "    \n",
    "fixed acidity is highly correlated to citric acid positive 0.62 and highly correlated to density with 0.67\n",
    "- higly correlated to ph acid -0.68\n",
    "\n",
    "Volatile acidity is negative moderate correlation to citric acid -0.55\n",
    "\n",
    "citric acid has negativ correlation -0.54 with ph \n",
    "\n",
    "free sulfure dioxide has highly correlated to Total Sulfure dioxide with 0.67 \n",
    "\n",
    "residual sugar, chlorides, free sulfure dioxide, total sulfure dioxide, density, ph, sulphates no impact on qaulity, so relation to quality are very minimum.\n",
    "\n",
    "Alcohol has posiive correlation directly to Quality with 0.41 which we can clearly interpret that high quality wine has more alochol level"
   ]
  },
  {
   "cell_type": "markdown",
   "id": "bc464749",
   "metadata": {},
   "source": [
    "# Now lets convert the Quality Variable into the categorical value Good and Bad"
   ]
  },
  {
   "cell_type": "code",
   "execution_count": 15,
   "id": "13c00fc5",
   "metadata": {},
   "outputs": [
    {
     "data": {
      "text/plain": [
       "5    681\n",
       "6    638\n",
       "7    199\n",
       "4     53\n",
       "8     18\n",
       "3     10\n",
       "Name: quality, dtype: int64"
      ]
     },
     "execution_count": 15,
     "metadata": {},
     "output_type": "execute_result"
    }
   ],
   "source": [
    "# get the count of the each quality lable \n",
    "df[\"quality\"].value_counts()"
   ]
  },
  {
   "cell_type": "code",
   "execution_count": 16,
   "id": "b6d7f9ef",
   "metadata": {},
   "outputs": [],
   "source": [
    "# now we create a two categories good and bad wine quality.\n",
    "interval = (2,6.5,8)\n",
    "categories =[\"bad\",\"good\"]\n",
    "df[\"quality\"]=pd.cut(df[\"quality\"],bins=interval,labels=categories)\n"
   ]
  },
  {
   "cell_type": "code",
   "execution_count": 17,
   "id": "ed1de48f",
   "metadata": {},
   "outputs": [
    {
     "data": {
      "text/html": [
       "<div>\n",
       "<style scoped>\n",
       "    .dataframe tbody tr th:only-of-type {\n",
       "        vertical-align: middle;\n",
       "    }\n",
       "\n",
       "    .dataframe tbody tr th {\n",
       "        vertical-align: top;\n",
       "    }\n",
       "\n",
       "    .dataframe thead th {\n",
       "        text-align: right;\n",
       "    }\n",
       "</style>\n",
       "<table border=\"1\" class=\"dataframe\">\n",
       "  <thead>\n",
       "    <tr style=\"text-align: right;\">\n",
       "      <th></th>\n",
       "      <th>fixed acidity</th>\n",
       "      <th>volatile acidity</th>\n",
       "      <th>citric acid</th>\n",
       "      <th>residual sugar</th>\n",
       "      <th>chlorides</th>\n",
       "      <th>free sulfur dioxide</th>\n",
       "      <th>total sulfur dioxide</th>\n",
       "      <th>density</th>\n",
       "      <th>pH</th>\n",
       "      <th>sulphates</th>\n",
       "      <th>alcohol</th>\n",
       "      <th>quality</th>\n",
       "    </tr>\n",
       "  </thead>\n",
       "  <tbody>\n",
       "    <tr>\n",
       "      <th>0</th>\n",
       "      <td>7.4</td>\n",
       "      <td>0.700</td>\n",
       "      <td>0.00</td>\n",
       "      <td>1.9</td>\n",
       "      <td>0.076</td>\n",
       "      <td>11.0</td>\n",
       "      <td>34.0</td>\n",
       "      <td>0.99780</td>\n",
       "      <td>3.51</td>\n",
       "      <td>0.56</td>\n",
       "      <td>9.4</td>\n",
       "      <td>bad</td>\n",
       "    </tr>\n",
       "    <tr>\n",
       "      <th>1</th>\n",
       "      <td>7.8</td>\n",
       "      <td>0.880</td>\n",
       "      <td>0.00</td>\n",
       "      <td>2.6</td>\n",
       "      <td>0.098</td>\n",
       "      <td>25.0</td>\n",
       "      <td>67.0</td>\n",
       "      <td>0.99680</td>\n",
       "      <td>3.20</td>\n",
       "      <td>0.68</td>\n",
       "      <td>9.8</td>\n",
       "      <td>bad</td>\n",
       "    </tr>\n",
       "    <tr>\n",
       "      <th>2</th>\n",
       "      <td>7.8</td>\n",
       "      <td>0.760</td>\n",
       "      <td>0.04</td>\n",
       "      <td>2.3</td>\n",
       "      <td>0.092</td>\n",
       "      <td>15.0</td>\n",
       "      <td>54.0</td>\n",
       "      <td>0.99700</td>\n",
       "      <td>3.26</td>\n",
       "      <td>0.65</td>\n",
       "      <td>9.8</td>\n",
       "      <td>bad</td>\n",
       "    </tr>\n",
       "    <tr>\n",
       "      <th>3</th>\n",
       "      <td>11.2</td>\n",
       "      <td>0.280</td>\n",
       "      <td>0.56</td>\n",
       "      <td>1.9</td>\n",
       "      <td>0.075</td>\n",
       "      <td>17.0</td>\n",
       "      <td>60.0</td>\n",
       "      <td>0.99800</td>\n",
       "      <td>3.16</td>\n",
       "      <td>0.58</td>\n",
       "      <td>9.8</td>\n",
       "      <td>bad</td>\n",
       "    </tr>\n",
       "    <tr>\n",
       "      <th>4</th>\n",
       "      <td>7.4</td>\n",
       "      <td>0.700</td>\n",
       "      <td>0.00</td>\n",
       "      <td>1.9</td>\n",
       "      <td>0.076</td>\n",
       "      <td>11.0</td>\n",
       "      <td>34.0</td>\n",
       "      <td>0.99780</td>\n",
       "      <td>3.51</td>\n",
       "      <td>0.56</td>\n",
       "      <td>9.4</td>\n",
       "      <td>bad</td>\n",
       "    </tr>\n",
       "    <tr>\n",
       "      <th>...</th>\n",
       "      <td>...</td>\n",
       "      <td>...</td>\n",
       "      <td>...</td>\n",
       "      <td>...</td>\n",
       "      <td>...</td>\n",
       "      <td>...</td>\n",
       "      <td>...</td>\n",
       "      <td>...</td>\n",
       "      <td>...</td>\n",
       "      <td>...</td>\n",
       "      <td>...</td>\n",
       "      <td>...</td>\n",
       "    </tr>\n",
       "    <tr>\n",
       "      <th>1594</th>\n",
       "      <td>6.2</td>\n",
       "      <td>0.600</td>\n",
       "      <td>0.08</td>\n",
       "      <td>2.0</td>\n",
       "      <td>0.090</td>\n",
       "      <td>32.0</td>\n",
       "      <td>44.0</td>\n",
       "      <td>0.99490</td>\n",
       "      <td>3.45</td>\n",
       "      <td>0.58</td>\n",
       "      <td>10.5</td>\n",
       "      <td>bad</td>\n",
       "    </tr>\n",
       "    <tr>\n",
       "      <th>1595</th>\n",
       "      <td>5.9</td>\n",
       "      <td>0.550</td>\n",
       "      <td>0.10</td>\n",
       "      <td>2.2</td>\n",
       "      <td>0.062</td>\n",
       "      <td>39.0</td>\n",
       "      <td>51.0</td>\n",
       "      <td>0.99512</td>\n",
       "      <td>3.52</td>\n",
       "      <td>0.76</td>\n",
       "      <td>11.2</td>\n",
       "      <td>bad</td>\n",
       "    </tr>\n",
       "    <tr>\n",
       "      <th>1596</th>\n",
       "      <td>6.3</td>\n",
       "      <td>0.510</td>\n",
       "      <td>0.13</td>\n",
       "      <td>2.3</td>\n",
       "      <td>0.076</td>\n",
       "      <td>29.0</td>\n",
       "      <td>40.0</td>\n",
       "      <td>0.99574</td>\n",
       "      <td>3.42</td>\n",
       "      <td>0.75</td>\n",
       "      <td>11.0</td>\n",
       "      <td>bad</td>\n",
       "    </tr>\n",
       "    <tr>\n",
       "      <th>1597</th>\n",
       "      <td>5.9</td>\n",
       "      <td>0.645</td>\n",
       "      <td>0.12</td>\n",
       "      <td>2.0</td>\n",
       "      <td>0.075</td>\n",
       "      <td>32.0</td>\n",
       "      <td>44.0</td>\n",
       "      <td>0.99547</td>\n",
       "      <td>3.57</td>\n",
       "      <td>0.71</td>\n",
       "      <td>10.2</td>\n",
       "      <td>bad</td>\n",
       "    </tr>\n",
       "    <tr>\n",
       "      <th>1598</th>\n",
       "      <td>6.0</td>\n",
       "      <td>0.310</td>\n",
       "      <td>0.47</td>\n",
       "      <td>3.6</td>\n",
       "      <td>0.067</td>\n",
       "      <td>18.0</td>\n",
       "      <td>42.0</td>\n",
       "      <td>0.99549</td>\n",
       "      <td>3.39</td>\n",
       "      <td>0.66</td>\n",
       "      <td>11.0</td>\n",
       "      <td>bad</td>\n",
       "    </tr>\n",
       "  </tbody>\n",
       "</table>\n",
       "<p>1599 rows × 12 columns</p>\n",
       "</div>"
      ],
      "text/plain": [
       "      fixed acidity  volatile acidity  citric acid  residual sugar  chlorides  \\\n",
       "0               7.4             0.700         0.00             1.9      0.076   \n",
       "1               7.8             0.880         0.00             2.6      0.098   \n",
       "2               7.8             0.760         0.04             2.3      0.092   \n",
       "3              11.2             0.280         0.56             1.9      0.075   \n",
       "4               7.4             0.700         0.00             1.9      0.076   \n",
       "...             ...               ...          ...             ...        ...   \n",
       "1594            6.2             0.600         0.08             2.0      0.090   \n",
       "1595            5.9             0.550         0.10             2.2      0.062   \n",
       "1596            6.3             0.510         0.13             2.3      0.076   \n",
       "1597            5.9             0.645         0.12             2.0      0.075   \n",
       "1598            6.0             0.310         0.47             3.6      0.067   \n",
       "\n",
       "      free sulfur dioxide  total sulfur dioxide  density    pH  sulphates  \\\n",
       "0                    11.0                  34.0  0.99780  3.51       0.56   \n",
       "1                    25.0                  67.0  0.99680  3.20       0.68   \n",
       "2                    15.0                  54.0  0.99700  3.26       0.65   \n",
       "3                    17.0                  60.0  0.99800  3.16       0.58   \n",
       "4                    11.0                  34.0  0.99780  3.51       0.56   \n",
       "...                   ...                   ...      ...   ...        ...   \n",
       "1594                 32.0                  44.0  0.99490  3.45       0.58   \n",
       "1595                 39.0                  51.0  0.99512  3.52       0.76   \n",
       "1596                 29.0                  40.0  0.99574  3.42       0.75   \n",
       "1597                 32.0                  44.0  0.99547  3.57       0.71   \n",
       "1598                 18.0                  42.0  0.99549  3.39       0.66   \n",
       "\n",
       "      alcohol quality  \n",
       "0         9.4     bad  \n",
       "1         9.8     bad  \n",
       "2         9.8     bad  \n",
       "3         9.8     bad  \n",
       "4         9.4     bad  \n",
       "...       ...     ...  \n",
       "1594     10.5     bad  \n",
       "1595     11.2     bad  \n",
       "1596     11.0     bad  \n",
       "1597     10.2     bad  \n",
       "1598     11.0     bad  \n",
       "\n",
       "[1599 rows x 12 columns]"
      ]
     },
     "execution_count": 17,
     "metadata": {},
     "output_type": "execute_result"
    }
   ],
   "source": [
    "# checking the dataframe to make sure the above action work.\n",
    "df"
   ]
  },
  {
   "cell_type": "markdown",
   "id": "f9acb4c7",
   "metadata": {},
   "source": [
    "as we can see the quality column value is now converted into two category (bad, good)"
   ]
  },
  {
   "cell_type": "markdown",
   "id": "6c974a4f",
   "metadata": {},
   "source": [
    "# Label Encoding to give a value for quality column value"
   ]
  },
  {
   "cell_type": "code",
   "execution_count": 23,
   "id": "604fa8dc",
   "metadata": {},
   "outputs": [],
   "source": [
    "# importing libarary for labelencoder\n",
    "from sklearn.preprocessing import LabelEncoder"
   ]
  },
  {
   "cell_type": "code",
   "execution_count": 24,
   "id": "cf1adf0b",
   "metadata": {},
   "outputs": [
    {
     "name": "stdout",
     "output_type": "stream",
     "text": [
      "0       0\n",
      "1       0\n",
      "2       0\n",
      "3       0\n",
      "4       0\n",
      "       ..\n",
      "1594    0\n",
      "1595    0\n",
      "1596    0\n",
      "1597    0\n",
      "1598    0\n",
      "Name: quality, Length: 1599, dtype: int64\n"
     ]
    }
   ],
   "source": [
    "LE = LabelEncoder()\n",
    "df[\"quality\"] = LE.fit_transform(df[\"quality\"])\n",
    "print(df[\"quality\"])\n"
   ]
  },
  {
   "cell_type": "markdown",
   "id": "353ddfb0",
   "metadata": {},
   "source": [
    "Now the quality column cateogry has number 0 for bad and 1 for good."
   ]
  },
  {
   "cell_type": "code",
   "execution_count": 25,
   "id": "e30e4598",
   "metadata": {},
   "outputs": [
    {
     "data": {
      "text/plain": [
       "0    1382\n",
       "1     217\n",
       "Name: quality, dtype: int64"
      ]
     },
     "execution_count": 25,
     "metadata": {},
     "output_type": "execute_result"
    }
   ],
   "source": [
    "# count the value of quality column \n",
    "df[\"quality\"].value_counts()"
   ]
  },
  {
   "cell_type": "markdown",
   "id": "0c526d43",
   "metadata": {},
   "source": [
    "==> value of [0=Bad] and [1=Good] are not equal , so we need to balance the classes"
   ]
  },
  {
   "cell_type": "code",
   "execution_count": 26,
   "id": "ab3fed0e",
   "metadata": {},
   "outputs": [
    {
     "data": {
      "text/plain": [
       "<AxesSubplot:ylabel='quality'>"
      ]
     },
     "execution_count": 26,
     "metadata": {},
     "output_type": "execute_result"
    },
    {
     "data": {
      "image/png": "[encoded data removed]",
      "text/plain": [
       "<Figure size 432x288 with 1 Axes>"
      ]
     },
     "metadata": {},
     "output_type": "display_data"
    }
   ],
   "source": [
    "# plot the pie chart for presentation of quality column data \n",
    "df[\"quality\"].value_counts().plot(kind=\"pie\",autopct = \"%.2F\")"
   ]
  },
  {
   "cell_type": "markdown",
   "id": "8148326f",
   "metadata": {},
   "source": [
    "Above graph show the quality data in % of share from total data."
   ]
  },
  {
   "cell_type": "markdown",
   "id": "5732004a",
   "metadata": {},
   "source": [
    "#  we will remove the two feature column residual sugar and ph as they have very minimum impact with quality\n",
    "\n",
    "residual sugar & \n",
    "pH "
   ]
  },
  {
   "cell_type": "code",
   "execution_count": 27,
   "id": "41b89248",
   "metadata": {},
   "outputs": [],
   "source": [
    "df= df.drop([\"residual sugar\",\"pH\"],axis=1)"
   ]
  },
  {
   "cell_type": "markdown",
   "id": "529a5096",
   "metadata": {},
   "source": [
    "# checking the dataframe after remvoing the column"
   ]
  },
  {
   "cell_type": "code",
   "execution_count": 28,
   "id": "ad64c16e",
   "metadata": {},
   "outputs": [
    {
     "name": "stdout",
     "output_type": "stream",
     "text": [
      "Index(['fixed acidity', 'volatile acidity', 'citric acid', 'chlorides',\n",
      "       'free sulfur dioxide', 'total sulfur dioxide', 'density', 'sulphates',\n",
      "       'alcohol', 'quality'],\n",
      "      dtype='object')\n",
      "   fixed acidity  volatile acidity  citric acid  chlorides  \\\n",
      "0            7.4              0.70         0.00      0.076   \n",
      "1            7.8              0.88         0.00      0.098   \n",
      "2            7.8              0.76         0.04      0.092   \n",
      "3           11.2              0.28         0.56      0.075   \n",
      "4            7.4              0.70         0.00      0.076   \n",
      "\n",
      "   free sulfur dioxide  total sulfur dioxide  density  sulphates  alcohol  \\\n",
      "0                 11.0                  34.0   0.9978       0.56      9.4   \n",
      "1                 25.0                  67.0   0.9968       0.68      9.8   \n",
      "2                 15.0                  54.0   0.9970       0.65      9.8   \n",
      "3                 17.0                  60.0   0.9980       0.58      9.8   \n",
      "4                 11.0                  34.0   0.9978       0.56      9.4   \n",
      "\n",
      "   quality  \n",
      "0        0  \n",
      "1        0  \n",
      "2        0  \n",
      "3        0  \n",
      "4        0  \n"
     ]
    }
   ],
   "source": [
    "print(df.columns)\n",
    "print(df.head(5))"
   ]
  },
  {
   "cell_type": "markdown",
   "id": "bbbf4021",
   "metadata": {},
   "source": [
    "# Outlier Checking"
   ]
  },
  {
   "cell_type": "code",
   "execution_count": 34,
   "id": "ec3871e1",
   "metadata": {},
   "outputs": [
    {
     "data": {
      "image/png": "[encoded data removed]",
      "text/plain": [
       "<Figure size 1800x2160 with 10 Axes>"
      ]
     },
     "metadata": {
      "needs_background": "light"
     },
     "output_type": "display_data"
    }
   ],
   "source": [
    "j = 1\n",
    "fig = plt.figure(figsize=(25,30))\n",
    "for i in df.columns:\n",
    "    plt.subplot(4,5,j)\n",
    "    sns.boxplot(df[i])\n",
    "    j = j+1"
   ]
  },
  {
   "cell_type": "markdown",
   "id": "01e21114",
   "metadata": {},
   "source": [
    "# Removing outlliers - with Z score"
   ]
  },
  {
   "cell_type": "code",
   "execution_count": 36,
   "id": "5dfeb098",
   "metadata": {},
   "outputs": [],
   "source": [
    "x = df.iloc[:,:-1] # independent variable or feature variable\n",
    "y = df.iloc[:,-1] # dependent or target varible"
   ]
  },
  {
   "cell_type": "code",
   "execution_count": 39,
   "id": "34b540ad",
   "metadata": {},
   "outputs": [
    {
     "name": "stdout",
     "output_type": "stream",
     "text": [
      "      fixed acidity  volatile acidity  citric acid  chlorides  \\\n",
      "0          0.528360          0.961877     1.391472   0.243707   \n",
      "1          0.298547          1.967442     1.391472   0.223875   \n",
      "2          0.298547          1.297065     1.186070   0.096353   \n",
      "3          1.654856          1.384443     1.484154   0.264960   \n",
      "4          0.528360          0.961877     1.391472   0.243707   \n",
      "...             ...               ...          ...        ...   \n",
      "1594       1.217796          0.403229     0.980669   0.053845   \n",
      "1595       1.390155          0.123905     0.877968   0.541259   \n",
      "1596       1.160343          0.099554     0.723916   0.243707   \n",
      "1597       1.390155          0.654620     0.775267   0.264960   \n",
      "1598       1.332702          1.216849     1.021999   0.434990   \n",
      "\n",
      "      free sulfur dioxide  total sulfur dioxide   density  sulphates   alcohol  \n",
      "0                0.466193              0.379133  0.558274   0.579207  0.960246  \n",
      "1                0.872638              0.624363  0.028261   0.128950  0.584777  \n",
      "2                0.083669              0.229047  0.134264   0.048089  0.584777  \n",
      "3                0.107592              0.411500  0.664277   0.461180  0.584777  \n",
      "4                0.466193              0.379133  0.558274   0.579207  0.960246  \n",
      "...                   ...                   ...       ...        ...       ...  \n",
      "1594             1.542054              0.075043  0.978765   0.461180  0.072294  \n",
      "1595             2.211469              0.137820  0.862162   0.601055  0.729364  \n",
      "1596             1.255161              0.196679  0.533554   0.542042  0.541630  \n",
      "1597             1.542054              0.075043  0.676657   0.305990  0.209308  \n",
      "1598             0.203223              0.135861  0.666057   0.010924  0.541630  \n",
      "\n",
      "[1599 rows x 9 columns]\n"
     ]
    }
   ],
   "source": [
    "from scipy.stats import zscore\n",
    "import numpy as np\n",
    "z = np.abs(zscore(x))\n",
    "z.shape\n",
    "print(z)"
   ]
  },
  {
   "cell_type": "code",
   "execution_count": 40,
   "id": "66ef3fd3",
   "metadata": {},
   "outputs": [
    {
     "name": "stdout",
     "output_type": "stream",
     "text": [
      "(array([   0,    0,    0, ..., 1598, 1598, 1598], dtype=int64), array([0, 1, 2, ..., 6, 7, 8], dtype=int64))\n"
     ]
    }
   ],
   "source": [
    "threshold = 3\n",
    "print(np.where(z<3))"
   ]
  },
  {
   "cell_type": "code",
   "execution_count": 41,
   "id": "7cc835b8",
   "metadata": {},
   "outputs": [
    {
     "data": {
      "text/plain": [
       "(1483, 9)"
      ]
     },
     "execution_count": 41,
     "metadata": {},
     "output_type": "execute_result"
    }
   ],
   "source": [
    "x = x[(z<3).all(axis=1)]\n",
    "x.shape"
   ]
  },
  {
   "cell_type": "code",
   "execution_count": 50,
   "id": "c3d138ca",
   "metadata": {},
   "outputs": [
    {
     "data": {
      "text/plain": [
       "(1483,)"
      ]
     },
     "execution_count": 50,
     "metadata": {},
     "output_type": "execute_result"
    }
   ],
   "source": [
    "y = y[(z<3).all(axis=1)]\n",
    "y.shape"
   ]
  },
  {
   "cell_type": "code",
   "execution_count": 51,
   "id": "74d4e2de",
   "metadata": {},
   "outputs": [
    {
     "data": {
      "text/plain": [
       "(1483, 10)"
      ]
     },
     "execution_count": 51,
     "metadata": {},
     "output_type": "execute_result"
    }
   ],
   "source": [
    "df1 = df[(z<3).all(axis=1)]\n",
    "df1.shape"
   ]
  },
  {
   "cell_type": "markdown",
   "id": "76e687ef",
   "metadata": {},
   "source": [
    "# Percentage of Dataloss"
   ]
  },
  {
   "cell_type": "code",
   "execution_count": 52,
   "id": "96c4857b",
   "metadata": {},
   "outputs": [
    {
     "name": "stdout",
     "output_type": "stream",
     "text": [
      "7.25\n"
     ]
    }
   ],
   "source": [
    "loss_percentage = (1599-1483)/1599*100\n",
    "print(\"%.2f\" %(loss_percentage))"
   ]
  },
  {
   "cell_type": "markdown",
   "id": "74501393",
   "metadata": {},
   "source": [
    "# Model without outliers is df and after the removing outliers is df1"
   ]
  },
  {
   "cell_type": "code",
   "execution_count": 53,
   "id": "de3e04d0",
   "metadata": {},
   "outputs": [],
   "source": [
    "# Transforming data to remove skewness, and increase the symmentry of the the distribution of the features:\n",
    "from sklearn.preprocessing import power_transform\n",
    "x = power_transform(x,method=\"yeo-johnson\")"
   ]
  },
  {
   "cell_type": "code",
   "execution_count": 54,
   "id": "aff3c276",
   "metadata": {},
   "outputs": [
    {
     "data": {
      "text/plain": [
       "array([[-0.45108768,  1.04438288, -1.52441858, ...,  0.62373616,\n",
       "        -0.58415469, -1.10789867],\n",
       "       [-0.16266466,  1.904138  , -1.52441858, ...,  0.05149056,\n",
       "         0.46193357, -0.52644196],\n",
       "       [-0.16266466,  1.34437285, -1.2431941 , ...,  0.16629974,\n",
       "         0.22975381, -0.52644196],\n",
       "       ...,\n",
       "       [-1.39083915, -0.01073703, -0.66087734, ..., -0.56002098,\n",
       "         0.94132694,  0.73448963],\n",
       "       [-1.7995497 ,  0.75629996, -0.72242341, ..., -0.71659959,\n",
       "         0.67743484, -0.03619195],\n",
       "       [-1.69339583, -1.33928005,  1.07494917, ..., -0.70498977,\n",
       "         0.30909711,  0.73448963]])"
      ]
     },
     "execution_count": 54,
     "metadata": {},
     "output_type": "execute_result"
    }
   ],
   "source": [
    "x"
   ]
  },
  {
   "cell_type": "markdown",
   "id": "6ed60d53",
   "metadata": {},
   "source": [
    "# Scaling "
   ]
  },
  {
   "cell_type": "code",
   "execution_count": 55,
   "id": "6631a781",
   "metadata": {},
   "outputs": [
    {
     "data": {
      "text/plain": [
       "array([[-0.45108768,  1.04438288, -1.52441858, ...,  0.62373616,\n",
       "        -0.58415469, -1.10789867],\n",
       "       [-0.16266466,  1.904138  , -1.52441858, ...,  0.05149056,\n",
       "         0.46193357, -0.52644196],\n",
       "       [-0.16266466,  1.34437285, -1.2431941 , ...,  0.16629974,\n",
       "         0.22975381, -0.52644196],\n",
       "       ...,\n",
       "       [-1.39083915, -0.01073703, -0.66087734, ..., -0.56002098,\n",
       "         0.94132694,  0.73448963],\n",
       "       [-1.7995497 ,  0.75629996, -0.72242341, ..., -0.71659959,\n",
       "         0.67743484, -0.03619195],\n",
       "       [-1.69339583, -1.33928005,  1.07494917, ..., -0.70498977,\n",
       "         0.30909711,  0.73448963]])"
      ]
     },
     "execution_count": 55,
     "metadata": {},
     "output_type": "execute_result"
    }
   ],
   "source": [
    "from sklearn.preprocessing import StandardScaler\n",
    "sc = StandardScaler()\n",
    "x = sc.fit_transform(x)\n",
    "x"
   ]
  },
  {
   "cell_type": "markdown",
   "id": "26ddb977",
   "metadata": {},
   "source": [
    "# Oversampling the Data - Balancing it\n"
   ]
  },
  {
   "cell_type": "code",
   "execution_count": 56,
   "id": "2df31e9e",
   "metadata": {},
   "outputs": [],
   "source": [
    "from imblearn.over_sampling import SMOTE\n",
    "SM = SMOTE()\n",
    "x,y = SM.fit_resample(x,y)"
   ]
  },
  {
   "cell_type": "code",
   "execution_count": 57,
   "id": "40ac7e76",
   "metadata": {},
   "outputs": [
    {
     "data": {
      "text/plain": [
       "0    1280\n",
       "1    1280\n",
       "Name: quality, dtype: int64"
      ]
     },
     "execution_count": 57,
     "metadata": {},
     "output_type": "execute_result"
    }
   ],
   "source": [
    "y.value_counts()"
   ]
  },
  {
   "cell_type": "markdown",
   "id": "7b1c49da",
   "metadata": {},
   "source": [
    "Now the data is balance and ready for modeling"
   ]
  },
  {
   "cell_type": "code",
   "execution_count": 59,
   "id": "76c50b63",
   "metadata": {},
   "outputs": [],
   "source": [
    "from sklearn.model_selection import train_test_split\n",
    "from sklearn.linear_model import LogisticRegression\n",
    "lr = LogisticRegression()\n",
    "from sklearn.metrics import classification_report,confusion_matrix,roc_curve,accuracy_score"
   ]
  },
  {
   "cell_type": "markdown",
   "id": "3d532d62",
   "metadata": {},
   "source": [
    "# Splitting the Dataframe "
   ]
  },
  {
   "cell_type": "code",
   "execution_count": 61,
   "id": "c135a4ab",
   "metadata": {},
   "outputs": [
    {
     "name": "stdout",
     "output_type": "stream",
     "text": [
      "At Random State =  99  The Model performs well\n",
      "At Random State : =  99\n",
      "Training Accuracy is : -  82.03125\n",
      "Testing Accuracy is : -  82.03125\n",
      "Difference : -  0.0\n",
      "\n",
      "\n",
      "At Random State =  169  The Model performs well\n",
      "At Random State : =  169\n",
      "Training Accuracy is : -  82.03125\n",
      "Testing Accuracy is : -  82.03125\n",
      "Difference : -  0.0\n",
      "\n",
      "\n",
      "At Random State =  212  The Model performs well\n",
      "At Random State : =  212\n",
      "Training Accuracy is : -  81.8359375\n",
      "Testing Accuracy is : -  81.8359375\n",
      "Difference : -  0.0\n",
      "\n",
      "\n",
      "At Random State =  254  The Model performs well\n",
      "At Random State : =  254\n",
      "Training Accuracy is : -  82.2265625\n",
      "Testing Accuracy is : -  82.2265625\n",
      "Difference : -  0.0\n",
      "\n",
      "\n",
      "At Random State =  285  The Model performs well\n",
      "At Random State : =  285\n",
      "Training Accuracy is : -  81.8359375\n",
      "Testing Accuracy is : -  81.8359375\n",
      "Difference : -  0.0\n",
      "\n",
      "\n",
      "At Random State =  349  The Model performs well\n",
      "At Random State : =  349\n",
      "Training Accuracy is : -  82.177734375\n",
      "Testing Accuracy is : -  82.2265625\n",
      "Difference : -  -0.048828125\n",
      "\n",
      "\n",
      "At Random State =  430  The Model performs well\n",
      "At Random State : =  430\n",
      "Training Accuracy is : -  81.640625\n",
      "Testing Accuracy is : -  81.640625\n",
      "Difference : -  0.0\n",
      "\n",
      "\n",
      "At Random State =  448  The Model performs well\n",
      "At Random State : =  448\n",
      "Training Accuracy is : -  82.177734375\n",
      "Testing Accuracy is : -  82.2265625\n",
      "Difference : -  -0.048828125\n",
      "\n",
      "\n",
      "At Random State =  498  The Model performs well\n",
      "At Random State : =  498\n",
      "Training Accuracy is : -  82.03125\n",
      "Testing Accuracy is : -  82.03125\n",
      "Difference : -  0.0\n",
      "\n",
      "\n",
      "At Random State =  558  The Model performs well\n",
      "At Random State : =  558\n",
      "Training Accuracy is : -  82.03125\n",
      "Testing Accuracy is : -  82.03125\n",
      "Difference : -  0.0\n",
      "\n",
      "\n",
      "At Random State =  605  The Model performs well\n",
      "At Random State : =  605\n",
      "Training Accuracy is : -  81.787109375\n",
      "Testing Accuracy is : -  81.8359375\n",
      "Difference : -  -0.048828125\n",
      "\n",
      "\n",
      "At Random State =  640  The Model performs well\n",
      "At Random State : =  640\n",
      "Training Accuracy is : -  81.982421875\n",
      "Testing Accuracy is : -  82.03125\n",
      "Difference : -  -0.048828125\n",
      "\n",
      "\n",
      "At Random State =  793  The Model performs well\n",
      "At Random State : =  793\n",
      "Training Accuracy is : -  81.640625\n",
      "Testing Accuracy is : -  81.640625\n",
      "Difference : -  0.0\n",
      "\n",
      "\n",
      "At Random State =  807  The Model performs well\n",
      "At Random State : =  807\n",
      "Training Accuracy is : -  81.787109375\n",
      "Testing Accuracy is : -  81.8359375\n",
      "Difference : -  -0.048828125\n",
      "\n",
      "\n",
      "At Random State =  844  The Model performs well\n",
      "At Random State : =  844\n",
      "Training Accuracy is : -  81.8359375\n",
      "Testing Accuracy is : -  81.8359375\n",
      "Difference : -  0.0\n",
      "\n",
      "\n",
      "At Random State =  866  The Model performs well\n",
      "At Random State : =  866\n",
      "Training Accuracy is : -  82.03125\n",
      "Testing Accuracy is : -  82.03125\n",
      "Difference : -  0.0\n",
      "\n",
      "\n"
     ]
    }
   ],
   "source": [
    "for i in range(0,1000):\n",
    "    x_train,x_test,y_train,y_test = train_test_split(x,y,random_state=i,test_size=0.20)\n",
    "    lr.fit(x_train,y_train)\n",
    "    pred_train=lr.predict(x_train)\n",
    "    pred_test =lr.predict(x_test)\n",
    "    if round(accuracy_score(y_train,pred_train)*100,1)==round(accuracy_score(y_test,pred_test)*100,1):\n",
    "        print(\"At Random State = \",i, \" The Model performs well\")\n",
    "        print(\"At Random State : = \",i)\n",
    "        print(\"Training Accuracy is : - \", accuracy_score(y_train,pred_train)*100)\n",
    "        print(\"Testing Accuracy is : - \",accuracy_score(y_test,pred_test)*100)\n",
    "        print(\"Difference : - \",(accuracy_score(y_train,pred_train)*100 - accuracy_score(y_test,pred_test)*100))\n",
    "        print(\"\\n\")"
   ]
  },
  {
   "cell_type": "markdown",
   "id": "61ee2ca2",
   "metadata": {},
   "source": [
    "At Random State - 254 : Train Accuracy is 82.2265 and Testing Accuracy is : 82.2265 with difference is 0.00"
   ]
  },
  {
   "cell_type": "code",
   "execution_count": 62,
   "id": "a582efdb",
   "metadata": {},
   "outputs": [],
   "source": [
    "x_train,x_test,y_train,y_test = train_test_split(x,y,test_size=0.20,random_state=254)"
   ]
  },
  {
   "cell_type": "code",
   "execution_count": 63,
   "id": "3c6f7929",
   "metadata": {},
   "outputs": [
    {
     "name": "stdout",
     "output_type": "stream",
     "text": [
      "              precision    recall  f1-score   support\n",
      "\n",
      "           0       0.55      0.49      0.52       266\n",
      "           1       0.51      0.56      0.53       246\n",
      "\n",
      "    accuracy                           0.53       512\n",
      "   macro avg       0.53      0.53      0.53       512\n",
      "weighted avg       0.53      0.53      0.53       512\n",
      "\n"
     ]
    }
   ],
   "source": [
    "from sklearn.metrics import classification_report\n",
    "print(classification_report(y_test,pred_test))"
   ]
  },
  {
   "cell_type": "markdown",
   "id": "e1837bcd",
   "metadata": {},
   "source": [
    "# Cross Validation scores for logistic regression\n"
   ]
  },
  {
   "cell_type": "code",
   "execution_count": 65,
   "id": "1970baa5",
   "metadata": {},
   "outputs": [
    {
     "name": "stdout",
     "output_type": "stream",
     "text": [
      "At CV :-  2\n",
      "Cross validation score is : - 78.86718749999999\n",
      "accuracy is :-  83.203125\n",
      "Difference is :- -4.335937500000014\n",
      "\n",
      "\n",
      "At CV :-  3\n",
      "Cross validation score is : - 80.19393370324511\n",
      "accuracy is :-  83.203125\n",
      "Difference is :- -3.009191296754892\n",
      "\n",
      "\n",
      "At CV :-  4\n",
      "Cross validation score is : - 80.703125\n",
      "accuracy is :-  83.203125\n",
      "Difference is :- -2.5\n",
      "\n",
      "\n",
      "At CV :-  5\n",
      "Cross validation score is : - 80.1171875\n",
      "accuracy is :-  83.203125\n",
      "Difference is :- -3.0859375\n",
      "\n",
      "\n",
      "At CV :-  6\n",
      "Cross validation score is : - 80.03641154760989\n",
      "accuracy is :-  83.203125\n",
      "Difference is :- -3.1667134523901126\n",
      "\n",
      "\n",
      "At CV :-  7\n",
      "Cross validation score is : - 80.27204773667832\n",
      "accuracy is :-  83.203125\n",
      "Difference is :- -2.931077263321683\n",
      "\n",
      "\n",
      "At CV :-  8\n",
      "Cross validation score is : - 80.390625\n",
      "accuracy is :-  83.203125\n",
      "Difference is :- -2.8125\n",
      "\n",
      "\n",
      "At CV :-  9\n",
      "Cross validation score is : - 80.696263350081\n",
      "accuracy is :-  83.203125\n",
      "Difference is :- -2.506861649919003\n",
      "\n",
      "\n"
     ]
    }
   ],
   "source": [
    "pred_lr = lr.predict(x_test)\n",
    "from sklearn.model_selection import cross_val_score\n",
    "lss = accuracy_score(y_test,pred_lr)\n",
    "for j in range(2,10):\n",
    "    lsscore = cross_val_score(lr,x,y,cv=j)\n",
    "    lsc = lsscore.mean()\n",
    "    print(\"At CV :- \",j)\n",
    "    print(\"Cross validation score is : -\",lsc*100)\n",
    "    print(\"accuracy is :- \", lss*100)\n",
    "    print(\"Difference is :-\", lsc*100 - lss*100)\n",
    "    print(\"\\n\")"
   ]
  },
  {
   "cell_type": "markdown",
   "id": "6deca441",
   "metadata": {},
   "source": [
    "At CV = 4 we get best score with low difference to accuracy score "
   ]
  },
  {
   "cell_type": "code",
   "execution_count": 67,
   "id": "7001c8f7",
   "metadata": {},
   "outputs": [
    {
     "name": "stdout",
     "output_type": "stream",
     "text": [
      "The CV socre is : 0.80703125 \n",
      " The Accuracy score is : 0.83203125\n"
     ]
    }
   ],
   "source": [
    "lsscore_selected = cross_val_score(lr,x,y,cv=4).mean()\n",
    "print(\"The CV socre is :\",lsscore_selected,\"\\n The Accuracy score is :\",lss)"
   ]
  },
  {
   "cell_type": "markdown",
   "id": "e16ac7eb",
   "metadata": {},
   "source": [
    "# RandomForestClassifier Testing"
   ]
  },
  {
   "cell_type": "code",
   "execution_count": 68,
   "id": "d91bf28c",
   "metadata": {},
   "outputs": [],
   "source": [
    "from sklearn.ensemble import GradientBoostingClassifier, AdaBoostClassifier,BaggingClassifier\n",
    "from sklearn.ensemble import RandomForestClassifier,ExtraTreesClassifier"
   ]
  },
  {
   "cell_type": "code",
   "execution_count": 71,
   "id": "1ca0298f",
   "metadata": {},
   "outputs": [
    {
     "name": "stdout",
     "output_type": "stream",
     "text": [
      "94.3359375\n",
      "[[242  24]\n",
      " [  5 241]]\n",
      "              precision    recall  f1-score   support\n",
      "\n",
      "           0       0.98      0.91      0.94       266\n",
      "           1       0.91      0.98      0.94       246\n",
      "\n",
      "    accuracy                           0.94       512\n",
      "   macro avg       0.94      0.94      0.94       512\n",
      "weighted avg       0.95      0.94      0.94       512\n",
      "\n"
     ]
    }
   ],
   "source": [
    "RFC = RandomForestClassifier()\n",
    "RFC.fit(x_train,y_train)\n",
    "predRFC = RFC.predict(x_test)\n",
    "\n",
    "print(accuracy_score(y_test,predRFC)*100)\n",
    "print(confusion_matrix(y_test,predRFC))\n",
    "print(classification_report(y_test,predRFC))"
   ]
  },
  {
   "cell_type": "markdown",
   "id": "e07a2f94",
   "metadata": {},
   "source": [
    "from above observation - with Random Forest we are getting high accuracy, and confusion matrix has high number for True Positive and True Negative score"
   ]
  },
  {
   "cell_type": "code",
   "execution_count": 73,
   "id": "d2f14ed5",
   "metadata": {},
   "outputs": [
    {
     "name": "stdout",
     "output_type": "stream",
     "text": [
      "[0.9484375 0.934375  0.846875  0.903125 ]\n",
      "Difference between Accuracy and cvs :  0.03515625\n"
     ]
    }
   ],
   "source": [
    "score = cross_val_score(RFC,x,y,cv=4)\n",
    "print(score)\n",
    "print(\"Difference between Accuracy and cvs : \",accuracy_score(y_test,predRFC) - score.mean())"
   ]
  },
  {
   "cell_type": "markdown",
   "id": "3f0a7bec",
   "metadata": {},
   "source": [
    "# SVC Model Testing"
   ]
  },
  {
   "cell_type": "code",
   "execution_count": 75,
   "id": "a6362b68",
   "metadata": {},
   "outputs": [
    {
     "name": "stdout",
     "output_type": "stream",
     "text": [
      "87.109375\n",
      "[[215  51]\n",
      " [ 15 231]]\n",
      "              precision    recall  f1-score   support\n",
      "\n",
      "           0       0.93      0.81      0.87       266\n",
      "           1       0.82      0.94      0.88       246\n",
      "\n",
      "    accuracy                           0.87       512\n",
      "   macro avg       0.88      0.87      0.87       512\n",
      "weighted avg       0.88      0.87      0.87       512\n",
      "\n"
     ]
    }
   ],
   "source": [
    "from sklearn.svm import SVC\n",
    "svc = SVC()\n",
    "svc.fit(x_train,y_train)\n",
    "predsvc = svc.predict(x_test)\n",
    "\n",
    "print(accuracy_score(y_test,predsvc)*100)\n",
    "print(confusion_matrix(y_test,predsvc))\n",
    "print(classification_report(y_test,predsvc))"
   ]
  },
  {
   "cell_type": "code",
   "execution_count": 78,
   "id": "ae517c44",
   "metadata": {},
   "outputs": [
    {
     "name": "stdout",
     "output_type": "stream",
     "text": [
      "[0.90625   0.875     0.7859375 0.8484375]\n",
      "0.8539062500000001\n",
      "difference between Accuracy and CVS : 0.01718749999999991\n"
     ]
    }
   ],
   "source": [
    "# checking svc score with cross val score\n",
    "score = cross_val_score(svc,x,y,cv=4)\n",
    "print(score)\n",
    "print(score.mean())\n",
    "print(\"difference between Accuracy and CVS :\",accuracy_score(y_test,predsvc) - score.mean())"
   ]
  },
  {
   "cell_type": "markdown",
   "id": "9061d59b",
   "metadata": {},
   "source": [
    "# Checking accuray with Gradient Boosting Classifier"
   ]
  },
  {
   "cell_type": "code",
   "execution_count": 80,
   "id": "d870694d",
   "metadata": {},
   "outputs": [
    {
     "name": "stdout",
     "output_type": "stream",
     "text": [
      "0.8984375\n",
      "[[232  34]\n",
      " [ 18 228]]\n",
      "              precision    recall  f1-score   support\n",
      "\n",
      "           0       0.93      0.87      0.90       266\n",
      "           1       0.87      0.93      0.90       246\n",
      "\n",
      "    accuracy                           0.90       512\n",
      "   macro avg       0.90      0.90      0.90       512\n",
      "weighted avg       0.90      0.90      0.90       512\n",
      "\n"
     ]
    }
   ],
   "source": [
    "GB = GradientBoostingClassifier()\n",
    "GB.fit(x_train,y_train)\n",
    "predGB = GB.predict(x_test)\n",
    "print(accuracy_score(y_test,predGB))\n",
    "print(confusion_matrix(y_test,predGB))\n",
    "print(classification_report(y_test,predGB))"
   ]
  },
  {
   "cell_type": "code",
   "execution_count": 81,
   "id": "5866f0fd",
   "metadata": {},
   "outputs": [
    {
     "name": "stdout",
     "output_type": "stream",
     "text": [
      "[0.8984375 0.9       0.821875  0.8890625]\n",
      "0.87734375\n",
      "Difference Between Accuracy and CVS 0.021093750000000022\n"
     ]
    }
   ],
   "source": [
    "# cross checking the score with cross val score\n",
    "score = cross_val_score(GB,x,y,cv=4)\n",
    "print(score)\n",
    "print(score.mean())\n",
    "print(\"Difference Between Accuracy and CVS\",accuracy_score(y_test,predGB)-score.mean())"
   ]
  },
  {
   "cell_type": "markdown",
   "id": "3a12ee0c",
   "metadata": {},
   "source": [
    "# Extra Tree Classifier Model "
   ]
  },
  {
   "cell_type": "code",
   "execution_count": 82,
   "id": "2996ef66",
   "metadata": {},
   "outputs": [
    {
     "name": "stdout",
     "output_type": "stream",
     "text": [
      "0.96484375\n",
      "[[248  18]\n",
      " [  0 246]]\n",
      "              precision    recall  f1-score   support\n",
      "\n",
      "           0       1.00      0.93      0.96       266\n",
      "           1       0.93      1.00      0.96       246\n",
      "\n",
      "    accuracy                           0.96       512\n",
      "   macro avg       0.97      0.97      0.96       512\n",
      "weighted avg       0.97      0.96      0.96       512\n",
      "\n"
     ]
    }
   ],
   "source": [
    "ET = ExtraTreesClassifier()\n",
    "ET.fit(x_train,y_train)\n",
    "predET = ET.predict(x_test)\n",
    "print(accuracy_score(y_test,predET))\n",
    "print(confusion_matrix(y_test,predET))\n",
    "print(classification_report(y_test,predET))"
   ]
  },
  {
   "cell_type": "code",
   "execution_count": 83,
   "id": "0689c916",
   "metadata": {},
   "outputs": [
    {
     "name": "stdout",
     "output_type": "stream",
     "text": [
      "[0.9546875 0.9328125 0.8578125 0.9234375]\n",
      "0.9171875\n",
      "Difference between  0.047656249999999956\n"
     ]
    }
   ],
   "source": [
    "#checkig the ET score against Cross val Score\n",
    "score= cross_val_score(ET,x,y,cv=4)\n",
    "print(score)\n",
    "print(score.mean())\n",
    "print(\"Difference between \",accuracy_score(y_test,predET)-score.mean())"
   ]
  },
  {
   "cell_type": "markdown",
   "id": "8a416377",
   "metadata": {},
   "source": [
    "# Hyper parameter Tuning to get the best parameter for model"
   ]
  },
  {
   "cell_type": "code",
   "execution_count": 84,
   "id": "bdf09990",
   "metadata": {},
   "outputs": [],
   "source": [
    "from sklearn.model_selection import GridSearchCV\n",
    "\n",
    "parameters = {\"criterion\":[\"gini\",\"entropy\"],\n",
    "             \"random_state\":[10,50,1000],\n",
    "             \"max_depth\":[0,10,20],\n",
    "             \"n_jobs\":[-2,-1,1],\n",
    "             \"n_estimators\":[50,100,200,300]}\n",
    "GCV = GridSearchCV(ExtraTreesClassifier(),parameters,cv=4)"
   ]
  },
  {
   "cell_type": "code",
   "execution_count": 85,
   "id": "35ea87a9",
   "metadata": {},
   "outputs": [
    {
     "name": "stderr",
     "output_type": "stream",
     "text": [
      "exception calling callback for <Future at 0x255a6396280 state=finished raised ValueError>\n",
      "Traceback (most recent call last):\n",
      "  File \"C:\\Users\\user\\anaconda3\\anaconda3\\lib\\site-packages\\joblib\\externals\\loky\\_base.py\", line 26, in _invoke_callbacks\n",
      "    callback(self)\n",
      "  File \"C:\\Users\\user\\anaconda3\\anaconda3\\lib\\site-packages\\joblib\\parallel.py\", line 385, in __call__\n",
      "    self.parallel.dispatch_next()\n",
      "  File \"C:\\Users\\user\\anaconda3\\anaconda3\\lib\\site-packages\\joblib\\parallel.py\", line 834, in dispatch_next\n",
      "    if not self.dispatch_one_batch(self._original_iterator):\n",
      "  File \"C:\\Users\\user\\anaconda3\\anaconda3\\lib\\site-packages\\joblib\\parallel.py\", line 901, in dispatch_one_batch\n",
      "    self._dispatch(tasks)\n",
      "  File \"C:\\Users\\user\\anaconda3\\anaconda3\\lib\\site-packages\\joblib\\parallel.py\", line 819, in _dispatch\n",
      "    job = self._backend.apply_async(batch, callback=cb)\n",
      "  File \"C:\\Users\\user\\anaconda3\\anaconda3\\lib\\site-packages\\joblib\\_parallel_backends.py\", line 556, in apply_async\n",
      "    future = self._workers.submit(SafeFunction(func))\n",
      "  File \"C:\\Users\\user\\anaconda3\\anaconda3\\lib\\site-packages\\joblib\\externals\\loky\\reusable_executor.py\", line 176, in submit\n",
      "    return super().submit(fn, *args, **kwargs)\n",
      "  File \"C:\\Users\\user\\anaconda3\\anaconda3\\lib\\site-packages\\joblib\\externals\\loky\\process_executor.py\", line 1131, in submit\n",
      "    raise ShutdownExecutorError(\n",
      "joblib.externals.loky.process_executor.ShutdownExecutorError: cannot schedule new futures after shutdown\n"
     ]
    },
    {
     "data": {
      "text/plain": [
       "GridSearchCV(cv=4, estimator=ExtraTreesClassifier(),\n",
       "             param_grid={'criterion': ['gini', 'entropy'],\n",
       "                         'max_depth': [0, 10, 20],\n",
       "                         'n_estimators': [50, 100, 200, 300],\n",
       "                         'n_jobs': [-2, -1, 1],\n",
       "                         'random_state': [10, 50, 1000]})"
      ]
     },
     "execution_count": 85,
     "metadata": {},
     "output_type": "execute_result"
    }
   ],
   "source": [
    "GCV.fit(x_train,y_train)"
   ]
  },
  {
   "cell_type": "code",
   "execution_count": 86,
   "id": "82636018",
   "metadata": {},
   "outputs": [
    {
     "data": {
      "text/plain": [
       "{'criterion': 'gini',\n",
       " 'max_depth': 20,\n",
       " 'n_estimators': 100,\n",
       " 'n_jobs': -2,\n",
       " 'random_state': 1000}"
      ]
     },
     "execution_count": 86,
     "metadata": {},
     "output_type": "execute_result"
    }
   ],
   "source": [
    "GCV.best_params_"
   ]
  },
  {
   "cell_type": "code",
   "execution_count": 87,
   "id": "5bac1d6f",
   "metadata": {},
   "outputs": [
    {
     "name": "stdout",
     "output_type": "stream",
     "text": [
      "95.3125\n"
     ]
    }
   ],
   "source": [
    "Final_model= ExtraTreesClassifier(criterion = \"gini\",max_depth=20,n_estimators=100,n_jobs=-2,random_state=1000)\n",
    "Final_model.fit(x_train,y_train)\n",
    "predFinal = Final_model.predict(x_test)\n",
    "acc = accuracy_score(y_test,predFinal)\n",
    "print(acc*100)"
   ]
  },
  {
   "cell_type": "markdown",
   "id": "284e86fd",
   "metadata": {},
   "source": [
    "#  AUC ROC Curve"
   ]
  },
  {
   "cell_type": "code",
   "execution_count": 89,
   "id": "2d50e7a8",
   "metadata": {},
   "outputs": [
    {
     "ename": "ValueError",
     "evalue": "'Lower Right' is not a valid value for loc; supported values are 'best', 'upper right', 'upper left', 'lower left', 'lower right', 'right', 'center left', 'center right', 'lower center', 'upper center', 'center'",
     "output_type": "error",
     "traceback": [
      "\u001b[1;31m---------------------------------------------------------------------------\u001b[0m",
      "\u001b[1;31mValueError\u001b[0m                                Traceback (most recent call last)",
      "Input \u001b[1;32mIn [89]\u001b[0m, in \u001b[0;36m<cell line: 11>\u001b[1;34m()\u001b[0m\n\u001b[0;32m      8\u001b[0m plot_roc_curve(svc,x_test,y_test,ax\u001b[38;5;241m=\u001b[39mdisp\u001b[38;5;241m.\u001b[39max_)\n\u001b[0;32m      9\u001b[0m plot_roc_curve(GB,x_test,y_test,ax\u001b[38;5;241m=\u001b[39mdisp\u001b[38;5;241m.\u001b[39max_)\n\u001b[1;32m---> 11\u001b[0m \u001b[43mplt\u001b[49m\u001b[38;5;241;43m.\u001b[39;49m\u001b[43mlegend\u001b[49m\u001b[43m(\u001b[49m\u001b[43mprop\u001b[49m\u001b[38;5;241;43m=\u001b[39;49m\u001b[43m{\u001b[49m\u001b[38;5;124;43m\"\u001b[39;49m\u001b[38;5;124;43msize\u001b[39;49m\u001b[38;5;124;43m\"\u001b[39;49m\u001b[43m:\u001b[49m\u001b[38;5;241;43m11\u001b[39;49m\u001b[43m}\u001b[49m\u001b[43m,\u001b[49m\u001b[43mloc\u001b[49m\u001b[38;5;241;43m=\u001b[39;49m\u001b[38;5;124;43m\"\u001b[39;49m\u001b[38;5;124;43mLower Right\u001b[39;49m\u001b[38;5;124;43m\"\u001b[39;49m\u001b[43m)\u001b[49m\n\u001b[0;32m     12\u001b[0m plt\u001b[38;5;241m.\u001b[39mshow()\n",
      "File \u001b[1;32m~\\anaconda3\\anaconda3\\lib\\site-packages\\matplotlib\\pyplot.py:2655\u001b[0m, in \u001b[0;36mlegend\u001b[1;34m(*args, **kwargs)\u001b[0m\n\u001b[0;32m   2653\u001b[0m \u001b[38;5;129m@_copy_docstring_and_deprecators\u001b[39m(Axes\u001b[38;5;241m.\u001b[39mlegend)\n\u001b[0;32m   2654\u001b[0m \u001b[38;5;28;01mdef\u001b[39;00m \u001b[38;5;21mlegend\u001b[39m(\u001b[38;5;241m*\u001b[39margs, \u001b[38;5;241m*\u001b[39m\u001b[38;5;241m*\u001b[39mkwargs):\n\u001b[1;32m-> 2655\u001b[0m     \u001b[38;5;28;01mreturn\u001b[39;00m gca()\u001b[38;5;241m.\u001b[39mlegend(\u001b[38;5;241m*\u001b[39margs, \u001b[38;5;241m*\u001b[39m\u001b[38;5;241m*\u001b[39mkwargs)\n",
      "File \u001b[1;32m~\\anaconda3\\anaconda3\\lib\\site-packages\\matplotlib\\axes\\_axes.py:305\u001b[0m, in \u001b[0;36mAxes.legend\u001b[1;34m(self, *args, **kwargs)\u001b[0m\n\u001b[0;32m    303\u001b[0m \u001b[38;5;28;01mif\u001b[39;00m \u001b[38;5;28mlen\u001b[39m(extra_args):\n\u001b[0;32m    304\u001b[0m     \u001b[38;5;28;01mraise\u001b[39;00m \u001b[38;5;167;01mTypeError\u001b[39;00m(\u001b[38;5;124m'\u001b[39m\u001b[38;5;124mlegend only accepts two non-keyword arguments\u001b[39m\u001b[38;5;124m'\u001b[39m)\n\u001b[1;32m--> 305\u001b[0m \u001b[38;5;28mself\u001b[39m\u001b[38;5;241m.\u001b[39mlegend_ \u001b[38;5;241m=\u001b[39m mlegend\u001b[38;5;241m.\u001b[39mLegend(\u001b[38;5;28mself\u001b[39m, handles, labels, \u001b[38;5;241m*\u001b[39m\u001b[38;5;241m*\u001b[39mkwargs)\n\u001b[0;32m    306\u001b[0m \u001b[38;5;28mself\u001b[39m\u001b[38;5;241m.\u001b[39mlegend_\u001b[38;5;241m.\u001b[39m_remove_method \u001b[38;5;241m=\u001b[39m \u001b[38;5;28mself\u001b[39m\u001b[38;5;241m.\u001b[39m_remove_legend\n\u001b[0;32m    307\u001b[0m \u001b[38;5;28;01mreturn\u001b[39;00m \u001b[38;5;28mself\u001b[39m\u001b[38;5;241m.\u001b[39mlegend_\n",
      "File \u001b[1;32m~\\anaconda3\\anaconda3\\lib\\site-packages\\matplotlib\\legend.py:455\u001b[0m, in \u001b[0;36mLegend.__init__\u001b[1;34m(self, parent, handles, labels, loc, numpoints, markerscale, markerfirst, scatterpoints, scatteryoffsets, prop, fontsize, labelcolor, borderpad, labelspacing, handlelength, handleheight, handletextpad, borderaxespad, columnspacing, ncol, mode, fancybox, shadow, title, title_fontsize, framealpha, edgecolor, facecolor, bbox_to_anchor, bbox_transform, frameon, handler_map, title_fontproperties)\u001b[0m\n\u001b[0;32m    453\u001b[0m         loc \u001b[38;5;241m=\u001b[39m \u001b[38;5;124m'\u001b[39m\u001b[38;5;124mupper right\u001b[39m\u001b[38;5;124m'\u001b[39m\n\u001b[0;32m    454\u001b[0m \u001b[38;5;28;01mif\u001b[39;00m \u001b[38;5;28misinstance\u001b[39m(loc, \u001b[38;5;28mstr\u001b[39m):\n\u001b[1;32m--> 455\u001b[0m     loc \u001b[38;5;241m=\u001b[39m \u001b[43m_api\u001b[49m\u001b[38;5;241;43m.\u001b[39;49m\u001b[43mcheck_getitem\u001b[49m\u001b[43m(\u001b[49m\u001b[38;5;28;43mself\u001b[39;49m\u001b[38;5;241;43m.\u001b[39;49m\u001b[43mcodes\u001b[49m\u001b[43m,\u001b[49m\u001b[43m \u001b[49m\u001b[43mloc\u001b[49m\u001b[38;5;241;43m=\u001b[39;49m\u001b[43mloc\u001b[49m\u001b[43m)\u001b[49m\n\u001b[0;32m    456\u001b[0m \u001b[38;5;28;01mif\u001b[39;00m \u001b[38;5;129;01mnot\u001b[39;00m \u001b[38;5;28mself\u001b[39m\u001b[38;5;241m.\u001b[39misaxes \u001b[38;5;129;01mand\u001b[39;00m loc \u001b[38;5;241m==\u001b[39m \u001b[38;5;241m0\u001b[39m:\n\u001b[0;32m    457\u001b[0m     \u001b[38;5;28;01mraise\u001b[39;00m \u001b[38;5;167;01mValueError\u001b[39;00m(\n\u001b[0;32m    458\u001b[0m         \u001b[38;5;124m\"\u001b[39m\u001b[38;5;124mAutomatic legend placement (loc=\u001b[39m\u001b[38;5;124m'\u001b[39m\u001b[38;5;124mbest\u001b[39m\u001b[38;5;124m'\u001b[39m\u001b[38;5;124m) not implemented for \u001b[39m\u001b[38;5;124m\"\u001b[39m\n\u001b[0;32m    459\u001b[0m         \u001b[38;5;124m\"\u001b[39m\u001b[38;5;124mfigure legend\u001b[39m\u001b[38;5;124m\"\u001b[39m)\n",
      "File \u001b[1;32m~\\anaconda3\\anaconda3\\lib\\site-packages\\matplotlib\\_api\\__init__.py:188\u001b[0m, in \u001b[0;36mcheck_getitem\u001b[1;34m(_mapping, **kwargs)\u001b[0m\n\u001b[0;32m    186\u001b[0m     \u001b[38;5;28;01mreturn\u001b[39;00m mapping[v]\n\u001b[0;32m    187\u001b[0m \u001b[38;5;28;01mexcept\u001b[39;00m \u001b[38;5;167;01mKeyError\u001b[39;00m:\n\u001b[1;32m--> 188\u001b[0m     \u001b[38;5;28;01mraise\u001b[39;00m \u001b[38;5;167;01mValueError\u001b[39;00m(\n\u001b[0;32m    189\u001b[0m         \u001b[38;5;124m\"\u001b[39m\u001b[38;5;132;01m{!r}\u001b[39;00m\u001b[38;5;124m is not a valid value for \u001b[39m\u001b[38;5;132;01m{}\u001b[39;00m\u001b[38;5;124m; supported values are \u001b[39m\u001b[38;5;132;01m{}\u001b[39;00m\u001b[38;5;124m\"\u001b[39m\n\u001b[0;32m    190\u001b[0m         \u001b[38;5;241m.\u001b[39mformat(v, k, \u001b[38;5;124m'\u001b[39m\u001b[38;5;124m, \u001b[39m\u001b[38;5;124m'\u001b[39m\u001b[38;5;241m.\u001b[39mjoin(\u001b[38;5;28mmap\u001b[39m(\u001b[38;5;28mrepr\u001b[39m, mapping)))) \u001b[38;5;28;01mfrom\u001b[39;00m \u001b[38;5;28mNone\u001b[39m\n",
      "\u001b[1;31mValueError\u001b[0m: 'Lower Right' is not a valid value for loc; supported values are 'best', 'upper right', 'upper left', 'lower left', 'lower right', 'right', 'center left', 'center right', 'lower center', 'upper center', 'center'"
     ]
    },
    {
     "data": {
      "image/png": "[encoded data removed]",
      "text/plain": [
       "<Figure size 432x288 with 1 Axes>"
      ]
     },
     "metadata": {
      "needs_background": "light"
     },
     "output_type": "display_data"
    }
   ],
   "source": [
    "from sklearn import datasets\n",
    "from sklearn import metrics\n",
    "from sklearn import model_selection\n",
    "from sklearn.metrics import plot_roc_curve\n",
    "\n",
    "disp = plot_roc_curve(ET,x_test,y_test)\n",
    "plot_roc_curve(RFC,x_test,y_test,ax=disp.ax_)\n",
    "plot_roc_curve(svc,x_test,y_test,ax=disp.ax_)\n",
    "plot_roc_curve(GB,x_test,y_test,ax=disp.ax_)\n",
    "\n",
    "plt.legend(prop={\"size\":11},loc=\"Lower Right\")\n",
    "plt.show()"
   ]
  },
  {
   "cell_type": "markdown",
   "id": "34b2aadc",
   "metadata": {},
   "source": [
    "# Saving the Model"
   ]
  },
  {
   "cell_type": "code",
   "execution_count": 90,
   "id": "ac9ab1b6",
   "metadata": {},
   "outputs": [],
   "source": [
    "import pickle\n",
    "file = \"Wine_Quality.pkl\"\n",
    "save = pickle.dump(Final_model,open(file,\"wb\"))"
   ]
  },
  {
   "cell_type": "markdown",
   "id": "86137141",
   "metadata": {},
   "source": [
    "# End of WineQuality Project"
   ]
  }
 ],
 "metadata": {
  "kernelspec": {
   "display_name": "Python 3 (ipykernel)",
   "language": "python",
   "name": "python3"
  },
  "language_info": {
   "codemirror_mode": {
    "name": "ipython",
    "version": 3
   },
   "file_extension": ".py",
   "mimetype": "text/x-python",
   "name": "python",
   "nbconvert_exporter": "python",
   "pygments_lexer": "ipython3",
   "version": "3.9.12"
  }
 },
 "nbformat": 4,
 "nbformat_minor": 5
}
