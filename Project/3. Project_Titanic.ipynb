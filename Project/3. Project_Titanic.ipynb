{
  "nbformat": 4,
  "nbformat_minor": 0,
  "metadata": {
    "colab": {
      "provenance": []
    },
    "kernelspec": {
      "name": "python3",
      "display_name": "Python 3"
    },
    "language_info": {
      "name": "python"
    }
  },
  "cells": [
    {
      "cell_type": "code",
      "execution_count": 35,
      "metadata": {
        "id": "D5hak-RGFtry"
      },
      "outputs": [],
      "source": [
        "import pandas as pd\n",
        "import matplotlib.pyplot as plt\n",
        "import seaborn as sns\n",
        "import warnings\n",
        "warnings.filterwarnings(\"ignore\")"
      ]
    },
    {
      "cell_type": "code",
      "source": [
        "url = \"https://raw.githubusercontent.com/dsrscientist/dataset1/master/titanic_train.csv\"\n",
        "df = pd.read_csv(url)"
      ],
      "metadata": {
        "id": "Y8U__pKfGYie"
      },
      "execution_count": 36,
      "outputs": []
    },
    {
      "cell_type": "code",
      "source": [
        "df.head()"
      ],
      "metadata": {
        "colab": {
          "base_uri": "https://localhost:8080/",
          "height": 548
        },
        "id": "WF0sDMiHGlGL",
        "outputId": "c827fdb0-3168-44d9-c39b-9d5f5c7d0840"
      },
      "execution_count": 37,
      "outputs": [
        {
          "output_type": "execute_result",
          "data": {
            "text/plain": [
              "   PassengerId  Survived  Pclass  \\\n",
              "0            1         0       3   \n",
              "1            2         1       1   \n",
              "2            3         1       3   \n",
              "3            4         1       1   \n",
              "4            5         0       3   \n",
              "\n",
              "                                                Name     Sex   Age  SibSp  \\\n",
              "0                            Braund, Mr. Owen Harris    male  22.0      1   \n",
              "1  Cumings, Mrs. John Bradley (Florence Briggs Th...  female  38.0      1   \n",
              "2                             Heikkinen, Miss. Laina  female  26.0      0   \n",
              "3       Futrelle, Mrs. Jacques Heath (Lily May Peel)  female  35.0      1   \n",
              "4                           Allen, Mr. William Henry    male  35.0      0   \n",
              "\n",
              "   Parch            Ticket     Fare Cabin Embarked  \n",
              "0      0         A/5 21171   7.2500   NaN        S  \n",
              "1      0          PC 17599  71.2833   C85        C  \n",
              "2      0  STON/O2. 3101282   7.9250   NaN        S  \n",
              "3      0            113803  53.1000  C123        S  \n",
              "4      0            373450   8.0500   NaN        S  "
            ],
            "text/html": [
              "\n",
              "  <div id=\"df-34d228a0-644f-4647-a095-537a534675c8\">\n",
              "    <div class=\"colab-df-container\">\n",
              "      <div>\n",
              "<style scoped>\n",
              "    .dataframe tbody tr th:only-of-type {\n",
              "        vertical-align: middle;\n",
              "    }\n",
              "\n",
              "    .dataframe tbody tr th {\n",
              "        vertical-align: top;\n",
              "    }\n",
              "\n",
              "    .dataframe thead th {\n",
              "        text-align: right;\n",
              "    }\n",
              "</style>\n",
              "<table border=\"1\" class=\"dataframe\">\n",
              "  <thead>\n",
              "    <tr style=\"text-align: right;\">\n",
              "      <th></th>\n",
              "      <th>PassengerId</th>\n",
              "      <th>Survived</th>\n",
              "      <th>Pclass</th>\n",
              "      <th>Name</th>\n",
              "      <th>Sex</th>\n",
              "      <th>Age</th>\n",
              "      <th>SibSp</th>\n",
              "      <th>Parch</th>\n",
              "      <th>Ticket</th>\n",
              "      <th>Fare</th>\n",
              "      <th>Cabin</th>\n",
              "      <th>Embarked</th>\n",
              "    </tr>\n",
              "  </thead>\n",
              "  <tbody>\n",
              "    <tr>\n",
              "      <th>0</th>\n",
              "      <td>1</td>\n",
              "      <td>0</td>\n",
              "      <td>3</td>\n",
              "      <td>Braund, Mr. Owen Harris</td>\n",
              "      <td>male</td>\n",
              "      <td>22.0</td>\n",
              "      <td>1</td>\n",
              "      <td>0</td>\n",
              "      <td>A/5 21171</td>\n",
              "      <td>7.2500</td>\n",
              "      <td>NaN</td>\n",
              "      <td>S</td>\n",
              "    </tr>\n",
              "    <tr>\n",
              "      <th>1</th>\n",
              "      <td>2</td>\n",
              "      <td>1</td>\n",
              "      <td>1</td>\n",
              "      <td>Cumings, Mrs. John Bradley (Florence Briggs Th...</td>\n",
              "      <td>female</td>\n",
              "      <td>38.0</td>\n",
              "      <td>1</td>\n",
              "      <td>0</td>\n",
              "      <td>PC 17599</td>\n",
              "      <td>71.2833</td>\n",
              "      <td>C85</td>\n",
              "      <td>C</td>\n",
              "    </tr>\n",
              "    <tr>\n",
              "      <th>2</th>\n",
              "      <td>3</td>\n",
              "      <td>1</td>\n",
              "      <td>3</td>\n",
              "      <td>Heikkinen, Miss. Laina</td>\n",
              "      <td>female</td>\n",
              "      <td>26.0</td>\n",
              "      <td>0</td>\n",
              "      <td>0</td>\n",
              "      <td>STON/O2. 3101282</td>\n",
              "      <td>7.9250</td>\n",
              "      <td>NaN</td>\n",
              "      <td>S</td>\n",
              "    </tr>\n",
              "    <tr>\n",
              "      <th>3</th>\n",
              "      <td>4</td>\n",
              "      <td>1</td>\n",
              "      <td>1</td>\n",
              "      <td>Futrelle, Mrs. Jacques Heath (Lily May Peel)</td>\n",
              "      <td>female</td>\n",
              "      <td>35.0</td>\n",
              "      <td>1</td>\n",
              "      <td>0</td>\n",
              "      <td>113803</td>\n",
              "      <td>53.1000</td>\n",
              "      <td>C123</td>\n",
              "      <td>S</td>\n",
              "    </tr>\n",
              "    <tr>\n",
              "      <th>4</th>\n",
              "      <td>5</td>\n",
              "      <td>0</td>\n",
              "      <td>3</td>\n",
              "      <td>Allen, Mr. William Henry</td>\n",
              "      <td>male</td>\n",
              "      <td>35.0</td>\n",
              "      <td>0</td>\n",
              "      <td>0</td>\n",
              "      <td>373450</td>\n",
              "      <td>8.0500</td>\n",
              "      <td>NaN</td>\n",
              "      <td>S</td>\n",
              "    </tr>\n",
              "  </tbody>\n",
              "</table>\n",
              "</div>\n",
              "      <button class=\"colab-df-convert\" onclick=\"convertToInteractive('df-34d228a0-644f-4647-a095-537a534675c8')\"\n",
              "              title=\"Convert this dataframe to an interactive table.\"\n",
              "              style=\"display:none;\">\n",
              "        \n",
              "  <svg xmlns=\"http://www.w3.org/2000/svg\" height=\"24px\"viewBox=\"0 0 24 24\"\n",
              "       width=\"24px\">\n",
              "    <path d=\"M0 0h24v24H0V0z\" fill=\"none\"/>\n",
              "    <path d=\"M18.56 5.44l.94 2.06.94-2.06 2.06-.94-2.06-.94-.94-2.06-.94 2.06-2.06.94zm-11 1L8.5 8.5l.94-2.06 2.06-.94-2.06-.94L8.5 2.5l-.94 2.06-2.06.94zm10 10l.94 2.06.94-2.06 2.06-.94-2.06-.94-.94-2.06-.94 2.06-2.06.94z\"/><path d=\"M17.41 7.96l-1.37-1.37c-.4-.4-.92-.59-1.43-.59-.52 0-1.04.2-1.43.59L10.3 9.45l-7.72 7.72c-.78.78-.78 2.05 0 2.83L4 21.41c.39.39.9.59 1.41.59.51 0 1.02-.2 1.41-.59l7.78-7.78 2.81-2.81c.8-.78.8-2.07 0-2.86zM5.41 20L4 18.59l7.72-7.72 1.47 1.35L5.41 20z\"/>\n",
              "  </svg>\n",
              "      </button>\n",
              "      \n",
              "  <style>\n",
              "    .colab-df-container {\n",
              "      display:flex;\n",
              "      flex-wrap:wrap;\n",
              "      gap: 12px;\n",
              "    }\n",
              "\n",
              "    .colab-df-convert {\n",
              "      background-color: #E8F0FE;\n",
              "      border: none;\n",
              "      border-radius: 50%;\n",
              "      cursor: pointer;\n",
              "      display: none;\n",
              "      fill: #1967D2;\n",
              "      height: 32px;\n",
              "      padding: 0 0 0 0;\n",
              "      width: 32px;\n",
              "    }\n",
              "\n",
              "    .colab-df-convert:hover {\n",
              "      background-color: #E2EBFA;\n",
              "      box-shadow: 0px 1px 2px rgba(60, 64, 67, 0.3), 0px 1px 3px 1px rgba(60, 64, 67, 0.15);\n",
              "      fill: #174EA6;\n",
              "    }\n",
              "\n",
              "    [theme=dark] .colab-df-convert {\n",
              "      background-color: #3B4455;\n",
              "      fill: #D2E3FC;\n",
              "    }\n",
              "\n",
              "    [theme=dark] .colab-df-convert:hover {\n",
              "      background-color: #434B5C;\n",
              "      box-shadow: 0px 1px 3px 1px rgba(0, 0, 0, 0.15);\n",
              "      filter: drop-shadow(0px 1px 2px rgba(0, 0, 0, 0.3));\n",
              "      fill: #FFFFFF;\n",
              "    }\n",
              "  </style>\n",
              "\n",
              "      <script>\n",
              "        const buttonEl =\n",
              "          document.querySelector('#df-34d228a0-644f-4647-a095-537a534675c8 button.colab-df-convert');\n",
              "        buttonEl.style.display =\n",
              "          google.colab.kernel.accessAllowed ? 'block' : 'none';\n",
              "\n",
              "        async function convertToInteractive(key) {\n",
              "          const element = document.querySelector('#df-34d228a0-644f-4647-a095-537a534675c8');\n",
              "          const dataTable =\n",
              "            await google.colab.kernel.invokeFunction('convertToInteractive',\n",
              "                                                     [key], {});\n",
              "          if (!dataTable) return;\n",
              "\n",
              "          const docLinkHtml = 'Like what you see? Visit the ' +\n",
              "            '<a target=\"_blank\" href=https://colab.research.google.com/notebooks/data_table.ipynb>data table notebook</a>'\n",
              "            + ' to learn more about interactive tables.';\n",
              "          element.innerHTML = '';\n",
              "          dataTable['output_type'] = 'display_data';\n",
              "          await google.colab.output.renderOutput(dataTable, element);\n",
              "          const docLink = document.createElement('div');\n",
              "          docLink.innerHTML = docLinkHtml;\n",
              "          element.appendChild(docLink);\n",
              "        }\n",
              "      </script>\n",
              "    </div>\n",
              "  </div>\n",
              "  "
            ]
          },
          "metadata": {},
          "execution_count": 37
        }
      ]
    },
    {
      "cell_type": "markdown",
      "source": [
        "Information of the Dataset\n",
        "\n",
        "Survived is Target Column and \n",
        "0 = \"Dead\" and 1 = \"Survived\"\n",
        "\n",
        "PClass =1 = 1st Class\n",
        "        2 = 2nd Class\n",
        "        3 = 3rd Class\n",
        "\n",
        "SibSp = No. of Siblings/Spouses\n",
        "\n",
        "Parch = No. of Parents/Children\n",
        "\n",
        "Cabin = Cabin Number\n",
        "\n",
        "Embarked = Port of Embarkation\n",
        "          C = Cherbourgh\n",
        "          Q = Queenstown\n",
        "          S = Southampton\n",
        "\n"
      ],
      "metadata": {
        "id": "qw3PQJBVK4zw"
      }
    },
    {
      "cell_type": "code",
      "source": [
        "df.shape"
      ],
      "metadata": {
        "colab": {
          "base_uri": "https://localhost:8080/"
        },
        "id": "pKFMxBaNIULg",
        "outputId": "8c627532-da57-4d6a-b501-ddd054e4b870"
      },
      "execution_count": 38,
      "outputs": [
        {
          "output_type": "execute_result",
          "data": {
            "text/plain": [
              "(891, 12)"
            ]
          },
          "metadata": {},
          "execution_count": 38
        }
      ]
    },
    {
      "cell_type": "markdown",
      "source": [
        "Total Rows are 891 and columns are 12"
      ],
      "metadata": {
        "id": "3vyHoSS7dEdm"
      }
    },
    {
      "cell_type": "code",
      "source": [
        "df.info()"
      ],
      "metadata": {
        "colab": {
          "base_uri": "https://localhost:8080/"
        },
        "id": "k8pD0lvzIgdo",
        "outputId": "290f0a8e-dc48-4cb2-9ba4-79a253f9624c"
      },
      "execution_count": 39,
      "outputs": [
        {
          "output_type": "stream",
          "name": "stdout",
          "text": [
            "<class 'pandas.core.frame.DataFrame'>\n",
            "RangeIndex: 891 entries, 0 to 890\n",
            "Data columns (total 12 columns):\n",
            " #   Column       Non-Null Count  Dtype  \n",
            "---  ------       --------------  -----  \n",
            " 0   PassengerId  891 non-null    int64  \n",
            " 1   Survived     891 non-null    int64  \n",
            " 2   Pclass       891 non-null    int64  \n",
            " 3   Name         891 non-null    object \n",
            " 4   Sex          891 non-null    object \n",
            " 5   Age          714 non-null    float64\n",
            " 6   SibSp        891 non-null    int64  \n",
            " 7   Parch        891 non-null    int64  \n",
            " 8   Ticket       891 non-null    object \n",
            " 9   Fare         891 non-null    float64\n",
            " 10  Cabin        204 non-null    object \n",
            " 11  Embarked     889 non-null    object \n",
            "dtypes: float64(2), int64(5), object(5)\n",
            "memory usage: 83.7+ KB\n"
          ]
        }
      ]
    },
    {
      "cell_type": "markdown",
      "source": [
        "**Observation**  :  Missing value in Age - Cabin and Embarked \n",
        "                \n",
        "                String value -   Name, Sex, Ticket, cabin , embarked\n",
        "                \n",
        "                Integer type - Passenged ID, Survived,Pclass,Sibsp,Parch\n",
        "                \n",
        "                Float type - Age,Fare"
      ],
      "metadata": {
        "id": "-YvGGxd7ZFua"
      }
    },
    {
      "cell_type": "markdown",
      "source": [
        "Data Type of each columns :\n",
        "Cateorical / Nominal :  e.g : Embarked\n",
        "\n",
        "Binary Data  : eg : Sex\n",
        "\n",
        "Ordinal : Pclass\n",
        "\n",
        "Continous :eg : Age , Fare\n",
        "\n",
        "count : sibsp, parch\n",
        "useles:  Passenger ID, Name, Cabin, Ticket number columns"
      ],
      "metadata": {
        "id": "lK98AdRSZuFj"
      }
    },
    {
      "cell_type": "code",
      "source": [
        "df.isnull().sum()"
      ],
      "metadata": {
        "colab": {
          "base_uri": "https://localhost:8080/"
        },
        "id": "1J8-zPm1I5h9",
        "outputId": "c41eeb09-d709-42fe-d618-e7ad20829ec8"
      },
      "execution_count": 40,
      "outputs": [
        {
          "output_type": "execute_result",
          "data": {
            "text/plain": [
              "PassengerId      0\n",
              "Survived         0\n",
              "Pclass           0\n",
              "Name             0\n",
              "Sex              0\n",
              "Age            177\n",
              "SibSp            0\n",
              "Parch            0\n",
              "Ticket           0\n",
              "Fare             0\n",
              "Cabin          687\n",
              "Embarked         2\n",
              "dtype: int64"
            ]
          },
          "metadata": {},
          "execution_count": 40
        }
      ]
    },
    {
      "cell_type": "markdown",
      "source": [
        "**Observation :**\n",
        "\n",
        "The columns having a null value are : Age /  Cabin / Embarked. \n",
        "\n",
        "They need to be filled up with appropriate values "
      ],
      "metadata": {
        "id": "NPzHLi65KJUD"
      }
    },
    {
      "cell_type": "code",
      "source": [
        "# drop the cabin column from the dataframe\n",
        "df.drop([\"PassengerId\",\"Name\",\"Ticket\",\"Cabin\"],axis=1,inplace=True)"
      ],
      "metadata": {
        "id": "ZO9BAau09eo4"
      },
      "execution_count": 41,
      "outputs": []
    },
    {
      "cell_type": "code",
      "source": [
        "# Checking the Data info after the irrelavant columns dropped\n",
        "df.info()"
      ],
      "metadata": {
        "colab": {
          "base_uri": "https://localhost:8080/"
        },
        "id": "xR8Eg8UQAahZ",
        "outputId": "7f1fa2b2-ed4b-4867-ef50-a8b74602aec2"
      },
      "execution_count": 42,
      "outputs": [
        {
          "output_type": "stream",
          "name": "stdout",
          "text": [
            "<class 'pandas.core.frame.DataFrame'>\n",
            "RangeIndex: 891 entries, 0 to 890\n",
            "Data columns (total 8 columns):\n",
            " #   Column    Non-Null Count  Dtype  \n",
            "---  ------    --------------  -----  \n",
            " 0   Survived  891 non-null    int64  \n",
            " 1   Pclass    891 non-null    int64  \n",
            " 2   Sex       891 non-null    object \n",
            " 3   Age       714 non-null    float64\n",
            " 4   SibSp     891 non-null    int64  \n",
            " 5   Parch     891 non-null    int64  \n",
            " 6   Fare      891 non-null    float64\n",
            " 7   Embarked  889 non-null    object \n",
            "dtypes: float64(2), int64(4), object(2)\n",
            "memory usage: 55.8+ KB\n"
          ]
        }
      ]
    },
    {
      "cell_type": "markdown",
      "source": [
        "Replacing the missing value in Age and Embarked columns"
      ],
      "metadata": {
        "id": "g1q0sJfIBwUv"
      }
    },
    {
      "cell_type": "code",
      "source": [
        "df[\"Age\"].fillna(df[\"Age\"].mean(),inplace=True)"
      ],
      "metadata": {
        "id": "ATjxK6BGBsGt"
      },
      "execution_count": 43,
      "outputs": []
    },
    {
      "cell_type": "code",
      "source": [
        "df[\"Age\"].isnull().sum()"
      ],
      "metadata": {
        "colab": {
          "base_uri": "https://localhost:8080/"
        },
        "id": "8jWzT4yPdztd",
        "outputId": "d108a8f6-6565-4167-fe45-58e9beb6b3c4"
      },
      "execution_count": 44,
      "outputs": [
        {
          "output_type": "execute_result",
          "data": {
            "text/plain": [
              "0"
            ]
          },
          "metadata": {},
          "execution_count": 44
        }
      ]
    },
    {
      "cell_type": "markdown",
      "source": [
        "*** Observation *** :  Missing value in age is replace by mean value of age."
      ],
      "metadata": {
        "id": "mJt_uZo0d6O8"
      }
    },
    {
      "cell_type": "markdown",
      "source": [
        "Now, we will replace the missing value of Embarked columns where the value is categorical, so we will use mode.\n",
        "\n",
        "\n",
        "\n",
        "\n",
        "\n",
        "\n",
        "\n"
      ],
      "metadata": {
        "id": "vRKZo2JrCvpG"
      }
    },
    {
      "cell_type": "code",
      "source": [
        "df[\"Embarked\"].fillna(df[\"Embarked\"].mode()[0],inplace=True)"
      ],
      "metadata": {
        "id": "Zd5u4ltQCLlg"
      },
      "execution_count": 45,
      "outputs": []
    },
    {
      "cell_type": "markdown",
      "source": [
        "Checking the missing value again"
      ],
      "metadata": {
        "id": "9NKVN_0FD6uz"
      }
    },
    {
      "cell_type": "code",
      "source": [
        "df.info()"
      ],
      "metadata": {
        "colab": {
          "base_uri": "https://localhost:8080/"
        },
        "id": "uRAgbslMDgxm",
        "outputId": "139c38b1-e8bf-4498-86df-89ae2bca57c6"
      },
      "execution_count": 46,
      "outputs": [
        {
          "output_type": "stream",
          "name": "stdout",
          "text": [
            "<class 'pandas.core.frame.DataFrame'>\n",
            "RangeIndex: 891 entries, 0 to 890\n",
            "Data columns (total 8 columns):\n",
            " #   Column    Non-Null Count  Dtype  \n",
            "---  ------    --------------  -----  \n",
            " 0   Survived  891 non-null    int64  \n",
            " 1   Pclass    891 non-null    int64  \n",
            " 2   Sex       891 non-null    object \n",
            " 3   Age       891 non-null    float64\n",
            " 4   SibSp     891 non-null    int64  \n",
            " 5   Parch     891 non-null    int64  \n",
            " 6   Fare      891 non-null    float64\n",
            " 7   Embarked  891 non-null    object \n",
            "dtypes: float64(2), int64(4), object(2)\n",
            "memory usage: 55.8+ KB\n"
          ]
        }
      ]
    },
    {
      "cell_type": "code",
      "source": [
        "df.isnull().sum()"
      ],
      "metadata": {
        "colab": {
          "base_uri": "https://localhost:8080/"
        },
        "id": "4FXMf6z4DiNj",
        "outputId": "b7d8b261-1b84-4370-8ec1-db3b111845f0"
      },
      "execution_count": 47,
      "outputs": [
        {
          "output_type": "execute_result",
          "data": {
            "text/plain": [
              "Survived    0\n",
              "Pclass      0\n",
              "Sex         0\n",
              "Age         0\n",
              "SibSp       0\n",
              "Parch       0\n",
              "Fare        0\n",
              "Embarked    0\n",
              "dtype: int64"
            ]
          },
          "metadata": {},
          "execution_count": 47
        }
      ]
    },
    {
      "cell_type": "markdown",
      "source": [
        "*** Observation *** : Now there is no null values"
      ],
      "metadata": {
        "id": "2d2qzr9De1L4"
      }
    },
    {
      "cell_type": "code",
      "source": [
        "sns.heatmap(df.isnull())\n",
        "plt.title(\"Null Values\")\n",
        "plt.show()"
      ],
      "metadata": {
        "colab": {
          "base_uri": "https://localhost:8080/",
          "height": 322
        },
        "id": "fixXoDVfrvjt",
        "outputId": "aa28bf6d-3199-4fd7-e406-996f2bdff1c6"
      },
      "execution_count": 48,
      "outputs": [
        {
          "output_type": "display_data",
          "data": {
            "text/plain": [
              "<Figure size 432x288 with 2 Axes>"
            ],
            "image/png": "[encoded data removed]"
          },
          "metadata": {
            "needs_background": "light"
          }
        }
      ]
    },
    {
      "cell_type": "markdown",
      "source": [
        "Observation : we have checke the null value by figure and above it with graph which show there is no null value present in data now. "
      ],
      "metadata": {
        "id": "bWqtFE5Sr5Mq"
      }
    },
    {
      "cell_type": "code",
      "source": [
        "df[\"Survived\"].value_counts()"
      ],
      "metadata": {
        "colab": {
          "base_uri": "https://localhost:8080/"
        },
        "id": "yOUJJOBHExcg",
        "outputId": "0bb3cbb3-d0e1-4a84-b0ea-cb109ab2250b"
      },
      "execution_count": 49,
      "outputs": [
        {
          "output_type": "execute_result",
          "data": {
            "text/plain": [
              "0    549\n",
              "1    342\n",
              "Name: Survived, dtype: int64"
            ]
          },
          "metadata": {},
          "execution_count": 49
        }
      ]
    },
    {
      "cell_type": "markdown",
      "source": [
        "** Observation: ** show the Total count of  0: Dead, 1:Survived Passengers"
      ],
      "metadata": {
        "id": "3aX5LngrbrDl"
      }
    },
    {
      "cell_type": "markdown",
      "source": [
        "# Data Visualization"
      ],
      "metadata": {
        "id": "j2W3qBM1b355"
      }
    },
    {
      "cell_type": "code",
      "source": [
        "# Data Visualization\n",
        "import seaborn as sns"
      ],
      "metadata": {
        "id": "W-l4BgF3FXoP"
      },
      "execution_count": 50,
      "outputs": []
    },
    {
      "cell_type": "code",
      "source": [
        "# show the bar for Survied and Dead Passengers\n",
        "sns.countplot(\"Survived\",data=df)\n",
        "print(df[\"Survived\"].value_counts())\n",
        "plt.show()"
      ],
      "metadata": {
        "colab": {
          "base_uri": "https://localhost:8080/",
          "height": 331
        },
        "id": "Yoc6LAmaFc2I",
        "outputId": "95ed9c2f-856d-4099-ec4a-e050472e1163"
      },
      "execution_count": 51,
      "outputs": [
        {
          "output_type": "stream",
          "name": "stdout",
          "text": [
            "0    549\n",
            "1    342\n",
            "Name: Survived, dtype: int64\n"
          ]
        },
        {
          "output_type": "display_data",
          "data": {
            "text/plain": [
              "<Figure size 432x288 with 1 Axes>"
            ],
            "image/png": "[encoded data removed]"
          },
          "metadata": {
            "needs_background": "light"
          }
        }
      ]
    },
    {
      "cell_type": "code",
      "source": [
        "# Pclass Visulization \n",
        "sns.countplot(x=\"Pclass\",data=df)\n",
        "print(df[\"Pclass\"].value_counts())"
      ],
      "metadata": {
        "colab": {
          "base_uri": "https://localhost:8080/",
          "height": 348
        },
        "id": "uU6M7G8ihJhz",
        "outputId": "3391a55f-6e91-4d3f-caa6-5c83dd94869f"
      },
      "execution_count": 52,
      "outputs": [
        {
          "output_type": "stream",
          "name": "stdout",
          "text": [
            "3    491\n",
            "1    216\n",
            "2    184\n",
            "Name: Pclass, dtype: int64\n"
          ]
        },
        {
          "output_type": "display_data",
          "data": {
            "text/plain": [
              "<Figure size 432x288 with 1 Axes>"
            ],
            "image/png": "[encoded data removed]"
          },
          "metadata": {
            "needs_background": "light"
          }
        }
      ]
    },
    {
      "cell_type": "markdown",
      "source": [
        "*** Observation *** : Higest number of passengers are traveling in  3rd Class, following by 2nd class and 1st calss."
      ],
      "metadata": {
        "id": "_S22MIWJhoSb"
      }
    },
    {
      "cell_type": "code",
      "source": [
        "# mainga a count of sex column\n",
        "print(df[\"Sex\"].value_counts())\n",
        "sns.countplot(\"Sex\",data=df)\n"
      ],
      "metadata": {
        "colab": {
          "base_uri": "https://localhost:8080/",
          "height": 350
        },
        "id": "T6vLTNDFFjhc",
        "outputId": "8eeba56b-b8db-4ff7-bd8b-65c831d70c91"
      },
      "execution_count": 53,
      "outputs": [
        {
          "output_type": "stream",
          "name": "stdout",
          "text": [
            "male      577\n",
            "female    314\n",
            "Name: Sex, dtype: int64\n"
          ]
        },
        {
          "output_type": "execute_result",
          "data": {
            "text/plain": [
              "<matplotlib.axes._subplots.AxesSubplot at 0x7f0313a34550>"
            ]
          },
          "metadata": {},
          "execution_count": 53
        },
        {
          "output_type": "display_data",
          "data": {
            "text/plain": [
              "<Figure size 432x288 with 1 Axes>"
            ],
            "image/png": "[encoded data removed]"
          },
          "metadata": {
            "needs_background": "light"
          }
        }
      ]
    },
    {
      "cell_type": "markdown",
      "source": [
        "Observation : High number of Male Passenges are traveling compare to female passengers. "
      ],
      "metadata": {
        "id": "-rmRbnRqMUFL"
      }
    },
    {
      "cell_type": "code",
      "source": [
        "# Visulization for Age\n",
        "import numpy as np\n",
        "sns.displot(df[\"Age\"],kde=True)\n",
        "Age0to20 = df[df[\"Age\"].between(0,20)]\n",
        "Age21to40 =df[df[\"Age\"].between(21,40)]\n",
        "Age41over = df[df[\"Age\"].between(41,100)]\n",
        "print(\"Age 0 to 20 :\",len(Age0to20),\"\\n\", \"Age 21 to 40 :\",len(Age21to40),\"\\n\",\"Age 41 and over :\",len(Age41over))\n"
      ],
      "metadata": {
        "colab": {
          "base_uri": "https://localhost:8080/",
          "height": 421
        },
        "id": "243cAs-siR_F",
        "outputId": "a3f00305-b2d9-4785-8744-6f8268c1956f"
      },
      "execution_count": 54,
      "outputs": [
        {
          "output_type": "stream",
          "name": "stdout",
          "text": [
            "Age 0 to 20 : 179 \n",
            " Age 21 to 40 : 561 \n",
            " Age 41 and over : 148\n"
          ]
        },
        {
          "output_type": "display_data",
          "data": {
            "text/plain": [
              "<Figure size 360x360 with 1 Axes>"
            ],
            "image/png": "[encoded data removed]"
          },
          "metadata": {
            "needs_background": "light"
          }
        }
      ]
    },
    {
      "cell_type": "markdown",
      "source": [
        "*** Observation *** :  Higest number of Passengers were between 21-40 years age, followed by 0-20 years old and then above 41 years old."
      ],
      "metadata": {
        "id": "4wwQoi_nmWpt"
      }
    },
    {
      "cell_type": "code",
      "source": [
        "# Visulization for Sibsp\n",
        "sns.countplot(x=\"SibSp\",data=df)\n",
        "print(df[\"SibSp\"].value_counts())"
      ],
      "metadata": {
        "colab": {
          "base_uri": "https://localhost:8080/",
          "height": 418
        },
        "id": "paTimEp7muR8",
        "outputId": "67044fb7-b7c4-484b-fc38-4acfda8841d9"
      },
      "execution_count": 55,
      "outputs": [
        {
          "output_type": "stream",
          "name": "stdout",
          "text": [
            "0    608\n",
            "1    209\n",
            "2     28\n",
            "4     18\n",
            "3     16\n",
            "8      7\n",
            "5      5\n",
            "Name: SibSp, dtype: int64\n"
          ]
        },
        {
          "output_type": "display_data",
          "data": {
            "text/plain": [
              "<Figure size 432x288 with 1 Axes>"
            ],
            "image/png": "[encoded data removed]"
          },
          "metadata": {
            "needs_background": "light"
          }
        }
      ]
    },
    {
      "cell_type": "markdown",
      "source": [
        "***Observation *** Highest number of Pasenges has No siblings or spouse.\n",
        "\n",
        "2nd Higher number of passenger had only 1 siblings or spounse.\n",
        "\n",
        "Rest of teh passengers are very small number with siblings or spouse."
      ],
      "metadata": {
        "id": "grLdVTtenDjb"
      }
    },
    {
      "cell_type": "code",
      "source": [
        "# Visualisation of Parch\n",
        "sns.countplot(x=\"Parch\",data=df)\n",
        "print(df[\"Parch\"].value_counts())"
      ],
      "metadata": {
        "colab": {
          "base_uri": "https://localhost:8080/",
          "height": 419
        },
        "id": "OGiAlU8Onfjf",
        "outputId": "1d685a23-bcf8-471f-d6c6-f6e8217456c6"
      },
      "execution_count": 56,
      "outputs": [
        {
          "output_type": "stream",
          "name": "stdout",
          "text": [
            "0    678\n",
            "1    118\n",
            "2     80\n",
            "5      5\n",
            "3      5\n",
            "4      4\n",
            "6      1\n",
            "Name: Parch, dtype: int64\n"
          ]
        },
        {
          "output_type": "display_data",
          "data": {
            "text/plain": [
              "<Figure size 432x288 with 1 Axes>"
            ],
            "image/png": "[encoded data removed]"
          },
          "metadata": {
            "needs_background": "light"
          }
        }
      ]
    },
    {
      "cell_type": "markdown",
      "source": [
        "*** Observation *** : Parch defines family relations  Parents [ Monthly/Father]\n",
        "\n",
        "/ child =daughter , son, stepdaughter,stepson\n",
        "\n",
        "678 passengers were travelling with 0 Parch. \n",
        "118 Passengers were traveling with 1 family members \n",
        "\n",
        "80 passenges were travelling with 2 family member\n",
        "\n",
        "rest might traveling with their parents and siblinings.\n",
        "\n"
      ],
      "metadata": {
        "id": "Dhq8wr2_ouaX"
      }
    },
    {
      "cell_type": "code",
      "source": [
        "#Visulization of Fare\n",
        "sns.displot(df[\"Fare\"],kde=True)\n",
        "print(df.groupby(\"Pclass\").agg({\"Fare\":[\"max\",\"mean\"]}))"
      ],
      "metadata": {
        "colab": {
          "base_uri": "https://localhost:8080/",
          "height": 473
        },
        "id": "4YWmTOLqq7yJ",
        "outputId": "99335c49-9945-4f3f-a169-ece9ac4727fd"
      },
      "execution_count": 57,
      "outputs": [
        {
          "output_type": "stream",
          "name": "stdout",
          "text": [
            "            Fare           \n",
            "             max       mean\n",
            "Pclass                     \n",
            "1       512.3292  84.154687\n",
            "2        73.5000  20.662183\n",
            "3        69.5500  13.675550\n"
          ]
        },
        {
          "output_type": "display_data",
          "data": {
            "text/plain": [
              "<Figure size 360x360 with 1 Axes>"
            ],
            "image/png": "[encoded data removed]"
          },
          "metadata": {
            "needs_background": "light"
          }
        }
      ]
    },
    {
      "cell_type": "markdown",
      "source": [
        "*** Observation *** : Mean price of 3rd class is 13.67 , 2nd class 20.66  and 1st class is 84.15  , but from the graph we can see the tail reach to 512.32 \n",
        "\n",
        "so passenge paid way high price then mean value of each class.  \n",
        "\n",
        "which also represent the skewness in data."
      ],
      "metadata": {
        "id": "e3XL4HHWsFm-"
      }
    },
    {
      "cell_type": "code",
      "source": [
        "# Visulization for Embarked\n",
        "\n",
        "sns.countplot(x=\"Embarked\",data=df)\n",
        "print(df[\"Embarked\"].value_counts())"
      ],
      "metadata": {
        "colab": {
          "base_uri": "https://localhost:8080/",
          "height": 348
        },
        "id": "3s4U8tjfsuVQ",
        "outputId": "bb0c42a6-a333-41f0-9e5a-ab43cec61f60"
      },
      "execution_count": 58,
      "outputs": [
        {
          "output_type": "stream",
          "name": "stdout",
          "text": [
            "S    646\n",
            "C    168\n",
            "Q     77\n",
            "Name: Embarked, dtype: int64\n"
          ]
        },
        {
          "output_type": "display_data",
          "data": {
            "text/plain": [
              "<Figure size 432x288 with 1 Axes>"
            ],
            "image/png": "[encoded data removed]"
          },
          "metadata": {
            "needs_background": "light"
          }
        }
      ]
    },
    {
      "cell_type": "markdown",
      "source": [
        "Observation :\n",
        "\n",
        "Suthampton = 646 passenger onboard \n",
        "\n",
        "Cherbourg = 168 Passenger onboard \n",
        "\n",
        "Queenstown = 77 passenged onboard"
      ],
      "metadata": {
        "id": "UzjNwgN-tKao"
      }
    },
    {
      "cell_type": "code",
      "source": [
        "# number of survivors by genderwise\n",
        "print(df.groupby([\"Sex\",\"Survived\"]).size().unstack(fill_value=0))\n",
        "print(\"\\n\")\n",
        "print(df.groupby(\"Sex\")[[\"Survived\"]].mean())\n",
        "sns.countplot(\"Sex\",hue=\"Survived\",data=df)"
      ],
      "metadata": {
        "colab": {
          "base_uri": "https://localhost:8080/",
          "height": 470
        },
        "id": "SPdiuJ-sHxbP",
        "outputId": "303d0578-2384-4580-e593-883bdc441388"
      },
      "execution_count": 59,
      "outputs": [
        {
          "output_type": "stream",
          "name": "stdout",
          "text": [
            "Survived    0    1\n",
            "Sex               \n",
            "female     81  233\n",
            "male      468  109\n",
            "\n",
            "\n",
            "        Survived\n",
            "Sex             \n",
            "female  0.742038\n",
            "male    0.188908\n"
          ]
        },
        {
          "output_type": "execute_result",
          "data": {
            "text/plain": [
              "<matplotlib.axes._subplots.AxesSubplot at 0x7f0311676070>"
            ]
          },
          "metadata": {},
          "execution_count": 59
        },
        {
          "output_type": "display_data",
          "data": {
            "text/plain": [
              "<Figure size 432x288 with 1 Axes>"
            ],
            "image/png": "[encoded data removed]"
          },
          "metadata": {
            "needs_background": "light"
          }
        }
      ]
    },
    {
      "cell_type": "markdown",
      "source": [
        "Above figure show the Survival number for male fimale and Ratio of survival for male female"
      ],
      "metadata": {
        "id": "7L871sKHQUrj"
      }
    },
    {
      "cell_type": "markdown",
      "source": [
        "Observation = Comparing the male and female vs Survived or not.\n",
        "              In male survived member are very less compare to Female member.\n",
        "              Female has more survived ration then male."
      ],
      "metadata": {
        "id": "5ynEaVgYMesG"
      }
    },
    {
      "cell_type": "code",
      "source": [
        "# number of survivors by Pclass\n",
        "sns.countplot(\"Pclass\",hue=\"Survived\",data=df)\n",
        "print(df.groupby([\"Pclass\",\"Survived\"]).size().unstack(fill_value=0))"
      ],
      "metadata": {
        "colab": {
          "base_uri": "https://localhost:8080/",
          "height": 366
        },
        "id": "vVo8meulJyQB",
        "outputId": "53cc6351-ebb0-4860-aa56-eadf3d428233"
      },
      "execution_count": 60,
      "outputs": [
        {
          "output_type": "stream",
          "name": "stdout",
          "text": [
            "Survived    0    1\n",
            "Pclass            \n",
            "1          80  136\n",
            "2          97   87\n",
            "3         372  119\n"
          ]
        },
        {
          "output_type": "display_data",
          "data": {
            "text/plain": [
              "<Figure size 432x288 with 1 Axes>"
            ],
            "image/png": "[encoded data removed]"
          },
          "metadata": {
            "needs_background": "light"
          }
        }
      ]
    },
    {
      "cell_type": "markdown",
      "source": [
        "Observation = From above obseration we can clearly see that 1st class passenger has high survival ratio, then 2nd class and 3rd class passenger"
      ],
      "metadata": {
        "id": "8ECEUeIcM6Ho"
      }
    },
    {
      "cell_type": "code",
      "source": [
        "# plot the survival rate of with each class:\n",
        "sns.barplot(x=\"Pclass\",y=\"Survived\",data=df)"
      ],
      "metadata": {
        "colab": {
          "base_uri": "https://localhost:8080/",
          "height": 296
        },
        "id": "A--JH4riRBE3",
        "outputId": "8da713c0-f774-4843-f4d1-b9b8e76b94f5"
      },
      "execution_count": 61,
      "outputs": [
        {
          "output_type": "execute_result",
          "data": {
            "text/plain": [
              "<matplotlib.axes._subplots.AxesSubplot at 0x7f0311699820>"
            ]
          },
          "metadata": {},
          "execution_count": 61
        },
        {
          "output_type": "display_data",
          "data": {
            "text/plain": [
              "<Figure size 432x288 with 1 Axes>"
            ],
            "image/png": "[encoded data removed]"
          },
          "metadata": {
            "needs_background": "light"
          }
        }
      ]
    },
    {
      "cell_type": "markdown",
      "source": [
        "Above barplot show the over 60% of the 1st class passenger survived, and less then 30% is survived in 3rd class."
      ],
      "metadata": {
        "id": "oggObdakR4PL"
      }
    },
    {
      "cell_type": "code",
      "source": [
        "df.columns"
      ],
      "metadata": {
        "colab": {
          "base_uri": "https://localhost:8080/"
        },
        "id": "QyWr8HI-qGxf",
        "outputId": "5054ade7-a529-46e3-f72e-9d7efaaf65d8"
      },
      "execution_count": 62,
      "outputs": [
        {
          "output_type": "execute_result",
          "data": {
            "text/plain": [
              "Index(['Survived', 'Pclass', 'Sex', 'Age', 'SibSp', 'Parch', 'Fare',\n",
              "       'Embarked'],\n",
              "      dtype='object')"
            ]
          },
          "metadata": {},
          "execution_count": 62
        }
      ]
    },
    {
      "cell_type": "code",
      "source": [
        "# Visulization for Sibsp\n",
        "sns.countplot(x=\"SibSp\",hue=\"Survived\",data=df)\n",
        "print(df[\"SibSp\"].value_counts())\n",
        "print(df.groupby([\"SibSp\",\"Survived\"]).size().unstack(fill_value=0))\n"
      ],
      "metadata": {
        "colab": {
          "base_uri": "https://localhost:8080/",
          "height": 574
        },
        "id": "XgrpwstE0EKV",
        "outputId": "15b5c450-0be7-4f07-8d20-9b9a6afa0fa3"
      },
      "execution_count": 63,
      "outputs": [
        {
          "output_type": "stream",
          "name": "stdout",
          "text": [
            "0    608\n",
            "1    209\n",
            "2     28\n",
            "4     18\n",
            "3     16\n",
            "8      7\n",
            "5      5\n",
            "Name: SibSp, dtype: int64\n",
            "Survived    0    1\n",
            "SibSp             \n",
            "0         398  210\n",
            "1          97  112\n",
            "2          15   13\n",
            "3          12    4\n",
            "4          15    3\n",
            "5           5    0\n",
            "8           7    0\n"
          ]
        },
        {
          "output_type": "display_data",
          "data": {
            "text/plain": [
              "<Figure size 432x288 with 1 Axes>"
            ],
            "image/png": "[encoded data removed]"
          },
          "metadata": {
            "needs_background": "light"
          }
        }
      ]
    },
    {
      "cell_type": "markdown",
      "source": [
        "*** Observation *** - number of survival is highed with 1 sibling/spouse compare to any others. "
      ],
      "metadata": {
        "id": "xXRnPjDQ1HsE"
      }
    },
    {
      "cell_type": "code",
      "source": [
        "# Visulization for Parch\n",
        "sns.countplot(x=\"Parch\",hue=\"Survived\",data=df)\n",
        "print(df[\"Parch\"].value_counts())\n",
        "print(df.groupby([\"Parch\",\"Survived\"]).size().unstack(fill_value=0))\n"
      ],
      "metadata": {
        "colab": {
          "base_uri": "https://localhost:8080/",
          "height": 574
        },
        "id": "F1ap6iRP170q",
        "outputId": "ade02c65-8731-49cc-af66-83a89b4115f9"
      },
      "execution_count": 64,
      "outputs": [
        {
          "output_type": "stream",
          "name": "stdout",
          "text": [
            "0    678\n",
            "1    118\n",
            "2     80\n",
            "5      5\n",
            "3      5\n",
            "4      4\n",
            "6      1\n",
            "Name: Parch, dtype: int64\n",
            "Survived    0    1\n",
            "Parch             \n",
            "0         445  233\n",
            "1          53   65\n",
            "2          40   40\n",
            "3           2    3\n",
            "4           4    0\n",
            "5           4    1\n",
            "6           1    0\n"
          ]
        },
        {
          "output_type": "display_data",
          "data": {
            "text/plain": [
              "<Figure size 432x288 with 1 Axes>"
            ],
            "image/png": "[encoded data removed]"
          },
          "metadata": {
            "needs_background": "light"
          }
        }
      ]
    },
    {
      "cell_type": "markdown",
      "source": [
        "*** Observation *** - it shows that with 1 (parents / child)  has highest survival then other passenge with parents/child."
      ],
      "metadata": {
        "id": "7P8YvszM2ICq"
      }
    },
    {
      "cell_type": "code",
      "source": [
        "print(df[\"Embarked\"].value_counts())\n",
        "print(df[df[\"Survived\"]==1][\"Embarked\"].value_counts())\n",
        "sns.catplot(x=\"Embarked\",kind=\"count\",data=df,palette=\"summer\",hue=\"Survived\")"
      ],
      "metadata": {
        "colab": {
          "base_uri": "https://localhost:8080/",
          "height": 525
        },
        "id": "bjd1mPTWe_Us",
        "outputId": "fffa185a-4383-4ca1-915e-37c760aa34b1"
      },
      "execution_count": 65,
      "outputs": [
        {
          "output_type": "stream",
          "name": "stdout",
          "text": [
            "S    646\n",
            "C    168\n",
            "Q     77\n",
            "Name: Embarked, dtype: int64\n",
            "S    219\n",
            "C     93\n",
            "Q     30\n",
            "Name: Embarked, dtype: int64\n"
          ]
        },
        {
          "output_type": "execute_result",
          "data": {
            "text/plain": [
              "<seaborn.axisgrid.FacetGrid at 0x7f0313a60460>"
            ]
          },
          "metadata": {},
          "execution_count": 65
        },
        {
          "output_type": "display_data",
          "data": {
            "text/plain": [
              "<Figure size 411.875x360 with 1 Axes>"
            ],
            "image/png": "[encoded data removed]"
          },
          "metadata": {
            "needs_background": "light"
          }
        }
      ]
    },
    {
      "cell_type": "markdown",
      "source": [
        "Observation : \n",
        "\n",
        "1.   Suthampton = 646 passenger onboard - 219 survived\n",
        "\n",
        "2.   Cherbourg = 168 Passenger onboard - 93 survived\n",
        "3.   Queenstown = 77 passenged onboard - 30 \n",
        "\n",
        " "
      ],
      "metadata": {
        "id": "NMUrBZBPflTq"
      }
    },
    {
      "cell_type": "code",
      "source": [
        "# Minimum and Maximum age by Male Female\n",
        "\n",
        "print(\"Female min Age: \",df[df[\"Sex\"]==\"female\"][\"Age\"].min())\n",
        "print(\"Male Min Age: \",df[df[\"Sex\"]==\"male\"][\"Age\"].min())\n",
        "\n",
        "print(\"Female min Age: \",df[df[\"Sex\"]==\"female\"][\"Age\"].max())\n",
        "print(\"Male Min Age: \",df[df[\"Sex\"]==\"male\"][\"Age\"].max())\n"
      ],
      "metadata": {
        "colab": {
          "base_uri": "https://localhost:8080/"
        },
        "id": "pSg-pwv6YEVC",
        "outputId": "0a37752f-8844-4258-95d2-8c6484fa32c4"
      },
      "execution_count": 66,
      "outputs": [
        {
          "output_type": "stream",
          "name": "stdout",
          "text": [
            "Female min Age:  0.75\n",
            "Male Min Age:  0.42\n",
            "Female min Age:  63.0\n",
            "Male Min Age:  80.0\n"
          ]
        }
      ]
    },
    {
      "cell_type": "code",
      "source": [
        "# Look at survival rate by Sex, Age, Pclass\n",
        "age = pd.cut(df[\"Age\"],[0,18,80])\n",
        "df.pivot_table(\"Survived\",[\"Sex\",age],\"Pclass\")"
      ],
      "metadata": {
        "colab": {
          "base_uri": "https://localhost:8080/",
          "height": 206
        },
        "id": "U0S84PGKRfO_",
        "outputId": "4f0b86b7-05f4-4391-c4c1-6fc74894c036"
      },
      "execution_count": 67,
      "outputs": [
        {
          "output_type": "execute_result",
          "data": {
            "text/plain": [
              "Pclass                  1         2         3\n",
              "Sex    Age                                   \n",
              "female (0, 18]   0.909091  1.000000  0.511628\n",
              "       (18, 80]  0.975904  0.903226  0.495050\n",
              "male   (0, 18]   0.800000  0.600000  0.215686\n",
              "       (18, 80]  0.350427  0.086022  0.121622"
            ],
            "text/html": [
              "\n",
              "  <div id=\"df-ceca1cc9-2398-4c9c-ab1f-0911a379d880\">\n",
              "    <div class=\"colab-df-container\">\n",
              "      <div>\n",
              "<style scoped>\n",
              "    .dataframe tbody tr th:only-of-type {\n",
              "        vertical-align: middle;\n",
              "    }\n",
              "\n",
              "    .dataframe tbody tr th {\n",
              "        vertical-align: top;\n",
              "    }\n",
              "\n",
              "    .dataframe thead th {\n",
              "        text-align: right;\n",
              "    }\n",
              "</style>\n",
              "<table border=\"1\" class=\"dataframe\">\n",
              "  <thead>\n",
              "    <tr style=\"text-align: right;\">\n",
              "      <th></th>\n",
              "      <th>Pclass</th>\n",
              "      <th>1</th>\n",
              "      <th>2</th>\n",
              "      <th>3</th>\n",
              "    </tr>\n",
              "    <tr>\n",
              "      <th>Sex</th>\n",
              "      <th>Age</th>\n",
              "      <th></th>\n",
              "      <th></th>\n",
              "      <th></th>\n",
              "    </tr>\n",
              "  </thead>\n",
              "  <tbody>\n",
              "    <tr>\n",
              "      <th rowspan=\"2\" valign=\"top\">female</th>\n",
              "      <th>(0, 18]</th>\n",
              "      <td>0.909091</td>\n",
              "      <td>1.000000</td>\n",
              "      <td>0.511628</td>\n",
              "    </tr>\n",
              "    <tr>\n",
              "      <th>(18, 80]</th>\n",
              "      <td>0.975904</td>\n",
              "      <td>0.903226</td>\n",
              "      <td>0.495050</td>\n",
              "    </tr>\n",
              "    <tr>\n",
              "      <th rowspan=\"2\" valign=\"top\">male</th>\n",
              "      <th>(0, 18]</th>\n",
              "      <td>0.800000</td>\n",
              "      <td>0.600000</td>\n",
              "      <td>0.215686</td>\n",
              "    </tr>\n",
              "    <tr>\n",
              "      <th>(18, 80]</th>\n",
              "      <td>0.350427</td>\n",
              "      <td>0.086022</td>\n",
              "      <td>0.121622</td>\n",
              "    </tr>\n",
              "  </tbody>\n",
              "</table>\n",
              "</div>\n",
              "      <button class=\"colab-df-convert\" onclick=\"convertToInteractive('df-ceca1cc9-2398-4c9c-ab1f-0911a379d880')\"\n",
              "              title=\"Convert this dataframe to an interactive table.\"\n",
              "              style=\"display:none;\">\n",
              "        \n",
              "  <svg xmlns=\"http://www.w3.org/2000/svg\" height=\"24px\"viewBox=\"0 0 24 24\"\n",
              "       width=\"24px\">\n",
              "    <path d=\"M0 0h24v24H0V0z\" fill=\"none\"/>\n",
              "    <path d=\"M18.56 5.44l.94 2.06.94-2.06 2.06-.94-2.06-.94-.94-2.06-.94 2.06-2.06.94zm-11 1L8.5 8.5l.94-2.06 2.06-.94-2.06-.94L8.5 2.5l-.94 2.06-2.06.94zm10 10l.94 2.06.94-2.06 2.06-.94-2.06-.94-.94-2.06-.94 2.06-2.06.94z\"/><path d=\"M17.41 7.96l-1.37-1.37c-.4-.4-.92-.59-1.43-.59-.52 0-1.04.2-1.43.59L10.3 9.45l-7.72 7.72c-.78.78-.78 2.05 0 2.83L4 21.41c.39.39.9.59 1.41.59.51 0 1.02-.2 1.41-.59l7.78-7.78 2.81-2.81c.8-.78.8-2.07 0-2.86zM5.41 20L4 18.59l7.72-7.72 1.47 1.35L5.41 20z\"/>\n",
              "  </svg>\n",
              "      </button>\n",
              "      \n",
              "  <style>\n",
              "    .colab-df-container {\n",
              "      display:flex;\n",
              "      flex-wrap:wrap;\n",
              "      gap: 12px;\n",
              "    }\n",
              "\n",
              "    .colab-df-convert {\n",
              "      background-color: #E8F0FE;\n",
              "      border: none;\n",
              "      border-radius: 50%;\n",
              "      cursor: pointer;\n",
              "      display: none;\n",
              "      fill: #1967D2;\n",
              "      height: 32px;\n",
              "      padding: 0 0 0 0;\n",
              "      width: 32px;\n",
              "    }\n",
              "\n",
              "    .colab-df-convert:hover {\n",
              "      background-color: #E2EBFA;\n",
              "      box-shadow: 0px 1px 2px rgba(60, 64, 67, 0.3), 0px 1px 3px 1px rgba(60, 64, 67, 0.15);\n",
              "      fill: #174EA6;\n",
              "    }\n",
              "\n",
              "    [theme=dark] .colab-df-convert {\n",
              "      background-color: #3B4455;\n",
              "      fill: #D2E3FC;\n",
              "    }\n",
              "\n",
              "    [theme=dark] .colab-df-convert:hover {\n",
              "      background-color: #434B5C;\n",
              "      box-shadow: 0px 1px 3px 1px rgba(0, 0, 0, 0.15);\n",
              "      filter: drop-shadow(0px 1px 2px rgba(0, 0, 0, 0.3));\n",
              "      fill: #FFFFFF;\n",
              "    }\n",
              "  </style>\n",
              "\n",
              "      <script>\n",
              "        const buttonEl =\n",
              "          document.querySelector('#df-ceca1cc9-2398-4c9c-ab1f-0911a379d880 button.colab-df-convert');\n",
              "        buttonEl.style.display =\n",
              "          google.colab.kernel.accessAllowed ? 'block' : 'none';\n",
              "\n",
              "        async function convertToInteractive(key) {\n",
              "          const element = document.querySelector('#df-ceca1cc9-2398-4c9c-ab1f-0911a379d880');\n",
              "          const dataTable =\n",
              "            await google.colab.kernel.invokeFunction('convertToInteractive',\n",
              "                                                     [key], {});\n",
              "          if (!dataTable) return;\n",
              "\n",
              "          const docLinkHtml = 'Like what you see? Visit the ' +\n",
              "            '<a target=\"_blank\" href=https://colab.research.google.com/notebooks/data_table.ipynb>data table notebook</a>'\n",
              "            + ' to learn more about interactive tables.';\n",
              "          element.innerHTML = '';\n",
              "          dataTable['output_type'] = 'display_data';\n",
              "          await google.colab.output.renderOutput(dataTable, element);\n",
              "          const docLink = document.createElement('div');\n",
              "          docLink.innerHTML = docLinkHtml;\n",
              "          element.appendChild(docLink);\n",
              "        }\n",
              "      </script>\n",
              "    </div>\n",
              "  </div>\n",
              "  "
            ]
          },
          "metadata": {},
          "execution_count": 67
        }
      ]
    },
    {
      "cell_type": "markdown",
      "source": [
        "From above table we can see identify that, female with 18 and older on first class has highest survival rate 97%,  and Mens between 18 to 80 with first class has only 35% survival rate. \n",
        "\n",
        "Lowest survival rate is on 2nd class , men = 8.60% only"
      ],
      "metadata": {
        "id": "bEKzSAmuTClR"
      }
    },
    {
      "cell_type": "code",
      "source": [
        "sns.violinplot(x=\"Sex\",y=\"Age\",hue=\"Survived\",data=df,split=True)"
      ],
      "metadata": {
        "colab": {
          "base_uri": "https://localhost:8080/",
          "height": 296
        },
        "id": "QSVVFa0WZ47w",
        "outputId": "d47f7ee9-c97a-45f5-f968-c4df5051c257"
      },
      "execution_count": 68,
      "outputs": [
        {
          "output_type": "execute_result",
          "data": {
            "text/plain": [
              "<matplotlib.axes._subplots.AxesSubplot at 0x7f0313a909d0>"
            ]
          },
          "metadata": {},
          "execution_count": 68
        },
        {
          "output_type": "display_data",
          "data": {
            "text/plain": [
              "<Figure size 432x288 with 1 Axes>"
            ],
            "image/png": "[encoded data removed]"
          },
          "metadata": {
            "needs_background": "light"
          }
        }
      ]
    },
    {
      "cell_type": "markdown",
      "source": [
        "From above graph we can see the passenger data are mostly distributed between 20 to 40 age group. "
      ],
      "metadata": {
        "id": "YD0eF5E0aJlE"
      }
    },
    {
      "cell_type": "markdown",
      "source": [
        "# Fare Visulisation with Class"
      ],
      "metadata": {
        "id": "RAW6fCW25oVb"
      }
    },
    {
      "cell_type": "code",
      "source": [
        "# Price of Each class\n",
        "print(df.groupby(\"Pclass\")[\"Fare\"].mean())\n",
        "plt.scatter(df[\"Fare\"],df[\"Pclass\"],color=\"c\",label=\"Fare\")\n",
        "plt.ylabel(\"Class\")\n",
        "plt.xlabel(\"Fare\")\n",
        "plt.title(\"Price of Each Class\")\n",
        "plt.ylim(0,4)\n",
        "plt.legend()\n",
        "plt.show()\n",
        "\n"
      ],
      "metadata": {
        "colab": {
          "base_uri": "https://localhost:8080/",
          "height": 382
        },
        "id": "J_ucRtKHVeKH",
        "outputId": "ba4c13fd-aaaf-4bcf-d885-a7a9503929d0"
      },
      "execution_count": 69,
      "outputs": [
        {
          "output_type": "stream",
          "name": "stdout",
          "text": [
            "Pclass\n",
            "1    84.154687\n",
            "2    20.662183\n",
            "3    13.675550\n",
            "Name: Fare, dtype: float64\n"
          ]
        },
        {
          "output_type": "display_data",
          "data": {
            "text/plain": [
              "<Figure size 432x288 with 1 Axes>"
            ],
            "image/png": "[encoded data removed]"
          },
          "metadata": {
            "needs_background": "light"
          }
        }
      ]
    },
    {
      "cell_type": "markdown",
      "source": [
        "*** Observation *** from the graph we can see that price paid by 1st class passenge was way too high then average price.   "
      ],
      "metadata": {
        "id": "G-PFos0b4NKq"
      }
    },
    {
      "cell_type": "code",
      "source": [
        "# AGE AND SEX CORRELATION ON SURVIVAL\n",
        "\n",
        "fig, axes = plt.subplots(nrows=1, ncols=2,figsize=(10, 4))\n",
        "female = df[df['Sex'] == 'female']\n",
        "male = df[df['Sex'] == 'male']\n",
        "\n",
        "ax = sns.distplot(female[female['Survived'] == 1].Age.dropna(), bins = 20 , label = 'survived', ax = axes[0], kde = False)\n",
        "ax = sns.distplot(female[female['Survived'] == 0].Age.dropna() , bins = 40 , label =' not survived' ,  ax = axes[0] , kde = False)\n",
        "ax.legend()\n",
        "ax.set_title('FEMALE')\n",
        "\n",
        "\n",
        "ax = sns.distplot(male[male['Survived'] == 1].Age.dropna(), bins = 20 , label ='survived', ax =axes[1] ,kde = False)\n",
        "ax = sns.distplot(male[male['Survived'] == 0].Age.dropna(), bins = 40 ,label ='not survived', ax = axes[1],kde =False)\n",
        "ax.legend()\n",
        "ax.set_title(\"MALE\")"
      ],
      "metadata": {
        "colab": {
          "base_uri": "https://localhost:8080/",
          "height": 312
        },
        "id": "wCoVlXutuarm",
        "outputId": "1f2220fa-a6ac-4299-a0c0-d5612b8552d7"
      },
      "execution_count": 70,
      "outputs": [
        {
          "output_type": "execute_result",
          "data": {
            "text/plain": [
              "Text(0.5, 1.0, 'MALE')"
            ]
          },
          "metadata": {},
          "execution_count": 70
        },
        {
          "output_type": "display_data",
          "data": {
            "text/plain": [
              "<Figure size 720x288 with 2 Axes>"
            ],
            "image/png": "[encoded data removed]"
          },
          "metadata": {
            "needs_background": "light"
          }
        }
      ]
    },
    {
      "cell_type": "markdown",
      "source": [
        "*** Observation ***\n",
        "After analyzing the output we get to know that there are certain ages where the survival rate is greater. For women survival, chances are higher between 14 and 40. While men have a high probability of survival between 18 and 30. Between the ages of 5 and 18 men have a low probability of survival while that isn’t true for women. So Age is an important attribute to find Survival."
      ],
      "metadata": {
        "id": "Hc-xnxa6vLtX"
      }
    },
    {
      "cell_type": "code",
      "source": [
        "# getting the description of the data\n",
        "df.describe().T"
      ],
      "metadata": {
        "colab": {
          "base_uri": "https://localhost:8080/",
          "height": 237
        },
        "id": "reHMZl-qEGC4",
        "outputId": "3738c2fd-ea91-467a-9792-a924e4461968"
      },
      "execution_count": 71,
      "outputs": [
        {
          "output_type": "execute_result",
          "data": {
            "text/plain": [
              "          count       mean        std   min      25%        50%   75%  \\\n",
              "Survived  891.0   0.383838   0.486592  0.00   0.0000   0.000000   1.0   \n",
              "Pclass    891.0   2.308642   0.836071  1.00   2.0000   3.000000   3.0   \n",
              "Age       891.0  29.699118  13.002015  0.42  22.0000  29.699118  35.0   \n",
              "SibSp     891.0   0.523008   1.102743  0.00   0.0000   0.000000   1.0   \n",
              "Parch     891.0   0.381594   0.806057  0.00   0.0000   0.000000   0.0   \n",
              "Fare      891.0  32.204208  49.693429  0.00   7.9104  14.454200  31.0   \n",
              "\n",
              "               max  \n",
              "Survived    1.0000  \n",
              "Pclass      3.0000  \n",
              "Age        80.0000  \n",
              "SibSp       8.0000  \n",
              "Parch       6.0000  \n",
              "Fare      512.3292  "
            ],
            "text/html": [
              "\n",
              "  <div id=\"df-cfc633cd-77bf-43ca-b96f-f4af562b26ca\">\n",
              "    <div class=\"colab-df-container\">\n",
              "      <div>\n",
              "<style scoped>\n",
              "    .dataframe tbody tr th:only-of-type {\n",
              "        vertical-align: middle;\n",
              "    }\n",
              "\n",
              "    .dataframe tbody tr th {\n",
              "        vertical-align: top;\n",
              "    }\n",
              "\n",
              "    .dataframe thead th {\n",
              "        text-align: right;\n",
              "    }\n",
              "</style>\n",
              "<table border=\"1\" class=\"dataframe\">\n",
              "  <thead>\n",
              "    <tr style=\"text-align: right;\">\n",
              "      <th></th>\n",
              "      <th>count</th>\n",
              "      <th>mean</th>\n",
              "      <th>std</th>\n",
              "      <th>min</th>\n",
              "      <th>25%</th>\n",
              "      <th>50%</th>\n",
              "      <th>75%</th>\n",
              "      <th>max</th>\n",
              "    </tr>\n",
              "  </thead>\n",
              "  <tbody>\n",
              "    <tr>\n",
              "      <th>Survived</th>\n",
              "      <td>891.0</td>\n",
              "      <td>0.383838</td>\n",
              "      <td>0.486592</td>\n",
              "      <td>0.00</td>\n",
              "      <td>0.0000</td>\n",
              "      <td>0.000000</td>\n",
              "      <td>1.0</td>\n",
              "      <td>1.0000</td>\n",
              "    </tr>\n",
              "    <tr>\n",
              "      <th>Pclass</th>\n",
              "      <td>891.0</td>\n",
              "      <td>2.308642</td>\n",
              "      <td>0.836071</td>\n",
              "      <td>1.00</td>\n",
              "      <td>2.0000</td>\n",
              "      <td>3.000000</td>\n",
              "      <td>3.0</td>\n",
              "      <td>3.0000</td>\n",
              "    </tr>\n",
              "    <tr>\n",
              "      <th>Age</th>\n",
              "      <td>891.0</td>\n",
              "      <td>29.699118</td>\n",
              "      <td>13.002015</td>\n",
              "      <td>0.42</td>\n",
              "      <td>22.0000</td>\n",
              "      <td>29.699118</td>\n",
              "      <td>35.0</td>\n",
              "      <td>80.0000</td>\n",
              "    </tr>\n",
              "    <tr>\n",
              "      <th>SibSp</th>\n",
              "      <td>891.0</td>\n",
              "      <td>0.523008</td>\n",
              "      <td>1.102743</td>\n",
              "      <td>0.00</td>\n",
              "      <td>0.0000</td>\n",
              "      <td>0.000000</td>\n",
              "      <td>1.0</td>\n",
              "      <td>8.0000</td>\n",
              "    </tr>\n",
              "    <tr>\n",
              "      <th>Parch</th>\n",
              "      <td>891.0</td>\n",
              "      <td>0.381594</td>\n",
              "      <td>0.806057</td>\n",
              "      <td>0.00</td>\n",
              "      <td>0.0000</td>\n",
              "      <td>0.000000</td>\n",
              "      <td>0.0</td>\n",
              "      <td>6.0000</td>\n",
              "    </tr>\n",
              "    <tr>\n",
              "      <th>Fare</th>\n",
              "      <td>891.0</td>\n",
              "      <td>32.204208</td>\n",
              "      <td>49.693429</td>\n",
              "      <td>0.00</td>\n",
              "      <td>7.9104</td>\n",
              "      <td>14.454200</td>\n",
              "      <td>31.0</td>\n",
              "      <td>512.3292</td>\n",
              "    </tr>\n",
              "  </tbody>\n",
              "</table>\n",
              "</div>\n",
              "      <button class=\"colab-df-convert\" onclick=\"convertToInteractive('df-cfc633cd-77bf-43ca-b96f-f4af562b26ca')\"\n",
              "              title=\"Convert this dataframe to an interactive table.\"\n",
              "              style=\"display:none;\">\n",
              "        \n",
              "  <svg xmlns=\"http://www.w3.org/2000/svg\" height=\"24px\"viewBox=\"0 0 24 24\"\n",
              "       width=\"24px\">\n",
              "    <path d=\"M0 0h24v24H0V0z\" fill=\"none\"/>\n",
              "    <path d=\"M18.56 5.44l.94 2.06.94-2.06 2.06-.94-2.06-.94-.94-2.06-.94 2.06-2.06.94zm-11 1L8.5 8.5l.94-2.06 2.06-.94-2.06-.94L8.5 2.5l-.94 2.06-2.06.94zm10 10l.94 2.06.94-2.06 2.06-.94-2.06-.94-.94-2.06-.94 2.06-2.06.94z\"/><path d=\"M17.41 7.96l-1.37-1.37c-.4-.4-.92-.59-1.43-.59-.52 0-1.04.2-1.43.59L10.3 9.45l-7.72 7.72c-.78.78-.78 2.05 0 2.83L4 21.41c.39.39.9.59 1.41.59.51 0 1.02-.2 1.41-.59l7.78-7.78 2.81-2.81c.8-.78.8-2.07 0-2.86zM5.41 20L4 18.59l7.72-7.72 1.47 1.35L5.41 20z\"/>\n",
              "  </svg>\n",
              "      </button>\n",
              "      \n",
              "  <style>\n",
              "    .colab-df-container {\n",
              "      display:flex;\n",
              "      flex-wrap:wrap;\n",
              "      gap: 12px;\n",
              "    }\n",
              "\n",
              "    .colab-df-convert {\n",
              "      background-color: #E8F0FE;\n",
              "      border: none;\n",
              "      border-radius: 50%;\n",
              "      cursor: pointer;\n",
              "      display: none;\n",
              "      fill: #1967D2;\n",
              "      height: 32px;\n",
              "      padding: 0 0 0 0;\n",
              "      width: 32px;\n",
              "    }\n",
              "\n",
              "    .colab-df-convert:hover {\n",
              "      background-color: #E2EBFA;\n",
              "      box-shadow: 0px 1px 2px rgba(60, 64, 67, 0.3), 0px 1px 3px 1px rgba(60, 64, 67, 0.15);\n",
              "      fill: #174EA6;\n",
              "    }\n",
              "\n",
              "    [theme=dark] .colab-df-convert {\n",
              "      background-color: #3B4455;\n",
              "      fill: #D2E3FC;\n",
              "    }\n",
              "\n",
              "    [theme=dark] .colab-df-convert:hover {\n",
              "      background-color: #434B5C;\n",
              "      box-shadow: 0px 1px 3px 1px rgba(0, 0, 0, 0.15);\n",
              "      filter: drop-shadow(0px 1px 2px rgba(0, 0, 0, 0.3));\n",
              "      fill: #FFFFFF;\n",
              "    }\n",
              "  </style>\n",
              "\n",
              "      <script>\n",
              "        const buttonEl =\n",
              "          document.querySelector('#df-cfc633cd-77bf-43ca-b96f-f4af562b26ca button.colab-df-convert');\n",
              "        buttonEl.style.display =\n",
              "          google.colab.kernel.accessAllowed ? 'block' : 'none';\n",
              "\n",
              "        async function convertToInteractive(key) {\n",
              "          const element = document.querySelector('#df-cfc633cd-77bf-43ca-b96f-f4af562b26ca');\n",
              "          const dataTable =\n",
              "            await google.colab.kernel.invokeFunction('convertToInteractive',\n",
              "                                                     [key], {});\n",
              "          if (!dataTable) return;\n",
              "\n",
              "          const docLinkHtml = 'Like what you see? Visit the ' +\n",
              "            '<a target=\"_blank\" href=https://colab.research.google.com/notebooks/data_table.ipynb>data table notebook</a>'\n",
              "            + ' to learn more about interactive tables.';\n",
              "          element.innerHTML = '';\n",
              "          dataTable['output_type'] = 'display_data';\n",
              "          await google.colab.output.renderOutput(dataTable, element);\n",
              "          const docLink = document.createElement('div');\n",
              "          docLink.innerHTML = docLinkHtml;\n",
              "          element.appendChild(docLink);\n",
              "        }\n",
              "      </script>\n",
              "    </div>\n",
              "  </div>\n",
              "  "
            ]
          },
          "metadata": {},
          "execution_count": 71
        }
      ]
    },
    {
      "cell_type": "markdown",
      "source": [
        "Observation :  Statistic analysis of the date represent that there are no null / missing value in data. \n",
        "\n",
        "Survival mean value is 0.38 which represent only 38% passenger survived.\n",
        "\n",
        "PClass - Maximum number of passenger travelling in 3rd class and 1st class are lowest.\n",
        "\n",
        "Gender :  Male passenger traveller were higher then female passenge.\n",
        "\n",
        "Fare : mean is higher then median so passenger paid much higher fare then their average price. \n",
        "\n",
        "\n",
        "\n",
        "\n"
      ],
      "metadata": {
        "id": "Pqef1qFLswRq"
      }
    },
    {
      "cell_type": "markdown",
      "source": [
        "# Checking the correlation between the features"
      ],
      "metadata": {
        "id": "f3_z8goX9ANn"
      }
    },
    {
      "cell_type": "code",
      "source": [
        "print(df.corr())\n"
      ],
      "metadata": {
        "colab": {
          "base_uri": "https://localhost:8080/"
        },
        "id": "VbEkuzBb9BOh",
        "outputId": "4e8aa092-8b01-4873-e206-9b8aa7b5cc3f"
      },
      "execution_count": 72,
      "outputs": [
        {
          "output_type": "stream",
          "name": "stdout",
          "text": [
            "          Survived    Pclass       Age     SibSp     Parch      Fare\n",
            "Survived  1.000000 -0.338481 -0.069809 -0.035322  0.081629  0.257307\n",
            "Pclass   -0.338481  1.000000 -0.331339  0.083081  0.018443 -0.549500\n",
            "Age      -0.069809 -0.331339  1.000000 -0.232625 -0.179191  0.091566\n",
            "SibSp    -0.035322  0.083081 -0.232625  1.000000  0.414838  0.159651\n",
            "Parch     0.081629  0.018443 -0.179191  0.414838  1.000000  0.216225\n",
            "Fare      0.257307 -0.549500  0.091566  0.159651  0.216225  1.000000\n"
          ]
        }
      ]
    },
    {
      "cell_type": "markdown",
      "source": [
        "***Observation *** : Pcalss has negative correlation to Target , as we have seen from Pcalss that 1st class passenger survived more than any other class. \n",
        "\n",
        "Age has very nominal correlation to Target column.\n",
        "\n",
        "Sibsp Parch has nominal correlation to target column as well. \n",
        "\n",
        "\n"
      ],
      "metadata": {
        "id": "f3YSwcPf9Hy8"
      }
    },
    {
      "cell_type": "code",
      "source": [
        "plt.figure(figsize=(15,7))\n",
        "sns.heatmap(data=df.corr(),annot=True,fmt=\"0.2f\",linecolor=\"black\",linewidth=0.5)"
      ],
      "metadata": {
        "id": "Bgb-249CAxqb",
        "colab": {
          "base_uri": "https://localhost:8080/",
          "height": 372
        },
        "outputId": "7e5c2663-859d-46c6-f76b-39362186d7ec"
      },
      "execution_count": 73,
      "outputs": [
        {
          "output_type": "execute_result",
          "data": {
            "text/plain": [
              "<matplotlib.axes._subplots.AxesSubplot at 0x7f0311479df0>"
            ]
          },
          "metadata": {},
          "execution_count": 73
        },
        {
          "output_type": "display_data",
          "data": {
            "text/plain": [
              "<Figure size 1080x504 with 2 Axes>"
            ],
            "image/png": "[encoded data removed]"
          },
          "metadata": {
            "needs_background": "light"
          }
        }
      ]
    },
    {
      "cell_type": "markdown",
      "source": [
        "Observation from graph,  show the highly correlation with fare and Pclass.  \n",
        "\n",
        "Pclass to Target column has good relation which we can see from the data that 1st class passenger survival rate is higher then any other class\n",
        "\n",
        "Age, Sibsp, Parch columns vs Target column has nominal relations\n",
        "\n",
        "Fare and Target column has some relation , as higher the price paid must be travelling in 1st class and survival rate of first class much higher compared to other class passenger. \n",
        "\n",
        "\n"
      ],
      "metadata": {
        "id": "OhYbGqz0DRIn"
      }
    },
    {
      "cell_type": "markdown",
      "source": [
        "##  Outlier Checking"
      ],
      "metadata": {
        "id": "hpy1hcfyE_ag"
      }
    },
    {
      "cell_type": "code",
      "source": [
        "sns.boxplot(x=df[\"Pclass\"])\n",
        "\n"
      ],
      "metadata": {
        "colab": {
          "base_uri": "https://localhost:8080/",
          "height": 296
        },
        "id": "ycH5ep9mDMhY",
        "outputId": "97fbd1fa-89e0-486f-99e1-fd69ba304173"
      },
      "execution_count": 74,
      "outputs": [
        {
          "output_type": "execute_result",
          "data": {
            "text/plain": [
              "<matplotlib.axes._subplots.AxesSubplot at 0x7f0311363130>"
            ]
          },
          "metadata": {},
          "execution_count": 74
        },
        {
          "output_type": "display_data",
          "data": {
            "text/plain": [
              "<Figure size 432x288 with 1 Axes>"
            ],
            "image/png": "[encoded data removed]"
          },
          "metadata": {
            "needs_background": "light"
          }
        }
      ]
    },
    {
      "cell_type": "markdown",
      "source": [
        "Observation :  No outliers in Pclass"
      ],
      "metadata": {
        "id": "8oUL8Z57QRsR"
      }
    },
    {
      "cell_type": "code",
      "source": [
        "sns.boxplot(x=df[\"Age\"])"
      ],
      "metadata": {
        "colab": {
          "base_uri": "https://localhost:8080/",
          "height": 296
        },
        "id": "CVsrWDzdRpIx",
        "outputId": "6d026c99-3606-4463-9fa6-4d2160d854a0"
      },
      "execution_count": 75,
      "outputs": [
        {
          "output_type": "execute_result",
          "data": {
            "text/plain": [
              "<matplotlib.axes._subplots.AxesSubplot at 0x7f0311517340>"
            ]
          },
          "metadata": {},
          "execution_count": 75
        },
        {
          "output_type": "display_data",
          "data": {
            "text/plain": [
              "<Figure size 432x288 with 1 Axes>"
            ],
            "image/png": "[encoded data removed]"
          },
          "metadata": {
            "needs_background": "light"
          }
        }
      ]
    },
    {
      "cell_type": "markdown",
      "source": [
        "Observation : Age columns has more outliers"
      ],
      "metadata": {
        "id": "fVS4Aw62Rz8Q"
      }
    },
    {
      "cell_type": "code",
      "source": [
        "sns.boxplot(x=df[\"SibSp\"])"
      ],
      "metadata": {
        "colab": {
          "base_uri": "https://localhost:8080/",
          "height": 296
        },
        "id": "Pdw8il__R9og",
        "outputId": "11eb03ba-e636-4389-827e-6a36630fcf7b"
      },
      "execution_count": 76,
      "outputs": [
        {
          "output_type": "execute_result",
          "data": {
            "text/plain": [
              "<matplotlib.axes._subplots.AxesSubplot at 0x7f03115174c0>"
            ]
          },
          "metadata": {},
          "execution_count": 76
        },
        {
          "output_type": "display_data",
          "data": {
            "text/plain": [
              "<Figure size 432x288 with 1 Axes>"
            ],
            "image/png": "[encoded data removed]"
          },
          "metadata": {
            "needs_background": "light"
          }
        }
      ]
    },
    {
      "cell_type": "markdown",
      "source": [
        "Observation : SibSp has few outliers. "
      ],
      "metadata": {
        "id": "U86FLOJDSGsc"
      }
    },
    {
      "cell_type": "code",
      "source": [
        "sns.boxplot(x=df[\"Parch\"])"
      ],
      "metadata": {
        "colab": {
          "base_uri": "https://localhost:8080/",
          "height": 296
        },
        "id": "LB5rwmrISStk",
        "outputId": "713e4878-2871-499f-fd67-02111694304d"
      },
      "execution_count": 77,
      "outputs": [
        {
          "output_type": "execute_result",
          "data": {
            "text/plain": [
              "<matplotlib.axes._subplots.AxesSubplot at 0x7f03118d7640>"
            ]
          },
          "metadata": {},
          "execution_count": 77
        },
        {
          "output_type": "display_data",
          "data": {
            "text/plain": [
              "<Figure size 432x288 with 1 Axes>"
            ],
            "image/png": "[encoded data removed]"
          },
          "metadata": {
            "needs_background": "light"
          }
        }
      ]
    },
    {
      "cell_type": "code",
      "source": [
        "sns.boxplot(x=df[\"Fare\"])"
      ],
      "metadata": {
        "colab": {
          "base_uri": "https://localhost:8080/",
          "height": 296
        },
        "id": "NqRTkVrxUPbY",
        "outputId": "c1247a16-a64a-4aad-de3e-433317876530"
      },
      "execution_count": 78,
      "outputs": [
        {
          "output_type": "execute_result",
          "data": {
            "text/plain": [
              "<matplotlib.axes._subplots.AxesSubplot at 0x7f0311856e20>"
            ]
          },
          "metadata": {},
          "execution_count": 78
        },
        {
          "output_type": "display_data",
          "data": {
            "text/plain": [
              "<Figure size 432x288 with 1 Axes>"
            ],
            "image/png": "[encoded data removed]"
          },
          "metadata": {
            "needs_background": "light"
          }
        }
      ]
    },
    {
      "cell_type": "markdown",
      "source": [
        "Observation : Fare columns has many outliers too."
      ],
      "metadata": {
        "id": "7NI4uuPvUTu0"
      }
    },
    {
      "cell_type": "code",
      "source": [
        "df.skew()"
      ],
      "metadata": {
        "colab": {
          "base_uri": "https://localhost:8080/"
        },
        "id": "7J40RrnQMfIK",
        "outputId": "8a54d087-cfdb-4687-aa33-75fdd3a257ce"
      },
      "execution_count": 79,
      "outputs": [
        {
          "output_type": "execute_result",
          "data": {
            "text/plain": [
              "Survived    0.478523\n",
              "Pclass     -0.630548\n",
              "Age         0.434488\n",
              "SibSp       3.695352\n",
              "Parch       2.749117\n",
              "Fare        4.787317\n",
              "dtype: float64"
            ]
          },
          "metadata": {},
          "execution_count": 79
        }
      ]
    },
    {
      "cell_type": "markdown",
      "source": [
        "Outcome of Skewness : skewness threshold is +/- 0.65 \n",
        "Below columns data are skewed.\n",
        "Sibsp\n",
        "Parch\n",
        "Fare  "
      ],
      "metadata": {
        "id": "IGbM9RXBXzJT"
      }
    },
    {
      "cell_type": "code",
      "source": [
        "sns.displot(df[\"Age\"],kde=True)"
      ],
      "metadata": {
        "colab": {
          "base_uri": "https://localhost:8080/",
          "height": 386
        },
        "id": "4QcHPoXQYQl4",
        "outputId": "5fb6889b-53ab-445d-ef57-242f92fcca0f"
      },
      "execution_count": 80,
      "outputs": [
        {
          "output_type": "execute_result",
          "data": {
            "text/plain": [
              "<seaborn.axisgrid.FacetGrid at 0x7f03117fc0d0>"
            ]
          },
          "metadata": {},
          "execution_count": 80
        },
        {
          "output_type": "display_data",
          "data": {
            "text/plain": [
              "<Figure size 360x360 with 1 Axes>"
            ],
            "image/png": "[encoded data removed]"
          },
          "metadata": {
            "needs_background": "light"
          }
        }
      ]
    },
    {
      "cell_type": "markdown",
      "source": [
        "Observation :  Data is not normalised, Buildin blocks is out of normalied curve."
      ],
      "metadata": {
        "id": "ERki3T-xYqeJ"
      }
    },
    {
      "cell_type": "code",
      "source": [
        "sns.distplot(df[\"Fare\"])"
      ],
      "metadata": {
        "colab": {
          "base_uri": "https://localhost:8080/",
          "height": 296
        },
        "id": "NZffmotnYlLj",
        "outputId": "bd75a525-2a1f-4f90-a702-4f07332dca1c"
      },
      "execution_count": 81,
      "outputs": [
        {
          "output_type": "execute_result",
          "data": {
            "text/plain": [
              "<matplotlib.axes._subplots.AxesSubplot at 0x7f0311846a00>"
            ]
          },
          "metadata": {},
          "execution_count": 81
        },
        {
          "output_type": "display_data",
          "data": {
            "text/plain": [
              "<Figure size 432x288 with 1 Axes>"
            ],
            "image/png": "[encoded data removed]"
          },
          "metadata": {
            "needs_background": "light"
          }
        }
      ]
    },
    {
      "cell_type": "markdown",
      "source": [
        "Observation :  Data is not normalised, right skewed."
      ],
      "metadata": {
        "id": "C-gh8DkVY8uZ"
      }
    },
    {
      "cell_type": "markdown",
      "source": [
        "## Lable Encoding for the categorical columns"
      ],
      "metadata": {
        "id": "sqygZIEYZYXk"
      }
    },
    {
      "cell_type": "code",
      "source": [
        "from sklearn.preprocessing import OrdinalEncoder\n",
        "enc = OrdinalEncoder()"
      ],
      "metadata": {
        "id": "BHSyGY1tZVEB"
      },
      "execution_count": 82,
      "outputs": []
    },
    {
      "cell_type": "code",
      "source": [
        "for i in df.columns:\n",
        "  if df[i].dtypes==\"object\":\n",
        "    df[i]=enc.fit_transform(df[i].values.reshape(-1,1))"
      ],
      "metadata": {
        "id": "PxxVhkRpa1hX"
      },
      "execution_count": 83,
      "outputs": []
    },
    {
      "cell_type": "markdown",
      "source": [],
      "metadata": {
        "id": "ZMME9DrUbXOO"
      }
    },
    {
      "cell_type": "code",
      "source": [
        "df.head()"
      ],
      "metadata": {
        "colab": {
          "base_uri": "https://localhost:8080/",
          "height": 206
        },
        "id": "tWnfqZsFQA2z",
        "outputId": "f286b360-47db-4904-98e6-03fad007b24c"
      },
      "execution_count": 84,
      "outputs": [
        {
          "output_type": "execute_result",
          "data": {
            "text/plain": [
              "   Survived  Pclass  Sex   Age  SibSp  Parch     Fare  Embarked\n",
              "0         0       3  1.0  22.0      1      0   7.2500       2.0\n",
              "1         1       1  0.0  38.0      1      0  71.2833       0.0\n",
              "2         1       3  0.0  26.0      0      0   7.9250       2.0\n",
              "3         1       1  0.0  35.0      1      0  53.1000       2.0\n",
              "4         0       3  1.0  35.0      0      0   8.0500       2.0"
            ],
            "text/html": [
              "\n",
              "  <div id=\"df-fb2a7067-4b13-4cb6-aed1-0002f334652d\">\n",
              "    <div class=\"colab-df-container\">\n",
              "      <div>\n",
              "<style scoped>\n",
              "    .dataframe tbody tr th:only-of-type {\n",
              "        vertical-align: middle;\n",
              "    }\n",
              "\n",
              "    .dataframe tbody tr th {\n",
              "        vertical-align: top;\n",
              "    }\n",
              "\n",
              "    .dataframe thead th {\n",
              "        text-align: right;\n",
              "    }\n",
              "</style>\n",
              "<table border=\"1\" class=\"dataframe\">\n",
              "  <thead>\n",
              "    <tr style=\"text-align: right;\">\n",
              "      <th></th>\n",
              "      <th>Survived</th>\n",
              "      <th>Pclass</th>\n",
              "      <th>Sex</th>\n",
              "      <th>Age</th>\n",
              "      <th>SibSp</th>\n",
              "      <th>Parch</th>\n",
              "      <th>Fare</th>\n",
              "      <th>Embarked</th>\n",
              "    </tr>\n",
              "  </thead>\n",
              "  <tbody>\n",
              "    <tr>\n",
              "      <th>0</th>\n",
              "      <td>0</td>\n",
              "      <td>3</td>\n",
              "      <td>1.0</td>\n",
              "      <td>22.0</td>\n",
              "      <td>1</td>\n",
              "      <td>0</td>\n",
              "      <td>7.2500</td>\n",
              "      <td>2.0</td>\n",
              "    </tr>\n",
              "    <tr>\n",
              "      <th>1</th>\n",
              "      <td>1</td>\n",
              "      <td>1</td>\n",
              "      <td>0.0</td>\n",
              "      <td>38.0</td>\n",
              "      <td>1</td>\n",
              "      <td>0</td>\n",
              "      <td>71.2833</td>\n",
              "      <td>0.0</td>\n",
              "    </tr>\n",
              "    <tr>\n",
              "      <th>2</th>\n",
              "      <td>1</td>\n",
              "      <td>3</td>\n",
              "      <td>0.0</td>\n",
              "      <td>26.0</td>\n",
              "      <td>0</td>\n",
              "      <td>0</td>\n",
              "      <td>7.9250</td>\n",
              "      <td>2.0</td>\n",
              "    </tr>\n",
              "    <tr>\n",
              "      <th>3</th>\n",
              "      <td>1</td>\n",
              "      <td>1</td>\n",
              "      <td>0.0</td>\n",
              "      <td>35.0</td>\n",
              "      <td>1</td>\n",
              "      <td>0</td>\n",
              "      <td>53.1000</td>\n",
              "      <td>2.0</td>\n",
              "    </tr>\n",
              "    <tr>\n",
              "      <th>4</th>\n",
              "      <td>0</td>\n",
              "      <td>3</td>\n",
              "      <td>1.0</td>\n",
              "      <td>35.0</td>\n",
              "      <td>0</td>\n",
              "      <td>0</td>\n",
              "      <td>8.0500</td>\n",
              "      <td>2.0</td>\n",
              "    </tr>\n",
              "  </tbody>\n",
              "</table>\n",
              "</div>\n",
              "      <button class=\"colab-df-convert\" onclick=\"convertToInteractive('df-fb2a7067-4b13-4cb6-aed1-0002f334652d')\"\n",
              "              title=\"Convert this dataframe to an interactive table.\"\n",
              "              style=\"display:none;\">\n",
              "        \n",
              "  <svg xmlns=\"http://www.w3.org/2000/svg\" height=\"24px\"viewBox=\"0 0 24 24\"\n",
              "       width=\"24px\">\n",
              "    <path d=\"M0 0h24v24H0V0z\" fill=\"none\"/>\n",
              "    <path d=\"M18.56 5.44l.94 2.06.94-2.06 2.06-.94-2.06-.94-.94-2.06-.94 2.06-2.06.94zm-11 1L8.5 8.5l.94-2.06 2.06-.94-2.06-.94L8.5 2.5l-.94 2.06-2.06.94zm10 10l.94 2.06.94-2.06 2.06-.94-2.06-.94-.94-2.06-.94 2.06-2.06.94z\"/><path d=\"M17.41 7.96l-1.37-1.37c-.4-.4-.92-.59-1.43-.59-.52 0-1.04.2-1.43.59L10.3 9.45l-7.72 7.72c-.78.78-.78 2.05 0 2.83L4 21.41c.39.39.9.59 1.41.59.51 0 1.02-.2 1.41-.59l7.78-7.78 2.81-2.81c.8-.78.8-2.07 0-2.86zM5.41 20L4 18.59l7.72-7.72 1.47 1.35L5.41 20z\"/>\n",
              "  </svg>\n",
              "      </button>\n",
              "      \n",
              "  <style>\n",
              "    .colab-df-container {\n",
              "      display:flex;\n",
              "      flex-wrap:wrap;\n",
              "      gap: 12px;\n",
              "    }\n",
              "\n",
              "    .colab-df-convert {\n",
              "      background-color: #E8F0FE;\n",
              "      border: none;\n",
              "      border-radius: 50%;\n",
              "      cursor: pointer;\n",
              "      display: none;\n",
              "      fill: #1967D2;\n",
              "      height: 32px;\n",
              "      padding: 0 0 0 0;\n",
              "      width: 32px;\n",
              "    }\n",
              "\n",
              "    .colab-df-convert:hover {\n",
              "      background-color: #E2EBFA;\n",
              "      box-shadow: 0px 1px 2px rgba(60, 64, 67, 0.3), 0px 1px 3px 1px rgba(60, 64, 67, 0.15);\n",
              "      fill: #174EA6;\n",
              "    }\n",
              "\n",
              "    [theme=dark] .colab-df-convert {\n",
              "      background-color: #3B4455;\n",
              "      fill: #D2E3FC;\n",
              "    }\n",
              "\n",
              "    [theme=dark] .colab-df-convert:hover {\n",
              "      background-color: #434B5C;\n",
              "      box-shadow: 0px 1px 3px 1px rgba(0, 0, 0, 0.15);\n",
              "      filter: drop-shadow(0px 1px 2px rgba(0, 0, 0, 0.3));\n",
              "      fill: #FFFFFF;\n",
              "    }\n",
              "  </style>\n",
              "\n",
              "      <script>\n",
              "        const buttonEl =\n",
              "          document.querySelector('#df-fb2a7067-4b13-4cb6-aed1-0002f334652d button.colab-df-convert');\n",
              "        buttonEl.style.display =\n",
              "          google.colab.kernel.accessAllowed ? 'block' : 'none';\n",
              "\n",
              "        async function convertToInteractive(key) {\n",
              "          const element = document.querySelector('#df-fb2a7067-4b13-4cb6-aed1-0002f334652d');\n",
              "          const dataTable =\n",
              "            await google.colab.kernel.invokeFunction('convertToInteractive',\n",
              "                                                     [key], {});\n",
              "          if (!dataTable) return;\n",
              "\n",
              "          const docLinkHtml = 'Like what you see? Visit the ' +\n",
              "            '<a target=\"_blank\" href=https://colab.research.google.com/notebooks/data_table.ipynb>data table notebook</a>'\n",
              "            + ' to learn more about interactive tables.';\n",
              "          element.innerHTML = '';\n",
              "          dataTable['output_type'] = 'display_data';\n",
              "          await google.colab.output.renderOutput(dataTable, element);\n",
              "          const docLink = document.createElement('div');\n",
              "          docLink.innerHTML = docLinkHtml;\n",
              "          element.appendChild(docLink);\n",
              "        }\n",
              "      </script>\n",
              "    </div>\n",
              "  </div>\n",
              "  "
            ]
          },
          "metadata": {},
          "execution_count": 84
        }
      ]
    },
    {
      "cell_type": "code",
      "source": [
        "df.describe().T"
      ],
      "metadata": {
        "colab": {
          "base_uri": "https://localhost:8080/",
          "height": 300
        },
        "id": "ryMqhN1hZUKc",
        "outputId": "13f22dfd-3d64-4978-c8f1-e435260151d6"
      },
      "execution_count": 85,
      "outputs": [
        {
          "output_type": "execute_result",
          "data": {
            "text/plain": [
              "          count       mean        std   min      25%        50%   75%  \\\n",
              "Survived  891.0   0.383838   0.486592  0.00   0.0000   0.000000   1.0   \n",
              "Pclass    891.0   2.308642   0.836071  1.00   2.0000   3.000000   3.0   \n",
              "Sex       891.0   0.647587   0.477990  0.00   0.0000   1.000000   1.0   \n",
              "Age       891.0  29.699118  13.002015  0.42  22.0000  29.699118  35.0   \n",
              "SibSp     891.0   0.523008   1.102743  0.00   0.0000   0.000000   1.0   \n",
              "Parch     891.0   0.381594   0.806057  0.00   0.0000   0.000000   0.0   \n",
              "Fare      891.0  32.204208  49.693429  0.00   7.9104  14.454200  31.0   \n",
              "Embarked  891.0   1.536476   0.791503  0.00   1.0000   2.000000   2.0   \n",
              "\n",
              "               max  \n",
              "Survived    1.0000  \n",
              "Pclass      3.0000  \n",
              "Sex         1.0000  \n",
              "Age        80.0000  \n",
              "SibSp       8.0000  \n",
              "Parch       6.0000  \n",
              "Fare      512.3292  \n",
              "Embarked    2.0000  "
            ],
            "text/html": [
              "\n",
              "  <div id=\"df-ec9f9241-271e-49ab-8572-779d8d12d4e6\">\n",
              "    <div class=\"colab-df-container\">\n",
              "      <div>\n",
              "<style scoped>\n",
              "    .dataframe tbody tr th:only-of-type {\n",
              "        vertical-align: middle;\n",
              "    }\n",
              "\n",
              "    .dataframe tbody tr th {\n",
              "        vertical-align: top;\n",
              "    }\n",
              "\n",
              "    .dataframe thead th {\n",
              "        text-align: right;\n",
              "    }\n",
              "</style>\n",
              "<table border=\"1\" class=\"dataframe\">\n",
              "  <thead>\n",
              "    <tr style=\"text-align: right;\">\n",
              "      <th></th>\n",
              "      <th>count</th>\n",
              "      <th>mean</th>\n",
              "      <th>std</th>\n",
              "      <th>min</th>\n",
              "      <th>25%</th>\n",
              "      <th>50%</th>\n",
              "      <th>75%</th>\n",
              "      <th>max</th>\n",
              "    </tr>\n",
              "  </thead>\n",
              "  <tbody>\n",
              "    <tr>\n",
              "      <th>Survived</th>\n",
              "      <td>891.0</td>\n",
              "      <td>0.383838</td>\n",
              "      <td>0.486592</td>\n",
              "      <td>0.00</td>\n",
              "      <td>0.0000</td>\n",
              "      <td>0.000000</td>\n",
              "      <td>1.0</td>\n",
              "      <td>1.0000</td>\n",
              "    </tr>\n",
              "    <tr>\n",
              "      <th>Pclass</th>\n",
              "      <td>891.0</td>\n",
              "      <td>2.308642</td>\n",
              "      <td>0.836071</td>\n",
              "      <td>1.00</td>\n",
              "      <td>2.0000</td>\n",
              "      <td>3.000000</td>\n",
              "      <td>3.0</td>\n",
              "      <td>3.0000</td>\n",
              "    </tr>\n",
              "    <tr>\n",
              "      <th>Sex</th>\n",
              "      <td>891.0</td>\n",
              "      <td>0.647587</td>\n",
              "      <td>0.477990</td>\n",
              "      <td>0.00</td>\n",
              "      <td>0.0000</td>\n",
              "      <td>1.000000</td>\n",
              "      <td>1.0</td>\n",
              "      <td>1.0000</td>\n",
              "    </tr>\n",
              "    <tr>\n",
              "      <th>Age</th>\n",
              "      <td>891.0</td>\n",
              "      <td>29.699118</td>\n",
              "      <td>13.002015</td>\n",
              "      <td>0.42</td>\n",
              "      <td>22.0000</td>\n",
              "      <td>29.699118</td>\n",
              "      <td>35.0</td>\n",
              "      <td>80.0000</td>\n",
              "    </tr>\n",
              "    <tr>\n",
              "      <th>SibSp</th>\n",
              "      <td>891.0</td>\n",
              "      <td>0.523008</td>\n",
              "      <td>1.102743</td>\n",
              "      <td>0.00</td>\n",
              "      <td>0.0000</td>\n",
              "      <td>0.000000</td>\n",
              "      <td>1.0</td>\n",
              "      <td>8.0000</td>\n",
              "    </tr>\n",
              "    <tr>\n",
              "      <th>Parch</th>\n",
              "      <td>891.0</td>\n",
              "      <td>0.381594</td>\n",
              "      <td>0.806057</td>\n",
              "      <td>0.00</td>\n",
              "      <td>0.0000</td>\n",
              "      <td>0.000000</td>\n",
              "      <td>0.0</td>\n",
              "      <td>6.0000</td>\n",
              "    </tr>\n",
              "    <tr>\n",
              "      <th>Fare</th>\n",
              "      <td>891.0</td>\n",
              "      <td>32.204208</td>\n",
              "      <td>49.693429</td>\n",
              "      <td>0.00</td>\n",
              "      <td>7.9104</td>\n",
              "      <td>14.454200</td>\n",
              "      <td>31.0</td>\n",
              "      <td>512.3292</td>\n",
              "    </tr>\n",
              "    <tr>\n",
              "      <th>Embarked</th>\n",
              "      <td>891.0</td>\n",
              "      <td>1.536476</td>\n",
              "      <td>0.791503</td>\n",
              "      <td>0.00</td>\n",
              "      <td>1.0000</td>\n",
              "      <td>2.000000</td>\n",
              "      <td>2.0</td>\n",
              "      <td>2.0000</td>\n",
              "    </tr>\n",
              "  </tbody>\n",
              "</table>\n",
              "</div>\n",
              "      <button class=\"colab-df-convert\" onclick=\"convertToInteractive('df-ec9f9241-271e-49ab-8572-779d8d12d4e6')\"\n",
              "              title=\"Convert this dataframe to an interactive table.\"\n",
              "              style=\"display:none;\">\n",
              "        \n",
              "  <svg xmlns=\"http://www.w3.org/2000/svg\" height=\"24px\"viewBox=\"0 0 24 24\"\n",
              "       width=\"24px\">\n",
              "    <path d=\"M0 0h24v24H0V0z\" fill=\"none\"/>\n",
              "    <path d=\"M18.56 5.44l.94 2.06.94-2.06 2.06-.94-2.06-.94-.94-2.06-.94 2.06-2.06.94zm-11 1L8.5 8.5l.94-2.06 2.06-.94-2.06-.94L8.5 2.5l-.94 2.06-2.06.94zm10 10l.94 2.06.94-2.06 2.06-.94-2.06-.94-.94-2.06-.94 2.06-2.06.94z\"/><path d=\"M17.41 7.96l-1.37-1.37c-.4-.4-.92-.59-1.43-.59-.52 0-1.04.2-1.43.59L10.3 9.45l-7.72 7.72c-.78.78-.78 2.05 0 2.83L4 21.41c.39.39.9.59 1.41.59.51 0 1.02-.2 1.41-.59l7.78-7.78 2.81-2.81c.8-.78.8-2.07 0-2.86zM5.41 20L4 18.59l7.72-7.72 1.47 1.35L5.41 20z\"/>\n",
              "  </svg>\n",
              "      </button>\n",
              "      \n",
              "  <style>\n",
              "    .colab-df-container {\n",
              "      display:flex;\n",
              "      flex-wrap:wrap;\n",
              "      gap: 12px;\n",
              "    }\n",
              "\n",
              "    .colab-df-convert {\n",
              "      background-color: #E8F0FE;\n",
              "      border: none;\n",
              "      border-radius: 50%;\n",
              "      cursor: pointer;\n",
              "      display: none;\n",
              "      fill: #1967D2;\n",
              "      height: 32px;\n",
              "      padding: 0 0 0 0;\n",
              "      width: 32px;\n",
              "    }\n",
              "\n",
              "    .colab-df-convert:hover {\n",
              "      background-color: #E2EBFA;\n",
              "      box-shadow: 0px 1px 2px rgba(60, 64, 67, 0.3), 0px 1px 3px 1px rgba(60, 64, 67, 0.15);\n",
              "      fill: #174EA6;\n",
              "    }\n",
              "\n",
              "    [theme=dark] .colab-df-convert {\n",
              "      background-color: #3B4455;\n",
              "      fill: #D2E3FC;\n",
              "    }\n",
              "\n",
              "    [theme=dark] .colab-df-convert:hover {\n",
              "      background-color: #434B5C;\n",
              "      box-shadow: 0px 1px 3px 1px rgba(0, 0, 0, 0.15);\n",
              "      filter: drop-shadow(0px 1px 2px rgba(0, 0, 0, 0.3));\n",
              "      fill: #FFFFFF;\n",
              "    }\n",
              "  </style>\n",
              "\n",
              "      <script>\n",
              "        const buttonEl =\n",
              "          document.querySelector('#df-ec9f9241-271e-49ab-8572-779d8d12d4e6 button.colab-df-convert');\n",
              "        buttonEl.style.display =\n",
              "          google.colab.kernel.accessAllowed ? 'block' : 'none';\n",
              "\n",
              "        async function convertToInteractive(key) {\n",
              "          const element = document.querySelector('#df-ec9f9241-271e-49ab-8572-779d8d12d4e6');\n",
              "          const dataTable =\n",
              "            await google.colab.kernel.invokeFunction('convertToInteractive',\n",
              "                                                     [key], {});\n",
              "          if (!dataTable) return;\n",
              "\n",
              "          const docLinkHtml = 'Like what you see? Visit the ' +\n",
              "            '<a target=\"_blank\" href=https://colab.research.google.com/notebooks/data_table.ipynb>data table notebook</a>'\n",
              "            + ' to learn more about interactive tables.';\n",
              "          element.innerHTML = '';\n",
              "          dataTable['output_type'] = 'display_data';\n",
              "          await google.colab.output.renderOutput(dataTable, element);\n",
              "          const docLink = document.createElement('div');\n",
              "          docLink.innerHTML = docLinkHtml;\n",
              "          element.appendChild(docLink);\n",
              "        }\n",
              "      </script>\n",
              "    </div>\n",
              "  </div>\n",
              "  "
            ]
          },
          "metadata": {},
          "execution_count": 85
        }
      ]
    },
    {
      "cell_type": "markdown",
      "source": [
        "Observation : After the label encoded for Sex Embarked columns , we can see box column in description with their statistics. \n",
        "\n",
        "Sex , columns we can see higher number of male passengers compare to female\n",
        "\n",
        "Embarked,  high number of passenger on board from Category S or 2. "
      ],
      "metadata": {
        "id": "0urdqVS-dT2W"
      }
    },
    {
      "cell_type": "code",
      "source": [
        "plt.figure(figsize=(22,10))\n",
        "sns.heatmap(df.describe(),annot=True,linewidths=0.1,linecolor=\"black\",fmt=\".2f\")"
      ],
      "metadata": {
        "colab": {
          "base_uri": "https://localhost:8080/",
          "height": 364
        },
        "id": "bsA9iQ0nbnOT",
        "outputId": "a57c0f22-132e-4a5a-fb87-1f4f1a26086c"
      },
      "execution_count": 86,
      "outputs": [
        {
          "output_type": "execute_result",
          "data": {
            "text/plain": [
              "<matplotlib.axes._subplots.AxesSubplot at 0x7f0313a149d0>"
            ]
          },
          "metadata": {},
          "execution_count": 86
        },
        {
          "output_type": "display_data",
          "data": {
            "text/plain": [
              "<Figure size 1584x720 with 2 Axes>"
            ],
            "image/png": "[encoded data removed]"
          },
          "metadata": {
            "needs_background": "light"
          }
        }
      ]
    },
    {
      "cell_type": "markdown",
      "source": [
        "Observation : heat map of descrition of the date, clearly highlight the highest paid fare in Red. \n",
        "\n",
        "rest of the date seems normal. "
      ],
      "metadata": {
        "id": "Uyo_a305d9MR"
      }
    },
    {
      "cell_type": "code",
      "source": [
        "df.corr()[\"Survived\"].sort_values()"
      ],
      "metadata": {
        "colab": {
          "base_uri": "https://localhost:8080/"
        },
        "id": "wT2sBW3pcRY6",
        "outputId": "022fef7a-8bb9-4fc8-ce05-872ddfe8edc2"
      },
      "execution_count": 87,
      "outputs": [
        {
          "output_type": "execute_result",
          "data": {
            "text/plain": [
              "Sex        -0.543351\n",
              "Pclass     -0.338481\n",
              "Embarked   -0.167675\n",
              "Age        -0.069809\n",
              "SibSp      -0.035322\n",
              "Parch       0.081629\n",
              "Fare        0.257307\n",
              "Survived    1.000000\n",
              "Name: Survived, dtype: float64"
            ]
          },
          "metadata": {},
          "execution_count": 87
        }
      ]
    },
    {
      "cell_type": "markdown",
      "source": [
        "Observation :  Sex, Pclass and Fare have some good correlation to target column,  rest of the features has nominal relation with target columns\n"
      ],
      "metadata": {
        "id": "Z-iYWrRJeQKQ"
      }
    },
    {
      "cell_type": "code",
      "source": [
        "df.corr()[\"Survived\"].sort_values(ascending=False).drop([\"Survived\"]).plot(kind=\"bar\",color=\"c\")\n",
        "plt.xlabel(\"Feature\",fontsize=4)\n",
        "plt.title(\"Correlation\",fontsize=18)\n",
        "plt.show()"
      ],
      "metadata": {
        "colab": {
          "base_uri": "https://localhost:8080/",
          "height": 334
        },
        "id": "abu4GK_McerQ",
        "outputId": "e6601945-76bd-4d76-9715-b97909192082"
      },
      "execution_count": 88,
      "outputs": [
        {
          "output_type": "display_data",
          "data": {
            "text/plain": [
              "<Figure size 432x288 with 1 Axes>"
            ],
            "image/png": "[encoded data removed]"
          },
          "metadata": {
            "needs_background": "light"
          }
        }
      ]
    },
    {
      "cell_type": "code",
      "source": [
        "df.skew()"
      ],
      "metadata": {
        "colab": {
          "base_uri": "https://localhost:8080/"
        },
        "id": "mfSjkxCRdE21",
        "outputId": "2f4fae07-0020-4166-ea80-dfa5e22f2cce"
      },
      "execution_count": 89,
      "outputs": [
        {
          "output_type": "execute_result",
          "data": {
            "text/plain": [
              "Survived    0.478523\n",
              "Pclass     -0.630548\n",
              "Sex        -0.618921\n",
              "Age         0.434488\n",
              "SibSp       3.695352\n",
              "Parch       2.749117\n",
              "Fare        4.787317\n",
              "Embarked   -1.264823\n",
              "dtype: float64"
            ]
          },
          "metadata": {},
          "execution_count": 89
        }
      ]
    },
    {
      "cell_type": "markdown",
      "source": [
        "Observation :  Skewness is present in Sibsp/ Parch/Fare/Embarked data"
      ],
      "metadata": {
        "id": "_IQX1tkRfInF"
      }
    },
    {
      "cell_type": "code",
      "source": [
        "df.head()"
      ],
      "metadata": {
        "colab": {
          "base_uri": "https://localhost:8080/",
          "height": 206
        },
        "id": "a7GfdDjNdIJ7",
        "outputId": "ac423631-87cf-403e-e8c7-88b7e1b450b3"
      },
      "execution_count": 90,
      "outputs": [
        {
          "output_type": "execute_result",
          "data": {
            "text/plain": [
              "   Survived  Pclass  Sex   Age  SibSp  Parch     Fare  Embarked\n",
              "0         0       3  1.0  22.0      1      0   7.2500       2.0\n",
              "1         1       1  0.0  38.0      1      0  71.2833       0.0\n",
              "2         1       3  0.0  26.0      0      0   7.9250       2.0\n",
              "3         1       1  0.0  35.0      1      0  53.1000       2.0\n",
              "4         0       3  1.0  35.0      0      0   8.0500       2.0"
            ],
            "text/html": [
              "\n",
              "  <div id=\"df-4da2792d-35ec-4132-b38e-3598c8a664bd\">\n",
              "    <div class=\"colab-df-container\">\n",
              "      <div>\n",
              "<style scoped>\n",
              "    .dataframe tbody tr th:only-of-type {\n",
              "        vertical-align: middle;\n",
              "    }\n",
              "\n",
              "    .dataframe tbody tr th {\n",
              "        vertical-align: top;\n",
              "    }\n",
              "\n",
              "    .dataframe thead th {\n",
              "        text-align: right;\n",
              "    }\n",
              "</style>\n",
              "<table border=\"1\" class=\"dataframe\">\n",
              "  <thead>\n",
              "    <tr style=\"text-align: right;\">\n",
              "      <th></th>\n",
              "      <th>Survived</th>\n",
              "      <th>Pclass</th>\n",
              "      <th>Sex</th>\n",
              "      <th>Age</th>\n",
              "      <th>SibSp</th>\n",
              "      <th>Parch</th>\n",
              "      <th>Fare</th>\n",
              "      <th>Embarked</th>\n",
              "    </tr>\n",
              "  </thead>\n",
              "  <tbody>\n",
              "    <tr>\n",
              "      <th>0</th>\n",
              "      <td>0</td>\n",
              "      <td>3</td>\n",
              "      <td>1.0</td>\n",
              "      <td>22.0</td>\n",
              "      <td>1</td>\n",
              "      <td>0</td>\n",
              "      <td>7.2500</td>\n",
              "      <td>2.0</td>\n",
              "    </tr>\n",
              "    <tr>\n",
              "      <th>1</th>\n",
              "      <td>1</td>\n",
              "      <td>1</td>\n",
              "      <td>0.0</td>\n",
              "      <td>38.0</td>\n",
              "      <td>1</td>\n",
              "      <td>0</td>\n",
              "      <td>71.2833</td>\n",
              "      <td>0.0</td>\n",
              "    </tr>\n",
              "    <tr>\n",
              "      <th>2</th>\n",
              "      <td>1</td>\n",
              "      <td>3</td>\n",
              "      <td>0.0</td>\n",
              "      <td>26.0</td>\n",
              "      <td>0</td>\n",
              "      <td>0</td>\n",
              "      <td>7.9250</td>\n",
              "      <td>2.0</td>\n",
              "    </tr>\n",
              "    <tr>\n",
              "      <th>3</th>\n",
              "      <td>1</td>\n",
              "      <td>1</td>\n",
              "      <td>0.0</td>\n",
              "      <td>35.0</td>\n",
              "      <td>1</td>\n",
              "      <td>0</td>\n",
              "      <td>53.1000</td>\n",
              "      <td>2.0</td>\n",
              "    </tr>\n",
              "    <tr>\n",
              "      <th>4</th>\n",
              "      <td>0</td>\n",
              "      <td>3</td>\n",
              "      <td>1.0</td>\n",
              "      <td>35.0</td>\n",
              "      <td>0</td>\n",
              "      <td>0</td>\n",
              "      <td>8.0500</td>\n",
              "      <td>2.0</td>\n",
              "    </tr>\n",
              "  </tbody>\n",
              "</table>\n",
              "</div>\n",
              "      <button class=\"colab-df-convert\" onclick=\"convertToInteractive('df-4da2792d-35ec-4132-b38e-3598c8a664bd')\"\n",
              "              title=\"Convert this dataframe to an interactive table.\"\n",
              "              style=\"display:none;\">\n",
              "        \n",
              "  <svg xmlns=\"http://www.w3.org/2000/svg\" height=\"24px\"viewBox=\"0 0 24 24\"\n",
              "       width=\"24px\">\n",
              "    <path d=\"M0 0h24v24H0V0z\" fill=\"none\"/>\n",
              "    <path d=\"M18.56 5.44l.94 2.06.94-2.06 2.06-.94-2.06-.94-.94-2.06-.94 2.06-2.06.94zm-11 1L8.5 8.5l.94-2.06 2.06-.94-2.06-.94L8.5 2.5l-.94 2.06-2.06.94zm10 10l.94 2.06.94-2.06 2.06-.94-2.06-.94-.94-2.06-.94 2.06-2.06.94z\"/><path d=\"M17.41 7.96l-1.37-1.37c-.4-.4-.92-.59-1.43-.59-.52 0-1.04.2-1.43.59L10.3 9.45l-7.72 7.72c-.78.78-.78 2.05 0 2.83L4 21.41c.39.39.9.59 1.41.59.51 0 1.02-.2 1.41-.59l7.78-7.78 2.81-2.81c.8-.78.8-2.07 0-2.86zM5.41 20L4 18.59l7.72-7.72 1.47 1.35L5.41 20z\"/>\n",
              "  </svg>\n",
              "      </button>\n",
              "      \n",
              "  <style>\n",
              "    .colab-df-container {\n",
              "      display:flex;\n",
              "      flex-wrap:wrap;\n",
              "      gap: 12px;\n",
              "    }\n",
              "\n",
              "    .colab-df-convert {\n",
              "      background-color: #E8F0FE;\n",
              "      border: none;\n",
              "      border-radius: 50%;\n",
              "      cursor: pointer;\n",
              "      display: none;\n",
              "      fill: #1967D2;\n",
              "      height: 32px;\n",
              "      padding: 0 0 0 0;\n",
              "      width: 32px;\n",
              "    }\n",
              "\n",
              "    .colab-df-convert:hover {\n",
              "      background-color: #E2EBFA;\n",
              "      box-shadow: 0px 1px 2px rgba(60, 64, 67, 0.3), 0px 1px 3px 1px rgba(60, 64, 67, 0.15);\n",
              "      fill: #174EA6;\n",
              "    }\n",
              "\n",
              "    [theme=dark] .colab-df-convert {\n",
              "      background-color: #3B4455;\n",
              "      fill: #D2E3FC;\n",
              "    }\n",
              "\n",
              "    [theme=dark] .colab-df-convert:hover {\n",
              "      background-color: #434B5C;\n",
              "      box-shadow: 0px 1px 3px 1px rgba(0, 0, 0, 0.15);\n",
              "      filter: drop-shadow(0px 1px 2px rgba(0, 0, 0, 0.3));\n",
              "      fill: #FFFFFF;\n",
              "    }\n",
              "  </style>\n",
              "\n",
              "      <script>\n",
              "        const buttonEl =\n",
              "          document.querySelector('#df-4da2792d-35ec-4132-b38e-3598c8a664bd button.colab-df-convert');\n",
              "        buttonEl.style.display =\n",
              "          google.colab.kernel.accessAllowed ? 'block' : 'none';\n",
              "\n",
              "        async function convertToInteractive(key) {\n",
              "          const element = document.querySelector('#df-4da2792d-35ec-4132-b38e-3598c8a664bd');\n",
              "          const dataTable =\n",
              "            await google.colab.kernel.invokeFunction('convertToInteractive',\n",
              "                                                     [key], {});\n",
              "          if (!dataTable) return;\n",
              "\n",
              "          const docLinkHtml = 'Like what you see? Visit the ' +\n",
              "            '<a target=\"_blank\" href=https://colab.research.google.com/notebooks/data_table.ipynb>data table notebook</a>'\n",
              "            + ' to learn more about interactive tables.';\n",
              "          element.innerHTML = '';\n",
              "          dataTable['output_type'] = 'display_data';\n",
              "          await google.colab.output.renderOutput(dataTable, element);\n",
              "          const docLink = document.createElement('div');\n",
              "          docLink.innerHTML = docLinkHtml;\n",
              "          element.appendChild(docLink);\n",
              "        }\n",
              "      </script>\n",
              "    </div>\n",
              "  </div>\n",
              "  "
            ]
          },
          "metadata": {},
          "execution_count": 90
        }
      ]
    },
    {
      "cell_type": "markdown",
      "source": [
        "# Removing Outliers"
      ],
      "metadata": {
        "id": "ePS0z1INfq5g"
      }
    },
    {
      "cell_type": "code",
      "source": [
        "x = df.iloc[:,1:] # independant variable or feature variable\n",
        "y = df.iloc[:,:1] # Dependant or Target Variable"
      ],
      "metadata": {
        "id": "CSJQA8rtf8xK"
      },
      "execution_count": 91,
      "outputs": []
    },
    {
      "cell_type": "code",
      "source": [
        "x.head()"
      ],
      "metadata": {
        "colab": {
          "base_uri": "https://localhost:8080/",
          "height": 206
        },
        "id": "2vfKbw9ogPmt",
        "outputId": "3dd41838-792e-4f46-da9d-1600a1a381c9"
      },
      "execution_count": 92,
      "outputs": [
        {
          "output_type": "execute_result",
          "data": {
            "text/plain": [
              "   Pclass  Sex   Age  SibSp  Parch     Fare  Embarked\n",
              "0       3  1.0  22.0      1      0   7.2500       2.0\n",
              "1       1  0.0  38.0      1      0  71.2833       0.0\n",
              "2       3  0.0  26.0      0      0   7.9250       2.0\n",
              "3       1  0.0  35.0      1      0  53.1000       2.0\n",
              "4       3  1.0  35.0      0      0   8.0500       2.0"
            ],
            "text/html": [
              "\n",
              "  <div id=\"df-a486c704-860f-4870-a9e6-fdc4921f893e\">\n",
              "    <div class=\"colab-df-container\">\n",
              "      <div>\n",
              "<style scoped>\n",
              "    .dataframe tbody tr th:only-of-type {\n",
              "        vertical-align: middle;\n",
              "    }\n",
              "\n",
              "    .dataframe tbody tr th {\n",
              "        vertical-align: top;\n",
              "    }\n",
              "\n",
              "    .dataframe thead th {\n",
              "        text-align: right;\n",
              "    }\n",
              "</style>\n",
              "<table border=\"1\" class=\"dataframe\">\n",
              "  <thead>\n",
              "    <tr style=\"text-align: right;\">\n",
              "      <th></th>\n",
              "      <th>Pclass</th>\n",
              "      <th>Sex</th>\n",
              "      <th>Age</th>\n",
              "      <th>SibSp</th>\n",
              "      <th>Parch</th>\n",
              "      <th>Fare</th>\n",
              "      <th>Embarked</th>\n",
              "    </tr>\n",
              "  </thead>\n",
              "  <tbody>\n",
              "    <tr>\n",
              "      <th>0</th>\n",
              "      <td>3</td>\n",
              "      <td>1.0</td>\n",
              "      <td>22.0</td>\n",
              "      <td>1</td>\n",
              "      <td>0</td>\n",
              "      <td>7.2500</td>\n",
              "      <td>2.0</td>\n",
              "    </tr>\n",
              "    <tr>\n",
              "      <th>1</th>\n",
              "      <td>1</td>\n",
              "      <td>0.0</td>\n",
              "      <td>38.0</td>\n",
              "      <td>1</td>\n",
              "      <td>0</td>\n",
              "      <td>71.2833</td>\n",
              "      <td>0.0</td>\n",
              "    </tr>\n",
              "    <tr>\n",
              "      <th>2</th>\n",
              "      <td>3</td>\n",
              "      <td>0.0</td>\n",
              "      <td>26.0</td>\n",
              "      <td>0</td>\n",
              "      <td>0</td>\n",
              "      <td>7.9250</td>\n",
              "      <td>2.0</td>\n",
              "    </tr>\n",
              "    <tr>\n",
              "      <th>3</th>\n",
              "      <td>1</td>\n",
              "      <td>0.0</td>\n",
              "      <td>35.0</td>\n",
              "      <td>1</td>\n",
              "      <td>0</td>\n",
              "      <td>53.1000</td>\n",
              "      <td>2.0</td>\n",
              "    </tr>\n",
              "    <tr>\n",
              "      <th>4</th>\n",
              "      <td>3</td>\n",
              "      <td>1.0</td>\n",
              "      <td>35.0</td>\n",
              "      <td>0</td>\n",
              "      <td>0</td>\n",
              "      <td>8.0500</td>\n",
              "      <td>2.0</td>\n",
              "    </tr>\n",
              "  </tbody>\n",
              "</table>\n",
              "</div>\n",
              "      <button class=\"colab-df-convert\" onclick=\"convertToInteractive('df-a486c704-860f-4870-a9e6-fdc4921f893e')\"\n",
              "              title=\"Convert this dataframe to an interactive table.\"\n",
              "              style=\"display:none;\">\n",
              "        \n",
              "  <svg xmlns=\"http://www.w3.org/2000/svg\" height=\"24px\"viewBox=\"0 0 24 24\"\n",
              "       width=\"24px\">\n",
              "    <path d=\"M0 0h24v24H0V0z\" fill=\"none\"/>\n",
              "    <path d=\"M18.56 5.44l.94 2.06.94-2.06 2.06-.94-2.06-.94-.94-2.06-.94 2.06-2.06.94zm-11 1L8.5 8.5l.94-2.06 2.06-.94-2.06-.94L8.5 2.5l-.94 2.06-2.06.94zm10 10l.94 2.06.94-2.06 2.06-.94-2.06-.94-.94-2.06-.94 2.06-2.06.94z\"/><path d=\"M17.41 7.96l-1.37-1.37c-.4-.4-.92-.59-1.43-.59-.52 0-1.04.2-1.43.59L10.3 9.45l-7.72 7.72c-.78.78-.78 2.05 0 2.83L4 21.41c.39.39.9.59 1.41.59.51 0 1.02-.2 1.41-.59l7.78-7.78 2.81-2.81c.8-.78.8-2.07 0-2.86zM5.41 20L4 18.59l7.72-7.72 1.47 1.35L5.41 20z\"/>\n",
              "  </svg>\n",
              "      </button>\n",
              "      \n",
              "  <style>\n",
              "    .colab-df-container {\n",
              "      display:flex;\n",
              "      flex-wrap:wrap;\n",
              "      gap: 12px;\n",
              "    }\n",
              "\n",
              "    .colab-df-convert {\n",
              "      background-color: #E8F0FE;\n",
              "      border: none;\n",
              "      border-radius: 50%;\n",
              "      cursor: pointer;\n",
              "      display: none;\n",
              "      fill: #1967D2;\n",
              "      height: 32px;\n",
              "      padding: 0 0 0 0;\n",
              "      width: 32px;\n",
              "    }\n",
              "\n",
              "    .colab-df-convert:hover {\n",
              "      background-color: #E2EBFA;\n",
              "      box-shadow: 0px 1px 2px rgba(60, 64, 67, 0.3), 0px 1px 3px 1px rgba(60, 64, 67, 0.15);\n",
              "      fill: #174EA6;\n",
              "    }\n",
              "\n",
              "    [theme=dark] .colab-df-convert {\n",
              "      background-color: #3B4455;\n",
              "      fill: #D2E3FC;\n",
              "    }\n",
              "\n",
              "    [theme=dark] .colab-df-convert:hover {\n",
              "      background-color: #434B5C;\n",
              "      box-shadow: 0px 1px 3px 1px rgba(0, 0, 0, 0.15);\n",
              "      filter: drop-shadow(0px 1px 2px rgba(0, 0, 0, 0.3));\n",
              "      fill: #FFFFFF;\n",
              "    }\n",
              "  </style>\n",
              "\n",
              "      <script>\n",
              "        const buttonEl =\n",
              "          document.querySelector('#df-a486c704-860f-4870-a9e6-fdc4921f893e button.colab-df-convert');\n",
              "        buttonEl.style.display =\n",
              "          google.colab.kernel.accessAllowed ? 'block' : 'none';\n",
              "\n",
              "        async function convertToInteractive(key) {\n",
              "          const element = document.querySelector('#df-a486c704-860f-4870-a9e6-fdc4921f893e');\n",
              "          const dataTable =\n",
              "            await google.colab.kernel.invokeFunction('convertToInteractive',\n",
              "                                                     [key], {});\n",
              "          if (!dataTable) return;\n",
              "\n",
              "          const docLinkHtml = 'Like what you see? Visit the ' +\n",
              "            '<a target=\"_blank\" href=https://colab.research.google.com/notebooks/data_table.ipynb>data table notebook</a>'\n",
              "            + ' to learn more about interactive tables.';\n",
              "          element.innerHTML = '';\n",
              "          dataTable['output_type'] = 'display_data';\n",
              "          await google.colab.output.renderOutput(dataTable, element);\n",
              "          const docLink = document.createElement('div');\n",
              "          docLink.innerHTML = docLinkHtml;\n",
              "          element.appendChild(docLink);\n",
              "        }\n",
              "      </script>\n",
              "    </div>\n",
              "  </div>\n",
              "  "
            ]
          },
          "metadata": {},
          "execution_count": 92
        }
      ]
    },
    {
      "cell_type": "code",
      "source": [
        "y.head()"
      ],
      "metadata": {
        "colab": {
          "base_uri": "https://localhost:8080/",
          "height": 206
        },
        "id": "oUoDTzurgSPh",
        "outputId": "54e2d327-5468-450a-8901-5c8777abb681"
      },
      "execution_count": 93,
      "outputs": [
        {
          "output_type": "execute_result",
          "data": {
            "text/plain": [
              "   Survived\n",
              "0         0\n",
              "1         1\n",
              "2         1\n",
              "3         1\n",
              "4         0"
            ],
            "text/html": [
              "\n",
              "  <div id=\"df-214841b3-ed0e-433c-9874-096202470922\">\n",
              "    <div class=\"colab-df-container\">\n",
              "      <div>\n",
              "<style scoped>\n",
              "    .dataframe tbody tr th:only-of-type {\n",
              "        vertical-align: middle;\n",
              "    }\n",
              "\n",
              "    .dataframe tbody tr th {\n",
              "        vertical-align: top;\n",
              "    }\n",
              "\n",
              "    .dataframe thead th {\n",
              "        text-align: right;\n",
              "    }\n",
              "</style>\n",
              "<table border=\"1\" class=\"dataframe\">\n",
              "  <thead>\n",
              "    <tr style=\"text-align: right;\">\n",
              "      <th></th>\n",
              "      <th>Survived</th>\n",
              "    </tr>\n",
              "  </thead>\n",
              "  <tbody>\n",
              "    <tr>\n",
              "      <th>0</th>\n",
              "      <td>0</td>\n",
              "    </tr>\n",
              "    <tr>\n",
              "      <th>1</th>\n",
              "      <td>1</td>\n",
              "    </tr>\n",
              "    <tr>\n",
              "      <th>2</th>\n",
              "      <td>1</td>\n",
              "    </tr>\n",
              "    <tr>\n",
              "      <th>3</th>\n",
              "      <td>1</td>\n",
              "    </tr>\n",
              "    <tr>\n",
              "      <th>4</th>\n",
              "      <td>0</td>\n",
              "    </tr>\n",
              "  </tbody>\n",
              "</table>\n",
              "</div>\n",
              "      <button class=\"colab-df-convert\" onclick=\"convertToInteractive('df-214841b3-ed0e-433c-9874-096202470922')\"\n",
              "              title=\"Convert this dataframe to an interactive table.\"\n",
              "              style=\"display:none;\">\n",
              "        \n",
              "  <svg xmlns=\"http://www.w3.org/2000/svg\" height=\"24px\"viewBox=\"0 0 24 24\"\n",
              "       width=\"24px\">\n",
              "    <path d=\"M0 0h24v24H0V0z\" fill=\"none\"/>\n",
              "    <path d=\"M18.56 5.44l.94 2.06.94-2.06 2.06-.94-2.06-.94-.94-2.06-.94 2.06-2.06.94zm-11 1L8.5 8.5l.94-2.06 2.06-.94-2.06-.94L8.5 2.5l-.94 2.06-2.06.94zm10 10l.94 2.06.94-2.06 2.06-.94-2.06-.94-.94-2.06-.94 2.06-2.06.94z\"/><path d=\"M17.41 7.96l-1.37-1.37c-.4-.4-.92-.59-1.43-.59-.52 0-1.04.2-1.43.59L10.3 9.45l-7.72 7.72c-.78.78-.78 2.05 0 2.83L4 21.41c.39.39.9.59 1.41.59.51 0 1.02-.2 1.41-.59l7.78-7.78 2.81-2.81c.8-.78.8-2.07 0-2.86zM5.41 20L4 18.59l7.72-7.72 1.47 1.35L5.41 20z\"/>\n",
              "  </svg>\n",
              "      </button>\n",
              "      \n",
              "  <style>\n",
              "    .colab-df-container {\n",
              "      display:flex;\n",
              "      flex-wrap:wrap;\n",
              "      gap: 12px;\n",
              "    }\n",
              "\n",
              "    .colab-df-convert {\n",
              "      background-color: #E8F0FE;\n",
              "      border: none;\n",
              "      border-radius: 50%;\n",
              "      cursor: pointer;\n",
              "      display: none;\n",
              "      fill: #1967D2;\n",
              "      height: 32px;\n",
              "      padding: 0 0 0 0;\n",
              "      width: 32px;\n",
              "    }\n",
              "\n",
              "    .colab-df-convert:hover {\n",
              "      background-color: #E2EBFA;\n",
              "      box-shadow: 0px 1px 2px rgba(60, 64, 67, 0.3), 0px 1px 3px 1px rgba(60, 64, 67, 0.15);\n",
              "      fill: #174EA6;\n",
              "    }\n",
              "\n",
              "    [theme=dark] .colab-df-convert {\n",
              "      background-color: #3B4455;\n",
              "      fill: #D2E3FC;\n",
              "    }\n",
              "\n",
              "    [theme=dark] .colab-df-convert:hover {\n",
              "      background-color: #434B5C;\n",
              "      box-shadow: 0px 1px 3px 1px rgba(0, 0, 0, 0.15);\n",
              "      filter: drop-shadow(0px 1px 2px rgba(0, 0, 0, 0.3));\n",
              "      fill: #FFFFFF;\n",
              "    }\n",
              "  </style>\n",
              "\n",
              "      <script>\n",
              "        const buttonEl =\n",
              "          document.querySelector('#df-214841b3-ed0e-433c-9874-096202470922 button.colab-df-convert');\n",
              "        buttonEl.style.display =\n",
              "          google.colab.kernel.accessAllowed ? 'block' : 'none';\n",
              "\n",
              "        async function convertToInteractive(key) {\n",
              "          const element = document.querySelector('#df-214841b3-ed0e-433c-9874-096202470922');\n",
              "          const dataTable =\n",
              "            await google.colab.kernel.invokeFunction('convertToInteractive',\n",
              "                                                     [key], {});\n",
              "          if (!dataTable) return;\n",
              "\n",
              "          const docLinkHtml = 'Like what you see? Visit the ' +\n",
              "            '<a target=\"_blank\" href=https://colab.research.google.com/notebooks/data_table.ipynb>data table notebook</a>'\n",
              "            + ' to learn more about interactive tables.';\n",
              "          element.innerHTML = '';\n",
              "          dataTable['output_type'] = 'display_data';\n",
              "          await google.colab.output.renderOutput(dataTable, element);\n",
              "          const docLink = document.createElement('div');\n",
              "          docLink.innerHTML = docLinkHtml;\n",
              "          element.appendChild(docLink);\n",
              "        }\n",
              "      </script>\n",
              "    </div>\n",
              "  </div>\n",
              "  "
            ]
          },
          "metadata": {},
          "execution_count": 93
        }
      ]
    },
    {
      "cell_type": "markdown",
      "source": [
        "## We are applyig Zscore to remove the outliers"
      ],
      "metadata": {
        "id": "uqyppvz4gdXu"
      }
    },
    {
      "cell_type": "code",
      "source": [
        "from scipy.stats import zscore\n",
        "import numpy as np\n",
        "z = np.abs(zscore(x))\n",
        "z.shape"
      ],
      "metadata": {
        "colab": {
          "base_uri": "https://localhost:8080/"
        },
        "id": "a1OyWCGYfZNB",
        "outputId": "63802180-4a87-42f3-a8d8-6a321ccfea4a"
      },
      "execution_count": 94,
      "outputs": [
        {
          "output_type": "execute_result",
          "data": {
            "text/plain": [
              "(891, 7)"
            ]
          },
          "metadata": {},
          "execution_count": 94
        }
      ]
    },
    {
      "cell_type": "code",
      "source": [
        "threshold = 3\n",
        "print(np.where(z>3))"
      ],
      "metadata": {
        "colab": {
          "base_uri": "https://localhost:8080/"
        },
        "id": "oSXXsivZgcDs",
        "outputId": "c013eef5-1689-4eab-98d5-cf0562338b3b"
      },
      "execution_count": 95,
      "outputs": [
        {
          "output_type": "stream",
          "name": "stdout",
          "text": [
            "(array([ 13,  16,  25,  27,  50,  59,  68,  71,  86,  88,  96, 116, 118,\n",
            "       119, 159, 164, 167, 171, 180, 182, 201, 233, 258, 261, 266, 278,\n",
            "       299, 311, 324, 341, 360, 377, 380, 386, 437, 438, 438, 480, 493,\n",
            "       527, 541, 542, 557, 567, 610, 630, 638, 672, 678, 679, 683, 686,\n",
            "       689, 700, 716, 730, 736, 737, 742, 745, 774, 779, 787, 792, 813,\n",
            "       824, 846, 850, 851, 858, 863, 885]), array([4, 3, 4, 5, 3, 3, 3, 3, 4, 5, 2, 2, 5, 3, 3, 3, 4, 3, 3, 3, 3, 3,\n",
            "       5, 3, 3, 3, 5, 5, 3, 5, 4, 5, 5, 3, 4, 4, 5, 3, 2, 5, 3, 3, 5, 4,\n",
            "       4, 2, 4, 2, 4, 5, 3, 3, 5, 5, 5, 5, 4, 5, 5, 2, 4, 5, 3, 3, 3, 3,\n",
            "       3, 3, 2, 4, 3, 4]))\n"
          ]
        }
      ]
    },
    {
      "cell_type": "code",
      "source": [
        "x = x[(z<3).all(axis=1)]\n",
        "x.shape"
      ],
      "metadata": {
        "colab": {
          "base_uri": "https://localhost:8080/"
        },
        "id": "8PrKIEgjgn3I",
        "outputId": "3f92d728-0f95-4380-c5a3-34281b1f9bd4"
      },
      "execution_count": 96,
      "outputs": [
        {
          "output_type": "execute_result",
          "data": {
            "text/plain": [
              "(820, 7)"
            ]
          },
          "metadata": {},
          "execution_count": 96
        }
      ]
    },
    {
      "cell_type": "code",
      "source": [
        "y = y[(z<3).all(axis=1)]\n",
        "y.shape"
      ],
      "metadata": {
        "colab": {
          "base_uri": "https://localhost:8080/"
        },
        "id": "JtfRdPlogx-U",
        "outputId": "248f0702-18c6-4053-d39e-551e1782a0e2"
      },
      "execution_count": 97,
      "outputs": [
        {
          "output_type": "execute_result",
          "data": {
            "text/plain": [
              "(820, 1)"
            ]
          },
          "metadata": {},
          "execution_count": 97
        }
      ]
    },
    {
      "cell_type": "code",
      "source": [
        "df1 = df[(z<3).all(axis=1)]\n",
        "df1.shape"
      ],
      "metadata": {
        "colab": {
          "base_uri": "https://localhost:8080/"
        },
        "id": "vG78tkSChm2m",
        "outputId": "35ec0717-3c1f-4210-bf7e-85d66651ba32"
      },
      "execution_count": 98,
      "outputs": [
        {
          "output_type": "execute_result",
          "data": {
            "text/plain": [
              "(820, 8)"
            ]
          },
          "metadata": {},
          "execution_count": 98
        }
      ]
    },
    {
      "cell_type": "markdown",
      "source": [
        "# Percentage of Dataloss"
      ],
      "metadata": {
        "id": "zJwTwF6ihXrk"
      }
    },
    {
      "cell_type": "code",
      "source": [
        "loss_percentage = (891-820)/891*100\n",
        "print(loss_percentage)"
      ],
      "metadata": {
        "colab": {
          "base_uri": "https://localhost:8080/"
        },
        "id": "cSPU1lQthLS7",
        "outputId": "5e7812f1-65d7-4b5d-e77d-8a403f5b5277"
      },
      "execution_count": 99,
      "outputs": [
        {
          "output_type": "stream",
          "name": "stdout",
          "text": [
            "7.968574635241302\n"
          ]
        }
      ]
    },
    {
      "cell_type": "markdown",
      "source": [
        "Data loss is less then 10% so it's reasonable to go ahead."
      ],
      "metadata": {
        "id": "xCxnL2NKht65"
      }
    },
    {
      "cell_type": "markdown",
      "source": [
        "## Tranforming teh data to remove skewness"
      ],
      "metadata": {
        "id": "Z89y17Ith74w"
      }
    },
    {
      "cell_type": "code",
      "source": [
        "from sklearn.preprocessing import power_transform\n",
        "x = power_transform(x,method=\"yeo-johnson\")\n"
      ],
      "metadata": {
        "id": "eGxoe8h_hgQm"
      },
      "execution_count": 100,
      "outputs": []
    },
    {
      "cell_type": "code",
      "source": [
        "x"
      ],
      "metadata": {
        "colab": {
          "base_uri": "https://localhost:8080/"
        },
        "id": "ETrkiiPIiRxv",
        "outputId": "f698dacb-944f-4e9b-e97b-1aaa65b7d590"
      },
      "execution_count": 101,
      "outputs": [
        {
          "output_type": "execute_result",
          "data": {
            "text/plain": [
              "array([[ 0.87283049,  0.72203588, -0.61846778, ..., -0.48469263,\n",
              "        -0.83470177,  0.60778719],\n",
              "       [-1.47067587, -1.38497273,  0.68588353, ..., -0.48469263,\n",
              "         1.55364494, -1.78767552],\n",
              "       [ 0.87283049, -1.38497273, -0.28381447, ..., -0.48469263,\n",
              "        -0.74331399,  0.60778719],\n",
              "       ...,\n",
              "       [ 0.87283049, -1.38497273,  0.0200539 , ...,  2.08665417,\n",
              "         0.39490799,  0.60778719],\n",
              "       [-1.47067587,  0.72203588, -0.28381447, ..., -0.48469263,\n",
              "         0.65432009, -1.78767552],\n",
              "       [ 0.87283049,  0.72203588,  0.20668289, ..., -0.48469263,\n",
              "        -0.76629016, -1.24967343]])"
            ]
          },
          "metadata": {},
          "execution_count": 101
        }
      ]
    },
    {
      "cell_type": "markdown",
      "source": [
        "## Scaling"
      ],
      "metadata": {
        "id": "sBg7aq1gihou"
      }
    },
    {
      "cell_type": "code",
      "source": [
        "from sklearn.preprocessing import StandardScaler\n",
        "sc = StandardScaler()\n",
        "x = sc.fit_transform(x)\n",
        "x"
      ],
      "metadata": {
        "colab": {
          "base_uri": "https://localhost:8080/"
        },
        "id": "UdlLq3PWieUJ",
        "outputId": "748ab638-c671-4ffd-9e2d-9543df2e9423"
      },
      "execution_count": 102,
      "outputs": [
        {
          "output_type": "execute_result",
          "data": {
            "text/plain": [
              "array([[ 0.87283049,  0.72203588, -0.61846778, ..., -0.48469263,\n",
              "        -0.83470177,  0.60778719],\n",
              "       [-1.47067587, -1.38497273,  0.68588353, ..., -0.48469263,\n",
              "         1.55364494, -1.78767552],\n",
              "       [ 0.87283049, -1.38497273, -0.28381447, ..., -0.48469263,\n",
              "        -0.74331399,  0.60778719],\n",
              "       ...,\n",
              "       [ 0.87283049, -1.38497273,  0.0200539 , ...,  2.08665417,\n",
              "         0.39490799,  0.60778719],\n",
              "       [-1.47067587,  0.72203588, -0.28381447, ..., -0.48469263,\n",
              "         0.65432009, -1.78767552],\n",
              "       [ 0.87283049,  0.72203588,  0.20668289, ..., -0.48469263,\n",
              "        -0.76629016, -1.24967343]])"
            ]
          },
          "metadata": {},
          "execution_count": 102
        }
      ]
    },
    {
      "cell_type": "markdown",
      "source": [
        "## Oversampling the Data"
      ],
      "metadata": {
        "id": "wJJns6Z6kEQ_"
      }
    },
    {
      "cell_type": "code",
      "source": [
        "y.value_counts()"
      ],
      "metadata": {
        "colab": {
          "base_uri": "https://localhost:8080/"
        },
        "id": "HT__bL6giuHH",
        "outputId": "242f2c07-d2eb-48fe-c32c-6e0573ddbaed"
      },
      "execution_count": 103,
      "outputs": [
        {
          "output_type": "execute_result",
          "data": {
            "text/plain": [
              "Survived\n",
              "0           500\n",
              "1           320\n",
              "dtype: int64"
            ]
          },
          "metadata": {},
          "execution_count": 103
        }
      ]
    },
    {
      "cell_type": "markdown",
      "source": [
        "Observation :  we can see that Target column data is not balance. so we will apply some techinique to make out data balance. "
      ],
      "metadata": {
        "id": "gF-uM1ZEkLu9"
      }
    },
    {
      "cell_type": "code",
      "source": [
        "# Oversampling the Data\n",
        "from imblearn.over_sampling import SMOTE\n",
        "SM = SMOTE()\n",
        "x,y = SM.fit_resample(x,y)"
      ],
      "metadata": {
        "id": "4Z-6rPvKRBKf"
      },
      "execution_count": 105,
      "outputs": []
    },
    {
      "cell_type": "code",
      "source": [
        "# Checking value count of target columns\n",
        "\n",
        "y.value_counts()"
      ],
      "metadata": {
        "colab": {
          "base_uri": "https://localhost:8080/"
        },
        "id": "Vfy6IyesWXoL",
        "outputId": "0be56aa6-cd44-42da-ca77-18e81f7e1b4f"
      },
      "execution_count": 106,
      "outputs": [
        {
          "output_type": "execute_result",
          "data": {
            "text/plain": [
              "Survived\n",
              "0           500\n",
              "1           500\n",
              "dtype: int64"
            ]
          },
          "metadata": {},
          "execution_count": 106
        }
      ]
    },
    {
      "cell_type": "markdown",
      "source": [
        "Now the data is balance."
      ],
      "metadata": {
        "id": "SEAGl9P_XI-n"
      }
    },
    {
      "cell_type": "markdown",
      "source": [
        "# Since the outcome has only two variable we will use the binary classification model."
      ],
      "metadata": {
        "id": "Q5EGxq3BXI53"
      }
    },
    {
      "cell_type": "code",
      "source": [
        "from sklearn.model_selection import train_test_split\n",
        "from sklearn.linear_model import LogisticRegression\n",
        "lr = LogisticRegression()\n",
        "from sklearn.metrics import classification_report,confusion_matrix,accuracy_score\n"
      ],
      "metadata": {
        "id": "o_JaeTIYXBPU"
      },
      "execution_count": 108,
      "outputs": []
    },
    {
      "cell_type": "markdown",
      "source": [
        "##  Splitting the DataFrame"
      ],
      "metadata": {
        "id": "W7CJntNkZOCH"
      }
    },
    {
      "cell_type": "code",
      "source": [
        "for i in range(0,1000):\n",
        "  x_train,x_test,y_train,y_test = train_test_split(x,y,random_state=i,test_size=0.20)\n",
        "  lr.fit(x_train,y_train)\n",
        "  pred_train = lr.predict(x_train)\n",
        "  pred_test = lr.predict(x_test)\n",
        "\n",
        "  if round(accuracy_score(y_train,pred_train)*100,1)==round(accuracy_score(y_test,pred_test)*100,1):\n",
        "    print(\"At random state\",i,\"The Model performs well\")\n",
        "    print(\"At Random State : \",i)\n",
        "    print(\"Training Accuracy is : \",accuracy_score(y_train,pred_train)*100)\n",
        "    print(\"Testing Accuracy is : \",accuracy_score(y_test,pred_test)*100)\n",
        "    print(\"Difference of Train and Test :\",(accuracy_score(y_train,pred_train)*100)-(accuracy_score(y_test,pred_test)*100))\n",
        "    print(\"\\n\")\n"
      ],
      "metadata": {
        "colab": {
          "base_uri": "https://localhost:8080/"
        },
        "id": "OctAs4sKXhQ2",
        "outputId": "b4af42e4-f271-4cc6-8306-cfa1e6a5a08f"
      },
      "execution_count": 118,
      "outputs": [
        {
          "output_type": "stream",
          "name": "stdout",
          "text": [
            "At random state 9 The Model performs well\n",
            "At Random State :  9\n",
            "Training Accuracy is :  79.0\n",
            "Testing Accuracy is :  79.0\n",
            "Difference of Train and Test : 0.0\n",
            "\n",
            "\n",
            "At random state 32 The Model performs well\n",
            "At Random State :  32\n",
            "Training Accuracy is :  79.0\n",
            "Testing Accuracy is :  79.0\n",
            "Difference of Train and Test : 0.0\n",
            "\n",
            "\n",
            "At random state 45 The Model performs well\n",
            "At Random State :  45\n",
            "Training Accuracy is :  79.0\n",
            "Testing Accuracy is :  79.0\n",
            "Difference of Train and Test : 0.0\n",
            "\n",
            "\n",
            "At random state 93 The Model performs well\n",
            "At Random State :  93\n",
            "Training Accuracy is :  79.5\n",
            "Testing Accuracy is :  79.5\n",
            "Difference of Train and Test : 0.0\n",
            "\n",
            "\n",
            "At random state 108 The Model performs well\n",
            "At Random State :  108\n",
            "Training Accuracy is :  79.0\n",
            "Testing Accuracy is :  79.0\n",
            "Difference of Train and Test : 0.0\n",
            "\n",
            "\n",
            "At random state 248 The Model performs well\n",
            "At Random State :  248\n",
            "Training Accuracy is :  79.0\n",
            "Testing Accuracy is :  79.0\n",
            "Difference of Train and Test : 0.0\n",
            "\n",
            "\n",
            "At random state 287 The Model performs well\n",
            "At Random State :  287\n",
            "Training Accuracy is :  79.0\n",
            "Testing Accuracy is :  79.0\n",
            "Difference of Train and Test : 0.0\n",
            "\n",
            "\n",
            "At random state 366 The Model performs well\n",
            "At Random State :  366\n",
            "Training Accuracy is :  78.5\n",
            "Testing Accuracy is :  78.5\n",
            "Difference of Train and Test : 0.0\n",
            "\n",
            "\n",
            "At random state 467 The Model performs well\n",
            "At Random State :  467\n",
            "Training Accuracy is :  79.5\n",
            "Testing Accuracy is :  79.5\n",
            "Difference of Train and Test : 0.0\n",
            "\n",
            "\n",
            "At random state 520 The Model performs well\n",
            "At Random State :  520\n",
            "Training Accuracy is :  79.0\n",
            "Testing Accuracy is :  79.0\n",
            "Difference of Train and Test : 0.0\n",
            "\n",
            "\n",
            "At random state 536 The Model performs well\n",
            "At Random State :  536\n",
            "Training Accuracy is :  79.5\n",
            "Testing Accuracy is :  79.5\n",
            "Difference of Train and Test : 0.0\n",
            "\n",
            "\n",
            "At random state 638 The Model performs well\n",
            "At Random State :  638\n",
            "Training Accuracy is :  79.0\n",
            "Testing Accuracy is :  79.0\n",
            "Difference of Train and Test : 0.0\n",
            "\n",
            "\n",
            "At random state 661 The Model performs well\n",
            "At Random State :  661\n",
            "Training Accuracy is :  79.5\n",
            "Testing Accuracy is :  79.5\n",
            "Difference of Train and Test : 0.0\n",
            "\n",
            "\n",
            "At random state 807 The Model performs well\n",
            "At Random State :  807\n",
            "Training Accuracy is :  79.0\n",
            "Testing Accuracy is :  79.0\n",
            "Difference of Train and Test : 0.0\n",
            "\n",
            "\n",
            "At random state 853 The Model performs well\n",
            "At Random State :  853\n",
            "Training Accuracy is :  79.5\n",
            "Testing Accuracy is :  79.5\n",
            "Difference of Train and Test : 0.0\n",
            "\n",
            "\n"
          ]
        }
      ]
    },
    {
      "cell_type": "markdown",
      "source": [
        " at Random State 93/467/536/661/853  prediction score is 79.5% which is highest."
      ],
      "metadata": {
        "id": "3si0PkXHfalG"
      }
    },
    {
      "cell_type": "markdown",
      "source": [
        "Random State 853 Selected for the Model Testing"
      ],
      "metadata": {
        "id": "QYC7ZBxfnswd"
      }
    },
    {
      "cell_type": "code",
      "source": [
        "x_train,x_test,y_train,y_test = train_test_split(x,y,random_state=853,test_size=0.20)"
      ],
      "metadata": {
        "id": "dmJcF6InZM8R"
      },
      "execution_count": 120,
      "outputs": []
    },
    {
      "cell_type": "code",
      "source": [
        "from sklearn.metrics import classification_report\n",
        "print(classification_report(y_test,pred_test))"
      ],
      "metadata": {
        "colab": {
          "base_uri": "https://localhost:8080/"
        },
        "id": "Iaik_EsXe2vz",
        "outputId": "e030c7b5-ba5f-4ae2-f8b4-3b0618c5ca52"
      },
      "execution_count": 121,
      "outputs": [
        {
          "output_type": "stream",
          "name": "stdout",
          "text": [
            "              precision    recall  f1-score   support\n",
            "\n",
            "           0       0.53      0.50      0.52       109\n",
            "           1       0.44      0.46      0.45        91\n",
            "\n",
            "    accuracy                           0.48       200\n",
            "   macro avg       0.48      0.48      0.48       200\n",
            "weighted avg       0.49      0.48      0.49       200\n",
            "\n"
          ]
        }
      ]
    },
    {
      "cell_type": "markdown",
      "source": [
        "## Cross Validation for Logistic Regression"
      ],
      "metadata": {
        "id": "bnRovbCLksTa"
      }
    },
    {
      "cell_type": "code",
      "source": [
        "pred_lr = lr.predict(x_test)\n",
        "from sklearn.model_selection import cross_val_score\n",
        "lss = accuracy_score(y_test,pred_lr)\n",
        "for j in range(2,100):\n",
        "  lsscore = cross_val_score(lr,x,y,cv=j)\n",
        "  lsc = lsscore.mean()\n",
        "  print(\"At CV :\",j)\n",
        "  print(\"Cross Validation Score is : \",lsc*100)\n",
        "  print(\"Accuracy Score is : \",lss*100)\n",
        "  print(\"Differnce : \",(lsc*100)-(lss*100))\n",
        "  print(\"\\n\")"
      ],
      "metadata": {
        "colab": {
          "base_uri": "https://localhost:8080/"
        },
        "id": "UO5UAugSj-lH",
        "outputId": "01de24cd-b452-46f7-ef92-00673111081a"
      },
      "execution_count": 124,
      "outputs": [
        {
          "output_type": "stream",
          "name": "stdout",
          "text": [
            "At CV : 2\n",
            "Cross Validation Score is :  78.3\n",
            "Accuracy Score is :  79.5\n",
            "Differnce :  -1.2000000000000028\n",
            "\n",
            "\n",
            "At CV : 3\n",
            "Cross Validation Score is :  77.90035544526562\n",
            "Accuracy Score is :  79.5\n",
            "Differnce :  -1.5996445547343825\n",
            "\n",
            "\n",
            "At CV : 4\n",
            "Cross Validation Score is :  77.1\n",
            "Accuracy Score is :  79.5\n",
            "Differnce :  -2.4000000000000057\n",
            "\n",
            "\n",
            "At CV : 5\n",
            "Cross Validation Score is :  77.8\n",
            "Accuracy Score is :  79.5\n",
            "Differnce :  -1.7000000000000028\n",
            "\n",
            "\n",
            "At CV : 6\n",
            "Cross Validation Score is :  77.60863814539594\n",
            "Accuracy Score is :  79.5\n",
            "Differnce :  -1.8913618546040567\n",
            "\n",
            "\n",
            "At CV : 7\n",
            "Cross Validation Score is :  78.30338675409098\n",
            "Accuracy Score is :  79.5\n",
            "Differnce :  -1.1966132459090204\n",
            "\n",
            "\n",
            "At CV : 8\n",
            "Cross Validation Score is :  78.3\n",
            "Accuracy Score is :  79.5\n",
            "Differnce :  -1.2000000000000028\n",
            "\n",
            "\n",
            "At CV : 9\n",
            "Cross Validation Score is :  78.10131560131559\n",
            "Accuracy Score is :  79.5\n",
            "Differnce :  -1.3986843986844093\n",
            "\n",
            "\n",
            "At CV : 10\n",
            "Cross Validation Score is :  78.69999999999999\n",
            "Accuracy Score is :  79.5\n",
            "Differnce :  -0.8000000000000114\n",
            "\n",
            "\n",
            "At CV : 11\n",
            "Cross Validation Score is :  78.50704850704851\n",
            "Accuracy Score is :  79.5\n",
            "Differnce :  -0.9929514929514909\n",
            "\n",
            "\n",
            "At CV : 12\n",
            "Cross Validation Score is :  78.50090839548672\n",
            "Accuracy Score is :  79.5\n",
            "Differnce :  -0.999091604513282\n",
            "\n",
            "\n",
            "At CV : 13\n",
            "Cross Validation Score is :  78.60823387139176\n",
            "Accuracy Score is :  79.5\n",
            "Differnce :  -0.8917661286082392\n",
            "\n",
            "\n",
            "At CV : 14\n",
            "Cross Validation Score is :  78.60496311200535\n",
            "Accuracy Score is :  79.5\n",
            "Differnce :  -0.8950368879946495\n",
            "\n",
            "\n",
            "At CV : 15\n",
            "Cross Validation Score is :  78.61751846826475\n",
            "Accuracy Score is :  79.5\n",
            "Differnce :  -0.8824815317352517\n",
            "\n",
            "\n",
            "At CV : 16\n",
            "Cross Validation Score is :  78.51222478238607\n",
            "Accuracy Score is :  79.5\n",
            "Differnce :  -0.9877752176139296\n",
            "\n",
            "\n",
            "At CV : 17\n",
            "Cross Validation Score is :  78.9115412383539\n",
            "Accuracy Score is :  79.5\n",
            "Differnce :  -0.5884587616460948\n",
            "\n",
            "\n",
            "At CV : 18\n",
            "Cross Validation Score is :  79.01875901875903\n",
            "Accuracy Score is :  79.5\n",
            "Differnce :  -0.4812409812409726\n",
            "\n",
            "\n",
            "At CV : 19\n",
            "Cross Validation Score is :  78.81941792070889\n",
            "Accuracy Score is :  79.5\n",
            "Differnce :  -0.6805820792911135\n",
            "\n",
            "\n",
            "At CV : 20\n",
            "Cross Validation Score is :  78.5\n",
            "Accuracy Score is :  79.5\n",
            "Differnce :  -1.0\n",
            "\n",
            "\n",
            "At CV : 21\n",
            "Cross Validation Score is :  79.02313407632555\n",
            "Accuracy Score is :  79.5\n",
            "Differnce :  -0.4768659236744526\n",
            "\n",
            "\n",
            "At CV : 22\n",
            "Cross Validation Score is :  78.91523935002198\n",
            "Accuracy Score is :  79.5\n",
            "Differnce :  -0.5847606499780227\n",
            "\n",
            "\n",
            "At CV : 23\n",
            "Cross Validation Score is :  78.9180990899899\n",
            "Accuracy Score is :  79.5\n",
            "Differnce :  -0.5819009100101056\n",
            "\n",
            "\n",
            "At CV : 24\n",
            "Cross Validation Score is :  78.52061556329849\n",
            "Accuracy Score is :  79.5\n",
            "Differnce :  -0.9793844367015083\n",
            "\n",
            "\n",
            "At CV : 25\n",
            "Cross Validation Score is :  78.7\n",
            "Accuracy Score is :  79.5\n",
            "Differnce :  -0.7999999999999972\n",
            "\n",
            "\n",
            "At CV : 26\n",
            "Cross Validation Score is :  79.0174400498287\n",
            "Accuracy Score is :  79.5\n",
            "Differnce :  -0.48255995017129294\n",
            "\n",
            "\n",
            "At CV : 27\n",
            "Cross Validation Score is :  78.90522101048417\n",
            "Accuracy Score is :  79.5\n",
            "Differnce :  -0.5947789895158309\n",
            "\n",
            "\n",
            "At CV : 28\n",
            "Cross Validation Score is :  78.62244897959184\n",
            "Accuracy Score is :  79.5\n",
            "Differnce :  -0.8775510204081627\n",
            "\n",
            "\n",
            "At CV : 29\n",
            "Cross Validation Score is :  78.8235294117647\n",
            "Accuracy Score is :  79.5\n",
            "Differnce :  -0.6764705882353041\n",
            "\n",
            "\n",
            "At CV : 30\n",
            "Cross Validation Score is :  79.10576351752823\n",
            "Accuracy Score is :  79.5\n",
            "Differnce :  -0.39423648247176857\n",
            "\n",
            "\n",
            "At CV : 31\n",
            "Cross Validation Score is :  78.69012707722385\n",
            "Accuracy Score is :  79.5\n",
            "Differnce :  -0.809872922776151\n",
            "\n",
            "\n",
            "At CV : 32\n",
            "Cross Validation Score is :  79.0952620967742\n",
            "Accuracy Score is :  79.5\n",
            "Differnce :  -0.4047379032257936\n",
            "\n",
            "\n",
            "At CV : 33\n",
            "Cross Validation Score is :  79.09416748126425\n",
            "Accuracy Score is :  79.5\n",
            "Differnce :  -0.40583251873574966\n",
            "\n",
            "\n",
            "At CV : 34\n",
            "Cross Validation Score is :  78.81000676132523\n",
            "Accuracy Score is :  79.5\n",
            "Differnce :  -0.6899932386747736\n",
            "\n",
            "\n",
            "At CV : 35\n",
            "Cross Validation Score is :  78.44123856439128\n",
            "Accuracy Score is :  79.5\n",
            "Differnce :  -1.0587614356087158\n",
            "\n",
            "\n",
            "At CV : 36\n",
            "Cross Validation Score is :  79.0270429159318\n",
            "Accuracy Score is :  79.5\n",
            "Differnce :  -0.4729570840681987\n",
            "\n",
            "\n",
            "At CV : 37\n",
            "Cross Validation Score is :  79.000429000429\n",
            "Accuracy Score is :  79.5\n",
            "Differnce :  -0.4995709995710058\n",
            "\n",
            "\n",
            "At CV : 38\n",
            "Cross Validation Score is :  78.69245763982606\n",
            "Accuracy Score is :  79.5\n",
            "Differnce :  -0.8075423601739402\n",
            "\n",
            "\n",
            "At CV : 39\n",
            "Cross Validation Score is :  78.9388560157791\n",
            "Accuracy Score is :  79.5\n",
            "Differnce :  -0.5611439842209052\n",
            "\n",
            "\n",
            "At CV : 40\n",
            "Cross Validation Score is :  79.0\n",
            "Accuracy Score is :  79.5\n",
            "Differnce :  -0.5\n",
            "\n",
            "\n",
            "At CV : 41\n",
            "Cross Validation Score is :  78.91056910569108\n",
            "Accuracy Score is :  79.5\n",
            "Differnce :  -0.5894308943089186\n",
            "\n",
            "\n",
            "At CV : 42\n",
            "Cross Validation Score is :  78.83454106280193\n",
            "Accuracy Score is :  79.5\n",
            "Differnce :  -0.6654589371980677\n",
            "\n",
            "\n",
            "At CV : 43\n",
            "Cross Validation Score is :  78.79170879676442\n",
            "Accuracy Score is :  79.5\n",
            "Differnce :  -0.708291203235575\n",
            "\n",
            "\n",
            "At CV : 44\n",
            "Cross Validation Score is :  79.04240028745959\n",
            "Accuracy Score is :  79.5\n",
            "Differnce :  -0.4575997125404143\n",
            "\n",
            "\n",
            "At CV : 45\n",
            "Cross Validation Score is :  78.80544576196752\n",
            "Accuracy Score is :  79.5\n",
            "Differnce :  -0.694554238032481\n",
            "\n",
            "\n",
            "At CV : 46\n",
            "Cross Validation Score is :  78.73141351402218\n",
            "Accuracy Score is :  79.5\n",
            "Differnce :  -0.7685864859778206\n",
            "\n",
            "\n",
            "At CV : 47\n",
            "Cross Validation Score is :  78.87998526296396\n",
            "Accuracy Score is :  79.5\n",
            "Differnce :  -0.620014737036044\n",
            "\n",
            "\n",
            "At CV : 48\n",
            "Cross Validation Score is :  78.82936507936508\n",
            "Accuracy Score is :  79.5\n",
            "Differnce :  -0.6706349206349245\n",
            "\n",
            "\n",
            "At CV : 49\n",
            "Cross Validation Score is :  78.82410106899901\n",
            "Accuracy Score is :  79.5\n",
            "Differnce :  -0.6758989310009866\n",
            "\n",
            "\n",
            "At CV : 50\n",
            "Cross Validation Score is :  79.1\n",
            "Accuracy Score is :  79.5\n",
            "Differnce :  -0.4000000000000057\n",
            "\n",
            "\n",
            "At CV : 51\n",
            "Cross Validation Score is :  79.2518059855521\n",
            "Accuracy Score is :  79.5\n",
            "Differnce :  -0.248194014447904\n",
            "\n",
            "\n",
            "At CV : 52\n",
            "Cross Validation Score is :  78.79554655870444\n",
            "Accuracy Score is :  79.5\n",
            "Differnce :  -0.7044534412955556\n",
            "\n",
            "\n",
            "At CV : 53\n",
            "Cross Validation Score is :  78.61083526426127\n",
            "Accuracy Score is :  79.5\n",
            "Differnce :  -0.8891647357387313\n",
            "\n",
            "\n",
            "At CV : 54\n",
            "Cross Validation Score is :  78.74702187567684\n",
            "Accuracy Score is :  79.5\n",
            "Differnce :  -0.7529781243231639\n",
            "\n",
            "\n",
            "At CV : 55\n",
            "Cross Validation Score is :  78.71876661350343\n",
            "Accuracy Score is :  79.5\n",
            "Differnce :  -0.7812333864965666\n",
            "\n",
            "\n",
            "At CV : 56\n",
            "Cross Validation Score is :  78.91573295985062\n",
            "Accuracy Score is :  79.5\n",
            "Differnce :  -0.5842670401493848\n",
            "\n",
            "\n",
            "At CV : 57\n",
            "Cross Validation Score is :  79.05056759545924\n",
            "Accuracy Score is :  79.5\n",
            "Differnce :  -0.44943240454075806\n",
            "\n",
            "\n",
            "At CV : 58\n",
            "Cross Validation Score is :  78.88776200135227\n",
            "Accuracy Score is :  79.5\n",
            "Differnce :  -0.6122379986477284\n",
            "\n",
            "\n",
            "At CV : 59\n",
            "Cross Validation Score is :  78.8135593220339\n",
            "Accuracy Score is :  79.5\n",
            "Differnce :  -0.6864406779661039\n",
            "\n",
            "\n",
            "At CV : 60\n",
            "Cross Validation Score is :  78.84803921568628\n",
            "Accuracy Score is :  79.5\n",
            "Differnce :  -0.6519607843137152\n",
            "\n",
            "\n",
            "At CV : 61\n",
            "Cross Validation Score is :  78.91152362584378\n",
            "Accuracy Score is :  79.5\n",
            "Differnce :  -0.5884763741562153\n",
            "\n",
            "\n",
            "At CV : 62\n",
            "Cross Validation Score is :  78.91366223908918\n",
            "Accuracy Score is :  79.5\n",
            "Differnce :  -0.5863377609108227\n",
            "\n",
            "\n",
            "At CV : 63\n",
            "Cross Validation Score is :  78.81613756613756\n",
            "Accuracy Score is :  79.5\n",
            "Differnce :  -0.6838624338624442\n",
            "\n",
            "\n",
            "At CV : 64\n",
            "Cross Validation Score is :  79.05598958333333\n",
            "Accuracy Score is :  79.5\n",
            "Differnce :  -0.4440104166666714\n",
            "\n",
            "\n",
            "At CV : 65\n",
            "Cross Validation Score is :  78.91025641025642\n",
            "Accuracy Score is :  79.5\n",
            "Differnce :  -0.589743589743577\n",
            "\n",
            "\n",
            "At CV : 66\n",
            "Cross Validation Score is :  78.81944444444446\n",
            "Accuracy Score is :  79.5\n",
            "Differnce :  -0.6805555555555429\n",
            "\n",
            "\n",
            "At CV : 67\n",
            "Cross Validation Score is :  78.84150675195453\n",
            "Accuracy Score is :  79.5\n",
            "Differnce :  -0.6584932480454739\n",
            "\n",
            "\n",
            "At CV : 68\n",
            "Cross Validation Score is :  78.95658263305322\n",
            "Accuracy Score is :  79.5\n",
            "Differnce :  -0.5434173669467839\n",
            "\n",
            "\n",
            "At CV : 69\n",
            "Cross Validation Score is :  79.04761904761905\n",
            "Accuracy Score is :  79.5\n",
            "Differnce :  -0.452380952380949\n",
            "\n",
            "\n",
            "At CV : 70\n",
            "Cross Validation Score is :  78.98639455782313\n",
            "Accuracy Score is :  79.5\n",
            "Differnce :  -0.5136054421768677\n",
            "\n",
            "\n",
            "At CV : 71\n",
            "Cross Validation Score is :  79.11468812877264\n",
            "Accuracy Score is :  79.5\n",
            "Differnce :  -0.38531187122735844\n",
            "\n",
            "\n",
            "At CV : 72\n",
            "Cross Validation Score is :  79.02930402930404\n",
            "Accuracy Score is :  79.5\n",
            "Differnce :  -0.4706959706959566\n",
            "\n",
            "\n",
            "At CV : 73\n",
            "Cross Validation Score is :  79.05313864217975\n",
            "Accuracy Score is :  79.5\n",
            "Differnce :  -0.4468613578202536\n",
            "\n",
            "\n",
            "At CV : 74\n",
            "Cross Validation Score is :  78.95752895752895\n",
            "Accuracy Score is :  79.5\n",
            "Differnce :  -0.5424710424710497\n",
            "\n",
            "\n",
            "At CV : 75\n",
            "Cross Validation Score is :  78.9084249084249\n",
            "Accuracy Score is :  79.5\n",
            "Differnce :  -0.5915750915750948\n",
            "\n",
            "\n",
            "At CV : 76\n",
            "Cross Validation Score is :  78.81723539618277\n",
            "Accuracy Score is :  79.5\n",
            "Differnce :  -0.6827646038172333\n",
            "\n",
            "\n",
            "At CV : 77\n",
            "Cross Validation Score is :  78.58807858807857\n",
            "Accuracy Score is :  79.5\n",
            "Differnce :  -0.9119214119214263\n",
            "\n",
            "\n",
            "At CV : 78\n",
            "Cross Validation Score is :  78.75575279421435\n",
            "Accuracy Score is :  79.5\n",
            "Differnce :  -0.7442472057856548\n",
            "\n",
            "\n",
            "At CV : 79\n",
            "Cross Validation Score is :  78.76501135994806\n",
            "Accuracy Score is :  79.5\n",
            "Differnce :  -0.7349886400519381\n",
            "\n",
            "\n",
            "At CV : 80\n",
            "Cross Validation Score is :  78.75801282051282\n",
            "Accuracy Score is :  79.5\n",
            "Differnce :  -0.7419871794871824\n",
            "\n",
            "\n",
            "At CV : 81\n",
            "Cross Validation Score is :  78.71953149730928\n",
            "Accuracy Score is :  79.5\n",
            "Differnce :  -0.7804685026907237\n",
            "\n",
            "\n",
            "At CV : 82\n",
            "Cross Validation Score is :  78.73671044402752\n",
            "Accuracy Score is :  79.5\n",
            "Differnce :  -0.7632895559724773\n",
            "\n",
            "\n",
            "At CV : 83\n",
            "Cross Validation Score is :  78.70713623725672\n",
            "Accuracy Score is :  79.5\n",
            "Differnce :  -0.7928637627432806\n",
            "\n",
            "\n",
            "At CV : 84\n",
            "Cross Validation Score is :  79.04040404040403\n",
            "Accuracy Score is :  79.5\n",
            "Differnce :  -0.45959595959597266\n",
            "\n",
            "\n",
            "At CV : 85\n",
            "Cross Validation Score is :  79.16221033868092\n",
            "Accuracy Score is :  79.5\n",
            "Differnce :  -0.3377896613190785\n",
            "\n",
            "\n",
            "At CV : 86\n",
            "Cross Validation Score is :  79.16666666666666\n",
            "Accuracy Score is :  79.5\n",
            "Differnce :  -0.3333333333333428\n",
            "\n",
            "\n",
            "At CV : 87\n",
            "Cross Validation Score is :  79.16231278300245\n",
            "Accuracy Score is :  79.5\n",
            "Differnce :  -0.33768721699755133\n",
            "\n",
            "\n",
            "At CV : 88\n",
            "Cross Validation Score is :  79.12362258953168\n",
            "Accuracy Score is :  79.5\n",
            "Differnce :  -0.3763774104683222\n",
            "\n",
            "\n",
            "At CV : 89\n",
            "Cross Validation Score is :  79.08580183861083\n",
            "Accuracy Score is :  79.5\n",
            "Differnce :  -0.4141981613891659\n",
            "\n",
            "\n",
            "At CV : 90\n",
            "Cross Validation Score is :  79.01515151515153\n",
            "Accuracy Score is :  79.5\n",
            "Differnce :  -0.4848484848484702\n",
            "\n",
            "\n",
            "At CV : 91\n",
            "Cross Validation Score is :  78.7012987012987\n",
            "Accuracy Score is :  79.5\n",
            "Differnce :  -0.7987012987013031\n",
            "\n",
            "\n",
            "At CV : 92\n",
            "Cross Validation Score is :  78.82411067193675\n",
            "Accuracy Score is :  79.5\n",
            "Differnce :  -0.6758893280632492\n",
            "\n",
            "\n",
            "At CV : 93\n",
            "Cross Validation Score is :  78.86608015640275\n",
            "Accuracy Score is :  79.5\n",
            "Differnce :  -0.6339198435972548\n",
            "\n",
            "\n",
            "At CV : 94\n",
            "Cross Validation Score is :  78.78143133462282\n",
            "Accuracy Score is :  79.5\n",
            "Differnce :  -0.7185686653771768\n",
            "\n",
            "\n",
            "At CV : 95\n",
            "Cross Validation Score is :  78.78468899521532\n",
            "Accuracy Score is :  79.5\n",
            "Differnce :  -0.7153110047846809\n",
            "\n",
            "\n",
            "At CV : 96\n",
            "Cross Validation Score is :  78.85416666666667\n",
            "Accuracy Score is :  79.5\n",
            "Differnce :  -0.6458333333333286\n",
            "\n",
            "\n",
            "At CV : 97\n",
            "Cross Validation Score is :  78.80037488284911\n",
            "Accuracy Score is :  79.5\n",
            "Differnce :  -0.6996251171508874\n",
            "\n",
            "\n",
            "At CV : 98\n",
            "Cross Validation Score is :  78.83116883116882\n",
            "Accuracy Score is :  79.5\n",
            "Differnce :  -0.6688311688311757\n",
            "\n",
            "\n",
            "At CV : 99\n",
            "Cross Validation Score is :  78.82460973370064\n",
            "Accuracy Score is :  79.5\n",
            "Differnce :  -0.6753902662993596\n",
            "\n",
            "\n"
          ]
        }
      ]
    },
    {
      "cell_type": "markdown",
      "source": [
        "At CV : 51 we are getting very less difference between Validation score and Accuracy sore.  so we will select CV 51"
      ],
      "metadata": {
        "id": "AyEu6fBTnVou"
      }
    },
    {
      "cell_type": "code",
      "source": [
        "lsscore_selected = cross_val_score(lr,x,y,cv=51).mean()\n",
        "print(\"The CV score is :\", lsscore_selected,\"\\nThe Accuracy Score is : \",lss)"
      ],
      "metadata": {
        "colab": {
          "base_uri": "https://localhost:8080/"
        },
        "id": "MLrKvG6pmnHx",
        "outputId": "623b0c93-75b2-4b5e-9f39-91386cd42296"
      },
      "execution_count": 125,
      "outputs": [
        {
          "output_type": "stream",
          "name": "stdout",
          "text": [
            "The CV score is : 0.7925180598555209 \n",
            "The Accuracy Score is :  0.795\n"
          ]
        }
      ]
    },
    {
      "cell_type": "markdown",
      "source": [
        "LR Accuracy score is : 0.795\n",
        "Cross Val Score is : 0.7925\n",
        "Difference is : 0.0025\n"
      ],
      "metadata": {
        "id": "b1Mp1ihz7jF9"
      }
    },
    {
      "cell_type": "markdown",
      "source": [
        "# Random Forest Classifier Model"
      ],
      "metadata": {
        "id": "Gc3Vs4U6rI2E"
      }
    },
    {
      "cell_type": "code",
      "source": [
        "from sklearn.ensemble import GradientBoostingClassifier,AdaBoostClassifier,BaggingClassifier\n",
        "from sklearn.ensemble import RandomForestClassifier,ExtraTreesClassifier\n",
        "\n",
        "RFC = RandomForestClassifier()\n",
        "RFC.fit(x_train,y_train)\n",
        "predRFC = RFC.predict(x_test)\n",
        "print(\"RFC Accuracy Score is : \",accuracy_score(y_test,predRFC))\n",
        "print(\"\\nConfusion Matrix :\\n \",confusion_matrix(y_test,predRFC))\n",
        "print(\"\\nClassification Report :\",classification_report(y_test,predRFC))"
      ],
      "metadata": {
        "colab": {
          "base_uri": "https://localhost:8080/"
        },
        "id": "NUKmwL58oac_",
        "outputId": "4b706960-36a9-4e81-9154-4e2abeede73e"
      },
      "execution_count": 129,
      "outputs": [
        {
          "output_type": "stream",
          "name": "stdout",
          "text": [
            "RFC Accuracy Score is :  0.81\n",
            "\n",
            "Confusion Matrix :\n",
            "  [[85 24]\n",
            " [14 77]]\n",
            "\n",
            "Classification Report :               precision    recall  f1-score   support\n",
            "\n",
            "           0       0.86      0.78      0.82       109\n",
            "           1       0.76      0.85      0.80        91\n",
            "\n",
            "    accuracy                           0.81       200\n",
            "   macro avg       0.81      0.81      0.81       200\n",
            "weighted avg       0.81      0.81      0.81       200\n",
            "\n"
          ]
        }
      ]
    },
    {
      "cell_type": "markdown",
      "source": [
        "Cross Val Score for RFC"
      ],
      "metadata": {
        "id": "URb1rznbp6wA"
      }
    },
    {
      "cell_type": "code",
      "source": [
        "cvsRFC = cross_val_score(RFC,x,y,cv=51).mean()\n",
        "print(cvsRFC)\n",
        "print(\"Differnce Accuracy and Cross Val Score is :\",accuracy_score(y_test,predRFC)-cvsRFC)"
      ],
      "metadata": {
        "colab": {
          "base_uri": "https://localhost:8080/"
        },
        "id": "Hz44jYH0pkRg",
        "outputId": "0098144d-6552-4d89-d24a-970cee44b001"
      },
      "execution_count": 131,
      "outputs": [
        {
          "output_type": "stream",
          "name": "stdout",
          "text": [
            "0.8296181630546954\n",
            "Differnce Accuracy and Cross Val Score is : -0.019618163054695326\n"
          ]
        }
      ]
    },
    {
      "cell_type": "markdown",
      "source": [
        "RFC Accuracy Score is : 0.81\n",
        "Cross val Score RFC is : 0.8296\n",
        "Difference is : 0.01961"
      ],
      "metadata": {
        "id": "l1jSgC6HrOS8"
      }
    },
    {
      "cell_type": "markdown",
      "source": [
        "## Support Vector Classifier"
      ],
      "metadata": {
        "id": "knvWINmYrhxy"
      }
    },
    {
      "cell_type": "code",
      "source": [
        "from sklearn.svm import SVC\n",
        "svc = SVC()\n",
        "svc.fit(x_train,y_train)\n",
        "predsvc = svc.predict(x_test)\n",
        "print(\"svc Accuracy test :\",accuracy_score(y_test,predsvc))\n",
        "print(\"\\nConfusion Matrix :\\n\",confusion_matrix(y_test,predsvc))\n",
        "print(\"\\nClassification Report :\\n\",classification_report(y_test,predsvc))"
      ],
      "metadata": {
        "colab": {
          "base_uri": "https://localhost:8080/"
        },
        "id": "1TkVVoujqRpa",
        "outputId": "e44dd602-34ea-4e51-e871-fd2fa78c2140"
      },
      "execution_count": 133,
      "outputs": [
        {
          "output_type": "stream",
          "name": "stdout",
          "text": [
            "svc Accuracy test : 0.77\n",
            "\n",
            "Confusion Matrix :\n",
            " [[93 16]\n",
            " [30 61]]\n",
            "\n",
            "Classification Report :\n",
            "               precision    recall  f1-score   support\n",
            "\n",
            "           0       0.76      0.85      0.80       109\n",
            "           1       0.79      0.67      0.73        91\n",
            "\n",
            "    accuracy                           0.77       200\n",
            "   macro avg       0.77      0.76      0.76       200\n",
            "weighted avg       0.77      0.77      0.77       200\n",
            "\n"
          ]
        }
      ]
    },
    {
      "cell_type": "code",
      "source": [
        "# Cross val score for SVC\n",
        "cvssvc = cross_val_score(svc,x,y,cv=51).mean()\n",
        "print(\"Cross Val Score for SVC :\",cvssvc)\n",
        "print(\"\\nDiffernce between the accuracy_score and Cross val :\",accuracy_score(y_test,predsvc)-cvssvc)"
      ],
      "metadata": {
        "colab": {
          "base_uri": "https://localhost:8080/"
        },
        "id": "DLCFpPe9r-zW",
        "outputId": "0bba8658-dcbb-41d5-a2f8-7f9ad4927cd5"
      },
      "execution_count": 135,
      "outputs": [
        {
          "output_type": "stream",
          "name": "stdout",
          "text": [
            "Cross Val Score for SVC : 0.7964912280701755\n",
            "\n",
            "Differnce between the accuracy_score and Cross val : -0.026491228070175454\n"
          ]
        }
      ]
    },
    {
      "cell_type": "markdown",
      "source": [
        "Support Vector Classification Accuracy Score : 0.77 and Cross Validation : 0.79 \n",
        "Difference is : -0.0264"
      ],
      "metadata": {
        "id": "rGSBGHTvtuII"
      }
    },
    {
      "cell_type": "markdown",
      "source": [
        "## Gradient Boosting Classifier"
      ],
      "metadata": {
        "id": "v-LtNCtyuEkq"
      }
    },
    {
      "cell_type": "code",
      "source": [
        "GB = GradientBoostingClassifier()\n",
        "GB.fit(x_train,y_train)\n",
        "predGB = GB.predict(x_test)\n",
        "print(\"Accuracy Score GB :\",accuracy_score(y_test,predGB))\n",
        "print(\"\\nConfusion Matrix :\\n\", confusion_matrix(y_test,predGB))\n",
        "print(\"\\nClassification Report :\\n\",classification_report(y_test,predGB))"
      ],
      "metadata": {
        "colab": {
          "base_uri": "https://localhost:8080/"
        },
        "id": "DpZqTeJ5tBVG",
        "outputId": "52f182c0-f072-43a3-aa5d-f2d2c65a26dc"
      },
      "execution_count": 137,
      "outputs": [
        {
          "output_type": "stream",
          "name": "stdout",
          "text": [
            "Accuracy Score GB : 0.815\n",
            "\n",
            "Confusion Matrix :\n",
            " [[93 16]\n",
            " [21 70]]\n",
            "\n",
            "Classification Report :\n",
            "               precision    recall  f1-score   support\n",
            "\n",
            "           0       0.82      0.85      0.83       109\n",
            "           1       0.81      0.77      0.79        91\n",
            "\n",
            "    accuracy                           0.81       200\n",
            "   macro avg       0.81      0.81      0.81       200\n",
            "weighted avg       0.81      0.81      0.81       200\n",
            "\n"
          ]
        }
      ]
    },
    {
      "cell_type": "code",
      "source": [
        "# Cross val score for GB\n",
        "csvGB = cross_val_score(GB,x,y,cv=51).mean()\n",
        "print(\"Cross Val score :\",csvGB)\n",
        "print(\"Differnce between Accuracy and Cross validation is :\",accuracy_score(y_test,predGB)-csvGB)\n"
      ],
      "metadata": {
        "colab": {
          "base_uri": "https://localhost:8080/"
        },
        "id": "ldNG0BXMuRcf",
        "outputId": "22dc8f26-9b2d-48f7-fa84-8191681da003"
      },
      "execution_count": 138,
      "outputs": [
        {
          "output_type": "stream",
          "name": "stdout",
          "text": [
            "Cross Val score : 0.8247162022703819\n",
            "Differnce between Accuracy and Cross validation is : -0.009716202270381946\n"
          ]
        }
      ]
    },
    {
      "cell_type": "markdown",
      "source": [
        "GB Classifier Accuracy : 0.815\n",
        "Cross Val score : 0.824\n",
        "Difference is : -0.009\n",
        "\n"
      ],
      "metadata": {
        "id": "qQfB5UrVvZl-"
      }
    },
    {
      "cell_type": "markdown",
      "source": [
        "## Extra Tree Classifier Model"
      ],
      "metadata": {
        "id": "K5_FnlaUwDB7"
      }
    },
    {
      "cell_type": "code",
      "source": [
        "ET = ExtraTreesClassifier()\n",
        "ET.fit(x_train,y_train)\n",
        "predET = ET.predict(x_test)\n",
        "print(\"Accuracy Score ET:\",accuracy_score(y_test,predET))\n",
        "print(\"\\nConfusion Matrix : \\n\",confusion_matrix(y_test,predET))\n",
        "print(\"\\nClassification Report :\\n\",classification_report(y_test,predET))\n",
        "\n"
      ],
      "metadata": {
        "colab": {
          "base_uri": "https://localhost:8080/"
        },
        "id": "joitu7MTvUZH",
        "outputId": "037182b4-265d-454a-ebce-9a4d7a06fbc2"
      },
      "execution_count": 141,
      "outputs": [
        {
          "output_type": "stream",
          "name": "stdout",
          "text": [
            "Accuracy Score ET: 0.815\n",
            "\n",
            "Confusion Matrix : \n",
            " [[86 23]\n",
            " [14 77]]\n",
            "\n",
            "Classification Report :\n",
            "               precision    recall  f1-score   support\n",
            "\n",
            "           0       0.86      0.79      0.82       109\n",
            "           1       0.77      0.85      0.81        91\n",
            "\n",
            "    accuracy                           0.81       200\n",
            "   macro avg       0.81      0.82      0.81       200\n",
            "weighted avg       0.82      0.81      0.82       200\n",
            "\n"
          ]
        }
      ]
    },
    {
      "cell_type": "code",
      "source": [
        "# Cross Val Score for ET\n",
        "csvET = cross_val_score(ET,x,y,cv=51).mean()\n",
        "print(\"Cross Val Score :\", csvET)\n",
        "print(\"Differnce Between Accuracy and Cross Validation is :\", accuracy_score(y_test,predET)-csvET)"
      ],
      "metadata": {
        "colab": {
          "base_uri": "https://localhost:8080/"
        },
        "id": "gJJO2SRRwBoG",
        "outputId": "ce958193-a4cf-4ff8-9f7e-d438aabd5c2f"
      },
      "execution_count": 142,
      "outputs": [
        {
          "output_type": "stream",
          "name": "stdout",
          "text": [
            "Cross Val Score : 0.8228586171310628\n",
            "Differnce Between Accuracy and Cross Validation is : -0.00785861713106284\n"
          ]
        }
      ]
    },
    {
      "cell_type": "markdown",
      "source": [
        "ET Accuracy Score : 0.815\n",
        "Cross Val Score : 0.822\n",
        "Differece is  : -0.007"
      ],
      "metadata": {
        "id": "aGxbWaB138W9"
      }
    },
    {
      "cell_type": "markdown",
      "source": [
        "## AdaBoost Classifier Model"
      ],
      "metadata": {
        "id": "devu2sZn4b1b"
      }
    },
    {
      "cell_type": "code",
      "source": [
        "ADB = AdaBoostClassifier()\n",
        "ADB.fit(x_train,y_train)\n",
        "predADB=ADB.predict(x_test)\n",
        "print(\"Ada Boost Accuracy Score :\",accuracy_score(y_test,predADB))\n",
        "print(\"\\nConfusion Matrix :\\n\", confusion_matrix(y_test,predADB))\n",
        "print(\"\\nClassification Report :\\n\",classification_report(y_test,predADB))"
      ],
      "metadata": {
        "colab": {
          "base_uri": "https://localhost:8080/"
        },
        "id": "zHaxLImU34Vq",
        "outputId": "f0ea1ba6-e381-4401-a2a4-501f0112f4d3"
      },
      "execution_count": 145,
      "outputs": [
        {
          "output_type": "stream",
          "name": "stdout",
          "text": [
            "Ada Boost Accuracy Score : 0.795\n",
            "\n",
            "Confusion Matrix :\n",
            " [[87 22]\n",
            " [19 72]]\n",
            "\n",
            "Classification Report :\n",
            "               precision    recall  f1-score   support\n",
            "\n",
            "           0       0.82      0.80      0.81       109\n",
            "           1       0.77      0.79      0.78        91\n",
            "\n",
            "    accuracy                           0.80       200\n",
            "   macro avg       0.79      0.79      0.79       200\n",
            "weighted avg       0.80      0.80      0.80       200\n",
            "\n"
          ]
        }
      ]
    },
    {
      "cell_type": "code",
      "source": [
        "# Cross validation for AdaBoost\n",
        "cvsADB = cross_val_score(ADB,x,y,cv=51).mean()\n",
        "print(\"Cross Val Score ADB : \",cvsADB)\n",
        "print(\"Difference for Accuracy and Validation score ADB :\",accuracy_score(y_test,predADB)-cvsADB)\n"
      ],
      "metadata": {
        "colab": {
          "base_uri": "https://localhost:8080/"
        },
        "id": "dME9lFNO4r4c",
        "outputId": "0826598d-2b09-4b4a-b496-5e8a65f2b461"
      },
      "execution_count": 146,
      "outputs": [
        {
          "output_type": "stream",
          "name": "stdout",
          "text": [
            "Cross Val Score ADB :  0.8076367389060886\n",
            "Difference for Accuracy and Validation score ADB : -0.012636738906088518\n"
          ]
        }
      ]
    },
    {
      "cell_type": "markdown",
      "source": [
        "ADA Boost Classifier Accuracy Score: 0.795\n",
        "Cross Validation Score :0.807\n",
        "Difference is : -0.012"
      ],
      "metadata": {
        "id": "wL0ghpQH5w5E"
      }
    },
    {
      "cell_type": "markdown",
      "source": [
        "## Accuracy Score and Cross Val Score for above models"
      ],
      "metadata": {
        "id": "u94rFs9P8iP2"
      }
    },
    {
      "cell_type": "markdown",
      "source": [
        "Accuracy and Cross Val Score :\n",
        "\n",
        "LR Accuracy score is : 0.795\n",
        "Cross Val Score is : 0.7925\n",
        "Difference is : 0.0025\n",
        "\n",
        "RFC Accuracy Score is : 0.81\n",
        "Cross val Score RFC is : 0.8296\n",
        "Difference is : 0.01961\n",
        "\n",
        "Support Vector Classification Accuracy Score : 0.77 and Cross Validation : 0.79 \n",
        "Difference is : -0.0264\n",
        "\n",
        "GB Cross Val score : 0.8247162022703819\n",
        "Differnce between Accuracy and Cross validation is : -0.009716202270381946\n",
        "\n",
        "ET Accuracy Score : 0.815\n",
        "Cross Val Score : 0.822\n",
        "Differece is  : -0.007\n",
        "\n",
        "ADA Boost Classifier Accuracy Score: 0.795 Cross Validation Score :0.807 Difference is : -0.012\n",
        "\n",
        "------------------------------------------\n",
        "From Above all model:\n",
        "\n",
        "ExtraTrees Classifier has High Accuracy and low difference with Cross val score"
      ],
      "metadata": {
        "id": "yxRrFjVR6uZ9"
      }
    },
    {
      "cell_type": "markdown",
      "source": [
        "# Hyper Parameter Testing"
      ],
      "metadata": {
        "id": "X2regLMB8qTk"
      }
    },
    {
      "cell_type": "code",
      "source": [
        "# ExtraTrees Classifier\n",
        "from sklearn.model_selection import GridSearchCV\n",
        "\n",
        "parameters = {\"criterion\" : [\"gini\",\"entropy\"],\n",
        "              \"random_state\":[10,50,1000],\n",
        "              \"max_depth\":[0,10,20],\n",
        "              \"n_jobs\":[-2,-1,1],\n",
        "              \"n_estimators\":[50,100,200,300]}"
      ],
      "metadata": {
        "id": "PGnMPEgt75IF"
      },
      "execution_count": 150,
      "outputs": []
    },
    {
      "cell_type": "code",
      "source": [
        "from seaborn.axisgrid import Grid\n",
        "GCV = GridSearchCV(ExtraTreesClassifier(),parameters,cv=51)"
      ],
      "metadata": {
        "id": "MJA7jTb2-qKc"
      },
      "execution_count": 151,
      "outputs": []
    },
    {
      "cell_type": "code",
      "source": [
        "GCV.fit(x_train,y_train)\n"
      ],
      "metadata": {
        "colab": {
          "base_uri": "https://localhost:8080/"
        },
        "id": "cHpHKIB5Cb0V",
        "outputId": "bba19e12-38de-48a9-aacd-00fd15f14b7c"
      },
      "execution_count": 152,
      "outputs": [
        {
          "output_type": "execute_result",
          "data": {
            "text/plain": [
              "GridSearchCV(cv=51, estimator=ExtraTreesClassifier(),\n",
              "             param_grid={'criterion': ['gini', 'entropy'],\n",
              "                         'max_depth': [0, 10, 20],\n",
              "                         'n_estimators': [50, 100, 200, 300],\n",
              "                         'n_jobs': [-2, -1, 1],\n",
              "                         'random_state': [10, 50, 1000]})"
            ]
          },
          "metadata": {},
          "execution_count": 152
        }
      ]
    },
    {
      "cell_type": "code",
      "source": [
        "GCV.best_params_"
      ],
      "metadata": {
        "colab": {
          "base_uri": "https://localhost:8080/"
        },
        "id": "pf4sH-G5C48R",
        "outputId": "0789aaf1-693d-43d5-9bb1-a8f99f0d1f38"
      },
      "execution_count": 153,
      "outputs": [
        {
          "output_type": "execute_result",
          "data": {
            "text/plain": [
              "{'criterion': 'entropy',\n",
              " 'max_depth': 10,\n",
              " 'n_estimators': 100,\n",
              " 'n_jobs': -2,\n",
              " 'random_state': 1000}"
            ]
          },
          "metadata": {},
          "execution_count": 153
        }
      ]
    },
    {
      "cell_type": "code",
      "source": [
        "Final_model = ExtraTreesClassifier(criterion=\"entropy\",max_depth=10,n_estimators=100,n_jobs=-2,random_state=1000)\n",
        "Final_model.fit(x_train,y_train)\n",
        "pred = Final_model.predict(x_test)\n",
        "acc = accuracy_score(y_test,pred)\n",
        "print(acc*100)"
      ],
      "metadata": {
        "colab": {
          "base_uri": "https://localhost:8080/"
        },
        "id": "jvVXuChdOyy1",
        "outputId": "d1aafa4e-ef8d-4266-f7b6-771645605e03"
      },
      "execution_count": 158,
      "outputs": [
        {
          "output_type": "stream",
          "name": "stdout",
          "text": [
            "84.0\n"
          ]
        }
      ]
    },
    {
      "cell_type": "markdown",
      "source": [
        "# AUC ROC Curve"
      ],
      "metadata": {
        "id": "act3b63mSpDg"
      }
    },
    {
      "cell_type": "code",
      "source": [
        "from sklearn.metrics import roc_curve,auc\n",
        "fpr,tpr,thresholds = roc_curve(pred_test,y_test)\n",
        "roc_auc = auc(fpr,tpr)\n",
        "\n",
        "plt.figure()\n",
        "plt.plot(fpr,tpr,color=\"darkorange\",lw=10,label=\"Roc Curve (area = 0.2f)\" % roc_auc)\n",
        "plt.plot([0,1],[0,1],color=\"navy\",lw=10,linestyle=\"--\")\n",
        "plt.xlim([0.0,1.0])\n",
        "plt.ylim([0.0,1.05])\n",
        "plt.xlabel(\"False Positive Rate\")\n",
        "plt.ylabel(\"True Positive Rate\")\n",
        "plt.legend(loc=(\"lower right\"))\n",
        "plt.show()\n"
      ],
      "metadata": {
        "colab": {
          "base_uri": "https://localhost:8080/",
          "height": 279
        },
        "id": "GJGhHiX2QHJS",
        "outputId": "4bbe0641-ceab-4738-dd8e-17f74f0c8dd7"
      },
      "execution_count": 165,
      "outputs": [
        {
          "output_type": "display_data",
          "data": {
            "text/plain": [
              "<Figure size 432x288 with 1 Axes>"
            ],
            "image/png": "[encoded data removed]"
          },
          "metadata": {
            "needs_background": "light"
          }
        }
      ]
    },
    {
      "cell_type": "code",
      "source": [
        "from sklearn import datasets\n",
        "from sklearn import metrics\n",
        "from sklearn import model_selection\n",
        "from sklearn.metrics import plot_roc_curve\n",
        "\n",
        "disp = plot_roc_curve(ET,x_test,y_test) # ax = Axes with confusion matrix\n",
        "plot_roc_curve(RFC,x_test,y_test,ax = disp.ax_)\n",
        "plot_roc_curve(svc,x_test,y_test,ax=disp.ax_)\n",
        "plot_roc_curve(GB,x_test,y_test,ax=disp.ax_)\n",
        "plt.legend(prop={\"size\":11},loc = \"lower right\")\n",
        "plt.show()"
      ],
      "metadata": {
        "colab": {
          "base_uri": "https://localhost:8080/",
          "height": 279
        },
        "id": "ReN-a_PwUDhB",
        "outputId": "1876e962-2342-452f-d1fc-605d87f1ee5d"
      },
      "execution_count": 164,
      "outputs": [
        {
          "output_type": "display_data",
          "data": {
            "text/plain": [
              "<Figure size 432x288 with 1 Axes>"
            ],
            "image/png": "[encoded data removed]"
          },
          "metadata": {
            "needs_background": "light"
          }
        }
      ]
    },
    {
      "cell_type": "markdown",
      "source": [
        "# Model Saving"
      ],
      "metadata": {
        "id": "TcQRkWm1VdDS"
      }
    },
    {
      "cell_type": "code",
      "source": [
        "import pickle\n",
        "filename = \"Titanic_Survival.pkl\"\n",
        "pickle.dump(Final_model,open(filename,\"wb\"))"
      ],
      "metadata": {
        "id": "F4rgBOYrU77d"
      },
      "execution_count": 166,
      "outputs": []
    },
    {
      "cell_type": "markdown",
      "source": [
        "Conclusion:"
      ],
      "metadata": {
        "id": "8I8bFu1nWEkH"
      }
    },
    {
      "cell_type": "code",
      "source": [
        "import numpy as np\n",
        "a = np.array(y_test)\n",
        "b = a.ravel()\n",
        "predicted = np.array(Final_model.predict(x_test))\n",
        "dfcon = pd.DataFrame({\"Original \":b,\"Predicated\":predicted},index = range(len(a)))\n",
        "print(dfcon)"
      ],
      "metadata": {
        "colab": {
          "base_uri": "https://localhost:8080/"
        },
        "id": "n-kkS0yyWDJO",
        "outputId": "7e8cf58d-873d-4488-ab53-35c665878e00"
      },
      "execution_count": 184,
      "outputs": [
        {
          "output_type": "stream",
          "name": "stdout",
          "text": [
            "     Original   Predicated\n",
            "0            0           1\n",
            "1            0           0\n",
            "2            0           0\n",
            "3            0           0\n",
            "4            1           1\n",
            "..         ...         ...\n",
            "195          0           0\n",
            "196          1           1\n",
            "197          0           0\n",
            "198          1           1\n",
            "199          1           1\n",
            "\n",
            "[200 rows x 2 columns]\n"
          ]
        }
      ]
    },
    {
      "cell_type": "markdown",
      "source": [
        "We can review there is some error in the outcome using the model, as we can expect that because our model predict 0.82 not 100%."
      ],
      "metadata": {
        "id": "BHSxZ8i1ZKlJ"
      }
    },
    {
      "cell_type": "markdown",
      "source": [
        "# End of Project Titanic"
      ],
      "metadata": {
        "id": "DVbeaiKnZWzW"
      }
    },
    {
      "cell_type": "code",
      "source": [],
      "metadata": {
        "id": "PvuUj_fIWhE7"
      },
      "execution_count": null,
      "outputs": []
    }
  ]
}