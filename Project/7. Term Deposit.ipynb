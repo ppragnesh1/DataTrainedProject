{
 "cells": [
  {
   "cell_type": "markdown",
   "id": "71197193",
   "metadata": {},
   "source": [
    "## Data Description"
   ]
  },
  {
   "cell_type": "markdown",
   "id": "1190efe6",
   "metadata": {},
   "source": [
    "### What is a Term Deposit?\n",
    "\n",
    "Term Deposits are one of the best investment options for people who are looking for a stable and safe return on their investments. In Term Deposits, the sum of money is kept for a fixed maturity and the depositor is not allowed to withdraw this sum till the end of the maturity period. That is why they are called as Term Deposits because they are kept up to a particular term. \n",
    "https://www.hdfcbank.com/personal/resources/learning-centre/save/term-deposit-vs-fixed-deposit"
   ]
  },
  {
   "cell_type": "code",
   "execution_count": 3,
   "id": "b0bb249d",
   "metadata": {},
   "outputs": [],
   "source": [
    "import pandas as pd\n",
    "import numpy as np\n",
    "import warnings\n",
    "warnings.filterwarnings(\"ignore\")\n",
    "import matplotlib.pyplot as plt\n",
    "import seaborn as sns"
   ]
  },
  {
   "cell_type": "code",
   "execution_count": 4,
   "id": "4ac6771a",
   "metadata": {},
   "outputs": [],
   "source": [
    "df = pd.read_csv(\"termdeposit_train.csv\")"
   ]
  },
  {
   "cell_type": "code",
   "execution_count": 5,
   "id": "b1ee40cb",
   "metadata": {},
   "outputs": [
    {
     "data": {
      "text/html": [
       "<div>\n",
       "<style scoped>\n",
       "    .dataframe tbody tr th:only-of-type {\n",
       "        vertical-align: middle;\n",
       "    }\n",
       "\n",
       "    .dataframe tbody tr th {\n",
       "        vertical-align: top;\n",
       "    }\n",
       "\n",
       "    .dataframe thead th {\n",
       "        text-align: right;\n",
       "    }\n",
       "</style>\n",
       "<table border=\"1\" class=\"dataframe\">\n",
       "  <thead>\n",
       "    <tr style=\"text-align: right;\">\n",
       "      <th></th>\n",
       "      <th>ID</th>\n",
       "      <th>age</th>\n",
       "      <th>job</th>\n",
       "      <th>marital</th>\n",
       "      <th>education</th>\n",
       "      <th>default</th>\n",
       "      <th>balance</th>\n",
       "      <th>housing</th>\n",
       "      <th>loan</th>\n",
       "      <th>contact</th>\n",
       "      <th>day</th>\n",
       "      <th>month</th>\n",
       "      <th>duration</th>\n",
       "      <th>campaign</th>\n",
       "      <th>pdays</th>\n",
       "      <th>previous</th>\n",
       "      <th>poutcome</th>\n",
       "      <th>subscribed</th>\n",
       "    </tr>\n",
       "  </thead>\n",
       "  <tbody>\n",
       "    <tr>\n",
       "      <th>0</th>\n",
       "      <td>26110</td>\n",
       "      <td>56</td>\n",
       "      <td>admin.</td>\n",
       "      <td>married</td>\n",
       "      <td>unknown</td>\n",
       "      <td>no</td>\n",
       "      <td>1933</td>\n",
       "      <td>no</td>\n",
       "      <td>no</td>\n",
       "      <td>telephone</td>\n",
       "      <td>19</td>\n",
       "      <td>nov</td>\n",
       "      <td>44</td>\n",
       "      <td>2</td>\n",
       "      <td>-1</td>\n",
       "      <td>0</td>\n",
       "      <td>unknown</td>\n",
       "      <td>no</td>\n",
       "    </tr>\n",
       "    <tr>\n",
       "      <th>1</th>\n",
       "      <td>40576</td>\n",
       "      <td>31</td>\n",
       "      <td>unknown</td>\n",
       "      <td>married</td>\n",
       "      <td>secondary</td>\n",
       "      <td>no</td>\n",
       "      <td>3</td>\n",
       "      <td>no</td>\n",
       "      <td>no</td>\n",
       "      <td>cellular</td>\n",
       "      <td>20</td>\n",
       "      <td>jul</td>\n",
       "      <td>91</td>\n",
       "      <td>2</td>\n",
       "      <td>-1</td>\n",
       "      <td>0</td>\n",
       "      <td>unknown</td>\n",
       "      <td>no</td>\n",
       "    </tr>\n",
       "    <tr>\n",
       "      <th>2</th>\n",
       "      <td>15320</td>\n",
       "      <td>27</td>\n",
       "      <td>services</td>\n",
       "      <td>married</td>\n",
       "      <td>secondary</td>\n",
       "      <td>no</td>\n",
       "      <td>891</td>\n",
       "      <td>yes</td>\n",
       "      <td>no</td>\n",
       "      <td>cellular</td>\n",
       "      <td>18</td>\n",
       "      <td>jul</td>\n",
       "      <td>240</td>\n",
       "      <td>1</td>\n",
       "      <td>-1</td>\n",
       "      <td>0</td>\n",
       "      <td>unknown</td>\n",
       "      <td>no</td>\n",
       "    </tr>\n",
       "    <tr>\n",
       "      <th>3</th>\n",
       "      <td>43962</td>\n",
       "      <td>57</td>\n",
       "      <td>management</td>\n",
       "      <td>divorced</td>\n",
       "      <td>tertiary</td>\n",
       "      <td>no</td>\n",
       "      <td>3287</td>\n",
       "      <td>no</td>\n",
       "      <td>no</td>\n",
       "      <td>cellular</td>\n",
       "      <td>22</td>\n",
       "      <td>jun</td>\n",
       "      <td>867</td>\n",
       "      <td>1</td>\n",
       "      <td>84</td>\n",
       "      <td>3</td>\n",
       "      <td>success</td>\n",
       "      <td>yes</td>\n",
       "    </tr>\n",
       "    <tr>\n",
       "      <th>4</th>\n",
       "      <td>29842</td>\n",
       "      <td>31</td>\n",
       "      <td>technician</td>\n",
       "      <td>married</td>\n",
       "      <td>secondary</td>\n",
       "      <td>no</td>\n",
       "      <td>119</td>\n",
       "      <td>yes</td>\n",
       "      <td>no</td>\n",
       "      <td>cellular</td>\n",
       "      <td>4</td>\n",
       "      <td>feb</td>\n",
       "      <td>380</td>\n",
       "      <td>1</td>\n",
       "      <td>-1</td>\n",
       "      <td>0</td>\n",
       "      <td>unknown</td>\n",
       "      <td>no</td>\n",
       "    </tr>\n",
       "  </tbody>\n",
       "</table>\n",
       "</div>"
      ],
      "text/plain": [
       "      ID  age         job   marital  education default  balance housing loan  \\\n",
       "0  26110   56      admin.   married    unknown      no     1933      no   no   \n",
       "1  40576   31     unknown   married  secondary      no        3      no   no   \n",
       "2  15320   27    services   married  secondary      no      891     yes   no   \n",
       "3  43962   57  management  divorced   tertiary      no     3287      no   no   \n",
       "4  29842   31  technician   married  secondary      no      119     yes   no   \n",
       "\n",
       "     contact  day month  duration  campaign  pdays  previous poutcome  \\\n",
       "0  telephone   19   nov        44         2     -1         0  unknown   \n",
       "1   cellular   20   jul        91         2     -1         0  unknown   \n",
       "2   cellular   18   jul       240         1     -1         0  unknown   \n",
       "3   cellular   22   jun       867         1     84         3  success   \n",
       "4   cellular    4   feb       380         1     -1         0  unknown   \n",
       "\n",
       "  subscribed  \n",
       "0         no  \n",
       "1         no  \n",
       "2         no  \n",
       "3        yes  \n",
       "4         no  "
      ]
     },
     "execution_count": 5,
     "metadata": {},
     "output_type": "execute_result"
    }
   ],
   "source": [
    "df.head(5)"
   ]
  },
  {
   "cell_type": "code",
   "execution_count": 6,
   "id": "0c64df95",
   "metadata": {},
   "outputs": [
    {
     "data": {
      "text/html": [
       "<div>\n",
       "<style scoped>\n",
       "    .dataframe tbody tr th:only-of-type {\n",
       "        vertical-align: middle;\n",
       "    }\n",
       "\n",
       "    .dataframe tbody tr th {\n",
       "        vertical-align: top;\n",
       "    }\n",
       "\n",
       "    .dataframe thead th {\n",
       "        text-align: right;\n",
       "    }\n",
       "</style>\n",
       "<table border=\"1\" class=\"dataframe\">\n",
       "  <thead>\n",
       "    <tr style=\"text-align: right;\">\n",
       "      <th></th>\n",
       "      <th>ID</th>\n",
       "      <th>age</th>\n",
       "      <th>job</th>\n",
       "      <th>marital</th>\n",
       "      <th>education</th>\n",
       "      <th>default</th>\n",
       "      <th>balance</th>\n",
       "      <th>housing</th>\n",
       "      <th>loan</th>\n",
       "      <th>contact</th>\n",
       "      <th>day</th>\n",
       "      <th>month</th>\n",
       "      <th>duration</th>\n",
       "      <th>campaign</th>\n",
       "      <th>pdays</th>\n",
       "      <th>previous</th>\n",
       "      <th>poutcome</th>\n",
       "      <th>subscribed</th>\n",
       "    </tr>\n",
       "  </thead>\n",
       "  <tbody>\n",
       "    <tr>\n",
       "      <th>20491</th>\n",
       "      <td>21898</td>\n",
       "      <td>40</td>\n",
       "      <td>management</td>\n",
       "      <td>married</td>\n",
       "      <td>secondary</td>\n",
       "      <td>no</td>\n",
       "      <td>569</td>\n",
       "      <td>no</td>\n",
       "      <td>no</td>\n",
       "      <td>cellular</td>\n",
       "      <td>20</td>\n",
       "      <td>aug</td>\n",
       "      <td>129</td>\n",
       "      <td>2</td>\n",
       "      <td>-1</td>\n",
       "      <td>0</td>\n",
       "      <td>unknown</td>\n",
       "      <td>no</td>\n",
       "    </tr>\n",
       "    <tr>\n",
       "      <th>27956</th>\n",
       "      <td>34122</td>\n",
       "      <td>70</td>\n",
       "      <td>technician</td>\n",
       "      <td>married</td>\n",
       "      <td>secondary</td>\n",
       "      <td>no</td>\n",
       "      <td>3020</td>\n",
       "      <td>no</td>\n",
       "      <td>no</td>\n",
       "      <td>telephone</td>\n",
       "      <td>30</td>\n",
       "      <td>apr</td>\n",
       "      <td>56</td>\n",
       "      <td>1</td>\n",
       "      <td>-1</td>\n",
       "      <td>0</td>\n",
       "      <td>unknown</td>\n",
       "      <td>no</td>\n",
       "    </tr>\n",
       "    <tr>\n",
       "      <th>17795</th>\n",
       "      <td>12820</td>\n",
       "      <td>35</td>\n",
       "      <td>admin.</td>\n",
       "      <td>single</td>\n",
       "      <td>secondary</td>\n",
       "      <td>no</td>\n",
       "      <td>0</td>\n",
       "      <td>no</td>\n",
       "      <td>yes</td>\n",
       "      <td>cellular</td>\n",
       "      <td>7</td>\n",
       "      <td>jul</td>\n",
       "      <td>480</td>\n",
       "      <td>1</td>\n",
       "      <td>-1</td>\n",
       "      <td>0</td>\n",
       "      <td>unknown</td>\n",
       "      <td>no</td>\n",
       "    </tr>\n",
       "    <tr>\n",
       "      <th>14749</th>\n",
       "      <td>5677</td>\n",
       "      <td>43</td>\n",
       "      <td>entrepreneur</td>\n",
       "      <td>single</td>\n",
       "      <td>tertiary</td>\n",
       "      <td>no</td>\n",
       "      <td>0</td>\n",
       "      <td>yes</td>\n",
       "      <td>no</td>\n",
       "      <td>unknown</td>\n",
       "      <td>26</td>\n",
       "      <td>may</td>\n",
       "      <td>142</td>\n",
       "      <td>3</td>\n",
       "      <td>-1</td>\n",
       "      <td>0</td>\n",
       "      <td>unknown</td>\n",
       "      <td>no</td>\n",
       "    </tr>\n",
       "    <tr>\n",
       "      <th>15933</th>\n",
       "      <td>6400</td>\n",
       "      <td>29</td>\n",
       "      <td>technician</td>\n",
       "      <td>single</td>\n",
       "      <td>secondary</td>\n",
       "      <td>no</td>\n",
       "      <td>156</td>\n",
       "      <td>yes</td>\n",
       "      <td>no</td>\n",
       "      <td>unknown</td>\n",
       "      <td>27</td>\n",
       "      <td>may</td>\n",
       "      <td>574</td>\n",
       "      <td>5</td>\n",
       "      <td>-1</td>\n",
       "      <td>0</td>\n",
       "      <td>unknown</td>\n",
       "      <td>no</td>\n",
       "    </tr>\n",
       "    <tr>\n",
       "      <th>17087</th>\n",
       "      <td>11127</td>\n",
       "      <td>51</td>\n",
       "      <td>management</td>\n",
       "      <td>married</td>\n",
       "      <td>primary</td>\n",
       "      <td>no</td>\n",
       "      <td>192</td>\n",
       "      <td>no</td>\n",
       "      <td>no</td>\n",
       "      <td>unknown</td>\n",
       "      <td>18</td>\n",
       "      <td>jun</td>\n",
       "      <td>129</td>\n",
       "      <td>3</td>\n",
       "      <td>-1</td>\n",
       "      <td>0</td>\n",
       "      <td>unknown</td>\n",
       "      <td>no</td>\n",
       "    </tr>\n",
       "    <tr>\n",
       "      <th>23140</th>\n",
       "      <td>34247</td>\n",
       "      <td>32</td>\n",
       "      <td>student</td>\n",
       "      <td>single</td>\n",
       "      <td>tertiary</td>\n",
       "      <td>no</td>\n",
       "      <td>1138</td>\n",
       "      <td>no</td>\n",
       "      <td>no</td>\n",
       "      <td>cellular</td>\n",
       "      <td>4</td>\n",
       "      <td>may</td>\n",
       "      <td>214</td>\n",
       "      <td>3</td>\n",
       "      <td>83</td>\n",
       "      <td>3</td>\n",
       "      <td>success</td>\n",
       "      <td>yes</td>\n",
       "    </tr>\n",
       "    <tr>\n",
       "      <th>19081</th>\n",
       "      <td>7168</td>\n",
       "      <td>53</td>\n",
       "      <td>blue-collar</td>\n",
       "      <td>married</td>\n",
       "      <td>primary</td>\n",
       "      <td>no</td>\n",
       "      <td>436</td>\n",
       "      <td>yes</td>\n",
       "      <td>no</td>\n",
       "      <td>unknown</td>\n",
       "      <td>29</td>\n",
       "      <td>may</td>\n",
       "      <td>154</td>\n",
       "      <td>1</td>\n",
       "      <td>-1</td>\n",
       "      <td>0</td>\n",
       "      <td>unknown</td>\n",
       "      <td>no</td>\n",
       "    </tr>\n",
       "    <tr>\n",
       "      <th>8567</th>\n",
       "      <td>27113</td>\n",
       "      <td>42</td>\n",
       "      <td>technician</td>\n",
       "      <td>married</td>\n",
       "      <td>secondary</td>\n",
       "      <td>no</td>\n",
       "      <td>3228</td>\n",
       "      <td>no</td>\n",
       "      <td>no</td>\n",
       "      <td>cellular</td>\n",
       "      <td>21</td>\n",
       "      <td>nov</td>\n",
       "      <td>133</td>\n",
       "      <td>1</td>\n",
       "      <td>-1</td>\n",
       "      <td>0</td>\n",
       "      <td>unknown</td>\n",
       "      <td>no</td>\n",
       "    </tr>\n",
       "    <tr>\n",
       "      <th>9000</th>\n",
       "      <td>21467</td>\n",
       "      <td>37</td>\n",
       "      <td>technician</td>\n",
       "      <td>single</td>\n",
       "      <td>tertiary</td>\n",
       "      <td>no</td>\n",
       "      <td>453</td>\n",
       "      <td>no</td>\n",
       "      <td>no</td>\n",
       "      <td>cellular</td>\n",
       "      <td>18</td>\n",
       "      <td>aug</td>\n",
       "      <td>129</td>\n",
       "      <td>4</td>\n",
       "      <td>-1</td>\n",
       "      <td>0</td>\n",
       "      <td>unknown</td>\n",
       "      <td>no</td>\n",
       "    </tr>\n",
       "  </tbody>\n",
       "</table>\n",
       "</div>"
      ],
      "text/plain": [
       "          ID  age           job  marital  education default  balance housing  \\\n",
       "20491  21898   40    management  married  secondary      no      569      no   \n",
       "27956  34122   70    technician  married  secondary      no     3020      no   \n",
       "17795  12820   35        admin.   single  secondary      no        0      no   \n",
       "14749   5677   43  entrepreneur   single   tertiary      no        0     yes   \n",
       "15933   6400   29    technician   single  secondary      no      156     yes   \n",
       "17087  11127   51    management  married    primary      no      192      no   \n",
       "23140  34247   32       student   single   tertiary      no     1138      no   \n",
       "19081   7168   53   blue-collar  married    primary      no      436     yes   \n",
       "8567   27113   42    technician  married  secondary      no     3228      no   \n",
       "9000   21467   37    technician   single   tertiary      no      453      no   \n",
       "\n",
       "      loan    contact  day month  duration  campaign  pdays  previous  \\\n",
       "20491   no   cellular   20   aug       129         2     -1         0   \n",
       "27956   no  telephone   30   apr        56         1     -1         0   \n",
       "17795  yes   cellular    7   jul       480         1     -1         0   \n",
       "14749   no    unknown   26   may       142         3     -1         0   \n",
       "15933   no    unknown   27   may       574         5     -1         0   \n",
       "17087   no    unknown   18   jun       129         3     -1         0   \n",
       "23140   no   cellular    4   may       214         3     83         3   \n",
       "19081   no    unknown   29   may       154         1     -1         0   \n",
       "8567    no   cellular   21   nov       133         1     -1         0   \n",
       "9000    no   cellular   18   aug       129         4     -1         0   \n",
       "\n",
       "      poutcome subscribed  \n",
       "20491  unknown         no  \n",
       "27956  unknown         no  \n",
       "17795  unknown         no  \n",
       "14749  unknown         no  \n",
       "15933  unknown         no  \n",
       "17087  unknown         no  \n",
       "23140  success        yes  \n",
       "19081  unknown         no  \n",
       "8567   unknown         no  \n",
       "9000   unknown         no  "
      ]
     },
     "execution_count": 6,
     "metadata": {},
     "output_type": "execute_result"
    }
   ],
   "source": [
    "df.sample(10)"
   ]
  },
  {
   "cell_type": "markdown",
   "id": "6cee3170",
   "metadata": {},
   "source": [
    "Observation from Data : we can see the data is mix of categorical and numerical data.  Target column is Binary classification."
   ]
  },
  {
   "cell_type": "code",
   "execution_count": 7,
   "id": "33f9ea78",
   "metadata": {},
   "outputs": [
    {
     "data": {
      "text/plain": [
       "(31647, 18)"
      ]
     },
     "execution_count": 7,
     "metadata": {},
     "output_type": "execute_result"
    }
   ],
   "source": [
    "df.shape"
   ]
  },
  {
   "cell_type": "code",
   "execution_count": 8,
   "id": "1bbe187c",
   "metadata": {},
   "outputs": [
    {
     "data": {
      "text/html": [
       "<div>\n",
       "<style scoped>\n",
       "    .dataframe tbody tr th:only-of-type {\n",
       "        vertical-align: middle;\n",
       "    }\n",
       "\n",
       "    .dataframe tbody tr th {\n",
       "        vertical-align: top;\n",
       "    }\n",
       "\n",
       "    .dataframe thead th {\n",
       "        text-align: right;\n",
       "    }\n",
       "</style>\n",
       "<table border=\"1\" class=\"dataframe\">\n",
       "  <thead>\n",
       "    <tr style=\"text-align: right;\">\n",
       "      <th></th>\n",
       "      <th>ID</th>\n",
       "      <th>age</th>\n",
       "      <th>balance</th>\n",
       "      <th>day</th>\n",
       "      <th>duration</th>\n",
       "      <th>campaign</th>\n",
       "      <th>pdays</th>\n",
       "      <th>previous</th>\n",
       "    </tr>\n",
       "  </thead>\n",
       "  <tbody>\n",
       "    <tr>\n",
       "      <th>count</th>\n",
       "      <td>31647.000000</td>\n",
       "      <td>31647.000000</td>\n",
       "      <td>31647.000000</td>\n",
       "      <td>31647.000000</td>\n",
       "      <td>31647.000000</td>\n",
       "      <td>31647.000000</td>\n",
       "      <td>31647.000000</td>\n",
       "      <td>31647.000000</td>\n",
       "    </tr>\n",
       "    <tr>\n",
       "      <th>mean</th>\n",
       "      <td>22563.972162</td>\n",
       "      <td>40.957247</td>\n",
       "      <td>1363.890258</td>\n",
       "      <td>15.835466</td>\n",
       "      <td>258.113534</td>\n",
       "      <td>2.765697</td>\n",
       "      <td>39.576042</td>\n",
       "      <td>0.574272</td>\n",
       "    </tr>\n",
       "    <tr>\n",
       "      <th>std</th>\n",
       "      <td>13075.936990</td>\n",
       "      <td>10.625134</td>\n",
       "      <td>3028.304293</td>\n",
       "      <td>8.337097</td>\n",
       "      <td>257.118973</td>\n",
       "      <td>3.113830</td>\n",
       "      <td>99.317592</td>\n",
       "      <td>2.422529</td>\n",
       "    </tr>\n",
       "    <tr>\n",
       "      <th>min</th>\n",
       "      <td>2.000000</td>\n",
       "      <td>18.000000</td>\n",
       "      <td>-8019.000000</td>\n",
       "      <td>1.000000</td>\n",
       "      <td>0.000000</td>\n",
       "      <td>1.000000</td>\n",
       "      <td>-1.000000</td>\n",
       "      <td>0.000000</td>\n",
       "    </tr>\n",
       "    <tr>\n",
       "      <th>25%</th>\n",
       "      <td>11218.000000</td>\n",
       "      <td>33.000000</td>\n",
       "      <td>73.000000</td>\n",
       "      <td>8.000000</td>\n",
       "      <td>104.000000</td>\n",
       "      <td>1.000000</td>\n",
       "      <td>-1.000000</td>\n",
       "      <td>0.000000</td>\n",
       "    </tr>\n",
       "    <tr>\n",
       "      <th>50%</th>\n",
       "      <td>22519.000000</td>\n",
       "      <td>39.000000</td>\n",
       "      <td>450.000000</td>\n",
       "      <td>16.000000</td>\n",
       "      <td>180.000000</td>\n",
       "      <td>2.000000</td>\n",
       "      <td>-1.000000</td>\n",
       "      <td>0.000000</td>\n",
       "    </tr>\n",
       "    <tr>\n",
       "      <th>75%</th>\n",
       "      <td>33879.500000</td>\n",
       "      <td>48.000000</td>\n",
       "      <td>1431.000000</td>\n",
       "      <td>21.000000</td>\n",
       "      <td>318.500000</td>\n",
       "      <td>3.000000</td>\n",
       "      <td>-1.000000</td>\n",
       "      <td>0.000000</td>\n",
       "    </tr>\n",
       "    <tr>\n",
       "      <th>max</th>\n",
       "      <td>45211.000000</td>\n",
       "      <td>95.000000</td>\n",
       "      <td>102127.000000</td>\n",
       "      <td>31.000000</td>\n",
       "      <td>4918.000000</td>\n",
       "      <td>63.000000</td>\n",
       "      <td>871.000000</td>\n",
       "      <td>275.000000</td>\n",
       "    </tr>\n",
       "  </tbody>\n",
       "</table>\n",
       "</div>"
      ],
      "text/plain": [
       "                 ID           age        balance           day      duration  \\\n",
       "count  31647.000000  31647.000000   31647.000000  31647.000000  31647.000000   \n",
       "mean   22563.972162     40.957247    1363.890258     15.835466    258.113534   \n",
       "std    13075.936990     10.625134    3028.304293      8.337097    257.118973   \n",
       "min        2.000000     18.000000   -8019.000000      1.000000      0.000000   \n",
       "25%    11218.000000     33.000000      73.000000      8.000000    104.000000   \n",
       "50%    22519.000000     39.000000     450.000000     16.000000    180.000000   \n",
       "75%    33879.500000     48.000000    1431.000000     21.000000    318.500000   \n",
       "max    45211.000000     95.000000  102127.000000     31.000000   4918.000000   \n",
       "\n",
       "           campaign         pdays      previous  \n",
       "count  31647.000000  31647.000000  31647.000000  \n",
       "mean       2.765697     39.576042      0.574272  \n",
       "std        3.113830     99.317592      2.422529  \n",
       "min        1.000000     -1.000000      0.000000  \n",
       "25%        1.000000     -1.000000      0.000000  \n",
       "50%        2.000000     -1.000000      0.000000  \n",
       "75%        3.000000     -1.000000      0.000000  \n",
       "max       63.000000    871.000000    275.000000  "
      ]
     },
     "execution_count": 8,
     "metadata": {},
     "output_type": "execute_result"
    }
   ],
   "source": [
    "df.describe()  # it show only the desciption of the numeric data columns"
   ]
  },
  {
   "cell_type": "markdown",
   "id": "004f58cd",
   "metadata": {},
   "source": [
    "#### List of categories in each categorical columns"
   ]
  },
  {
   "cell_type": "code",
   "execution_count": 9,
   "id": "e1605079",
   "metadata": {},
   "outputs": [
    {
     "name": "stdout",
     "output_type": "stream",
     "text": [
      "----------------------------------------------------------------------------------------------------\n",
      "job\n",
      "['admin.' 'unknown' 'services' 'management' 'technician' 'retired'\n",
      " 'blue-collar' 'housemaid' 'self-employed' 'student' 'entrepreneur'\n",
      " 'unemployed']\n",
      "\n",
      "\n",
      "----------------------------------------------------------------------------------------------------\n",
      "marital\n",
      "['married' 'divorced' 'single']\n",
      "\n",
      "\n",
      "----------------------------------------------------------------------------------------------------\n",
      "education\n",
      "['unknown' 'secondary' 'tertiary' 'primary']\n",
      "\n",
      "\n",
      "----------------------------------------------------------------------------------------------------\n",
      "default\n",
      "['no' 'yes']\n",
      "\n",
      "\n",
      "----------------------------------------------------------------------------------------------------\n",
      "housing\n",
      "['no' 'yes']\n",
      "\n",
      "\n",
      "----------------------------------------------------------------------------------------------------\n",
      "loan\n",
      "['no' 'yes']\n",
      "\n",
      "\n",
      "----------------------------------------------------------------------------------------------------\n",
      "contact\n",
      "['telephone' 'cellular' 'unknown']\n",
      "\n",
      "\n",
      "----------------------------------------------------------------------------------------------------\n",
      "month\n",
      "['nov' 'jul' 'jun' 'feb' 'sep' 'jan' 'may' 'aug' 'apr' 'oct' 'mar' 'dec']\n",
      "\n",
      "\n",
      "----------------------------------------------------------------------------------------------------\n",
      "poutcome\n",
      "['unknown' 'success' 'failure' 'other']\n",
      "\n",
      "\n",
      "----------------------------------------------------------------------------------------------------\n",
      "subscribed\n",
      "['no' 'yes']\n",
      "\n",
      "\n"
     ]
    }
   ],
   "source": [
    "for col in df.select_dtypes(include=\"object\").columns:\n",
    "    print(\"--\"*50)\n",
    "    print(col)\n",
    "    print(df[col].unique())\n",
    "    print(\"\\n\")"
   ]
  },
  {
   "cell_type": "markdown",
   "id": "b20ab5e4",
   "metadata": {},
   "source": [
    "*** Above descriptions show the what catergories are in each columns."
   ]
  },
  {
   "cell_type": "code",
   "execution_count": 10,
   "id": "83c644d9",
   "metadata": {},
   "outputs": [
    {
     "name": "stdout",
     "output_type": "stream",
     "text": [
      "ID 31647\n",
      "age 76\n",
      "job 12\n",
      "marital 3\n",
      "education 4\n",
      "default 2\n",
      "balance 6326\n",
      "housing 2\n",
      "loan 2\n",
      "contact 3\n",
      "day 31\n",
      "month 12\n",
      "duration 1454\n",
      "campaign 45\n",
      "pdays 509\n",
      "previous 38\n",
      "poutcome 4\n",
      "subscribed 2\n"
     ]
    }
   ],
   "source": [
    "for clm in df.columns:\n",
    "    print(clm,df[clm].nunique())"
   ]
  },
  {
   "cell_type": "markdown",
   "id": "d0feb0eb",
   "metadata": {},
   "source": [
    "Above information show the number of unique values by columns."
   ]
  },
  {
   "cell_type": "code",
   "execution_count": 11,
   "id": "04dad2a9",
   "metadata": {},
   "outputs": [
    {
     "name": "stdout",
     "output_type": "stream",
     "text": [
      "<class 'pandas.core.frame.DataFrame'>\n",
      "RangeIndex: 31647 entries, 0 to 31646\n",
      "Data columns (total 18 columns):\n",
      " #   Column      Non-Null Count  Dtype \n",
      "---  ------      --------------  ----- \n",
      " 0   ID          31647 non-null  int64 \n",
      " 1   age         31647 non-null  int64 \n",
      " 2   job         31647 non-null  object\n",
      " 3   marital     31647 non-null  object\n",
      " 4   education   31647 non-null  object\n",
      " 5   default     31647 non-null  object\n",
      " 6   balance     31647 non-null  int64 \n",
      " 7   housing     31647 non-null  object\n",
      " 8   loan        31647 non-null  object\n",
      " 9   contact     31647 non-null  object\n",
      " 10  day         31647 non-null  int64 \n",
      " 11  month       31647 non-null  object\n",
      " 12  duration    31647 non-null  int64 \n",
      " 13  campaign    31647 non-null  int64 \n",
      " 14  pdays       31647 non-null  int64 \n",
      " 15  previous    31647 non-null  int64 \n",
      " 16  poutcome    31647 non-null  object\n",
      " 17  subscribed  31647 non-null  object\n",
      "dtypes: int64(8), object(10)\n",
      "memory usage: 4.3+ MB\n"
     ]
    }
   ],
   "source": [
    "df.info()"
   ]
  },
  {
   "cell_type": "markdown",
   "id": "1cae3475",
   "metadata": {},
   "source": [
    "#### Observation : \n",
    "\n",
    "    >> Data has no mising values or null values\n",
    "    >> there are only Two types of Data only Object(String/Categorical), and integer \n",
    "    \n",
    "    \n",
    "        "
   ]
  },
  {
   "cell_type": "markdown",
   "id": "5e67f88a",
   "metadata": {},
   "source": [
    "### Data Analysis"
   ]
  },
  {
   "cell_type": "code",
   "execution_count": 12,
   "id": "90069e5a",
   "metadata": {},
   "outputs": [
    {
     "name": "stdout",
     "output_type": "stream",
     "text": [
      "========================= JOB ========================================================================\n",
      "blue-collar      6842\n",
      "management       6639\n",
      "technician       5307\n",
      "admin.           3631\n",
      "services         2903\n",
      "retired          1574\n",
      "self-employed    1123\n",
      "entrepreneur     1008\n",
      "unemployed        905\n",
      "housemaid         874\n",
      "student           635\n",
      "unknown           206\n",
      "Name: job, dtype: int64\n",
      "---------------------------------------------------------------------------------------------------- \n",
      "\n",
      "========================= MARITAL ====================================================================\n",
      "married     19095\n",
      "single       8922\n",
      "divorced     3630\n",
      "Name: marital, dtype: int64\n",
      "---------------------------------------------------------------------------------------------------- \n",
      "\n",
      "========================= EDUCATION ==================================================================\n",
      "secondary    16224\n",
      "tertiary      9301\n",
      "primary       4808\n",
      "unknown       1314\n",
      "Name: education, dtype: int64\n",
      "---------------------------------------------------------------------------------------------------- \n",
      "\n",
      "========================= DEFAULT ====================================================================\n",
      "no     31062\n",
      "yes      585\n",
      "Name: default, dtype: int64\n",
      "---------------------------------------------------------------------------------------------------- \n",
      "\n",
      "========================= HOUSING ====================================================================\n",
      "yes    17584\n",
      "no     14063\n",
      "Name: housing, dtype: int64\n",
      "---------------------------------------------------------------------------------------------------- \n",
      "\n",
      "========================= LOAN =======================================================================\n",
      "no     26516\n",
      "yes     5131\n",
      "Name: loan, dtype: int64\n",
      "---------------------------------------------------------------------------------------------------- \n",
      "\n",
      "========================= CONTACT ====================================================================\n",
      "cellular     20423\n",
      "unknown       9177\n",
      "telephone     2047\n",
      "Name: contact, dtype: int64\n",
      "---------------------------------------------------------------------------------------------------- \n",
      "\n",
      "========================= MONTH ======================================================================\n",
      "may    9669\n",
      "jul    4844\n",
      "aug    4333\n",
      "jun    3738\n",
      "nov    2783\n",
      "apr    2055\n",
      "feb    1827\n",
      "jan     977\n",
      "oct     512\n",
      "sep     410\n",
      "mar     342\n",
      "dec     157\n",
      "Name: month, dtype: int64\n",
      "---------------------------------------------------------------------------------------------------- \n",
      "\n",
      "========================= POUTCOME ===================================================================\n",
      "unknown    25929\n",
      "failure     3362\n",
      "other       1288\n",
      "success     1068\n",
      "Name: poutcome, dtype: int64\n",
      "---------------------------------------------------------------------------------------------------- \n",
      "\n",
      "========================= SUBSCRIBED =================================================================\n",
      "no     27932\n",
      "yes     3715\n",
      "Name: subscribed, dtype: int64\n",
      "---------------------------------------------------------------------------------------------------- \n",
      "\n"
     ]
    }
   ],
   "source": [
    "for i in df.columns:\n",
    "    if df[i].dtypes == \"object\":\n",
    "        print(\"=\"*25,i.upper(),\"=\"*(100-25-len(i)))\n",
    "        #print(\"Column = \",i,\"\\n\")\n",
    "        print(df[i].value_counts())\n",
    "        print(\"-\"*100,\"\\n\")"
   ]
  },
  {
   "cell_type": "code",
   "execution_count": 13,
   "id": "8b64c26d",
   "metadata": {},
   "outputs": [
    {
     "data": {
      "text/plain": [
       "Index(['ID', 'age', 'job', 'marital', 'education', 'default', 'balance',\n",
       "       'housing', 'loan', 'contact', 'day', 'month', 'duration', 'campaign',\n",
       "       'pdays', 'previous', 'poutcome', 'subscribed'],\n",
       "      dtype='object')"
      ]
     },
     "execution_count": 13,
     "metadata": {},
     "output_type": "execute_result"
    }
   ],
   "source": [
    "df.columns"
   ]
  },
  {
   "cell_type": "markdown",
   "id": "07bedc2f",
   "metadata": {},
   "source": [
    "### Univariet Analysis"
   ]
  },
  {
   "cell_type": "code",
   "execution_count": 14,
   "id": "3aa3f657",
   "metadata": {
    "scrolled": true
   },
   "outputs": [
    {
     "data": {
      "text/plain": [
       "age\n",
       "(0, 25]        923\n",
       "(25, 50]     24201\n",
       "(50, 75]      6336\n",
       "(75, 100]      187\n",
       "dtype: int64"
      ]
     },
     "execution_count": 14,
     "metadata": {},
     "output_type": "execute_result"
    }
   ],
   "source": [
    "df.groupby(pd.cut(df[\"age\"],bins=[0,25,50,75,100])).size()"
   ]
  },
  {
   "cell_type": "code",
   "execution_count": 15,
   "id": "7c95a6e1",
   "metadata": {},
   "outputs": [
    {
     "data": {
      "text/plain": [
       "<AxesSubplot:xlabel='age', ylabel='Count'>"
      ]
     },
     "execution_count": 15,
     "metadata": {},
     "output_type": "execute_result"
    },
    {
     "data": {
      "image/png": "[encoded data removed]",
      "text/plain": [
       "<Figure size 432x288 with 1 Axes>"
      ]
     },
     "metadata": {
      "needs_background": "light"
     },
     "output_type": "display_data"
    }
   ],
   "source": [
    "sns.histplot(df[\"age\"])"
   ]
  },
  {
   "cell_type": "code",
   "execution_count": 16,
   "id": "2fea4bb2",
   "metadata": {
    "scrolled": true
   },
   "outputs": [
    {
     "data": {
      "image/png": "[encoded data removed]",
      "text/plain": [
       "<Figure size 432x288 with 1 Axes>"
      ]
     },
     "metadata": {
      "needs_background": "light"
     },
     "output_type": "display_data"
    }
   ],
   "source": [
    "sns.histplot(x=\"age\",data=df,hue=\"subscribed\",bins=[0,25,50,75,100])\n",
    "plt.title(\"Age\")\n",
    "plt.show()"
   ]
  },
  {
   "cell_type": "markdown",
   "id": "1de640dc",
   "metadata": {},
   "source": [
    "Observation :\n",
    "    >> Agegroup between the 25-50 are the highest number of application and only few they subsribed for term deposit"
   ]
  },
  {
   "cell_type": "code",
   "execution_count": 17,
   "id": "75129826",
   "metadata": {
    "scrolled": true
   },
   "outputs": [
    {
     "data": {
      "text/html": [
       "<div>\n",
       "<style scoped>\n",
       "    .dataframe tbody tr th:only-of-type {\n",
       "        vertical-align: middle;\n",
       "    }\n",
       "\n",
       "    .dataframe tbody tr th {\n",
       "        vertical-align: top;\n",
       "    }\n",
       "\n",
       "    .dataframe thead th {\n",
       "        text-align: right;\n",
       "    }\n",
       "</style>\n",
       "<table border=\"1\" class=\"dataframe\">\n",
       "  <thead>\n",
       "    <tr style=\"text-align: right;\">\n",
       "      <th></th>\n",
       "      <th>job</th>\n",
       "    </tr>\n",
       "  </thead>\n",
       "  <tbody>\n",
       "    <tr>\n",
       "      <th>blue-collar</th>\n",
       "      <td>6842</td>\n",
       "    </tr>\n",
       "    <tr>\n",
       "      <th>management</th>\n",
       "      <td>6639</td>\n",
       "    </tr>\n",
       "    <tr>\n",
       "      <th>technician</th>\n",
       "      <td>5307</td>\n",
       "    </tr>\n",
       "    <tr>\n",
       "      <th>admin.</th>\n",
       "      <td>3631</td>\n",
       "    </tr>\n",
       "    <tr>\n",
       "      <th>services</th>\n",
       "      <td>2903</td>\n",
       "    </tr>\n",
       "    <tr>\n",
       "      <th>retired</th>\n",
       "      <td>1574</td>\n",
       "    </tr>\n",
       "    <tr>\n",
       "      <th>self-employed</th>\n",
       "      <td>1123</td>\n",
       "    </tr>\n",
       "    <tr>\n",
       "      <th>entrepreneur</th>\n",
       "      <td>1008</td>\n",
       "    </tr>\n",
       "    <tr>\n",
       "      <th>unemployed</th>\n",
       "      <td>905</td>\n",
       "    </tr>\n",
       "    <tr>\n",
       "      <th>housemaid</th>\n",
       "      <td>874</td>\n",
       "    </tr>\n",
       "    <tr>\n",
       "      <th>student</th>\n",
       "      <td>635</td>\n",
       "    </tr>\n",
       "    <tr>\n",
       "      <th>unknown</th>\n",
       "      <td>206</td>\n",
       "    </tr>\n",
       "  </tbody>\n",
       "</table>\n",
       "</div>"
      ],
      "text/plain": [
       "                job\n",
       "blue-collar    6842\n",
       "management     6639\n",
       "technician     5307\n",
       "admin.         3631\n",
       "services       2903\n",
       "retired        1574\n",
       "self-employed  1123\n",
       "entrepreneur   1008\n",
       "unemployed      905\n",
       "housemaid       874\n",
       "student         635\n",
       "unknown         206"
      ]
     },
     "execution_count": 17,
     "metadata": {},
     "output_type": "execute_result"
    }
   ],
   "source": [
    "df[\"job\"].value_counts().to_frame()"
   ]
  },
  {
   "cell_type": "markdown",
   "id": "d98727d9",
   "metadata": {},
   "source": [
    "Observation :  \n",
    "    >> Higher number are mostly at good job roles ,like blue collar, management, techinician, admin.\n",
    "    >> like some of them are unknown, not disclose what role or business they doing\n",
    "    >> Unemployed, housemaid, students are very less in numbers"
   ]
  },
  {
   "cell_type": "code",
   "execution_count": 18,
   "id": "475ff5c1",
   "metadata": {},
   "outputs": [
    {
     "data": {
      "image/png": "[encoded data removed]",
      "text/plain": [
       "<Figure size 1440x576 with 1 Axes>"
      ]
     },
     "metadata": {
      "needs_background": "light"
     },
     "output_type": "display_data"
    }
   ],
   "source": [
    "plt.figure(figsize=(20,8))\n",
    "sns.countplot(x=\"job\",data=df)\n",
    "plt.title(\"Job\",fontsize=25)\n",
    "plt.show()"
   ]
  },
  {
   "cell_type": "code",
   "execution_count": 19,
   "id": "344d7bd5",
   "metadata": {},
   "outputs": [
    {
     "data": {
      "text/html": [
       "<div>\n",
       "<style scoped>\n",
       "    .dataframe tbody tr th:only-of-type {\n",
       "        vertical-align: middle;\n",
       "    }\n",
       "\n",
       "    .dataframe tbody tr th {\n",
       "        vertical-align: top;\n",
       "    }\n",
       "\n",
       "    .dataframe thead th {\n",
       "        text-align: right;\n",
       "    }\n",
       "</style>\n",
       "<table border=\"1\" class=\"dataframe\">\n",
       "  <thead>\n",
       "    <tr style=\"text-align: right;\">\n",
       "      <th></th>\n",
       "      <th>marital</th>\n",
       "    </tr>\n",
       "  </thead>\n",
       "  <tbody>\n",
       "    <tr>\n",
       "      <th>married</th>\n",
       "      <td>19095</td>\n",
       "    </tr>\n",
       "    <tr>\n",
       "      <th>single</th>\n",
       "      <td>8922</td>\n",
       "    </tr>\n",
       "    <tr>\n",
       "      <th>divorced</th>\n",
       "      <td>3630</td>\n",
       "    </tr>\n",
       "  </tbody>\n",
       "</table>\n",
       "</div>"
      ],
      "text/plain": [
       "          marital\n",
       "married     19095\n",
       "single       8922\n",
       "divorced     3630"
      ]
     },
     "execution_count": 19,
     "metadata": {},
     "output_type": "execute_result"
    }
   ],
   "source": [
    "df[\"marital\"].value_counts().to_frame()"
   ]
  },
  {
   "cell_type": "code",
   "execution_count": 20,
   "id": "6c497ba7",
   "metadata": {},
   "outputs": [
    {
     "data": {
      "text/plain": [
       "<AxesSubplot:xlabel='marital', ylabel='count'>"
      ]
     },
     "execution_count": 20,
     "metadata": {},
     "output_type": "execute_result"
    },
    {
     "data": {
      "image/png": "[encoded data removed]",
      "text/plain": [
       "<Figure size 432x288 with 1 Axes>"
      ]
     },
     "metadata": {
      "needs_background": "light"
     },
     "output_type": "display_data"
    }
   ],
   "source": [
    "sns.countplot(x=\"marital\",data=df)"
   ]
  },
  {
   "cell_type": "code",
   "execution_count": 21,
   "id": "b4a97d6c",
   "metadata": {},
   "outputs": [
    {
     "name": "stdout",
     "output_type": "stream",
     "text": [
      "********************************************************************************\n",
      "           education\n",
      "secondary      16224\n",
      "tertiary        9301\n",
      "primary         4808\n",
      "unknown         1314\n",
      "\n",
      "\n",
      "********************************************************************************\n",
      "     default\n",
      "no     31062\n",
      "yes      585\n",
      "\n",
      "\n",
      "********************************************************************************\n",
      "     housing\n",
      "yes    17584\n",
      "no     14063\n",
      "\n",
      "\n",
      "********************************************************************************\n",
      "      loan\n",
      "no   26516\n",
      "yes   5131\n",
      "\n",
      "\n",
      "********************************************************************************\n",
      "           contact\n",
      "cellular     20423\n",
      "unknown       9177\n",
      "telephone     2047\n",
      "\n",
      "\n",
      "********************************************************************************\n",
      "     month\n",
      "may   9669\n",
      "jul   4844\n",
      "aug   4333\n",
      "jun   3738\n",
      "nov   2783\n",
      "apr   2055\n",
      "feb   1827\n",
      "jan    977\n",
      "oct    512\n",
      "sep    410\n",
      "mar    342\n",
      "dec    157\n",
      "\n",
      "\n",
      "********************************************************************************\n",
      "         poutcome\n",
      "unknown     25929\n",
      "failure      3362\n",
      "other        1288\n",
      "success      1068\n",
      "\n",
      "\n",
      "********************************************************************************\n",
      "     subscribed\n",
      "no        27932\n",
      "yes        3715\n",
      "\n",
      "\n"
     ]
    },
    {
     "data": {
      "image/png": "[encoded data removed]",
      "text/plain": [
       "<Figure size 432x288 with 1 Axes>"
      ]
     },
     "metadata": {
      "needs_background": "light"
     },
     "output_type": "display_data"
    },
    {
     "data": {
      "image/png": "[encoded data removed]",
      "text/plain": [
       "<Figure size 432x288 with 1 Axes>"
      ]
     },
     "metadata": {
      "needs_background": "light"
     },
     "output_type": "display_data"
    },
    {
     "data": {
      "image/png": "[encoded data removed]",
      "text/plain": [
       "<Figure size 432x288 with 1 Axes>"
      ]
     },
     "metadata": {
      "needs_background": "light"
     },
     "output_type": "display_data"
    },
    {
     "data": {
      "image/png": "[encoded data removed]",
      "text/plain": [
       "<Figure size 432x288 with 1 Axes>"
      ]
     },
     "metadata": {
      "needs_background": "light"
     },
     "output_type": "display_data"
    },
    {
     "data": {
      "image/png": "[encoded data removed]",
      "text/plain": [
       "<Figure size 432x288 with 1 Axes>"
      ]
     },
     "metadata": {
      "needs_background": "light"
     },
     "output_type": "display_data"
    },
    {
     "data": {
      "image/png": "[encoded data removed]",
      "text/plain": [
       "<Figure size 432x288 with 1 Axes>"
      ]
     },
     "metadata": {
      "needs_background": "light"
     },
     "output_type": "display_data"
    },
    {
     "data": {
      "image/png": "[encoded data removed]",
      "text/plain": [
       "<Figure size 432x288 with 1 Axes>"
      ]
     },
     "metadata": {
      "needs_background": "light"
     },
     "output_type": "display_data"
    },
    {
     "data": {
      "image/png": "[encoded data removed]",
      "text/plain": [
       "<Figure size 432x288 with 1 Axes>"
      ]
     },
     "metadata": {
      "needs_background": "light"
     },
     "output_type": "display_data"
    }
   ],
   "source": [
    "categoryclm = ['education', 'default','housing', 'loan', 'contact','month','poutcome','subscribed']\n",
    "\n",
    "for i in categoryclm:\n",
    "    plt.figure(i)\n",
    "    print(\"*\"*80)\n",
    "    print(df[i].value_counts().to_frame())\n",
    "    print(\"\\n\")\n",
    "    sns.countplot(x=i,data=df)\n",
    "               \n"
   ]
  },
  {
   "cell_type": "markdown",
   "id": "ffa92633",
   "metadata": {},
   "source": [
    "Observation :\n",
    "    \n",
    "    1. Higher numberare from secondary Educated people\n",
    "    2. Defualter are low in number.\n",
    "    3. people with housing loan are higher then without the housing loan.\n",
    "    4. People personal loan are vely low compare to do no have the personal loan. \n",
    "    5. Most of the people provided the Cellular contact, many of them haven't provided the number at all.\n",
    "    6. High number of entry we can find in month of May compare to any months.\n",
    "    7. Poutcome has high in number with unnow,  success is very less in number compare to other category.\n",
    "    8. Subsribed number are very little compare to not subscribed.\n",
    "    "
   ]
  },
  {
   "cell_type": "markdown",
   "id": "cb4632af",
   "metadata": {},
   "source": [
    "### Relationship between the Categorical Features and Label"
   ]
  },
  {
   "cell_type": "markdown",
   "id": "1740a8bc",
   "metadata": {},
   "source": [
    "check the target label splipt over the categoriacal features\n",
    "find out the relationship between categorical variable and dependen variable."
   ]
  },
  {
   "cell_type": "code",
   "execution_count": 22,
   "id": "87ff2af1",
   "metadata": {},
   "outputs": [
    {
     "data": {
      "image/png": "[encoded data removed]",
      "text/plain": [
       "<Figure size 4320x360 with 12 Axes>"
      ]
     },
     "metadata": {
      "needs_background": "light"
     },
     "output_type": "display_data"
    },
    {
     "data": {
      "image/png": "[encoded data removed]",
      "text/plain": [
       "<Figure size 1080x360 with 3 Axes>"
      ]
     },
     "metadata": {
      "needs_background": "light"
     },
     "output_type": "display_data"
    },
    {
     "data": {
      "image/png": "[encoded data removed]",
      "text/plain": [
       "<Figure size 1440x360 with 4 Axes>"
      ]
     },
     "metadata": {
      "needs_background": "light"
     },
     "output_type": "display_data"
    },
    {
     "data": {
      "image/png": "[encoded data removed]",
      "text/plain": [
       "<Figure size 720x360 with 2 Axes>"
      ]
     },
     "metadata": {
      "needs_background": "light"
     },
     "output_type": "display_data"
    },
    {
     "data": {
      "image/png": "[encoded data removed]",
      "text/plain": [
       "<Figure size 720x360 with 2 Axes>"
      ]
     },
     "metadata": {
      "needs_background": "light"
     },
     "output_type": "display_data"
    },
    {
     "data": {
      "image/png": "[encoded data removed]",
      "text/plain": [
       "<Figure size 720x360 with 2 Axes>"
      ]
     },
     "metadata": {
      "needs_background": "light"
     },
     "output_type": "display_data"
    },
    {
     "data": {
      "image/png": "[encoded data removed]",
      "text/plain": [
       "<Figure size 1080x360 with 3 Axes>"
      ]
     },
     "metadata": {
      "needs_background": "light"
     },
     "output_type": "display_data"
    },
    {
     "data": {
      "image/png": "[encoded data removed]",
      "text/plain": [
       "<Figure size 4320x360 with 12 Axes>"
      ]
     },
     "metadata": {
      "needs_background": "light"
     },
     "output_type": "display_data"
    },
    {
     "data": {
      "image/png": "[encoded data removed]",
      "text/plain": [
       "<Figure size 1440x360 with 4 Axes>"
      ]
     },
     "metadata": {
      "needs_background": "light"
     },
     "output_type": "display_data"
    }
   ],
   "source": [
    "# Bivariate Analysis with subscibed\n",
    "categoryclm = ['job','marital','education', 'default','housing', 'loan', 'contact','month','poutcome']\n",
    "for clm in categoryclm:\n",
    "    sns.catplot(x=\"subscribed\",col=clm,kind=\"count\",data=df)\n",
    "plt.show()"
   ]
  },
  {
   "cell_type": "code",
   "execution_count": 23,
   "id": "0c0ce28d",
   "metadata": {},
   "outputs": [
    {
     "name": "stdout",
     "output_type": "stream",
     "text": [
      "*************** job *************************\n",
      "job            subscribed\n",
      "admin.         no            3179\n",
      "               yes            452\n",
      "blue-collar    no            6353\n",
      "               yes            489\n",
      "entrepreneur   no             923\n",
      "               yes             85\n",
      "housemaid      no             795\n",
      "               yes             79\n",
      "management     no            5716\n",
      "               yes            923\n",
      "retired        no            1212\n",
      "               yes            362\n",
      "self-employed  no             983\n",
      "               yes            140\n",
      "services       no            2649\n",
      "               yes            254\n",
      "student        no             453\n",
      "               yes            182\n",
      "technician     no            4713\n",
      "               yes            594\n",
      "unemployed     no             776\n",
      "               yes            129\n",
      "unknown        no             180\n",
      "               yes             26\n",
      "Name: subscribed, dtype: int64\n",
      "\n",
      "\n",
      "*************** marital *************************\n",
      "marital   subscribed\n",
      "divorced  no             3185\n",
      "          yes             445\n",
      "married   no            17176\n",
      "          yes            1919\n",
      "single    no             7571\n",
      "          yes            1351\n",
      "Name: subscribed, dtype: int64\n",
      "\n",
      "\n",
      "*************** education *************************\n",
      "education  subscribed\n",
      "primary    no             4381\n",
      "           yes             427\n",
      "secondary  no            14527\n",
      "           yes            1697\n",
      "tertiary   no             7886\n",
      "           yes            1415\n",
      "unknown    no             1138\n",
      "           yes             176\n",
      "Name: subscribed, dtype: int64\n",
      "\n",
      "\n",
      "*************** default *************************\n",
      "default  subscribed\n",
      "no       no            27388\n",
      "         yes            3674\n",
      "yes      no              544\n",
      "         yes              41\n",
      "Name: subscribed, dtype: int64\n",
      "\n",
      "\n",
      "*************** housing *************************\n",
      "housing  subscribed\n",
      "no       no            11698\n",
      "         yes            2365\n",
      "yes      no            16234\n",
      "         yes            1350\n",
      "Name: subscribed, dtype: int64\n",
      "\n",
      "\n",
      "*************** loan *************************\n",
      "loan  subscribed\n",
      "no    no            23132\n",
      "      yes            3384\n",
      "yes   no             4800\n",
      "      yes             331\n",
      "Name: subscribed, dtype: int64\n",
      "\n",
      "\n",
      "*************** contact *************************\n",
      "contact    subscribed\n",
      "cellular   no            17352\n",
      "           yes            3071\n",
      "telephone  no             1779\n",
      "           yes             268\n",
      "unknown    no             8801\n",
      "           yes             376\n",
      "Name: subscribed, dtype: int64\n",
      "\n",
      "\n",
      "*************** month *************************\n",
      "month  subscribed\n",
      "apr    no            1671\n",
      "       yes            384\n",
      "aug    no            3813\n",
      "       yes            520\n",
      "dec    no              85\n",
      "       yes             72\n",
      "feb    no            1522\n",
      "       yes            305\n",
      "jan    no             880\n",
      "       yes             97\n",
      "jul    no            4403\n",
      "       yes            441\n",
      "jun    no            3355\n",
      "       yes            383\n",
      "mar    yes            174\n",
      "       no             168\n",
      "may    no            9020\n",
      "       yes            649\n",
      "nov    no            2508\n",
      "       yes            275\n",
      "oct    no             288\n",
      "       yes            224\n",
      "sep    no             219\n",
      "       yes            191\n",
      "Name: subscribed, dtype: int64\n",
      "\n",
      "\n",
      "*************** poutcome *************************\n",
      "poutcome  subscribed\n",
      "failure   no             2931\n",
      "          yes             431\n",
      "other     no             1071\n",
      "          yes             217\n",
      "success   yes             694\n",
      "          no              374\n",
      "unknown   no            23556\n",
      "          yes            2373\n",
      "Name: subscribed, dtype: int64\n",
      "\n",
      "\n",
      "*************** subscribed *************************\n",
      "subscribed  subscribed\n",
      "no          no            27932\n",
      "yes         yes            3715\n",
      "Name: subscribed, dtype: int64\n",
      "\n",
      "\n"
     ]
    }
   ],
   "source": [
    "categoryclm = ['job','marital','education', 'default','housing', 'loan', 'contact','month','poutcome','subscribed']\n",
    "for i in categoryclm:\n",
    "    print(\"*\"*15,i,\"*\"*25)\n",
    "    print(df.groupby(df[i])[\"subscribed\"].value_counts())\n",
    "    print(\"\\n\")"
   ]
  },
  {
   "cell_type": "code",
   "execution_count": 24,
   "id": "99e54d4d",
   "metadata": {},
   "outputs": [
    {
     "data": {
      "image/png": "[encoded data removed]",
      "text/plain": [
       "<Figure size 432x288 with 1 Axes>"
      ]
     },
     "metadata": {
      "needs_background": "light"
     },
     "output_type": "display_data"
    },
    {
     "data": {
      "image/png": "[encoded data removed]",
      "text/plain": [
       "<Figure size 432x288 with 1 Axes>"
      ]
     },
     "metadata": {
      "needs_background": "light"
     },
     "output_type": "display_data"
    },
    {
     "data": {
      "image/png": "[encoded data removed]",
      "text/plain": [
       "<Figure size 432x288 with 1 Axes>"
      ]
     },
     "metadata": {
      "needs_background": "light"
     },
     "output_type": "display_data"
    },
    {
     "data": {
      "image/png": "[encoded data removed]",
      "text/plain": [
       "<Figure size 432x288 with 1 Axes>"
      ]
     },
     "metadata": {
      "needs_background": "light"
     },
     "output_type": "display_data"
    },
    {
     "data": {
      "image/png": "[encoded data removed]",
      "text/plain": [
       "<Figure size 432x288 with 1 Axes>"
      ]
     },
     "metadata": {
      "needs_background": "light"
     },
     "output_type": "display_data"
    },
    {
     "data": {
      "image/png": "[encoded data removed]",
      "text/plain": [
       "<Figure size 432x288 with 1 Axes>"
      ]
     },
     "metadata": {
      "needs_background": "light"
     },
     "output_type": "display_data"
    },
    {
     "data": {
      "image/png": "[encoded data removed]",
      "text/plain": [
       "<Figure size 432x288 with 1 Axes>"
      ]
     },
     "metadata": {
      "needs_background": "light"
     },
     "output_type": "display_data"
    },
    {
     "data": {
      "image/png": "[encoded data removed]",
      "text/plain": [
       "<Figure size 432x288 with 1 Axes>"
      ]
     },
     "metadata": {
      "needs_background": "light"
     },
     "output_type": "display_data"
    },
    {
     "data": {
      "image/png": "[encoded data removed]",
      "text/plain": [
       "<Figure size 432x288 with 1 Axes>"
      ]
     },
     "metadata": {
      "needs_background": "light"
     },
     "output_type": "display_data"
    },
    {
     "data": {
      "image/png": "[encoded data removed]",
      "text/plain": [
       "<Figure size 432x288 with 1 Axes>"
      ]
     },
     "metadata": {
      "needs_background": "light"
     },
     "output_type": "display_data"
    }
   ],
   "source": [
    "categoryclm = ['job','marital','education', 'default','housing', 'loan', 'contact','month','poutcome','subscribed']\n",
    "for i in categoryclm:\n",
    "    plt.figure(i)\n",
    "    sns.countplot(x=i,data=df,hue=\"subscribed\")\n",
    "    plt.title(i)"
   ]
  },
  {
   "cell_type": "markdown",
   "id": "8aa5d838",
   "metadata": {},
   "source": [
    "####  Observation \n",
    "    >> retired client has high interest on deposit\n",
    "    >> client who has housing loan seems to be not interested much on deposit\n",
    "    >> if pre compagin outcome that is poutcome = sucess then, there is hgih chance of client to show interest on deposit\n",
    "    >> in month of march, december, october september show high interest to deposit\n",
    "    >> in month of may, records are too high client, interest ratio is very less"
   ]
  },
  {
   "cell_type": "code",
   "execution_count": 25,
   "id": "e88ac8a5",
   "metadata": {},
   "outputs": [
    {
     "data": {
      "text/plain": [
       "Index(['ID', 'age', 'job', 'marital', 'education', 'default', 'balance',\n",
       "       'housing', 'loan', 'contact', 'day', 'month', 'duration', 'campaign',\n",
       "       'pdays', 'previous', 'poutcome', 'subscribed'],\n",
       "      dtype='object')"
      ]
     },
     "execution_count": 25,
     "metadata": {},
     "output_type": "execute_result"
    }
   ],
   "source": [
    "df.columns"
   ]
  },
  {
   "cell_type": "markdown",
   "id": "84c3517a",
   "metadata": {},
   "source": [
    "### ID columns Dropped , as its irrelvant for model "
   ]
  },
  {
   "cell_type": "code",
   "execution_count": 26,
   "id": "4e64ac8b",
   "metadata": {},
   "outputs": [],
   "source": [
    "df.drop(\"ID\",axis=1,inplace=True)"
   ]
  },
  {
   "cell_type": "code",
   "execution_count": 27,
   "id": "752420f8",
   "metadata": {},
   "outputs": [
    {
     "data": {
      "text/html": [
       "<div>\n",
       "<style scoped>\n",
       "    .dataframe tbody tr th:only-of-type {\n",
       "        vertical-align: middle;\n",
       "    }\n",
       "\n",
       "    .dataframe tbody tr th {\n",
       "        vertical-align: top;\n",
       "    }\n",
       "\n",
       "    .dataframe thead th {\n",
       "        text-align: right;\n",
       "    }\n",
       "</style>\n",
       "<table border=\"1\" class=\"dataframe\">\n",
       "  <thead>\n",
       "    <tr style=\"text-align: right;\">\n",
       "      <th></th>\n",
       "      <th>age</th>\n",
       "      <th>job</th>\n",
       "      <th>marital</th>\n",
       "      <th>education</th>\n",
       "      <th>default</th>\n",
       "      <th>balance</th>\n",
       "      <th>housing</th>\n",
       "      <th>loan</th>\n",
       "      <th>contact</th>\n",
       "      <th>day</th>\n",
       "      <th>month</th>\n",
       "      <th>duration</th>\n",
       "      <th>campaign</th>\n",
       "      <th>pdays</th>\n",
       "      <th>previous</th>\n",
       "      <th>poutcome</th>\n",
       "      <th>subscribed</th>\n",
       "    </tr>\n",
       "  </thead>\n",
       "  <tbody>\n",
       "    <tr>\n",
       "      <th>0</th>\n",
       "      <td>56</td>\n",
       "      <td>admin.</td>\n",
       "      <td>married</td>\n",
       "      <td>unknown</td>\n",
       "      <td>no</td>\n",
       "      <td>1933</td>\n",
       "      <td>no</td>\n",
       "      <td>no</td>\n",
       "      <td>telephone</td>\n",
       "      <td>19</td>\n",
       "      <td>nov</td>\n",
       "      <td>44</td>\n",
       "      <td>2</td>\n",
       "      <td>-1</td>\n",
       "      <td>0</td>\n",
       "      <td>unknown</td>\n",
       "      <td>no</td>\n",
       "    </tr>\n",
       "    <tr>\n",
       "      <th>1</th>\n",
       "      <td>31</td>\n",
       "      <td>unknown</td>\n",
       "      <td>married</td>\n",
       "      <td>secondary</td>\n",
       "      <td>no</td>\n",
       "      <td>3</td>\n",
       "      <td>no</td>\n",
       "      <td>no</td>\n",
       "      <td>cellular</td>\n",
       "      <td>20</td>\n",
       "      <td>jul</td>\n",
       "      <td>91</td>\n",
       "      <td>2</td>\n",
       "      <td>-1</td>\n",
       "      <td>0</td>\n",
       "      <td>unknown</td>\n",
       "      <td>no</td>\n",
       "    </tr>\n",
       "    <tr>\n",
       "      <th>2</th>\n",
       "      <td>27</td>\n",
       "      <td>services</td>\n",
       "      <td>married</td>\n",
       "      <td>secondary</td>\n",
       "      <td>no</td>\n",
       "      <td>891</td>\n",
       "      <td>yes</td>\n",
       "      <td>no</td>\n",
       "      <td>cellular</td>\n",
       "      <td>18</td>\n",
       "      <td>jul</td>\n",
       "      <td>240</td>\n",
       "      <td>1</td>\n",
       "      <td>-1</td>\n",
       "      <td>0</td>\n",
       "      <td>unknown</td>\n",
       "      <td>no</td>\n",
       "    </tr>\n",
       "    <tr>\n",
       "      <th>3</th>\n",
       "      <td>57</td>\n",
       "      <td>management</td>\n",
       "      <td>divorced</td>\n",
       "      <td>tertiary</td>\n",
       "      <td>no</td>\n",
       "      <td>3287</td>\n",
       "      <td>no</td>\n",
       "      <td>no</td>\n",
       "      <td>cellular</td>\n",
       "      <td>22</td>\n",
       "      <td>jun</td>\n",
       "      <td>867</td>\n",
       "      <td>1</td>\n",
       "      <td>84</td>\n",
       "      <td>3</td>\n",
       "      <td>success</td>\n",
       "      <td>yes</td>\n",
       "    </tr>\n",
       "    <tr>\n",
       "      <th>4</th>\n",
       "      <td>31</td>\n",
       "      <td>technician</td>\n",
       "      <td>married</td>\n",
       "      <td>secondary</td>\n",
       "      <td>no</td>\n",
       "      <td>119</td>\n",
       "      <td>yes</td>\n",
       "      <td>no</td>\n",
       "      <td>cellular</td>\n",
       "      <td>4</td>\n",
       "      <td>feb</td>\n",
       "      <td>380</td>\n",
       "      <td>1</td>\n",
       "      <td>-1</td>\n",
       "      <td>0</td>\n",
       "      <td>unknown</td>\n",
       "      <td>no</td>\n",
       "    </tr>\n",
       "  </tbody>\n",
       "</table>\n",
       "</div>"
      ],
      "text/plain": [
       "   age         job   marital  education default  balance housing loan  \\\n",
       "0   56      admin.   married    unknown      no     1933      no   no   \n",
       "1   31     unknown   married  secondary      no        3      no   no   \n",
       "2   27    services   married  secondary      no      891     yes   no   \n",
       "3   57  management  divorced   tertiary      no     3287      no   no   \n",
       "4   31  technician   married  secondary      no      119     yes   no   \n",
       "\n",
       "     contact  day month  duration  campaign  pdays  previous poutcome  \\\n",
       "0  telephone   19   nov        44         2     -1         0  unknown   \n",
       "1   cellular   20   jul        91         2     -1         0  unknown   \n",
       "2   cellular   18   jul       240         1     -1         0  unknown   \n",
       "3   cellular   22   jun       867         1     84         3  success   \n",
       "4   cellular    4   feb       380         1     -1         0  unknown   \n",
       "\n",
       "  subscribed  \n",
       "0         no  \n",
       "1         no  \n",
       "2         no  \n",
       "3        yes  \n",
       "4         no  "
      ]
     },
     "execution_count": 27,
     "metadata": {},
     "output_type": "execute_result"
    }
   ],
   "source": [
    "df.head()"
   ]
  },
  {
   "cell_type": "markdown",
   "id": "8c665863",
   "metadata": {
    "scrolled": true
   },
   "source": [
    "### Numerical columns analysis"
   ]
  },
  {
   "cell_type": "code",
   "execution_count": 28,
   "id": "03e718b1",
   "metadata": {
    "scrolled": true
   },
   "outputs": [
    {
     "name": "stdout",
     "output_type": "stream",
     "text": [
      "Numeric columns : ['age', 'balance', 'day', 'duration', 'campaign', 'pdays', 'previous']\n"
     ]
    },
    {
     "data": {
      "text/html": [
       "<div>\n",
       "<style scoped>\n",
       "    .dataframe tbody tr th:only-of-type {\n",
       "        vertical-align: middle;\n",
       "    }\n",
       "\n",
       "    .dataframe tbody tr th {\n",
       "        vertical-align: top;\n",
       "    }\n",
       "\n",
       "    .dataframe thead th {\n",
       "        text-align: right;\n",
       "    }\n",
       "</style>\n",
       "<table border=\"1\" class=\"dataframe\">\n",
       "  <thead>\n",
       "    <tr style=\"text-align: right;\">\n",
       "      <th></th>\n",
       "      <th>age</th>\n",
       "      <th>balance</th>\n",
       "      <th>day</th>\n",
       "      <th>duration</th>\n",
       "      <th>campaign</th>\n",
       "      <th>pdays</th>\n",
       "      <th>previous</th>\n",
       "    </tr>\n",
       "  </thead>\n",
       "  <tbody>\n",
       "    <tr>\n",
       "      <th>0</th>\n",
       "      <td>56</td>\n",
       "      <td>1933</td>\n",
       "      <td>19</td>\n",
       "      <td>44</td>\n",
       "      <td>2</td>\n",
       "      <td>-1</td>\n",
       "      <td>0</td>\n",
       "    </tr>\n",
       "    <tr>\n",
       "      <th>1</th>\n",
       "      <td>31</td>\n",
       "      <td>3</td>\n",
       "      <td>20</td>\n",
       "      <td>91</td>\n",
       "      <td>2</td>\n",
       "      <td>-1</td>\n",
       "      <td>0</td>\n",
       "    </tr>\n",
       "    <tr>\n",
       "      <th>2</th>\n",
       "      <td>27</td>\n",
       "      <td>891</td>\n",
       "      <td>18</td>\n",
       "      <td>240</td>\n",
       "      <td>1</td>\n",
       "      <td>-1</td>\n",
       "      <td>0</td>\n",
       "    </tr>\n",
       "    <tr>\n",
       "      <th>3</th>\n",
       "      <td>57</td>\n",
       "      <td>3287</td>\n",
       "      <td>22</td>\n",
       "      <td>867</td>\n",
       "      <td>1</td>\n",
       "      <td>84</td>\n",
       "      <td>3</td>\n",
       "    </tr>\n",
       "    <tr>\n",
       "      <th>4</th>\n",
       "      <td>31</td>\n",
       "      <td>119</td>\n",
       "      <td>4</td>\n",
       "      <td>380</td>\n",
       "      <td>1</td>\n",
       "      <td>-1</td>\n",
       "      <td>0</td>\n",
       "    </tr>\n",
       "  </tbody>\n",
       "</table>\n",
       "</div>"
      ],
      "text/plain": [
       "   age  balance  day  duration  campaign  pdays  previous\n",
       "0   56     1933   19        44         2     -1         0\n",
       "1   31        3   20        91         2     -1         0\n",
       "2   27      891   18       240         1     -1         0\n",
       "3   57     3287   22       867         1     84         3\n",
       "4   31      119    4       380         1     -1         0"
      ]
     },
     "execution_count": 28,
     "metadata": {},
     "output_type": "execute_result"
    }
   ],
   "source": [
    "numeric_clm = [i for i in df.columns if ((df[i].dtypes !=\"O\") & (i not in [\"subscribed\"]))]\n",
    "print(\"Numeric columns :\",numeric_clm)\n",
    "\n",
    "df[numeric_clm].head()"
   ]
  },
  {
   "cell_type": "markdown",
   "id": "63f94947",
   "metadata": {},
   "source": [
    "Observation  : There are 7 Numerical features"
   ]
  },
  {
   "cell_type": "markdown",
   "id": "c0709255",
   "metadata": {},
   "source": [
    "### Find discrete Numerical Features"
   ]
  },
  {
   "cell_type": "code",
   "execution_count": 29,
   "id": "6c447e38",
   "metadata": {},
   "outputs": [
    {
     "name": "stdout",
     "output_type": "stream",
     "text": [
      "discreate variable count 0\n"
     ]
    }
   ],
   "source": [
    "discrete_clm = [i for i in numeric_clm if len(df[i].unique())<25]\n",
    "print(\"discreate variable count {}\".format(len(discrete_clm)))"
   ]
  },
  {
   "cell_type": "markdown",
   "id": "af02c72d",
   "metadata": {},
   "source": [
    "### Distribution of Continous Numerical Features"
   ]
  },
  {
   "cell_type": "code",
   "execution_count": 30,
   "id": "d054a04c",
   "metadata": {},
   "outputs": [
    {
     "data": {
      "image/png": "[encoded data removed]",
      "text/plain": [
       "<Figure size 1440x4320 with 7 Axes>"
      ]
     },
     "metadata": {},
     "output_type": "display_data"
    }
   ],
   "source": [
    "plt.figure(figsize=(20,60),facecolor= \"white\")\n",
    "plotnumber=1\n",
    "for i in numeric_clm:\n",
    "    ax = plt.subplot(12,3,plotnumber)\n",
    "    sns.distplot(df[i])\n",
    "    plt.xlabel(i)\n",
    "    plotnumber+=1\n",
    "plt.show()"
   ]
  },
  {
   "cell_type": "markdown",
   "id": "6673c5bd",
   "metadata": {},
   "source": [
    "#### Observation\n",
    "        >> age,days distributed normally\n",
    "        >> balance, duration, compaign, pdays and previous heavely skewed towards left "
   ]
  },
  {
   "cell_type": "markdown",
   "id": "8595bb61",
   "metadata": {},
   "source": [
    "### Relation between numeric features and labels"
   ]
  },
  {
   "cell_type": "code",
   "execution_count": 31,
   "id": "b3b81cfa",
   "metadata": {},
   "outputs": [
    {
     "data": {
      "image/png": "[encoded data removed]",
      "text/plain": [
       "<Figure size 1440x4320 with 7 Axes>"
      ]
     },
     "metadata": {},
     "output_type": "display_data"
    }
   ],
   "source": [
    "# boxplot to show target distribution with respect to numerical fetaures\n",
    "plt.figure(figsize=(20,60),facecolor=\"white\")\n",
    "plotnumber = 1\n",
    "\n",
    "for i in numeric_clm:\n",
    "    ax = plt.subplot(12,3,plotnumber)\n",
    "    sns.boxplot(x=\"subscribed\",y=df[i],data=df)\n",
    "    plt.xlabel(i)\n",
    "    plotnumber +=1\n",
    "plt.show()"
   ]
  },
  {
   "cell_type": "markdown",
   "id": "f0bb9acd",
   "metadata": {},
   "source": [
    "Observation  : \n",
    "    >> client shows interest on deposit who had discussion for longer duration\n",
    "    >> we can notice that apart from day rest of features have outliers"
   ]
  },
  {
   "cell_type": "markdown",
   "id": "a5b59814",
   "metadata": {},
   "source": [
    "### Find Outliers in numberical features"
   ]
  },
  {
   "cell_type": "code",
   "execution_count": 32,
   "id": "318194e1",
   "metadata": {},
   "outputs": [
    {
     "data": {
      "image/png": "[encoded data removed]",
      "text/plain": [
       "<Figure size 1440x4320 with 7 Axes>"
      ]
     },
     "metadata": {},
     "output_type": "display_data"
    }
   ],
   "source": [
    "plt.figure(figsize= (20,60),facecolor=\"white\")\n",
    "plotnumber = 1\n",
    "\n",
    "for i in numeric_clm:\n",
    "    ax = plt.subplot(12,3,plotnumber)\n",
    "    sns.boxplot(df[i])\n",
    "    plt.xlabel(i)\n",
    "    plotnumber+=1\n",
    "plt.show()"
   ]
  },
  {
   "cell_type": "markdown",
   "id": "65010dca",
   "metadata": {},
   "source": [
    "Observation  : Outliers are present in  age,balance, duration,compaign, pdays, and previous"
   ]
  },
  {
   "cell_type": "markdown",
   "id": "ee45d7dc",
   "metadata": {},
   "source": [
    "### Correlation between the numerical columns"
   ]
  },
  {
   "cell_type": "code",
   "execution_count": 33,
   "id": "23e7f2ec",
   "metadata": {},
   "outputs": [
    {
     "data": {
      "text/plain": [
       "<AxesSubplot:>"
      ]
     },
     "execution_count": 33,
     "metadata": {},
     "output_type": "execute_result"
    },
    {
     "data": {
      "image/png": "[encoded data removed]",
      "text/plain": [
       "<Figure size 1080x504 with 2 Axes>"
      ]
     },
     "metadata": {
      "needs_background": "light"
     },
     "output_type": "display_data"
    }
   ],
   "source": [
    "cor_mat = df.corr()\n",
    "fig= plt.figure(figsize=(15,7))\n",
    "sns.heatmap(cor_mat,annot=True)"
   ]
  },
  {
   "cell_type": "markdown",
   "id": "0968cdd5",
   "metadata": {},
   "source": [
    "Observation : \n",
    "    >> No features are correlated with other features"
   ]
  },
  {
   "cell_type": "markdown",
   "id": "30d2f8ee",
   "metadata": {},
   "source": [
    "### checking the data is balance or not based on Target values"
   ]
  },
  {
   "cell_type": "code",
   "execution_count": 34,
   "id": "ee223a52",
   "metadata": {},
   "outputs": [
    {
     "name": "stdout",
     "output_type": "stream",
     "text": [
      "     subscribed\n",
      "no        27932\n",
      "yes        3715\n"
     ]
    },
    {
     "data": {
      "image/png": "[encoded data removed]",
      "text/plain": [
       "<Figure size 432x288 with 1 Axes>"
      ]
     },
     "metadata": {
      "needs_background": "light"
     },
     "output_type": "display_data"
    }
   ],
   "source": [
    "print(df[\"subscribed\"].value_counts().to_frame())\n",
    "sns.countplot(x=\"subscribed\",data=df)\n",
    "plt.show()"
   ]
  },
  {
   "cell_type": "markdown",
   "id": "d5c4eb71",
   "metadata": {},
   "source": [
    "data is not balance "
   ]
  },
  {
   "cell_type": "markdown",
   "id": "2510affa",
   "metadata": {},
   "source": [
    "### As per the EDA \n",
    "\n",
    "        >> No Missing value\n",
    "        >> no feature found with one value\n",
    "        >> outliers found in age,balance,duration,compaign, pdays and previous features"
   ]
  },
  {
   "cell_type": "code",
   "execution_count": 40,
   "id": "79cfafb3",
   "metadata": {},
   "outputs": [],
   "source": [
    "df1 = df.copy()"
   ]
  },
  {
   "cell_type": "code",
   "execution_count": 41,
   "id": "792a62b6",
   "metadata": {},
   "outputs": [
    {
     "data": {
      "text/html": [
       "<div>\n",
       "<style scoped>\n",
       "    .dataframe tbody tr th:only-of-type {\n",
       "        vertical-align: middle;\n",
       "    }\n",
       "\n",
       "    .dataframe tbody tr th {\n",
       "        vertical-align: top;\n",
       "    }\n",
       "\n",
       "    .dataframe thead th {\n",
       "        text-align: right;\n",
       "    }\n",
       "</style>\n",
       "<table border=\"1\" class=\"dataframe\">\n",
       "  <thead>\n",
       "    <tr style=\"text-align: right;\">\n",
       "      <th></th>\n",
       "      <th>age</th>\n",
       "      <th>job</th>\n",
       "      <th>marital</th>\n",
       "      <th>education</th>\n",
       "      <th>default</th>\n",
       "      <th>balance</th>\n",
       "      <th>housing</th>\n",
       "      <th>loan</th>\n",
       "      <th>contact</th>\n",
       "      <th>day</th>\n",
       "      <th>month</th>\n",
       "      <th>duration</th>\n",
       "      <th>campaign</th>\n",
       "      <th>pdays</th>\n",
       "      <th>previous</th>\n",
       "      <th>poutcome</th>\n",
       "      <th>subscribed</th>\n",
       "    </tr>\n",
       "  </thead>\n",
       "  <tbody>\n",
       "    <tr>\n",
       "      <th>0</th>\n",
       "      <td>56</td>\n",
       "      <td>admin.</td>\n",
       "      <td>married</td>\n",
       "      <td>unknown</td>\n",
       "      <td>no</td>\n",
       "      <td>1933</td>\n",
       "      <td>no</td>\n",
       "      <td>no</td>\n",
       "      <td>telephone</td>\n",
       "      <td>19</td>\n",
       "      <td>nov</td>\n",
       "      <td>44</td>\n",
       "      <td>2</td>\n",
       "      <td>-1</td>\n",
       "      <td>0</td>\n",
       "      <td>unknown</td>\n",
       "      <td>no</td>\n",
       "    </tr>\n",
       "    <tr>\n",
       "      <th>1</th>\n",
       "      <td>31</td>\n",
       "      <td>unknown</td>\n",
       "      <td>married</td>\n",
       "      <td>secondary</td>\n",
       "      <td>no</td>\n",
       "      <td>3</td>\n",
       "      <td>no</td>\n",
       "      <td>no</td>\n",
       "      <td>cellular</td>\n",
       "      <td>20</td>\n",
       "      <td>jul</td>\n",
       "      <td>91</td>\n",
       "      <td>2</td>\n",
       "      <td>-1</td>\n",
       "      <td>0</td>\n",
       "      <td>unknown</td>\n",
       "      <td>no</td>\n",
       "    </tr>\n",
       "    <tr>\n",
       "      <th>2</th>\n",
       "      <td>27</td>\n",
       "      <td>services</td>\n",
       "      <td>married</td>\n",
       "      <td>secondary</td>\n",
       "      <td>no</td>\n",
       "      <td>891</td>\n",
       "      <td>yes</td>\n",
       "      <td>no</td>\n",
       "      <td>cellular</td>\n",
       "      <td>18</td>\n",
       "      <td>jul</td>\n",
       "      <td>240</td>\n",
       "      <td>1</td>\n",
       "      <td>-1</td>\n",
       "      <td>0</td>\n",
       "      <td>unknown</td>\n",
       "      <td>no</td>\n",
       "    </tr>\n",
       "    <tr>\n",
       "      <th>3</th>\n",
       "      <td>57</td>\n",
       "      <td>management</td>\n",
       "      <td>divorced</td>\n",
       "      <td>tertiary</td>\n",
       "      <td>no</td>\n",
       "      <td>3287</td>\n",
       "      <td>no</td>\n",
       "      <td>no</td>\n",
       "      <td>cellular</td>\n",
       "      <td>22</td>\n",
       "      <td>jun</td>\n",
       "      <td>867</td>\n",
       "      <td>1</td>\n",
       "      <td>84</td>\n",
       "      <td>3</td>\n",
       "      <td>success</td>\n",
       "      <td>yes</td>\n",
       "    </tr>\n",
       "    <tr>\n",
       "      <th>4</th>\n",
       "      <td>31</td>\n",
       "      <td>technician</td>\n",
       "      <td>married</td>\n",
       "      <td>secondary</td>\n",
       "      <td>no</td>\n",
       "      <td>119</td>\n",
       "      <td>yes</td>\n",
       "      <td>no</td>\n",
       "      <td>cellular</td>\n",
       "      <td>4</td>\n",
       "      <td>feb</td>\n",
       "      <td>380</td>\n",
       "      <td>1</td>\n",
       "      <td>-1</td>\n",
       "      <td>0</td>\n",
       "      <td>unknown</td>\n",
       "      <td>no</td>\n",
       "    </tr>\n",
       "  </tbody>\n",
       "</table>\n",
       "</div>"
      ],
      "text/plain": [
       "   age         job   marital  education default  balance housing loan  \\\n",
       "0   56      admin.   married    unknown      no     1933      no   no   \n",
       "1   31     unknown   married  secondary      no        3      no   no   \n",
       "2   27    services   married  secondary      no      891     yes   no   \n",
       "3   57  management  divorced   tertiary      no     3287      no   no   \n",
       "4   31  technician   married  secondary      no      119     yes   no   \n",
       "\n",
       "     contact  day month  duration  campaign  pdays  previous poutcome  \\\n",
       "0  telephone   19   nov        44         2     -1         0  unknown   \n",
       "1   cellular   20   jul        91         2     -1         0  unknown   \n",
       "2   cellular   18   jul       240         1     -1         0  unknown   \n",
       "3   cellular   22   jun       867         1     84         3  success   \n",
       "4   cellular    4   feb       380         1     -1         0  unknown   \n",
       "\n",
       "  subscribed  \n",
       "0         no  \n",
       "1         no  \n",
       "2         no  \n",
       "3        yes  \n",
       "4         no  "
      ]
     },
     "execution_count": 41,
     "metadata": {},
     "output_type": "execute_result"
    }
   ],
   "source": [
    "df1.head()"
   ]
  },
  {
   "cell_type": "code",
   "execution_count": 42,
   "id": "6608bd1f",
   "metadata": {},
   "outputs": [
    {
     "data": {
      "text/plain": [
       "(31647, 17)"
      ]
     },
     "execution_count": 42,
     "metadata": {},
     "output_type": "execute_result"
    }
   ],
   "source": [
    "df1.shape"
   ]
  },
  {
   "cell_type": "code",
   "execution_count": 43,
   "id": "46afa1a1",
   "metadata": {},
   "outputs": [
    {
     "data": {
      "text/plain": [
       "(31647, 17)"
      ]
     },
     "execution_count": 43,
     "metadata": {},
     "output_type": "execute_result"
    }
   ],
   "source": [
    "df.shape"
   ]
  },
  {
   "cell_type": "markdown",
   "id": "7199f79d",
   "metadata": {},
   "source": [
    "### Features Enginerring"
   ]
  },
  {
   "cell_type": "code",
   "execution_count": 44,
   "id": "53f92d81",
   "metadata": {},
   "outputs": [
    {
     "data": {
      "text/html": [
       "<div>\n",
       "<style scoped>\n",
       "    .dataframe tbody tr th:only-of-type {\n",
       "        vertical-align: middle;\n",
       "    }\n",
       "\n",
       "    .dataframe tbody tr th {\n",
       "        vertical-align: top;\n",
       "    }\n",
       "\n",
       "    .dataframe thead th {\n",
       "        text-align: right;\n",
       "    }\n",
       "</style>\n",
       "<table border=\"1\" class=\"dataframe\">\n",
       "  <thead>\n",
       "    <tr style=\"text-align: right;\">\n",
       "      <th></th>\n",
       "      <th></th>\n",
       "      <th>0</th>\n",
       "    </tr>\n",
       "    <tr>\n",
       "      <th>subscribed</th>\n",
       "      <th>default</th>\n",
       "      <th></th>\n",
       "    </tr>\n",
       "  </thead>\n",
       "  <tbody>\n",
       "    <tr>\n",
       "      <th rowspan=\"2\" valign=\"top\">no</th>\n",
       "      <th>no</th>\n",
       "      <td>27388</td>\n",
       "    </tr>\n",
       "    <tr>\n",
       "      <th>yes</th>\n",
       "      <td>544</td>\n",
       "    </tr>\n",
       "    <tr>\n",
       "      <th rowspan=\"2\" valign=\"top\">yes</th>\n",
       "      <th>no</th>\n",
       "      <td>3674</td>\n",
       "    </tr>\n",
       "    <tr>\n",
       "      <th>yes</th>\n",
       "      <td>41</td>\n",
       "    </tr>\n",
       "  </tbody>\n",
       "</table>\n",
       "</div>"
      ],
      "text/plain": [
       "                        0\n",
       "subscribed default       \n",
       "no         no       27388\n",
       "           yes        544\n",
       "yes        no        3674\n",
       "           yes         41"
      ]
     },
     "execution_count": 44,
     "metadata": {},
     "output_type": "execute_result"
    }
   ],
   "source": [
    "df1.groupby([\"subscribed\",\"default\"]).size().to_frame()"
   ]
  },
  {
   "cell_type": "code",
   "execution_count": 45,
   "id": "976a131d",
   "metadata": {},
   "outputs": [],
   "source": [
    "# removed default and contact columns\n",
    "\n",
    "df1.drop([\"default\",\"contact\"],axis=1,inplace=True)"
   ]
  },
  {
   "cell_type": "code",
   "execution_count": 46,
   "id": "c0a82e61",
   "metadata": {},
   "outputs": [
    {
     "data": {
      "text/html": [
       "<div>\n",
       "<style scoped>\n",
       "    .dataframe tbody tr th:only-of-type {\n",
       "        vertical-align: middle;\n",
       "    }\n",
       "\n",
       "    .dataframe tbody tr th {\n",
       "        vertical-align: top;\n",
       "    }\n",
       "\n",
       "    .dataframe thead th {\n",
       "        text-align: right;\n",
       "    }\n",
       "</style>\n",
       "<table border=\"1\" class=\"dataframe\">\n",
       "  <thead>\n",
       "    <tr style=\"text-align: right;\">\n",
       "      <th></th>\n",
       "      <th></th>\n",
       "      <th>0</th>\n",
       "    </tr>\n",
       "    <tr>\n",
       "      <th>subscribed</th>\n",
       "      <th>pdays</th>\n",
       "      <th></th>\n",
       "    </tr>\n",
       "  </thead>\n",
       "  <tbody>\n",
       "    <tr>\n",
       "      <th rowspan=\"5\" valign=\"top\">no</th>\n",
       "      <th>-1</th>\n",
       "      <td>23553</td>\n",
       "    </tr>\n",
       "    <tr>\n",
       "      <th>1</th>\n",
       "      <td>6</td>\n",
       "    </tr>\n",
       "    <tr>\n",
       "      <th>2</th>\n",
       "      <td>24</td>\n",
       "    </tr>\n",
       "    <tr>\n",
       "      <th>4</th>\n",
       "      <td>1</td>\n",
       "    </tr>\n",
       "    <tr>\n",
       "      <th>5</th>\n",
       "      <td>7</td>\n",
       "    </tr>\n",
       "    <tr>\n",
       "      <th>...</th>\n",
       "      <th>...</th>\n",
       "      <td>...</td>\n",
       "    </tr>\n",
       "    <tr>\n",
       "      <th rowspan=\"5\" valign=\"top\">yes</th>\n",
       "      <th>792</th>\n",
       "      <td>1</td>\n",
       "    </tr>\n",
       "    <tr>\n",
       "      <th>804</th>\n",
       "      <td>1</td>\n",
       "    </tr>\n",
       "    <tr>\n",
       "      <th>805</th>\n",
       "      <td>1</td>\n",
       "    </tr>\n",
       "    <tr>\n",
       "      <th>842</th>\n",
       "      <td>1</td>\n",
       "    </tr>\n",
       "    <tr>\n",
       "      <th>854</th>\n",
       "      <td>1</td>\n",
       "    </tr>\n",
       "  </tbody>\n",
       "</table>\n",
       "<p>804 rows × 1 columns</p>\n",
       "</div>"
      ],
      "text/plain": [
       "                      0\n",
       "subscribed pdays       \n",
       "no         -1     23553\n",
       "            1         6\n",
       "            2        24\n",
       "            4         1\n",
       "            5         7\n",
       "...                 ...\n",
       "yes         792       1\n",
       "            804       1\n",
       "            805       1\n",
       "            842       1\n",
       "            854       1\n",
       "\n",
       "[804 rows x 1 columns]"
      ]
     },
     "execution_count": 46,
     "metadata": {},
     "output_type": "execute_result"
    }
   ],
   "source": [
    "df1.groupby([\"subscribed\",\"pdays\"]).size().to_frame()"
   ]
  },
  {
   "cell_type": "code",
   "execution_count": 47,
   "id": "3de1c410",
   "metadata": {},
   "outputs": [],
   "source": [
    "# as we can see from above data , around 40% of the date has -1 value, so we will drop this columns too\n",
    "df1.drop([\"pdays\"],axis=1,inplace=True)"
   ]
  },
  {
   "cell_type": "code",
   "execution_count": 48,
   "id": "ee44a5c4",
   "metadata": {},
   "outputs": [
    {
     "data": {
      "text/plain": [
       "age\n",
       "18     8\n",
       "19    22\n",
       "20    39\n",
       "21    48\n",
       "22    86\n",
       "      ..\n",
       "90     1\n",
       "92     1\n",
       "93     1\n",
       "94     1\n",
       "95     1\n",
       "Name: age, Length: 76, dtype: int64"
      ]
     },
     "execution_count": 48,
     "metadata": {},
     "output_type": "execute_result"
    }
   ],
   "source": [
    "#outliers in feature age\n",
    "df1.groupby(\"age\",sort=True)[\"age\"].count()\n"
   ]
  },
  {
   "cell_type": "code",
   "execution_count": 49,
   "id": "12e23997",
   "metadata": {},
   "outputs": [
    {
     "data": {
      "text/plain": [
       "subscribed  balance\n",
       "no          -8019      1\n",
       "            -6847      1\n",
       "            -4057      1\n",
       "            -3372      1\n",
       "            -2712      1\n",
       "                      ..\n",
       "yes          32685     1\n",
       "             36252     1\n",
       "             45248     1\n",
       "             52587     2\n",
       "             81204     1\n",
       "Name: balance, Length: 7969, dtype: int64"
      ]
     },
     "execution_count": 49,
     "metadata": {},
     "output_type": "execute_result"
    }
   ],
   "source": [
    "# outliers in feature balance\n",
    "df1.groupby([\"subscribed\",\"balance\"],sort=True)[\"balance\"].count()"
   ]
  },
  {
   "cell_type": "code",
   "execution_count": 50,
   "id": "33e05c62",
   "metadata": {},
   "outputs": [
    {
     "data": {
      "text/plain": [
       "subscribed  duration\n",
       "no          0            1\n",
       "            2            3\n",
       "            3            3\n",
       "            4           11\n",
       "            5           20\n",
       "                        ..\n",
       "yes         2775         1\n",
       "            3076         1\n",
       "            3102         1\n",
       "            3183         1\n",
       "            3881         1\n",
       "Name: duration, Length: 2381, dtype: int64"
      ]
     },
     "execution_count": 50,
     "metadata": {},
     "output_type": "execute_result"
    }
   ],
   "source": [
    "# Duration features - outliers\n",
    "df1.groupby([\"subscribed\",\"duration\"],sort=True)[\"duration\"].count()"
   ]
  },
  {
   "cell_type": "code",
   "execution_count": 51,
   "id": "adddb534",
   "metadata": {},
   "outputs": [
    {
     "data": {
      "text/plain": [
       "subscribed  campaign\n",
       "no          1           10486\n",
       "            2            7792\n",
       "            3            3439\n",
       "            4            2213\n",
       "            5            1147\n",
       "                        ...  \n",
       "yes         16              2\n",
       "            17              6\n",
       "            20              1\n",
       "            24              1\n",
       "            32              1\n",
       "Name: campaign, Length: 65, dtype: int64"
      ]
     },
     "execution_count": 51,
     "metadata": {},
     "output_type": "execute_result"
    }
   ],
   "source": [
    "# Compaign features - outliers\n",
    "df.groupby([\"subscribed\",\"campaign\"],sort=True)[\"campaign\"].count()"
   ]
  },
  {
   "cell_type": "markdown",
   "id": "5143925b",
   "metadata": {},
   "source": [
    "## Lable Encoding for caterogrical columns"
   ]
  },
  {
   "cell_type": "code",
   "execution_count": 52,
   "id": "d01b0d9b",
   "metadata": {},
   "outputs": [],
   "source": [
    "from sklearn.preprocessing import LabelEncoder\n",
    "le = LabelEncoder()\n",
    "\n",
    "for i in df1.columns:\n",
    "    if df1[i].dtypes == \"object\":\n",
    "        df1[i] = le.fit_transform(df1[i])\n",
    "        \n",
    "        "
   ]
  },
  {
   "cell_type": "code",
   "execution_count": 53,
   "id": "ec971507",
   "metadata": {},
   "outputs": [
    {
     "data": {
      "text/html": [
       "<div>\n",
       "<style scoped>\n",
       "    .dataframe tbody tr th:only-of-type {\n",
       "        vertical-align: middle;\n",
       "    }\n",
       "\n",
       "    .dataframe tbody tr th {\n",
       "        vertical-align: top;\n",
       "    }\n",
       "\n",
       "    .dataframe thead th {\n",
       "        text-align: right;\n",
       "    }\n",
       "</style>\n",
       "<table border=\"1\" class=\"dataframe\">\n",
       "  <thead>\n",
       "    <tr style=\"text-align: right;\">\n",
       "      <th></th>\n",
       "      <th>age</th>\n",
       "      <th>job</th>\n",
       "      <th>marital</th>\n",
       "      <th>education</th>\n",
       "      <th>balance</th>\n",
       "      <th>housing</th>\n",
       "      <th>loan</th>\n",
       "      <th>day</th>\n",
       "      <th>month</th>\n",
       "      <th>duration</th>\n",
       "      <th>campaign</th>\n",
       "      <th>previous</th>\n",
       "      <th>poutcome</th>\n",
       "      <th>subscribed</th>\n",
       "    </tr>\n",
       "  </thead>\n",
       "  <tbody>\n",
       "    <tr>\n",
       "      <th>0</th>\n",
       "      <td>56</td>\n",
       "      <td>0</td>\n",
       "      <td>1</td>\n",
       "      <td>3</td>\n",
       "      <td>1933</td>\n",
       "      <td>0</td>\n",
       "      <td>0</td>\n",
       "      <td>19</td>\n",
       "      <td>9</td>\n",
       "      <td>44</td>\n",
       "      <td>2</td>\n",
       "      <td>0</td>\n",
       "      <td>3</td>\n",
       "      <td>0</td>\n",
       "    </tr>\n",
       "    <tr>\n",
       "      <th>1</th>\n",
       "      <td>31</td>\n",
       "      <td>11</td>\n",
       "      <td>1</td>\n",
       "      <td>1</td>\n",
       "      <td>3</td>\n",
       "      <td>0</td>\n",
       "      <td>0</td>\n",
       "      <td>20</td>\n",
       "      <td>5</td>\n",
       "      <td>91</td>\n",
       "      <td>2</td>\n",
       "      <td>0</td>\n",
       "      <td>3</td>\n",
       "      <td>0</td>\n",
       "    </tr>\n",
       "    <tr>\n",
       "      <th>2</th>\n",
       "      <td>27</td>\n",
       "      <td>7</td>\n",
       "      <td>1</td>\n",
       "      <td>1</td>\n",
       "      <td>891</td>\n",
       "      <td>1</td>\n",
       "      <td>0</td>\n",
       "      <td>18</td>\n",
       "      <td>5</td>\n",
       "      <td>240</td>\n",
       "      <td>1</td>\n",
       "      <td>0</td>\n",
       "      <td>3</td>\n",
       "      <td>0</td>\n",
       "    </tr>\n",
       "    <tr>\n",
       "      <th>3</th>\n",
       "      <td>57</td>\n",
       "      <td>4</td>\n",
       "      <td>0</td>\n",
       "      <td>2</td>\n",
       "      <td>3287</td>\n",
       "      <td>0</td>\n",
       "      <td>0</td>\n",
       "      <td>22</td>\n",
       "      <td>6</td>\n",
       "      <td>867</td>\n",
       "      <td>1</td>\n",
       "      <td>3</td>\n",
       "      <td>2</td>\n",
       "      <td>1</td>\n",
       "    </tr>\n",
       "    <tr>\n",
       "      <th>4</th>\n",
       "      <td>31</td>\n",
       "      <td>9</td>\n",
       "      <td>1</td>\n",
       "      <td>1</td>\n",
       "      <td>119</td>\n",
       "      <td>1</td>\n",
       "      <td>0</td>\n",
       "      <td>4</td>\n",
       "      <td>3</td>\n",
       "      <td>380</td>\n",
       "      <td>1</td>\n",
       "      <td>0</td>\n",
       "      <td>3</td>\n",
       "      <td>0</td>\n",
       "    </tr>\n",
       "  </tbody>\n",
       "</table>\n",
       "</div>"
      ],
      "text/plain": [
       "   age  job  marital  education  balance  housing  loan  day  month  duration  \\\n",
       "0   56    0        1          3     1933        0     0   19      9        44   \n",
       "1   31   11        1          1        3        0     0   20      5        91   \n",
       "2   27    7        1          1      891        1     0   18      5       240   \n",
       "3   57    4        0          2     3287        0     0   22      6       867   \n",
       "4   31    9        1          1      119        1     0    4      3       380   \n",
       "\n",
       "   campaign  previous  poutcome  subscribed  \n",
       "0         2         0         3           0  \n",
       "1         2         0         3           0  \n",
       "2         1         0         3           0  \n",
       "3         1         3         2           1  \n",
       "4         1         0         3           0  "
      ]
     },
     "execution_count": 53,
     "metadata": {},
     "output_type": "execute_result"
    }
   ],
   "source": [
    "df1.head()"
   ]
  },
  {
   "cell_type": "markdown",
   "id": "29db6506",
   "metadata": {},
   "source": [
    "##  Splitting the Database features and label columns"
   ]
  },
  {
   "cell_type": "code",
   "execution_count": 54,
   "id": "c8a42784",
   "metadata": {},
   "outputs": [
    {
     "name": "stdout",
     "output_type": "stream",
     "text": [
      "x (31647, 13)\n",
      "y (31647, 1)\n"
     ]
    }
   ],
   "source": [
    "x = df1.iloc[:,:-1]\n",
    "y = df1.iloc[:,-1:]\n",
    "\n",
    "print(\"x\", x.shape)\n",
    "print(\"y\", y.shape)"
   ]
  },
  {
   "cell_type": "code",
   "execution_count": 55,
   "id": "1c0b3908",
   "metadata": {},
   "outputs": [
    {
     "data": {
      "text/html": [
       "<div>\n",
       "<style scoped>\n",
       "    .dataframe tbody tr th:only-of-type {\n",
       "        vertical-align: middle;\n",
       "    }\n",
       "\n",
       "    .dataframe tbody tr th {\n",
       "        vertical-align: top;\n",
       "    }\n",
       "\n",
       "    .dataframe thead th {\n",
       "        text-align: right;\n",
       "    }\n",
       "</style>\n",
       "<table border=\"1\" class=\"dataframe\">\n",
       "  <thead>\n",
       "    <tr style=\"text-align: right;\">\n",
       "      <th></th>\n",
       "      <th>subscribed</th>\n",
       "    </tr>\n",
       "  </thead>\n",
       "  <tbody>\n",
       "    <tr>\n",
       "      <th>0</th>\n",
       "      <td>0</td>\n",
       "    </tr>\n",
       "    <tr>\n",
       "      <th>1</th>\n",
       "      <td>0</td>\n",
       "    </tr>\n",
       "    <tr>\n",
       "      <th>2</th>\n",
       "      <td>0</td>\n",
       "    </tr>\n",
       "    <tr>\n",
       "      <th>3</th>\n",
       "      <td>1</td>\n",
       "    </tr>\n",
       "    <tr>\n",
       "      <th>4</th>\n",
       "      <td>0</td>\n",
       "    </tr>\n",
       "  </tbody>\n",
       "</table>\n",
       "</div>"
      ],
      "text/plain": [
       "   subscribed\n",
       "0           0\n",
       "1           0\n",
       "2           0\n",
       "3           1\n",
       "4           0"
      ]
     },
     "execution_count": 55,
     "metadata": {},
     "output_type": "execute_result"
    }
   ],
   "source": [
    "y.head()"
   ]
  },
  {
   "cell_type": "code",
   "execution_count": 56,
   "id": "7a9a887e",
   "metadata": {},
   "outputs": [
    {
     "data": {
      "text/html": [
       "<div>\n",
       "<style scoped>\n",
       "    .dataframe tbody tr th:only-of-type {\n",
       "        vertical-align: middle;\n",
       "    }\n",
       "\n",
       "    .dataframe tbody tr th {\n",
       "        vertical-align: top;\n",
       "    }\n",
       "\n",
       "    .dataframe thead th {\n",
       "        text-align: right;\n",
       "    }\n",
       "</style>\n",
       "<table border=\"1\" class=\"dataframe\">\n",
       "  <thead>\n",
       "    <tr style=\"text-align: right;\">\n",
       "      <th></th>\n",
       "      <th>age</th>\n",
       "      <th>job</th>\n",
       "      <th>marital</th>\n",
       "      <th>education</th>\n",
       "      <th>balance</th>\n",
       "      <th>housing</th>\n",
       "      <th>loan</th>\n",
       "      <th>day</th>\n",
       "      <th>month</th>\n",
       "      <th>duration</th>\n",
       "      <th>campaign</th>\n",
       "      <th>previous</th>\n",
       "      <th>poutcome</th>\n",
       "    </tr>\n",
       "  </thead>\n",
       "  <tbody>\n",
       "    <tr>\n",
       "      <th>0</th>\n",
       "      <td>56</td>\n",
       "      <td>0</td>\n",
       "      <td>1</td>\n",
       "      <td>3</td>\n",
       "      <td>1933</td>\n",
       "      <td>0</td>\n",
       "      <td>0</td>\n",
       "      <td>19</td>\n",
       "      <td>9</td>\n",
       "      <td>44</td>\n",
       "      <td>2</td>\n",
       "      <td>0</td>\n",
       "      <td>3</td>\n",
       "    </tr>\n",
       "    <tr>\n",
       "      <th>1</th>\n",
       "      <td>31</td>\n",
       "      <td>11</td>\n",
       "      <td>1</td>\n",
       "      <td>1</td>\n",
       "      <td>3</td>\n",
       "      <td>0</td>\n",
       "      <td>0</td>\n",
       "      <td>20</td>\n",
       "      <td>5</td>\n",
       "      <td>91</td>\n",
       "      <td>2</td>\n",
       "      <td>0</td>\n",
       "      <td>3</td>\n",
       "    </tr>\n",
       "    <tr>\n",
       "      <th>2</th>\n",
       "      <td>27</td>\n",
       "      <td>7</td>\n",
       "      <td>1</td>\n",
       "      <td>1</td>\n",
       "      <td>891</td>\n",
       "      <td>1</td>\n",
       "      <td>0</td>\n",
       "      <td>18</td>\n",
       "      <td>5</td>\n",
       "      <td>240</td>\n",
       "      <td>1</td>\n",
       "      <td>0</td>\n",
       "      <td>3</td>\n",
       "    </tr>\n",
       "    <tr>\n",
       "      <th>3</th>\n",
       "      <td>57</td>\n",
       "      <td>4</td>\n",
       "      <td>0</td>\n",
       "      <td>2</td>\n",
       "      <td>3287</td>\n",
       "      <td>0</td>\n",
       "      <td>0</td>\n",
       "      <td>22</td>\n",
       "      <td>6</td>\n",
       "      <td>867</td>\n",
       "      <td>1</td>\n",
       "      <td>3</td>\n",
       "      <td>2</td>\n",
       "    </tr>\n",
       "    <tr>\n",
       "      <th>4</th>\n",
       "      <td>31</td>\n",
       "      <td>9</td>\n",
       "      <td>1</td>\n",
       "      <td>1</td>\n",
       "      <td>119</td>\n",
       "      <td>1</td>\n",
       "      <td>0</td>\n",
       "      <td>4</td>\n",
       "      <td>3</td>\n",
       "      <td>380</td>\n",
       "      <td>1</td>\n",
       "      <td>0</td>\n",
       "      <td>3</td>\n",
       "    </tr>\n",
       "  </tbody>\n",
       "</table>\n",
       "</div>"
      ],
      "text/plain": [
       "   age  job  marital  education  balance  housing  loan  day  month  duration  \\\n",
       "0   56    0        1          3     1933        0     0   19      9        44   \n",
       "1   31   11        1          1        3        0     0   20      5        91   \n",
       "2   27    7        1          1      891        1     0   18      5       240   \n",
       "3   57    4        0          2     3287        0     0   22      6       867   \n",
       "4   31    9        1          1      119        1     0    4      3       380   \n",
       "\n",
       "   campaign  previous  poutcome  \n",
       "0         2         0         3  \n",
       "1         2         0         3  \n",
       "2         1         0         3  \n",
       "3         1         3         2  \n",
       "4         1         0         3  "
      ]
     },
     "execution_count": 56,
     "metadata": {},
     "output_type": "execute_result"
    }
   ],
   "source": [
    "x.head()"
   ]
  },
  {
   "cell_type": "code",
   "execution_count": 57,
   "id": "04a67842",
   "metadata": {},
   "outputs": [
    {
     "data": {
      "text/html": [
       "<div>\n",
       "<style scoped>\n",
       "    .dataframe tbody tr th:only-of-type {\n",
       "        vertical-align: middle;\n",
       "    }\n",
       "\n",
       "    .dataframe tbody tr th {\n",
       "        vertical-align: top;\n",
       "    }\n",
       "\n",
       "    .dataframe thead th {\n",
       "        text-align: right;\n",
       "    }\n",
       "</style>\n",
       "<table border=\"1\" class=\"dataframe\">\n",
       "  <thead>\n",
       "    <tr style=\"text-align: right;\">\n",
       "      <th></th>\n",
       "      <th>count</th>\n",
       "      <th>mean</th>\n",
       "      <th>std</th>\n",
       "      <th>min</th>\n",
       "      <th>25%</th>\n",
       "      <th>50%</th>\n",
       "      <th>75%</th>\n",
       "      <th>max</th>\n",
       "    </tr>\n",
       "  </thead>\n",
       "  <tbody>\n",
       "    <tr>\n",
       "      <th>age</th>\n",
       "      <td>31647.0</td>\n",
       "      <td>40.957247</td>\n",
       "      <td>10.625134</td>\n",
       "      <td>18.0</td>\n",
       "      <td>33.0</td>\n",
       "      <td>39.0</td>\n",
       "      <td>48.0</td>\n",
       "      <td>95.0</td>\n",
       "    </tr>\n",
       "    <tr>\n",
       "      <th>job</th>\n",
       "      <td>31647.0</td>\n",
       "      <td>4.332923</td>\n",
       "      <td>3.271868</td>\n",
       "      <td>0.0</td>\n",
       "      <td>1.0</td>\n",
       "      <td>4.0</td>\n",
       "      <td>7.0</td>\n",
       "      <td>11.0</td>\n",
       "    </tr>\n",
       "    <tr>\n",
       "      <th>marital</th>\n",
       "      <td>31647.0</td>\n",
       "      <td>1.167220</td>\n",
       "      <td>0.607186</td>\n",
       "      <td>0.0</td>\n",
       "      <td>1.0</td>\n",
       "      <td>1.0</td>\n",
       "      <td>2.0</td>\n",
       "      <td>2.0</td>\n",
       "    </tr>\n",
       "    <tr>\n",
       "      <th>education</th>\n",
       "      <td>31647.0</td>\n",
       "      <td>1.225013</td>\n",
       "      <td>0.749195</td>\n",
       "      <td>0.0</td>\n",
       "      <td>1.0</td>\n",
       "      <td>1.0</td>\n",
       "      <td>2.0</td>\n",
       "      <td>3.0</td>\n",
       "    </tr>\n",
       "    <tr>\n",
       "      <th>balance</th>\n",
       "      <td>31647.0</td>\n",
       "      <td>1363.890258</td>\n",
       "      <td>3028.304293</td>\n",
       "      <td>-8019.0</td>\n",
       "      <td>73.0</td>\n",
       "      <td>450.0</td>\n",
       "      <td>1431.0</td>\n",
       "      <td>102127.0</td>\n",
       "    </tr>\n",
       "    <tr>\n",
       "      <th>housing</th>\n",
       "      <td>31647.0</td>\n",
       "      <td>0.555629</td>\n",
       "      <td>0.496904</td>\n",
       "      <td>0.0</td>\n",
       "      <td>0.0</td>\n",
       "      <td>1.0</td>\n",
       "      <td>1.0</td>\n",
       "      <td>1.0</td>\n",
       "    </tr>\n",
       "    <tr>\n",
       "      <th>loan</th>\n",
       "      <td>31647.0</td>\n",
       "      <td>0.162132</td>\n",
       "      <td>0.368578</td>\n",
       "      <td>0.0</td>\n",
       "      <td>0.0</td>\n",
       "      <td>0.0</td>\n",
       "      <td>0.0</td>\n",
       "      <td>1.0</td>\n",
       "    </tr>\n",
       "    <tr>\n",
       "      <th>day</th>\n",
       "      <td>31647.0</td>\n",
       "      <td>15.835466</td>\n",
       "      <td>8.337097</td>\n",
       "      <td>1.0</td>\n",
       "      <td>8.0</td>\n",
       "      <td>16.0</td>\n",
       "      <td>21.0</td>\n",
       "      <td>31.0</td>\n",
       "    </tr>\n",
       "    <tr>\n",
       "      <th>month</th>\n",
       "      <td>31647.0</td>\n",
       "      <td>5.533131</td>\n",
       "      <td>3.004247</td>\n",
       "      <td>0.0</td>\n",
       "      <td>3.0</td>\n",
       "      <td>6.0</td>\n",
       "      <td>8.0</td>\n",
       "      <td>11.0</td>\n",
       "    </tr>\n",
       "    <tr>\n",
       "      <th>duration</th>\n",
       "      <td>31647.0</td>\n",
       "      <td>258.113534</td>\n",
       "      <td>257.118973</td>\n",
       "      <td>0.0</td>\n",
       "      <td>104.0</td>\n",
       "      <td>180.0</td>\n",
       "      <td>318.5</td>\n",
       "      <td>4918.0</td>\n",
       "    </tr>\n",
       "    <tr>\n",
       "      <th>campaign</th>\n",
       "      <td>31647.0</td>\n",
       "      <td>2.765697</td>\n",
       "      <td>3.113830</td>\n",
       "      <td>1.0</td>\n",
       "      <td>1.0</td>\n",
       "      <td>2.0</td>\n",
       "      <td>3.0</td>\n",
       "      <td>63.0</td>\n",
       "    </tr>\n",
       "    <tr>\n",
       "      <th>previous</th>\n",
       "      <td>31647.0</td>\n",
       "      <td>0.574272</td>\n",
       "      <td>2.422529</td>\n",
       "      <td>0.0</td>\n",
       "      <td>0.0</td>\n",
       "      <td>0.0</td>\n",
       "      <td>0.0</td>\n",
       "      <td>275.0</td>\n",
       "    </tr>\n",
       "    <tr>\n",
       "      <th>poutcome</th>\n",
       "      <td>31647.0</td>\n",
       "      <td>2.566152</td>\n",
       "      <td>0.982069</td>\n",
       "      <td>0.0</td>\n",
       "      <td>3.0</td>\n",
       "      <td>3.0</td>\n",
       "      <td>3.0</td>\n",
       "      <td>3.0</td>\n",
       "    </tr>\n",
       "    <tr>\n",
       "      <th>subscribed</th>\n",
       "      <td>31647.0</td>\n",
       "      <td>0.117389</td>\n",
       "      <td>0.321888</td>\n",
       "      <td>0.0</td>\n",
       "      <td>0.0</td>\n",
       "      <td>0.0</td>\n",
       "      <td>0.0</td>\n",
       "      <td>1.0</td>\n",
       "    </tr>\n",
       "  </tbody>\n",
       "</table>\n",
       "</div>"
      ],
      "text/plain": [
       "              count         mean          std     min    25%    50%     75%  \\\n",
       "age         31647.0    40.957247    10.625134    18.0   33.0   39.0    48.0   \n",
       "job         31647.0     4.332923     3.271868     0.0    1.0    4.0     7.0   \n",
       "marital     31647.0     1.167220     0.607186     0.0    1.0    1.0     2.0   \n",
       "education   31647.0     1.225013     0.749195     0.0    1.0    1.0     2.0   \n",
       "balance     31647.0  1363.890258  3028.304293 -8019.0   73.0  450.0  1431.0   \n",
       "housing     31647.0     0.555629     0.496904     0.0    0.0    1.0     1.0   \n",
       "loan        31647.0     0.162132     0.368578     0.0    0.0    0.0     0.0   \n",
       "day         31647.0    15.835466     8.337097     1.0    8.0   16.0    21.0   \n",
       "month       31647.0     5.533131     3.004247     0.0    3.0    6.0     8.0   \n",
       "duration    31647.0   258.113534   257.118973     0.0  104.0  180.0   318.5   \n",
       "campaign    31647.0     2.765697     3.113830     1.0    1.0    2.0     3.0   \n",
       "previous    31647.0     0.574272     2.422529     0.0    0.0    0.0     0.0   \n",
       "poutcome    31647.0     2.566152     0.982069     0.0    3.0    3.0     3.0   \n",
       "subscribed  31647.0     0.117389     0.321888     0.0    0.0    0.0     0.0   \n",
       "\n",
       "                 max  \n",
       "age             95.0  \n",
       "job             11.0  \n",
       "marital          2.0  \n",
       "education        3.0  \n",
       "balance     102127.0  \n",
       "housing          1.0  \n",
       "loan             1.0  \n",
       "day             31.0  \n",
       "month           11.0  \n",
       "duration      4918.0  \n",
       "campaign        63.0  \n",
       "previous       275.0  \n",
       "poutcome         3.0  \n",
       "subscribed       1.0  "
      ]
     },
     "execution_count": 57,
     "metadata": {},
     "output_type": "execute_result"
    }
   ],
   "source": [
    "df1.describe().T"
   ]
  },
  {
   "cell_type": "markdown",
   "id": "316fa560",
   "metadata": {},
   "source": [
    "Observation  : \n",
    "    \n",
    "        >>Balance mean value is much higher then median value but that is obivious for a reason and contribution towards the term deposit\n",
    "        >>age columns mean and median  has not much difference\n",
    "        "
   ]
  },
  {
   "cell_type": "code",
   "execution_count": 58,
   "id": "e045c2c7",
   "metadata": {},
   "outputs": [
    {
     "data": {
      "text/plain": [
       "<AxesSubplot:>"
      ]
     },
     "execution_count": 58,
     "metadata": {},
     "output_type": "execute_result"
    },
    {
     "data": {
      "image/png": "[encoded data removed]",
      "text/plain": [
       "<Figure size 1440x720 with 2 Axes>"
      ]
     },
     "metadata": {
      "needs_background": "light"
     },
     "output_type": "display_data"
    }
   ],
   "source": [
    "plt.figure(figsize = (20,10))\n",
    "sns.heatmap(df1.describe(),annot=True,linewidth=0.1,linecolor=\"black\",fmt=\".2f\")"
   ]
  },
  {
   "cell_type": "code",
   "execution_count": 59,
   "id": "f2fb22db",
   "metadata": {},
   "outputs": [
    {
     "data": {
      "text/plain": [
       "housing      -0.141092\n",
       "poutcome     -0.080895\n",
       "loan         -0.072266\n",
       "campaign     -0.070607\n",
       "day          -0.029600\n",
       "month        -0.028088\n",
       "age           0.024538\n",
       "job           0.038921\n",
       "marital       0.046043\n",
       "balance       0.050807\n",
       "education     0.066051\n",
       "previous      0.088081\n",
       "duration      0.389838\n",
       "subscribed    1.000000\n",
       "Name: subscribed, dtype: float64"
      ]
     },
     "execution_count": 59,
     "metadata": {},
     "output_type": "execute_result"
    }
   ],
   "source": [
    "df1.corr()[\"subscribed\"].sort_values()"
   ]
  },
  {
   "cell_type": "markdown",
   "id": "a0f56c44",
   "metadata": {},
   "source": [
    "Observation  : No strong correlation between the features to target columns."
   ]
  },
  {
   "cell_type": "code",
   "execution_count": 60,
   "id": "e48608f7",
   "metadata": {},
   "outputs": [
    {
     "data": {
      "image/png": "[encoded data removed]",
      "text/plain": [
       "<Figure size 432x288 with 1 Axes>"
      ]
     },
     "metadata": {
      "needs_background": "light"
     },
     "output_type": "display_data"
    }
   ],
   "source": [
    "df1.corr()[\"subscribed\"].sort_values(ascending=False).drop([\"subscribed\"]).plot(kind=\"bar\")\n",
    "plt.xlabel(\"Feature\",fontsize=4)\n",
    "plt.title(\"Correlation\",fontsize=18)\n",
    "plt.show()"
   ]
  },
  {
   "cell_type": "code",
   "execution_count": 61,
   "id": "b91f0921",
   "metadata": {},
   "outputs": [
    {
     "data": {
      "text/plain": [
       "age            0.681607\n",
       "job            0.264817\n",
       "marital       -0.100071\n",
       "education      0.199441\n",
       "balance        7.995696\n",
       "housing       -0.223918\n",
       "loan           1.833474\n",
       "day            0.087185\n",
       "month         -0.486498\n",
       "duration       3.199766\n",
       "campaign       4.873935\n",
       "previous      49.302348\n",
       "poutcome      -1.996421\n",
       "subscribed     2.377445\n",
       "dtype: float64"
      ]
     },
     "execution_count": 61,
     "metadata": {},
     "output_type": "execute_result"
    }
   ],
   "source": [
    "df1.skew()"
   ]
  },
  {
   "cell_type": "markdown",
   "id": "5a690c90",
   "metadata": {},
   "source": [
    "Observation  : skewness is present in balance,compaign,previous,poutcome,duration,loan"
   ]
  },
  {
   "cell_type": "markdown",
   "id": "d42d172f",
   "metadata": {},
   "source": [
    "# Removing Outliers"
   ]
  },
  {
   "cell_type": "code",
   "execution_count": 62,
   "id": "2311e342",
   "metadata": {},
   "outputs": [
    {
     "data": {
      "text/plain": [
       "(31647, 13)"
      ]
     },
     "execution_count": 62,
     "metadata": {},
     "output_type": "execute_result"
    }
   ],
   "source": [
    "from scipy.stats import zscore\n",
    "import numpy as np\n",
    "z = np.abs(zscore(x))\n",
    "z.shape"
   ]
  },
  {
   "cell_type": "code",
   "execution_count": 63,
   "id": "fafa4f4f",
   "metadata": {},
   "outputs": [
    {
     "name": "stdout",
     "output_type": "stream",
     "text": [
      "(array([   21,    26,   134, ..., 31622, 31645, 31646], dtype=int64), array([10,  4, 10, ...,  0, 11,  9], dtype=int64))\n"
     ]
    }
   ],
   "source": [
    "threshold = 3\n",
    "print(np.where(z>3))"
   ]
  },
  {
   "cell_type": "code",
   "execution_count": 64,
   "id": "1627b544",
   "metadata": {},
   "outputs": [
    {
     "data": {
      "text/plain": [
       "(29243, 13)"
      ]
     },
     "execution_count": 64,
     "metadata": {},
     "output_type": "execute_result"
    }
   ],
   "source": [
    "x = x[(z<3).all(axis=1)]\n",
    "x.shape"
   ]
  },
  {
   "cell_type": "code",
   "execution_count": 65,
   "id": "389db0b3",
   "metadata": {},
   "outputs": [
    {
     "data": {
      "text/plain": [
       "(29243, 1)"
      ]
     },
     "execution_count": 65,
     "metadata": {},
     "output_type": "execute_result"
    }
   ],
   "source": [
    "y = y[(z<3).all(axis=1)]\n",
    "y.shape"
   ]
  },
  {
   "cell_type": "markdown",
   "id": "bf5445ac",
   "metadata": {},
   "source": [
    "### Data Loss"
   ]
  },
  {
   "cell_type": "code",
   "execution_count": 66,
   "id": "4026663c",
   "metadata": {},
   "outputs": [
    {
     "name": "stdout",
     "output_type": "stream",
     "text": [
      "7.596296647391538\n"
     ]
    }
   ],
   "source": [
    "percentageofDL = (df1.shape[0]-x.shape[0])/df1.shape[0]*100\n",
    "print(percentageofDL)\n"
   ]
  },
  {
   "cell_type": "markdown",
   "id": "3a21ecd5",
   "metadata": {},
   "source": [
    "Data Loss % are 7.59% which is accepatable range. "
   ]
  },
  {
   "cell_type": "markdown",
   "id": "0af37e47",
   "metadata": {},
   "source": [
    "# Tranformation method for remvoe a skewness from data"
   ]
  },
  {
   "cell_type": "code",
   "execution_count": 67,
   "id": "e4d41448",
   "metadata": {},
   "outputs": [],
   "source": [
    "from sklearn.preprocessing import power_transform\n",
    "x = power_transform(x,method=\"yeo-johnson\")"
   ]
  },
  {
   "cell_type": "code",
   "execution_count": 68,
   "id": "13c29d96",
   "metadata": {},
   "outputs": [
    {
     "data": {
      "text/plain": [
       "(29243, 13)"
      ]
     },
     "execution_count": 68,
     "metadata": {},
     "output_type": "execute_result"
    }
   ],
   "source": [
    "x.shape"
   ]
  },
  {
   "cell_type": "code",
   "execution_count": 69,
   "id": "10471208",
   "metadata": {},
   "outputs": [
    {
     "name": "stdout",
     "output_type": "stream",
     "text": [
      "[[ 1.42585316 -1.60151221 -0.29017491 ...  0.17969708 -0.45658963\n",
      "   0.45420459]\n",
      " [-0.96440742  1.63901444 -0.29017491 ...  0.17969708 -0.45658963\n",
      "   0.45420459]\n",
      " [-1.52061598  0.86017121 -0.29017491 ... -1.10112145 -0.45658963\n",
      "   0.45420459]\n",
      " ...\n",
      " [-1.23307705  0.10644841  1.37771358 ...  0.17969708 -0.45658963\n",
      "   0.45420459]\n",
      " [ 1.20299267  0.10644841 -1.89723861 ...  0.17969708 -0.45658963\n",
      "   0.45420459]\n",
      " [-0.83641076  0.10644841  1.37771358 ...  0.80592991 -0.45658963\n",
      "   0.45420459]]\n"
     ]
    }
   ],
   "source": [
    "print(x)"
   ]
  },
  {
   "cell_type": "markdown",
   "id": "dd5d4a9f",
   "metadata": {},
   "source": [
    "# Scaling"
   ]
  },
  {
   "cell_type": "code",
   "execution_count": 70,
   "id": "02673980",
   "metadata": {},
   "outputs": [
    {
     "data": {
      "text/plain": [
       "array([[ 1.42585316, -1.60151221, -0.29017491, ...,  0.17969708,\n",
       "        -0.45658963,  0.45420459],\n",
       "       [-0.96440742,  1.63901444, -0.29017491, ...,  0.17969708,\n",
       "        -0.45658963,  0.45420459],\n",
       "       [-1.52061598,  0.86017121, -0.29017491, ..., -1.10112145,\n",
       "        -0.45658963,  0.45420459],\n",
       "       ...,\n",
       "       [-1.23307705,  0.10644841,  1.37771358, ...,  0.17969708,\n",
       "        -0.45658963,  0.45420459],\n",
       "       [ 1.20299267,  0.10644841, -1.89723861, ...,  0.17969708,\n",
       "        -0.45658963,  0.45420459],\n",
       "       [-0.83641076,  0.10644841,  1.37771358, ...,  0.80592991,\n",
       "        -0.45658963,  0.45420459]])"
      ]
     },
     "execution_count": 70,
     "metadata": {},
     "output_type": "execute_result"
    }
   ],
   "source": [
    "from sklearn.preprocessing import StandardScaler\n",
    "sc = StandardScaler()\n",
    "x = sc.fit_transform(x)\n",
    "x"
   ]
  },
  {
   "cell_type": "markdown",
   "id": "620003b4",
   "metadata": {},
   "source": [
    "# Oversampling the Data"
   ]
  },
  {
   "cell_type": "code",
   "execution_count": 71,
   "id": "c54d9aac",
   "metadata": {},
   "outputs": [
    {
     "name": "stdout",
     "output_type": "stream",
     "text": [
      "(29243, 1)\n"
     ]
    },
    {
     "data": {
      "text/plain": [
       "subscribed\n",
       "0             26208\n",
       "1              3035\n",
       "dtype: int64"
      ]
     },
     "execution_count": 71,
     "metadata": {},
     "output_type": "execute_result"
    }
   ],
   "source": [
    "print(y.shape)\n",
    "y.value_counts()"
   ]
  },
  {
   "cell_type": "markdown",
   "id": "295a2228",
   "metadata": {},
   "source": [
    "Observation  :  we can see that target column data is not balance, so we will apply Smote technique to make data balance"
   ]
  },
  {
   "cell_type": "code",
   "execution_count": 72,
   "id": "74283f15",
   "metadata": {},
   "outputs": [],
   "source": [
    "# Oversampling the data\n",
    "from imblearn.over_sampling import SMOTE\n",
    "sm = SMOTE()\n",
    "x,y = sm.fit_resample(x,y)"
   ]
  },
  {
   "cell_type": "code",
   "execution_count": 73,
   "id": "c051c1ba",
   "metadata": {},
   "outputs": [
    {
     "data": {
      "text/plain": [
       "subscribed\n",
       "0             26208\n",
       "1             26208\n",
       "dtype: int64"
      ]
     },
     "execution_count": 73,
     "metadata": {},
     "output_type": "execute_result"
    }
   ],
   "source": [
    "y.value_counts()"
   ]
  },
  {
   "cell_type": "markdown",
   "id": "4e4630e6",
   "metadata": {},
   "source": [
    "Now the Data is Balance"
   ]
  },
  {
   "cell_type": "markdown",
   "id": "f3b4eab2",
   "metadata": {},
   "source": [
    "# Since the outcome has only two variable we will use the binary classification model."
   ]
  },
  {
   "cell_type": "code",
   "execution_count": 74,
   "id": "a5035c50",
   "metadata": {},
   "outputs": [],
   "source": [
    "from sklearn.model_selection import train_test_split\n",
    "from sklearn.linear_model import LogisticRegression\n",
    "lr = LogisticRegression()\n",
    "from sklearn.metrics import classification_report,confusion_matrix,accuracy_score"
   ]
  },
  {
   "cell_type": "markdown",
   "id": "39375796",
   "metadata": {},
   "source": [
    "### Splitting the DataFrame"
   ]
  },
  {
   "cell_type": "code",
   "execution_count": 77,
   "id": "ed6dea60",
   "metadata": {},
   "outputs": [
    {
     "name": "stdout",
     "output_type": "stream",
     "text": [
      "At random state 6 The Model performs well\n",
      "At Random State :  6\n",
      "Training Accuracy is :  81.36029762472575\n",
      "Testing Accuracy is :  81.40022892025944\n",
      "Difference of Train and Test : -0.039931295533691014\n",
      "\n",
      "\n",
      "At random state 21 The Model performs well\n",
      "At Random State :  21\n",
      "Training Accuracy is :  81.39368501383191\n",
      "Testing Accuracy is :  81.39069057611599\n",
      "Difference of Train and Test : 0.0029944377159267788\n",
      "\n",
      "\n",
      "At random state 34 The Model performs well\n",
      "At Random State :  34\n",
      "Training Accuracy is :  81.4270724029381\n",
      "Testing Accuracy is :  81.41930560854635\n",
      "Difference of Train and Test : 0.0077667943917418825\n",
      "\n",
      "\n",
      "At random state 41 The Model performs well\n",
      "At Random State :  41\n",
      "Training Accuracy is :  81.36506725174092\n",
      "Testing Accuracy is :  81.40022892025944\n",
      "Difference of Train and Test : -0.0351616685185121\n",
      "\n",
      "\n",
      "At random state 48 The Model performs well\n",
      "At Random State :  48\n",
      "Training Accuracy is :  81.41514833540016\n",
      "Testing Accuracy is :  81.42884395268982\n",
      "Difference of Train and Test : -0.01369561728965607\n",
      "\n",
      "\n",
      "At random state 60 The Model performs well\n",
      "At Random State :  60\n",
      "Training Accuracy is :  81.43184202995326\n",
      "Testing Accuracy is :  81.38115223197254\n",
      "Difference of Train and Test : 0.05068979798072348\n",
      "\n",
      "\n",
      "At random state 65 The Model performs well\n",
      "At Random State :  65\n",
      "Training Accuracy is :  81.38176094629401\n",
      "Testing Accuracy is :  81.44792064097672\n",
      "Difference of Train and Test : -0.06615969468271032\n",
      "\n",
      "\n",
      "At random state 66 The Model performs well\n",
      "At Random State :  66\n",
      "Training Accuracy is :  81.40799389487742\n",
      "Testing Accuracy is :  81.41930560854635\n",
      "Difference of Train and Test : -0.011311713668931134\n",
      "\n",
      "\n",
      "At random state 88 The Model performs well\n",
      "At Random State :  88\n",
      "Training Accuracy is :  81.38414575980158\n",
      "Testing Accuracy is :  81.44792064097672\n",
      "Difference of Train and Test : -0.06377488117513508\n",
      "\n",
      "\n",
      "At random state 91 The Model performs well\n",
      "At Random State :  91\n",
      "Training Accuracy is :  81.40322426786226\n",
      "Testing Accuracy is :  81.40022892025944\n",
      "Difference of Train and Test : 0.00299534760281972\n",
      "\n",
      "\n",
      "At random state 92 The Model performs well\n",
      "At Random State :  92\n",
      "Training Accuracy is :  81.45092053801393\n",
      "Testing Accuracy is :  81.48607401755056\n",
      "Difference of Train and Test : -0.03515347953663195\n",
      "\n",
      "\n",
      "At random state 98 The Model performs well\n",
      "At Random State :  98\n",
      "Training Accuracy is :  81.39130020032434\n",
      "Testing Accuracy is :  81.40022892025944\n",
      "Difference of Train and Test : -0.008928719935099139\n",
      "\n",
      "\n"
     ]
    }
   ],
   "source": [
    "maxaccu = 0 \n",
    "rstate = 0\n",
    "for i in range(0,100):\n",
    "    x_train,x_test,y_train,y_test = train_test_split(x,y,random_state=i,test_size=0.20)\n",
    "    lr.fit(x_train,y_train)\n",
    "    pred_train = lr.predict(x_train)\n",
    "    pred_test = lr.predict(x_test)\n",
    "\n",
    "    if round(accuracy_score(y_train,pred_train)*100,1)==round(accuracy_score(y_test,pred_test)*100,1):\n",
    "        print(\"At random state\",i,\"The Model performs well\")\n",
    "        print(\"At Random State : \",i)\n",
    "        print(\"Training Accuracy is : \",accuracy_score(y_train,pred_train)*100)\n",
    "        print(\"Testing Accuracy is : \",accuracy_score(y_test,pred_test)*100)\n",
    "        print(\"Difference of Train and Test :\",(accuracy_score(y_train,pred_train)*100)-(accuracy_score(y_test,pred_test)*100))\n",
    "        print(\"\\n\")\n",
    "        if accuracy_score(y_test,pred_test)*100 > maxaccu:\n",
    "            maxaccu = accuracy_score(y_test,pred_test)*100\n",
    "            rstate = i\n"
   ]
  },
  {
   "cell_type": "markdown",
   "id": "94f5499b",
   "metadata": {},
   "source": [
    "Observation  :  Below is best test and train accuracy score with lowest diffrence.\n",
    "\n",
    "===========================================\n",
    "\n",
    "at random state 21 The Model performs well\n",
    "At Random State :  21\n",
    "Training Accuracy is :  81.39368501383191\n",
    "Testing Accuracy is :  81.39069057611599\n",
    "Difference of Train and Test : 0.0029944377159267788"
   ]
  },
  {
   "cell_type": "code",
   "execution_count": 78,
   "id": "ceb93672",
   "metadata": {},
   "outputs": [],
   "source": [
    "x_train,x_test,y_train,y_test = train_test_split(x,y,random_state=21,test_size=0.20)"
   ]
  },
  {
   "cell_type": "code",
   "execution_count": 79,
   "id": "591db45b",
   "metadata": {},
   "outputs": [
    {
     "name": "stdout",
     "output_type": "stream",
     "text": [
      "Logistic Regression Score\n",
      "\n",
      "Training Accuracy is :  81.39368501383191\n",
      "Testing Accuracy is :  81.39069057611599\n"
     ]
    }
   ],
   "source": [
    "lr.fit(x_train,y_train)\n",
    "pred_train = lr.predict(x_train)\n",
    "pred_test = lr.predict(x_test)\n",
    "print(\"Logistic Regression Score\\n\")\n",
    "print(\"Training Accuracy is : \",accuracy_score(y_train,pred_train)*100)\n",
    "print(\"Testing Accuracy is : \",accuracy_score(y_test,pred_test)*100)\n",
    "    "
   ]
  },
  {
   "cell_type": "code",
   "execution_count": 80,
   "id": "67082b6d",
   "metadata": {},
   "outputs": [
    {
     "name": "stdout",
     "output_type": "stream",
     "text": [
      "              precision    recall  f1-score   support\n",
      "\n",
      "           0       0.81      0.81      0.81      5217\n",
      "           1       0.81      0.82      0.82      5267\n",
      "\n",
      "    accuracy                           0.81     10484\n",
      "   macro avg       0.81      0.81      0.81     10484\n",
      "weighted avg       0.81      0.81      0.81     10484\n",
      "\n"
     ]
    }
   ],
   "source": [
    "from sklearn.metrics import classification_report\n",
    "print(classification_report(y_test,pred_test))"
   ]
  },
  {
   "cell_type": "markdown",
   "id": "43f68f0b",
   "metadata": {},
   "source": [
    "# Cross Validation for Logistic Regression"
   ]
  },
  {
   "cell_type": "code",
   "execution_count": 81,
   "id": "8cc04284",
   "metadata": {},
   "outputs": [
    {
     "name": "stdout",
     "output_type": "stream",
     "text": [
      "At CV : 2\n",
      "Cross Validation Score is :  81.3549297924298\n",
      "Accuracy Score is :  81.39069057611599\n",
      "Differnce :  -0.03576078368618596\n",
      "\n",
      "\n",
      "At CV : 3\n",
      "Cross Validation Score is :  81.39308608058609\n",
      "Accuracy Score is :  81.39069057611599\n",
      "Differnce :  0.002395504470101173\n",
      "\n",
      "\n",
      "At CV : 4\n",
      "Cross Validation Score is :  81.4083485958486\n",
      "Accuracy Score is :  81.39069057611599\n",
      "Differnce :  0.0176580197326075\n",
      "\n",
      "\n",
      "At CV : 5\n",
      "Cross Validation Score is :  81.36448255843301\n",
      "Accuracy Score is :  81.39069057611599\n",
      "Differnce :  -0.026208017682975537\n",
      "\n",
      "\n",
      "At CV : 6\n",
      "Cross Validation Score is :  81.40453296703298\n",
      "Accuracy Score is :  81.39069057611599\n",
      "Differnce :  0.013842390916991576\n",
      "\n",
      "\n",
      "At CV : 7\n",
      "Cross Validation Score is :  81.37210012210012\n",
      "Accuracy Score is :  81.39069057611599\n",
      "Differnce :  -0.018590454015864566\n",
      "\n",
      "\n",
      "At CV : 8\n",
      "Cross Validation Score is :  81.38927045177044\n",
      "Accuracy Score is :  81.39069057611599\n",
      "Differnce :  -0.0014201243455431722\n",
      "\n",
      "\n",
      "At CV : 9\n",
      "Cross Validation Score is :  81.40453296703298\n",
      "Accuracy Score is :  81.39069057611599\n",
      "Differnce :  0.013842390916991576\n",
      "\n",
      "\n",
      "At CV : 10\n",
      "Cross Validation Score is :  81.38738227579468\n",
      "Accuracy Score is :  81.39069057611599\n",
      "Differnce :  -0.003308300321307911\n",
      "\n",
      "\n",
      "At CV : 11\n",
      "Cross Validation Score is :  81.39502923603224\n",
      "Accuracy Score is :  81.39069057611599\n",
      "Differnce :  0.00433865991625737\n",
      "\n",
      "\n",
      "At CV : 12\n",
      "Cross Validation Score is :  81.38545482295484\n",
      "Accuracy Score is :  81.39069057611599\n",
      "Differnce :  -0.005235753161144885\n",
      "\n",
      "\n",
      "At CV : 13\n",
      "Cross Validation Score is :  81.38927045177044\n",
      "Accuracy Score is :  81.39069057611599\n",
      "Differnce :  -0.0014201243455431722\n",
      "\n",
      "\n",
      "At CV : 14\n",
      "Cross Validation Score is :  81.383547008547\n",
      "Accuracy Score is :  81.39069057611599\n",
      "Differnce :  -0.007143567568988374\n",
      "\n",
      "\n",
      "At CV : 15\n",
      "Cross Validation Score is :  81.3873997225027\n",
      "Accuracy Score is :  81.39069057611599\n",
      "Differnce :  -0.0032908536132794097\n",
      "\n",
      "\n",
      "At CV : 16\n",
      "Cross Validation Score is :  81.39308608058609\n",
      "Accuracy Score is :  81.39069057611599\n",
      "Differnce :  0.002395504470101173\n",
      "\n",
      "\n",
      "At CV : 17\n",
      "Cross Validation Score is :  81.39123426852626\n",
      "Accuracy Score is :  81.39069057611599\n",
      "Differnce :  0.0005436924102752982\n",
      "\n",
      "\n",
      "At CV : 18\n",
      "Cross Validation Score is :  81.40262515262515\n",
      "Accuracy Score is :  81.39069057611599\n",
      "Differnce :  0.011934576509162298\n",
      "\n",
      "\n",
      "At CV : 19\n",
      "Cross Validation Score is :  81.37209444166677\n",
      "Accuracy Score is :  81.39069057611599\n",
      "Differnce :  -0.018596134449211377\n",
      "\n",
      "\n",
      "At CV : 20\n",
      "Cross Validation Score is :  81.38925618390512\n",
      "Accuracy Score is :  81.39069057611599\n",
      "Differnce :  -0.0014343922108679408\n",
      "\n",
      "\n",
      "At CV : 21\n",
      "Cross Validation Score is :  81.40834859584861\n",
      "Accuracy Score is :  81.39069057611599\n",
      "Differnce :  0.01765801973262171\n",
      "\n",
      "\n",
      "At CV : 22\n",
      "Cross Validation Score is :  81.3835801920218\n",
      "Accuracy Score is :  81.39069057611599\n",
      "Differnce :  -0.007110384094190181\n",
      "\n",
      "\n",
      "At CV : 23\n",
      "Cross Validation Score is :  81.38928632403052\n",
      "Accuracy Score is :  81.39069057611599\n",
      "Differnce :  -0.0014042520854644636\n",
      "\n",
      "\n",
      "At CV : 24\n",
      "Cross Validation Score is :  81.37400793650794\n",
      "Accuracy Score is :  81.39069057611599\n",
      "Differnce :  -0.0166826396080495\n",
      "\n",
      "\n",
      "At CV : 25\n",
      "Cross Validation Score is :  81.38164480701256\n",
      "Accuracy Score is :  81.39069057611599\n",
      "Differnce :  -0.00904576910342314\n",
      "\n",
      "\n",
      "At CV : 26\n",
      "Cross Validation Score is :  81.38545482295481\n",
      "Accuracy Score is :  81.39069057611599\n",
      "Differnce :  -0.005235753161173307\n",
      "\n",
      "\n",
      "At CV : 27\n",
      "Cross Validation Score is :  81.3950707483456\n",
      "Accuracy Score is :  81.39069057611599\n",
      "Differnce :  0.004380172229616619\n",
      "\n",
      "\n",
      "At CV : 28\n",
      "Cross Validation Score is :  81.39499389499389\n",
      "Accuracy Score is :  81.39069057611599\n",
      "Differnce :  0.004303318877902029\n",
      "\n",
      "\n",
      "At CV : 29\n",
      "Cross Validation Score is :  81.38932294459262\n",
      "Accuracy Score is :  81.39069057611599\n",
      "Differnce :  -0.0013676315233652758\n",
      "\n",
      "\n",
      "At CV : 30\n",
      "Cross Validation Score is :  81.39698347434002\n",
      "Accuracy Score is :  81.39069057611599\n",
      "Differnce :  0.006292898224032228\n",
      "\n",
      "\n",
      "At CV : 31\n",
      "Cross Validation Score is :  81.38546603065373\n",
      "Accuracy Score is :  81.39069057611599\n",
      "Differnce :  -0.005224545462255037\n",
      "\n",
      "\n",
      "At CV : 32\n",
      "Cross Validation Score is :  81.3969017094017\n",
      "Accuracy Score is :  81.39069057611599\n",
      "Differnce :  0.0062111332857170964\n",
      "\n",
      "\n",
      "At CV : 33\n",
      "Cross Validation Score is :  81.38743822561885\n",
      "Accuracy Score is :  81.39069057611599\n",
      "Differnce :  -0.003252350497135126\n",
      "\n",
      "\n",
      "At CV : 34\n",
      "Cross Validation Score is :  81.37591942167019\n",
      "Accuracy Score is :  81.39069057611599\n",
      "Differnce :  -0.014771154445796242\n",
      "\n",
      "\n",
      "At CV : 35\n",
      "Cross Validation Score is :  81.37788960844952\n",
      "Accuracy Score is :  81.39069057611599\n",
      "Differnce :  -0.012800967666464658\n",
      "\n",
      "\n",
      "At CV : 36\n",
      "Cross Validation Score is :  81.37973137973138\n",
      "Accuracy Score is :  81.39069057611599\n",
      "Differnce :  -0.010959196384604297\n",
      "\n",
      "\n",
      "At CV : 37\n",
      "Cross Validation Score is :  81.37401692447564\n",
      "Accuracy Score is :  81.39069057611599\n",
      "Differnce :  -0.016673651640346066\n",
      "\n",
      "\n",
      "At CV : 38\n",
      "Cross Validation Score is :  81.39316648496103\n",
      "Accuracy Score is :  81.39069057611599\n",
      "Differnce :  0.0024759088450423405\n",
      "\n",
      "\n",
      "At CV : 39\n",
      "Cross Validation Score is :  81.38927045177046\n",
      "Accuracy Score is :  81.39069057611599\n",
      "Differnce :  -0.0014201243455289614\n",
      "\n",
      "\n",
      "At CV : 40\n",
      "Cross Validation Score is :  81.38363727939164\n",
      "Accuracy Score is :  81.39069057611599\n",
      "Differnce :  -0.007053296724350844\n",
      "\n",
      "\n",
      "At CV : 41\n",
      "Cross Validation Score is :  81.39506963019946\n",
      "Accuracy Score is :  81.39069057611599\n",
      "Differnce :  0.004379054083472056\n",
      "\n",
      "\n",
      "At CV : 42\n",
      "Cross Validation Score is :  81.37973137973137\n",
      "Accuracy Score is :  81.39069057611599\n",
      "Differnce :  -0.010959196384618508\n",
      "\n",
      "\n",
      "At CV : 43\n",
      "Cross Validation Score is :  81.37021879582369\n",
      "Accuracy Score is :  81.39069057611599\n",
      "Differnce :  -0.020471780292297126\n",
      "\n",
      "\n",
      "At CV : 44\n",
      "Cross Validation Score is :  81.39705221282868\n",
      "Accuracy Score is :  81.39069057611599\n",
      "Differnce :  0.00636163671269685\n",
      "\n",
      "\n",
      "At CV : 45\n",
      "Cross Validation Score is :  81.38541886871607\n",
      "Accuracy Score is :  81.39069057611599\n",
      "Differnce :  -0.005271707399913339\n",
      "\n",
      "\n",
      "At CV : 46\n",
      "Cross Validation Score is :  81.39314532466221\n",
      "Accuracy Score is :  81.39069057611599\n",
      "Differnce :  0.0024547485462278473\n",
      "\n",
      "\n",
      "At CV : 47\n",
      "Cross Validation Score is :  81.39130579006422\n",
      "Accuracy Score is :  81.39069057611599\n",
      "Differnce :  0.0006152139482367147\n",
      "\n",
      "\n",
      "At CV : 48\n",
      "Cross Validation Score is :  81.37973137973137\n",
      "Accuracy Score is :  81.39069057611599\n",
      "Differnce :  -0.010959196384618508\n",
      "\n",
      "\n",
      "At CV : 49\n",
      "Cross Validation Score is :  81.37019790474787\n",
      "Accuracy Score is :  81.39069057611599\n",
      "Differnce :  -0.0204926713681175\n",
      "\n",
      "\n",
      "At CV : 50\n",
      "Cross Validation Score is :  81.39705208158989\n",
      "Accuracy Score is :  81.39069057611599\n",
      "Differnce :  0.006361505473904572\n",
      "\n",
      "\n",
      "At CV : 51\n",
      "Cross Validation Score is :  81.36823838306667\n",
      "Accuracy Score is :  81.39069057611599\n",
      "Differnce :  -0.022452193049318225\n",
      "\n",
      "\n",
      "At CV : 52\n",
      "Cross Validation Score is :  81.38927045177044\n",
      "Accuracy Score is :  81.39069057611599\n",
      "Differnce :  -0.0014201243455431722\n",
      "\n",
      "\n",
      "At CV : 53\n",
      "Cross Validation Score is :  81.39119729599112\n",
      "Accuracy Score is :  81.39069057611599\n",
      "Differnce :  0.000506719875133399\n",
      "\n",
      "\n",
      "At CV : 54\n",
      "Cross Validation Score is :  81.40265681078107\n",
      "Accuracy Score is :  81.39069057611599\n",
      "Differnce :  0.011966234665081288\n",
      "\n",
      "\n",
      "At CV : 55\n",
      "Cross Validation Score is :  81.37212469984847\n",
      "Accuracy Score is :  81.39069057611599\n",
      "Differnce :  -0.018565876267516046\n",
      "\n",
      "\n",
      "At CV : 56\n",
      "Cross Validation Score is :  81.38545482295481\n",
      "Accuracy Score is :  81.39069057611599\n",
      "Differnce :  -0.005235753161173307\n",
      "\n",
      "\n",
      "At CV : 57\n",
      "Cross Validation Score is :  81.38366330264797\n",
      "Accuracy Score is :  81.39069057611599\n",
      "Differnce :  -0.0070272734680116855\n",
      "\n",
      "\n",
      "At CV : 58\n",
      "Cross Validation Score is :  81.3759047842086\n",
      "Accuracy Score is :  81.39069057611599\n",
      "Differnce :  -0.014785791907385715\n",
      "\n",
      "\n",
      "At CV : 59\n",
      "Cross Validation Score is :  81.38749104483793\n",
      "Accuracy Score is :  81.39069057611599\n",
      "Differnce :  -0.003199531278056611\n",
      "\n",
      "\n",
      "At CV : 60\n",
      "Cross Validation Score is :  81.3817591565946\n",
      "Accuracy Score is :  81.39069057611599\n",
      "Differnce :  -0.008931419521388761\n",
      "\n",
      "\n",
      "At CV : 61\n",
      "Cross Validation Score is :  81.37612026148199\n",
      "Accuracy Score is :  81.39069057611599\n",
      "Differnce :  -0.014570314633999715\n",
      "\n",
      "\n",
      "At CV : 62\n",
      "Cross Validation Score is :  81.38176713383936\n",
      "Accuracy Score is :  81.39069057611599\n",
      "Differnce :  -0.008923442276625337\n",
      "\n",
      "\n",
      "At CV : 63\n",
      "Cross Validation Score is :  81.3797313797314\n",
      "Accuracy Score is :  81.39069057611599\n",
      "Differnce :  -0.010959196384590086\n",
      "\n",
      "\n",
      "At CV : 64\n",
      "Cross Validation Score is :  81.38545482295481\n",
      "Accuracy Score is :  81.39069057611599\n",
      "Differnce :  -0.005235753161173307\n",
      "\n",
      "\n",
      "At CV : 65\n",
      "Cross Validation Score is :  81.37988298134783\n",
      "Accuracy Score is :  81.39069057611599\n",
      "Differnce :  -0.01080759476815274\n",
      "\n",
      "\n",
      "At CV : 66\n",
      "Cross Validation Score is :  81.37796385027981\n",
      "Accuracy Score is :  81.39069057611599\n",
      "Differnce :  -0.012726725836174069\n",
      "\n",
      "\n",
      "At CV : 67\n",
      "Cross Validation Score is :  81.399001504028\n",
      "Accuracy Score is :  81.39069057611599\n",
      "Differnce :  0.008310927912020816\n",
      "\n",
      "\n",
      "At CV : 68\n",
      "Cross Validation Score is :  81.38927697007348\n",
      "Accuracy Score is :  81.39069057611599\n",
      "Differnce :  -0.0014136060425045116\n",
      "\n",
      "\n",
      "At CV : 69\n",
      "Cross Validation Score is :  81.38358261753945\n",
      "Accuracy Score is :  81.39069057611599\n",
      "Differnce :  -0.007107958576540341\n",
      "\n",
      "\n",
      "At CV : 70\n",
      "Cross Validation Score is :  81.38539697952248\n",
      "Accuracy Score is :  81.39069057611599\n",
      "Differnce :  -0.00529359659350348\n",
      "\n",
      "\n",
      "At CV : 71\n",
      "Cross Validation Score is :  81.37995898055381\n",
      "Accuracy Score is :  81.39069057611599\n",
      "Differnce :  -0.010731595562177176\n",
      "\n",
      "\n",
      "At CV : 72\n",
      "Cross Validation Score is :  81.38354700854701\n",
      "Accuracy Score is :  81.39069057611599\n",
      "Differnce :  -0.007143567568974163\n",
      "\n",
      "\n",
      "At CV : 73\n",
      "Cross Validation Score is :  81.37975059270546\n",
      "Accuracy Score is :  81.39069057611599\n",
      "Differnce :  -0.010939983410523269\n",
      "\n",
      "\n",
      "At CV : 74\n",
      "Cross Validation Score is :  81.38376028726488\n",
      "Accuracy Score is :  81.39069057611599\n",
      "Differnce :  -0.006930288851108912\n",
      "\n",
      "\n",
      "At CV : 75\n",
      "Cross Validation Score is :  81.38355106831564\n",
      "Accuracy Score is :  81.39069057611599\n",
      "Differnce :  -0.007139507800346223\n",
      "\n",
      "\n",
      "At CV : 76\n",
      "Cross Validation Score is :  81.38359798024753\n",
      "Accuracy Score is :  81.39069057611599\n",
      "Differnce :  -0.007092595868456897\n",
      "\n",
      "\n",
      "At CV : 77\n",
      "Cross Validation Score is :  81.38352577715106\n",
      "Accuracy Score is :  81.39069057611599\n",
      "Differnce :  -0.00716479896492217\n",
      "\n",
      "\n",
      "At CV : 78\n",
      "Cross Validation Score is :  81.3797313797314\n",
      "Accuracy Score is :  81.39069057611599\n",
      "Differnce :  -0.010959196384590086\n",
      "\n",
      "\n",
      "At CV : 79\n",
      "Cross Validation Score is :  81.37413333959009\n",
      "Accuracy Score is :  81.39069057611599\n",
      "Differnce :  -0.016557236525898134\n",
      "\n",
      "\n",
      "At CV : 80\n",
      "Cross Validation Score is :  81.37231777136475\n",
      "Accuracy Score is :  81.39069057611599\n",
      "Differnce :  -0.01837280475123748\n",
      "\n",
      "\n",
      "At CV : 81\n",
      "Cross Validation Score is :  81.38193712695528\n",
      "Accuracy Score is :  81.39069057611599\n",
      "Differnce :  -0.008753449160707305\n",
      "\n",
      "\n",
      "At CV : 82\n",
      "Cross Validation Score is :  81.39139077350282\n",
      "Accuracy Score is :  81.39069057611599\n",
      "Differnce :  0.0007001973868341338\n",
      "\n",
      "\n",
      "At CV : 83\n",
      "Cross Validation Score is :  81.3779481504022\n",
      "Accuracy Score is :  81.39069057611599\n",
      "Differnce :  -0.012742425713781813\n",
      "\n",
      "\n",
      "At CV : 84\n",
      "Cross Validation Score is :  81.3721001221001\n",
      "Accuracy Score is :  81.39069057611599\n",
      "Differnce :  -0.018590454015892988\n",
      "\n",
      "\n",
      "At CV : 85\n",
      "Cross Validation Score is :  81.39317256296948\n",
      "Accuracy Score is :  81.39069057611599\n",
      "Differnce :  0.0024819868534962097\n",
      "\n",
      "\n",
      "At CV : 86\n",
      "Cross Validation Score is :  81.37413946477011\n",
      "Accuracy Score is :  81.39069057611599\n",
      "Differnce :  -0.01655111134587628\n",
      "\n",
      "\n",
      "At CV : 87\n",
      "Cross Validation Score is :  81.38559313259191\n",
      "Accuracy Score is :  81.39069057611599\n",
      "Differnce :  -0.005097443524078926\n",
      "\n",
      "\n",
      "At CV : 88\n",
      "Cross Validation Score is :  81.38548753851754\n",
      "Accuracy Score is :  81.39069057611599\n",
      "Differnce :  -0.0052030375984486454\n",
      "\n",
      "\n",
      "At CV : 89\n",
      "Cross Validation Score is :  81.40075568198702\n",
      "Accuracy Score is :  81.39069057611599\n",
      "Differnce :  0.010065105871035485\n",
      "\n",
      "\n",
      "At CV : 90\n",
      "Cross Validation Score is :  81.38564206547088\n",
      "Accuracy Score is :  81.39069057611599\n",
      "Differnce :  -0.005048510645110582\n",
      "\n",
      "\n",
      "At CV : 91\n",
      "Cross Validation Score is :  81.38736263736264\n",
      "Accuracy Score is :  81.39069057611599\n",
      "Differnce :  -0.0033279387533440286\n",
      "\n",
      "\n",
      "At CV : 92\n",
      "Cross Validation Score is :  81.38543472228366\n",
      "Accuracy Score is :  81.39069057611599\n",
      "Differnce :  -0.0052558538323239645\n",
      "\n",
      "\n",
      "At CV : 93\n",
      "Cross Validation Score is :  81.37419119149992\n",
      "Accuracy Score is :  81.39069057611599\n",
      "Differnce :  -0.01649938461606837\n",
      "\n",
      "\n",
      "At CV : 94\n",
      "Cross Validation Score is :  81.37605437940968\n",
      "Accuracy Score is :  81.39069057611599\n",
      "Differnce :  -0.014636196706305782\n",
      "\n",
      "\n",
      "At CV : 95\n",
      "Cross Validation Score is :  81.38353607129952\n",
      "Accuracy Score is :  81.39069057611599\n",
      "Differnce :  -0.007154504816469398\n",
      "\n",
      "\n",
      "At CV : 96\n",
      "Cross Validation Score is :  81.3797313797314\n",
      "Accuracy Score is :  81.39069057611599\n",
      "Differnce :  -0.010959196384590086\n",
      "\n",
      "\n",
      "At CV : 97\n",
      "Cross Validation Score is :  81.38564408111067\n",
      "Accuracy Score is :  81.39069057611599\n",
      "Differnce :  -0.005046495005316842\n",
      "\n",
      "\n",
      "At CV : 98\n",
      "Cross Validation Score is :  81.39307198254708\n",
      "Accuracy Score is :  81.39069057611599\n",
      "Differnce :  0.0023814064310982985\n",
      "\n",
      "\n",
      "At CV : 99\n",
      "Cross Validation Score is :  81.39324550566839\n",
      "Accuracy Score is :  81.39069057611599\n",
      "Differnce :  0.002554929552402996\n",
      "\n",
      "\n"
     ]
    }
   ],
   "source": [
    "pred_lr = lr.predict(x_test)\n",
    "from sklearn.model_selection import cross_val_score\n",
    "lss = accuracy_score(y_test,pred_lr)\n",
    "for j in range(2,100):\n",
    "    lsscore = cross_val_score(lr,x,y,cv=j)\n",
    "    lsc = lsscore.mean()\n",
    "    print(\"At CV :\",j)\n",
    "    print(\"Cross Validation Score is : \",lsc*100)\n",
    "    print(\"Accuracy Score is : \",lss*100)\n",
    "    print(\"Differnce : \",(lsc*100)-(lss*100))\n",
    "    print(\"\\n\")"
   ]
  },
  {
   "cell_type": "markdown",
   "id": "17dd043b",
   "metadata": {},
   "source": [
    "Observation\n",
    "\n",
    "==================================================\n",
    " #  Random state 21 - At CV : 52\n",
    "At CV : 53\n",
    "Cross Validation Score is :  81.39119729599112\n",
    "Accuracy Score is :  81.39069057611599\n",
    "Differnce :  0.000506719875133399"
   ]
  },
  {
   "cell_type": "code",
   "execution_count": 82,
   "id": "97eec6f8",
   "metadata": {},
   "outputs": [
    {
     "name": "stdout",
     "output_type": "stream",
     "text": [
      "Logistic Regression CV Score\n",
      "\n",
      "Cross Validation Score is :  81.38927045177044\n",
      "Accuracy Score is :  81.39069057611599\n",
      "Differnce :  -0.0014201243455431722\n",
      "\n",
      "\n"
     ]
    }
   ],
   "source": [
    "lss = accuracy_score(y_test,pred_lr)\n",
    "lsscore = cross_val_score(lr,x,y,cv=52)\n",
    "lsc = lsscore.mean()\n",
    "print(\"Logistic Regression CV Score\\n\")\n",
    "print(\"Cross Validation Score is : \",lsc*100)\n",
    "print(\"Accuracy Score is : \",lss*100)\n",
    "print(\"Differnce : \",(lsc*100)-(lss*100))\n",
    "print(\"\\n\")"
   ]
  },
  {
   "cell_type": "markdown",
   "id": "852220ab",
   "metadata": {},
   "source": [
    "# Random Forest Classifier Model"
   ]
  },
  {
   "cell_type": "code",
   "execution_count": 83,
   "id": "8d19a181",
   "metadata": {},
   "outputs": [
    {
     "name": "stdout",
     "output_type": "stream",
     "text": [
      "RFC Accuracy Score is :  0.9491606257153758\n",
      "\n",
      "Confusion Matrix :\n",
      "  [[4877  340]\n",
      " [ 193 5074]]\n",
      "\n",
      "Classification Report :               precision    recall  f1-score   support\n",
      "\n",
      "           0       0.96      0.93      0.95      5217\n",
      "           1       0.94      0.96      0.95      5267\n",
      "\n",
      "    accuracy                           0.95     10484\n",
      "   macro avg       0.95      0.95      0.95     10484\n",
      "weighted avg       0.95      0.95      0.95     10484\n",
      "\n"
     ]
    }
   ],
   "source": [
    "from sklearn.ensemble import GradientBoostingClassifier,AdaBoostClassifier,BaggingClassifier\n",
    "from sklearn.ensemble import RandomForestClassifier,ExtraTreesClassifier\n",
    "\n",
    "RFC = RandomForestClassifier()\n",
    "RFC.fit(x_train,y_train)\n",
    "predRFC = RFC.predict(x_test)\n",
    "\n",
    "print(\"RFC Accuracy Score is : \",accuracy_score(y_test,predRFC))\n",
    "print(\"\\nConfusion Matrix :\\n \",confusion_matrix(y_test,predRFC))\n",
    "print(\"\\nClassification Report :\",classification_report(y_test,predRFC))"
   ]
  },
  {
   "cell_type": "markdown",
   "id": "46473d94",
   "metadata": {},
   "source": [
    "### Cross Val Score for RFC"
   ]
  },
  {
   "cell_type": "code",
   "execution_count": 79,
   "id": "0cbab889",
   "metadata": {},
   "outputs": [
    {
     "name": "stdout",
     "output_type": "stream",
     "text": [
      "0.9539262820512823\n",
      "Differnce Accuracy and Cross Val Score is : -0.0028579875072151095\n"
     ]
    }
   ],
   "source": [
    "cvsRFC = cross_val_score(RFC,x,y,cv=53).mean()\n",
    "print(cvsRFC)\n",
    "print(\"Differnce Accuracy and Cross Val Score is :\",accuracy_score(y_test,predRFC)-cvsRFC)"
   ]
  },
  {
   "cell_type": "markdown",
   "id": "f69a2efa",
   "metadata": {},
   "source": [
    "# Support Vector Classifier"
   ]
  },
  {
   "cell_type": "code",
   "execution_count": 84,
   "id": "554f6d55",
   "metadata": {},
   "outputs": [
    {
     "name": "stdout",
     "output_type": "stream",
     "text": [
      "svc Accuracy test : 0.8616940099198779\n",
      "\n",
      "Confusion Matrix :\n",
      " [[4267  950]\n",
      " [ 500 4767]]\n",
      "\n",
      "Classification Report :\n",
      "               precision    recall  f1-score   support\n",
      "\n",
      "           0       0.90      0.82      0.85      5217\n",
      "           1       0.83      0.91      0.87      5267\n",
      "\n",
      "    accuracy                           0.86     10484\n",
      "   macro avg       0.86      0.86      0.86     10484\n",
      "weighted avg       0.86      0.86      0.86     10484\n",
      "\n"
     ]
    }
   ],
   "source": [
    "from sklearn.svm import SVC\n",
    "svc = SVC()\n",
    "svc.fit(x_train,y_train)\n",
    "predsvc = svc.predict(x_test)\n",
    "print(\"svc Accuracy test :\",accuracy_score(y_test,predsvc))\n",
    "print(\"\\nConfusion Matrix :\\n\",confusion_matrix(y_test,predsvc))\n",
    "print(\"\\nClassification Report :\\n\",classification_report(y_test,predsvc))"
   ]
  },
  {
   "cell_type": "code",
   "execution_count": null,
   "id": "afc2b4e5",
   "metadata": {},
   "outputs": [],
   "source": [
    "# Cross val score for SVC\n",
    "cvssvc = cross_val_score(svc,x,y,cv=53).mean()\n",
    "print(\"Cross Val Score for SVC :\",cvssvc)\n",
    "print(\"\\nDiffernce between the accuracy_score and Cross val :\",accuracy_score(y_test,predsvc)-cvssvc)"
   ]
  },
  {
   "cell_type": "markdown",
   "id": "fd37e0c2",
   "metadata": {},
   "source": [
    "# Gradient Boosting Classifier"
   ]
  },
  {
   "cell_type": "code",
   "execution_count": 85,
   "id": "03f95356",
   "metadata": {},
   "outputs": [
    {
     "name": "stdout",
     "output_type": "stream",
     "text": [
      "Accuracy Score GB : 0.9132010682945441\n",
      "\n",
      "Confusion Matrix :\n",
      " [[4697  520]\n",
      " [ 390 4877]]\n",
      "\n",
      "Classification Report :\n",
      "               precision    recall  f1-score   support\n",
      "\n",
      "           0       0.92      0.90      0.91      5217\n",
      "           1       0.90      0.93      0.91      5267\n",
      "\n",
      "    accuracy                           0.91     10484\n",
      "   macro avg       0.91      0.91      0.91     10484\n",
      "weighted avg       0.91      0.91      0.91     10484\n",
      "\n"
     ]
    }
   ],
   "source": [
    "GB = GradientBoostingClassifier()\n",
    "GB.fit(x_train,y_train)\n",
    "predGB = GB.predict(x_test)\n",
    "print(\"Accuracy Score GB :\",accuracy_score(y_test,predGB))\n",
    "print(\"\\nConfusion Matrix :\\n\", confusion_matrix(y_test,predGB))\n",
    "print(\"\\nClassification Report :\\n\",classification_report(y_test,predGB))\n",
    "     "
   ]
  },
  {
   "cell_type": "code",
   "execution_count": null,
   "id": "5f5e233f",
   "metadata": {},
   "outputs": [],
   "source": [
    "# Cross val score for GB\n",
    "csvGB = cross_val_score(GB,x,y,cv=53).mean()\n",
    "print(\"Cross Val score :\",csvGB)\n",
    "print(\"Differnce between Accuracy and Cross validation is :\",accuracy_score(y_test,predGB)-csvGB)\n"
   ]
  },
  {
   "cell_type": "code",
   "execution_count": 86,
   "id": "17a3e12a",
   "metadata": {},
   "outputs": [
    {
     "name": "stdout",
     "output_type": "stream",
     "text": [
      "Accuracy Score ET: 0.9642312094620374\n",
      "\n",
      "Confusion Matrix : \n",
      " [[4926  291]\n",
      " [  84 5183]]\n",
      "\n",
      "Classification Report :\n",
      "               precision    recall  f1-score   support\n",
      "\n",
      "           0       0.98      0.94      0.96      5217\n",
      "           1       0.95      0.98      0.97      5267\n",
      "\n",
      "    accuracy                           0.96     10484\n",
      "   macro avg       0.97      0.96      0.96     10484\n",
      "weighted avg       0.96      0.96      0.96     10484\n",
      "\n"
     ]
    }
   ],
   "source": [
    "#Extra Tree Classifier Model\n",
    "ET = ExtraTreesClassifier()\n",
    "ET.fit(x_train,y_train)\n",
    "predET = ET.predict(x_test)\n",
    "print(\"Accuracy Score ET:\",accuracy_score(y_test,predET))\n",
    "print(\"\\nConfusion Matrix : \\n\",confusion_matrix(y_test,predET))\n",
    "print(\"\\nClassification Report :\\n\",classification_report(y_test,predET))"
   ]
  },
  {
   "cell_type": "code",
   "execution_count": null,
   "id": "16bf0357",
   "metadata": {},
   "outputs": [],
   "source": [
    "# Cross Val Score for ET\n",
    "csvET = cross_val_score(ET,x,y,cv=53).mean()\n",
    "print(\"Cross Val Score :\", csvET)\n",
    "print(\"Differnce Between Accuracy and Cross Validation is :\", accuracy_score(y_test,predET)-csvET)"
   ]
  },
  {
   "cell_type": "code",
   "execution_count": null,
   "id": "d914a09e",
   "metadata": {},
   "outputs": [],
   "source": [
    "#AdaBoost Classifier Model"
   ]
  },
  {
   "cell_type": "code",
   "execution_count": 87,
   "id": "719c37b5",
   "metadata": {},
   "outputs": [
    {
     "name": "stdout",
     "output_type": "stream",
     "text": [
      "Ada Boost Accuracy Score : 0.8760969095764976\n",
      "\n",
      "Confusion Matrix :\n",
      " [[4565  652]\n",
      " [ 647 4620]]\n",
      "\n",
      "Classification Report :\n",
      "               precision    recall  f1-score   support\n",
      "\n",
      "           0       0.88      0.88      0.88      5217\n",
      "           1       0.88      0.88      0.88      5267\n",
      "\n",
      "    accuracy                           0.88     10484\n",
      "   macro avg       0.88      0.88      0.88     10484\n",
      "weighted avg       0.88      0.88      0.88     10484\n",
      "\n"
     ]
    }
   ],
   "source": [
    "ADB = AdaBoostClassifier()\n",
    "ADB.fit(x_train,y_train)\n",
    "predADB=ADB.predict(x_test)\n",
    "print(\"Ada Boost Accuracy Score :\",accuracy_score(y_test,predADB))\n",
    "print(\"\\nConfusion Matrix :\\n\", confusion_matrix(y_test,predADB))\n",
    "print(\"\\nClassification Report :\\n\",classification_report(y_test,predADB))"
   ]
  },
  {
   "cell_type": "code",
   "execution_count": null,
   "id": "d93e45d5",
   "metadata": {},
   "outputs": [],
   "source": [
    "# Cross validation for AdaBoost\n",
    "cvsADB = cross_val_score(ADB,x,y,cv=53).mean()\n",
    "print(\"Cross Val Score ADB : \",cvsADB)\n",
    "print(\"Difference for Accuracy and Validation score ADB :\",accuracy_score(y_test,predADB)-cvsADB)\n"
   ]
  },
  {
   "cell_type": "markdown",
   "id": "3b3c80ca",
   "metadata": {},
   "source": [
    "### Accuracy Score and Cross Val Score for above models\n",
    "\n",
    "Accuracy Score is :  81.39069057611599\n",
    "RFC Accuracy Score is :  0.9491606257153758\n",
    "svc Accuracy test : 0.8616940099198779\n",
    "Accuracy Score GB : 0.9132010682945441\n",
    "ET : Accuracy Score: 0.9642312094620374\n",
    "Ada Boost Accuracy Score : 0.8760969095764976"
   ]
  },
  {
   "cell_type": "markdown",
   "id": "5953c4a1",
   "metadata": {},
   "source": [
    "# Hyper Parameter Testing"
   ]
  },
  {
   "cell_type": "code",
   "execution_count": 88,
   "id": "95419070",
   "metadata": {},
   "outputs": [],
   "source": [
    "from sklearn.model_selection import GridSearchCV\n",
    "\n",
    "parameters = {\"criterion\" : [\"gini\",\"entropy\"],\n",
    "              \"random_state\":[10,50,1000],\n",
    "              \"max_depth\":[0,10,20],\n",
    "              \"n_jobs\":[-2,-1,1],\n",
    "              \"n_estimators\":[50,100,200,300]}"
   ]
  },
  {
   "cell_type": "code",
   "execution_count": 89,
   "id": "1b1d700f",
   "metadata": {},
   "outputs": [],
   "source": [
    "from seaborn.axisgrid import Grid\n",
    "GCV = GridSearchCV(ExtraTreesClassifier(),parameters,cv=53)"
   ]
  },
  {
   "cell_type": "code",
   "execution_count": null,
   "id": "7ded7c45",
   "metadata": {},
   "outputs": [],
   "source": [
    "GCV.fit(x_train,y_train)"
   ]
  },
  {
   "cell_type": "code",
   "execution_count": null,
   "id": "c2a99a4d",
   "metadata": {},
   "outputs": [],
   "source": [
    "GCV.best_params_"
   ]
  },
  {
   "cell_type": "code",
   "execution_count": null,
   "id": "57239e78",
   "metadata": {},
   "outputs": [],
   "source": [
    "Final_model = ExtraTreesClassifier(criterion=\"entropy\",max_depth=10,n_estimators=100,n_jobs=-2,random_state=1000)\n",
    "Final_model.fit(x_train,y_train)\n",
    "pred = Final_model.predict(x_test)\n",
    "acc = accuracy_score(y_test,pred)\n",
    "print(acc*100)"
   ]
  },
  {
   "cell_type": "markdown",
   "id": "3dcc69f3",
   "metadata": {},
   "source": [
    "# AUC ROC Curve"
   ]
  },
  {
   "cell_type": "code",
   "execution_count": null,
   "id": "a0b48ca1",
   "metadata": {},
   "outputs": [],
   "source": [
    "\n",
    "from sklearn.metrics import roc_curve,auc\n",
    "fpr,tpr,thresholds = roc_curve(pred_test,y_test)\n",
    "roc_auc = auc(fpr,tpr)\n",
    "\n",
    "plt.figure()\n",
    "plt.plot(fpr,tpr,color=\"darkorange\",lw=10,label=\"Roc Curve (area = 0.2f)\" % roc_auc)\n",
    "plt.plot([0,1],[0,1],color=\"navy\",lw=10,linestyle=\"--\")\n",
    "plt.xlim([0.0,1.0])\n",
    "plt.ylim([0.0,1.05])\n",
    "plt.xlabel(\"False Positive Rate\")\n",
    "plt.ylabel(\"True Positive Rate\")\n",
    "plt.legend(loc=(\"lower right\"))\n",
    "plt.show()"
   ]
  },
  {
   "cell_type": "code",
   "execution_count": null,
   "id": "2127a840",
   "metadata": {},
   "outputs": [],
   "source": [
    "from sklearn import datasets\n",
    "from sklearn import metrics\n",
    "from sklearn import model_selection\n",
    "from sklearn.metrics import plot_roc_curve\n",
    "\n",
    "disp = plot_roc_curve(ET,x_test,y_test) # ax = Axes with confusion matrix\n",
    "plot_roc_curve(RFC,x_test,y_test,ax = disp.ax_)\n",
    "plot_roc_curve(svc,x_test,y_test,ax=disp.ax_)\n",
    "plot_roc_curve(GB,x_test,y_test,ax=disp.ax_)\n",
    "plt.legend(prop={\"size\":11},loc = \"lower right\")\n",
    "plt.show()"
   ]
  },
  {
   "cell_type": "markdown",
   "id": "7fe2720c",
   "metadata": {},
   "source": [
    "# Model Saving"
   ]
  },
  {
   "cell_type": "code",
   "execution_count": null,
   "id": "db1439ad",
   "metadata": {},
   "outputs": [],
   "source": [
    "import pickle\n",
    "filename = \"termdeposit.pkl\"\n",
    "pickle.dump(Final_model,open(filename,\"wb\"))"
   ]
  },
  {
   "cell_type": "code",
   "execution_count": null,
   "id": "12937347",
   "metadata": {},
   "outputs": [],
   "source": [
    "model=pickle.load(open('termdeposit.pkl','rb'))\n",
    "df = pd.read_csv('termdeposit_test.csv')\n",
    "predictions=model.predict(df.drop('Race',axis=1))\n",
    "print(predictions)"
   ]
  },
  {
   "cell_type": "code",
   "execution_count": null,
   "id": "aa20084d",
   "metadata": {},
   "outputs": [],
   "source": [
    "# End of Project"
   ]
  }
 ],
 "metadata": {
  "kernelspec": {
   "display_name": "Python 3 (ipykernel)",
   "language": "python",
   "name": "python3"
  },
  "language_info": {
   "codemirror_mode": {
    "name": "ipython",
    "version": 3
   },
   "file_extension": ".py",
   "mimetype": "text/x-python",
   "name": "python",
   "nbconvert_exporter": "python",
   "pygments_lexer": "ipython3",
   "version": "3.9.12"
  }
 },
 "nbformat": 4,
 "nbformat_minor": 5
}
